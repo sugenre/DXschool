{
 "cells": [
  {
   "cell_type": "code",
   "execution_count": 3,
   "id": "428f6f38",
   "metadata": {},
   "outputs": [],
   "source": [
    "import numpy as np\n",
    "import pandas as pd\n",
    "\n",
    "import seaborn as sns"
   ]
  },
  {
   "cell_type": "code",
   "execution_count": 2,
   "id": "41ab6c77",
   "metadata": {},
   "outputs": [
    {
     "name": "stdout",
     "output_type": "stream",
     "text": [
      "Help on function groupby in module pandas.core.frame:\n",
      "\n",
      "groupby(self, by=None, axis: 'Axis' = 0, level: 'IndexLabel | None' = None, as_index: 'bool' = True, sort: 'bool' = True, group_keys: 'bool | lib.NoDefault' = <no_default>, squeeze: 'bool | lib.NoDefault' = <no_default>, observed: 'bool' = False, dropna: 'bool' = True) -> 'DataFrameGroupBy'\n",
      "    Group DataFrame using a mapper or by a Series of columns.\n",
      "    \n",
      "    A groupby operation involves some combination of splitting the\n",
      "    object, applying a function, and combining the results. This can be\n",
      "    used to group large amounts of data and compute operations on these\n",
      "    groups.\n",
      "    \n",
      "    Parameters\n",
      "    ----------\n",
      "    by : mapping, function, label, or list of labels\n",
      "        Used to determine the groups for the groupby.\n",
      "        If ``by`` is a function, it's called on each value of the object's\n",
      "        index. If a dict or Series is passed, the Series or dict VALUES\n",
      "        will be used to determine the groups (the Series' values are first\n",
      "        aligned; see ``.align()`` method). If a list or ndarray of length\n",
      "        equal to the selected axis is passed (see the `groupby user guide\n",
      "        <https://pandas.pydata.org/pandas-docs/stable/user_guide/groupby.html#splitting-an-object-into-groups>`_),\n",
      "        the values are used as-is to determine the groups. A label or list\n",
      "        of labels may be passed to group by the columns in ``self``.\n",
      "        Notice that a tuple is interpreted as a (single) key.\n",
      "    axis : {0 or 'index', 1 or 'columns'}, default 0\n",
      "        Split along rows (0) or columns (1). For `Series` this parameter\n",
      "        is unused and defaults to 0.\n",
      "    level : int, level name, or sequence of such, default None\n",
      "        If the axis is a MultiIndex (hierarchical), group by a particular\n",
      "        level or levels. Do not specify both ``by`` and ``level``.\n",
      "    as_index : bool, default True\n",
      "        For aggregated output, return object with group labels as the\n",
      "        index. Only relevant for DataFrame input. as_index=False is\n",
      "        effectively \"SQL-style\" grouped output.\n",
      "    sort : bool, default True\n",
      "        Sort group keys. Get better performance by turning this off.\n",
      "        Note this does not influence the order of observations within each\n",
      "        group. Groupby preserves the order of rows within each group.\n",
      "    group_keys : bool, optional\n",
      "        When calling apply and the ``by`` argument produces a like-indexed\n",
      "        (i.e. :ref:`a transform <groupby.transform>`) result, add group keys to\n",
      "        index to identify pieces. By default group keys are not included\n",
      "        when the result's index (and column) labels match the inputs, and\n",
      "        are included otherwise. This argument has no effect if the result produced\n",
      "        is not like-indexed with respect to the input.\n",
      "    \n",
      "        .. versionchanged:: 1.5.0\n",
      "    \n",
      "           Warns that `group_keys` will no longer be ignored when the\n",
      "           result from ``apply`` is a like-indexed Series or DataFrame.\n",
      "           Specify ``group_keys`` explicitly to include the group keys or\n",
      "           not.\n",
      "    squeeze : bool, default False\n",
      "        Reduce the dimensionality of the return type if possible,\n",
      "        otherwise return a consistent type.\n",
      "    \n",
      "        .. deprecated:: 1.1.0\n",
      "    \n",
      "    observed : bool, default False\n",
      "        This only applies if any of the groupers are Categoricals.\n",
      "        If True: only show observed values for categorical groupers.\n",
      "        If False: show all values for categorical groupers.\n",
      "    dropna : bool, default True\n",
      "        If True, and if group keys contain NA values, NA values together\n",
      "        with row/column will be dropped.\n",
      "        If False, NA values will also be treated as the key in groups.\n",
      "    \n",
      "        .. versionadded:: 1.1.0\n",
      "    \n",
      "    Returns\n",
      "    -------\n",
      "    DataFrameGroupBy\n",
      "        Returns a groupby object that contains information about the groups.\n",
      "    \n",
      "    See Also\n",
      "    --------\n",
      "    resample : Convenience method for frequency conversion and resampling\n",
      "        of time series.\n",
      "    \n",
      "    Notes\n",
      "    -----\n",
      "    See the `user guide\n",
      "    <https://pandas.pydata.org/pandas-docs/stable/groupby.html>`__ for more\n",
      "    detailed usage and examples, including splitting an object into groups,\n",
      "    iterating through groups, selecting a group, aggregation, and more.\n",
      "    \n",
      "    Examples\n",
      "    --------\n",
      "    >>> df = pd.DataFrame({'Animal': ['Falcon', 'Falcon',\n",
      "    ...                               'Parrot', 'Parrot'],\n",
      "    ...                    'Max Speed': [380., 370., 24., 26.]})\n",
      "    >>> df\n",
      "       Animal  Max Speed\n",
      "    0  Falcon      380.0\n",
      "    1  Falcon      370.0\n",
      "    2  Parrot       24.0\n",
      "    3  Parrot       26.0\n",
      "    >>> df.groupby(['Animal']).mean()\n",
      "            Max Speed\n",
      "    Animal\n",
      "    Falcon      375.0\n",
      "    Parrot       25.0\n",
      "    \n",
      "    **Hierarchical Indexes**\n",
      "    \n",
      "    We can groupby different levels of a hierarchical index\n",
      "    using the `level` parameter:\n",
      "    \n",
      "    >>> arrays = [['Falcon', 'Falcon', 'Parrot', 'Parrot'],\n",
      "    ...           ['Captive', 'Wild', 'Captive', 'Wild']]\n",
      "    >>> index = pd.MultiIndex.from_arrays(arrays, names=('Animal', 'Type'))\n",
      "    >>> df = pd.DataFrame({'Max Speed': [390., 350., 30., 20.]},\n",
      "    ...                   index=index)\n",
      "    >>> df\n",
      "                    Max Speed\n",
      "    Animal Type\n",
      "    Falcon Captive      390.0\n",
      "           Wild         350.0\n",
      "    Parrot Captive       30.0\n",
      "           Wild          20.0\n",
      "    >>> df.groupby(level=0).mean()\n",
      "            Max Speed\n",
      "    Animal\n",
      "    Falcon      370.0\n",
      "    Parrot       25.0\n",
      "    >>> df.groupby(level=\"Type\").mean()\n",
      "             Max Speed\n",
      "    Type\n",
      "    Captive      210.0\n",
      "    Wild         185.0\n",
      "    \n",
      "    We can also choose to include NA in group keys or not by setting\n",
      "    `dropna` parameter, the default setting is `True`.\n",
      "    \n",
      "    >>> l = [[1, 2, 3], [1, None, 4], [2, 1, 3], [1, 2, 2]]\n",
      "    >>> df = pd.DataFrame(l, columns=[\"a\", \"b\", \"c\"])\n",
      "    \n",
      "    >>> df.groupby(by=[\"b\"]).sum()\n",
      "        a   c\n",
      "    b\n",
      "    1.0 2   3\n",
      "    2.0 2   5\n",
      "    \n",
      "    >>> df.groupby(by=[\"b\"], dropna=False).sum()\n",
      "        a   c\n",
      "    b\n",
      "    1.0 2   3\n",
      "    2.0 2   5\n",
      "    NaN 1   4\n",
      "    \n",
      "    >>> l = [[\"a\", 12, 12], [None, 12.3, 33.], [\"b\", 12.3, 123], [\"a\", 1, 1]]\n",
      "    >>> df = pd.DataFrame(l, columns=[\"a\", \"b\", \"c\"])\n",
      "    \n",
      "    >>> df.groupby(by=\"a\").sum()\n",
      "        b     c\n",
      "    a\n",
      "    a   13.0   13.0\n",
      "    b   12.3  123.0\n",
      "    \n",
      "    >>> df.groupby(by=\"a\", dropna=False).sum()\n",
      "        b     c\n",
      "    a\n",
      "    a   13.0   13.0\n",
      "    b   12.3  123.0\n",
      "    NaN 12.3   33.0\n",
      "    \n",
      "    When using ``.apply()``, use ``group_keys`` to include or exclude the group keys.\n",
      "    The ``group_keys`` argument defaults to ``True`` (include).\n",
      "    \n",
      "    >>> df = pd.DataFrame({'Animal': ['Falcon', 'Falcon',\n",
      "    ...                               'Parrot', 'Parrot'],\n",
      "    ...                    'Max Speed': [380., 370., 24., 26.]})\n",
      "    >>> df.groupby(\"Animal\", group_keys=True).apply(lambda x: x)\n",
      "              Animal  Max Speed\n",
      "    Animal\n",
      "    Falcon 0  Falcon      380.0\n",
      "           1  Falcon      370.0\n",
      "    Parrot 2  Parrot       24.0\n",
      "           3  Parrot       26.0\n",
      "    \n",
      "    >>> df.groupby(\"Animal\", group_keys=False).apply(lambda x: x)\n",
      "       Animal  Max Speed\n",
      "    0  Falcon      380.0\n",
      "    1  Falcon      370.0\n",
      "    2  Parrot       24.0\n",
      "    3  Parrot       26.0\n",
      "\n"
     ]
    }
   ],
   "source": [
    "help(pd.DataFrame.groupby)"
   ]
  },
  {
   "cell_type": "code",
   "execution_count": 4,
   "id": "7d7e58f7",
   "metadata": {},
   "outputs": [
    {
     "name": "stdout",
     "output_type": "stream",
     "text": [
      "<class 'pandas.core.frame.DataFrame'>\n",
      "RangeIndex: 891 entries, 0 to 890\n",
      "Data columns (total 15 columns):\n",
      " #   Column       Non-Null Count  Dtype   \n",
      "---  ------       --------------  -----   \n",
      " 0   survived     891 non-null    int64   \n",
      " 1   pclass       891 non-null    int64   \n",
      " 2   sex          891 non-null    object  \n",
      " 3   age          714 non-null    float64 \n",
      " 4   sibsp        891 non-null    int64   \n",
      " 5   parch        891 non-null    int64   \n",
      " 6   fare         891 non-null    float64 \n",
      " 7   embarked     889 non-null    object  \n",
      " 8   class        891 non-null    category\n",
      " 9   who          891 non-null    object  \n",
      " 10  adult_male   891 non-null    bool    \n",
      " 11  deck         203 non-null    category\n",
      " 12  embark_town  889 non-null    object  \n",
      " 13  alive        891 non-null    object  \n",
      " 14  alone        891 non-null    bool    \n",
      "dtypes: bool(2), category(2), float64(2), int64(4), object(5)\n",
      "memory usage: 80.7+ KB\n",
      "None\n"
     ]
    }
   ],
   "source": [
    "titanic = sns.load_dataset('titanic')\n",
    "\n",
    "#주로 데이터 셋을 가져온 뒤 info()로 확인함\n",
    "#Rangeindex : 행\n",
    "#object 정확히 뭔지는 모르지만 주로 문자열\n",
    "#맨 아래 none이 나오면 뭔가 잘못된 것\n",
    "#print(titanic.info())  <- 이렇게 작성하면 안됨\n",
    "titanic.info()"
   ]
  },
  {
   "cell_type": "code",
   "execution_count": 6,
   "id": "2a8f2882",
   "metadata": {},
   "outputs": [
    {
     "name": "stdout",
     "output_type": "stream",
     "text": [
      "    age     sex  class     fare  survived\n",
      "0  22.0    male  Third   7.2500         0\n",
      "1  38.0  female  First  71.2833         1\n",
      "2  26.0  female  Third   7.9250         1\n",
      "3  35.0  female  First  53.1000         1\n",
      "4  35.0    male  Third   8.0500         0\n"
     ]
    }
   ],
   "source": [
    "# 필요한 컬럼 골라내기\n",
    "df = titanic[['age', 'sex', 'class', 'fare', 'survived']]\n",
    "print(df.head())"
   ]
  },
  {
   "cell_type": "code",
   "execution_count": 7,
   "id": "7c90632f",
   "metadata": {},
   "outputs": [
    {
     "name": "stdout",
     "output_type": "stream",
     "text": [
      "<pandas.core.groupby.generic.DataFrameGroupBy object at 0x0000025C110FFF70>\n"
     ]
    }
   ],
   "source": [
    "grouped = df.groupby(['class'])\n",
    "print(grouped)"
   ]
  },
  {
   "cell_type": "code",
   "execution_count": 8,
   "id": "031c6bc9",
   "metadata": {},
   "outputs": [
    {
     "name": "stdout",
     "output_type": "stream",
     "text": [
      "['__annotations__', '__class__', '__class_getitem__', '__delattr__', '__dict__', '__dir__', '__doc__', '__eq__', '__format__', '__ge__', '__getattr__', '__getattribute__', '__getitem__', '__gt__', '__hash__', '__init__', '__init_subclass__', '__iter__', '__le__', '__len__', '__lt__', '__module__', '__ne__', '__new__', '__orig_bases__', '__parameters__', '__reduce__', '__reduce_ex__', '__repr__', '__setattr__', '__sizeof__', '__slots__', '__str__', '__subclasshook__', '__weakref__', '_accessors', '_agg_examples_doc', '_agg_general', '_agg_py_fallback', '_aggregate_frame', '_aggregate_item_by_item', '_aggregate_with_numba', '_apply_allowlist', '_apply_filter', '_apply_to_column_groupbys', '_ascending_count', '_bool_agg', '_choose_path', '_concat_objects', '_constructor', '_cumcount_array', '_cython_agg_general', '_cython_transform', '_define_paths', '_descending_count', '_dir_additions', '_dir_deletions', '_fill', '_get_cythonized_result', '_get_data_to_aggregate', '_get_index', '_get_indices', '_gotitem', '_group_selection', '_group_selection_context', '_hidden_attrs', '_indexed_output_to_ndframe', '_insert_inaxis_grouper_inplace', '_internal_names', '_internal_names_set', '_is_protocol', '_iterate_column_groupbys', '_iterate_slices', '_make_mask_from_int', '_make_mask_from_list', '_make_mask_from_positional_indexer', '_make_mask_from_slice', '_make_mask_from_tuple', '_make_wrapper', '_mask_selected_obj', '_maybe_warn_numeric_only_depr', '_nth', '_numba_agg_general', '_numba_prep', '_obj_1d_constructor', '_obj_with_exclusions', '_positional_selector', '_python_agg_general', '_python_apply_general', '_reindex_output', '_reset_cache', '_reset_group_selection', '_resolve_numeric_only', '_selected_obj', '_selection', '_selection_list', '_set_group_selection', '_set_result_index_ordered', '_transform', '_transform_general', '_transform_item_by_item', '_transform_with_numba', '_wrap_agged_manager', '_wrap_aggregated_output', '_wrap_applied_output', '_wrap_applied_output_series', '_wrap_transform_fast_result', '_wrap_transformed_output', 'age', 'agg', 'aggregate', 'all', 'any', 'apply', 'backfill', 'bfill', 'boxplot', 'class', 'corr', 'corrwith', 'count', 'cov', 'cumcount', 'cummax', 'cummin', 'cumprod', 'cumsum', 'describe', 'diff', 'dtypes', 'ewm', 'expanding', 'fare', 'ffill', 'fillna', 'filter', 'first', 'get_group', 'groups', 'head', 'hist', 'idxmax', 'idxmin', 'indices', 'last', 'mad', 'max', 'mean', 'median', 'min', 'ndim', 'ngroup', 'ngroups', 'nth', 'nunique', 'ohlc', 'pad', 'pct_change', 'pipe', 'plot', 'prod', 'quantile', 'rank', 'resample', 'rolling', 'sample', 'sem', 'sex', 'shift', 'size', 'skew', 'std', 'sum', 'survived', 'tail', 'take', 'transform', 'tshift', 'value_counts', 'var']\n"
     ]
    }
   ],
   "source": [
    "#dir을 했을 때 iter가 있어야 for이 가능함\n",
    "print(dir(grouped))"
   ]
  },
  {
   "cell_type": "code",
   "execution_count": 10,
   "id": "a1c07f07",
   "metadata": {},
   "outputs": [
    {
     "name": "stdout",
     "output_type": "stream",
     "text": [
      "First       age     sex  class     fare  survived\n",
      "1    38.0  female  First  71.2833         1\n",
      "3    35.0  female  First  53.1000         1\n",
      "6    54.0    male  First  51.8625         0\n",
      "11   58.0  female  First  26.5500         1\n",
      "23   28.0    male  First  35.5000         1\n",
      "..    ...     ...    ...      ...       ...\n",
      "871  47.0  female  First  52.5542         1\n",
      "872  33.0    male  First   5.0000         0\n",
      "879  56.0  female  First  83.1583         1\n",
      "887  19.0  female  First  30.0000         1\n",
      "889  26.0    male  First  30.0000         1\n",
      "\n",
      "[216 rows x 5 columns]\n",
      "Second       age     sex   class     fare  survived\n",
      "9    14.0  female  Second  30.0708         1\n",
      "15   55.0  female  Second  16.0000         1\n",
      "17    NaN    male  Second  13.0000         1\n",
      "20   35.0    male  Second  26.0000         0\n",
      "21   34.0    male  Second  13.0000         1\n",
      "..    ...     ...     ...      ...       ...\n",
      "866  27.0  female  Second  13.8583         1\n",
      "874  28.0  female  Second  24.0000         1\n",
      "880  25.0  female  Second  26.0000         1\n",
      "883  28.0    male  Second  10.5000         0\n",
      "886  27.0    male  Second  13.0000         0\n",
      "\n",
      "[184 rows x 5 columns]\n",
      "Third       age     sex  class     fare  survived\n",
      "0    22.0    male  Third   7.2500         0\n",
      "2    26.0  female  Third   7.9250         1\n",
      "4    35.0    male  Third   8.0500         0\n",
      "5     NaN    male  Third   8.4583         0\n",
      "7     2.0    male  Third  21.0750         0\n",
      "..    ...     ...    ...      ...       ...\n",
      "882  22.0  female  Third  10.5167         0\n",
      "884  25.0    male  Third   7.0500         0\n",
      "885  39.0  female  Third  29.1250         0\n",
      "888   NaN  female  Third  23.4500         0\n",
      "890  32.0    male  Third   7.7500         0\n",
      "\n",
      "[491 rows x 5 columns]\n"
     ]
    },
    {
     "name": "stderr",
     "output_type": "stream",
     "text": [
      "C:\\Users\\user\\AppData\\Local\\Temp\\ipykernel_18340\\2488505697.py:1: FutureWarning: In a future version of pandas, a length 1 tuple will be returned when iterating over a groupby with a grouper equal to a list of length 1. Don't supply a list with a single grouper to avoid this warning.\n",
      "  for key, group  in grouped:\n"
     ]
    }
   ],
   "source": [
    "#Key에는 그룹화된 컬럼의 값이 전달되고 group에는 그룹화된 데이터가 전달됨\n",
    "for key, group  in grouped:\n",
    "    print(key, group)"
   ]
  },
  {
   "cell_type": "code",
   "execution_count": 11,
   "id": "606b0a9e",
   "metadata": {},
   "outputs": [
    {
     "name": "stdout",
     "output_type": "stream",
     "text": [
      "              age       fare  survived\n",
      "class                                 \n",
      "First   38.233441  84.154687  0.629630\n",
      "Second  29.877630  20.662183  0.472826\n",
      "Third   25.140620  13.675550  0.242363\n"
     ]
    },
    {
     "name": "stderr",
     "output_type": "stream",
     "text": [
      "C:\\Users\\user\\AppData\\Local\\Temp\\ipykernel_18340\\1163390904.py:2: FutureWarning: The default value of numeric_only in DataFrameGroupBy.mean is deprecated. In a future version, numeric_only will default to False. Either specify numeric_only or select only columns which should be valid for the function.\n",
      "  print(grouped.mean())\n"
     ]
    }
   ],
   "source": [
    "#그룹 별 집계 가능\n",
    "print(grouped.mean())"
   ]
  },
  {
   "cell_type": "code",
   "execution_count": 12,
   "id": "55ccb7f7",
   "metadata": {},
   "outputs": [
    {
     "name": "stdout",
     "output_type": "stream",
     "text": [
      "      age     sex  class     fare  survived\n",
      "1    38.0  female  First  71.2833         1\n",
      "3    35.0  female  First  53.1000         1\n",
      "6    54.0    male  First  51.8625         0\n",
      "11   58.0  female  First  26.5500         1\n",
      "23   28.0    male  First  35.5000         1\n",
      "..    ...     ...    ...      ...       ...\n",
      "871  47.0  female  First  52.5542         1\n",
      "872  33.0    male  First   5.0000         0\n",
      "879  56.0  female  First  83.1583         1\n",
      "887  19.0  female  First  30.0000         1\n",
      "889  26.0    male  First  30.0000         1\n",
      "\n",
      "[216 rows x 5 columns]\n"
     ]
    }
   ],
   "source": [
    "#개별 그룹 가져오기\n",
    "group1 =grouped.get_group('First')\n",
    "print(group1)"
   ]
  },
  {
   "cell_type": "code",
   "execution_count": 13,
   "id": "aadec669",
   "metadata": {},
   "outputs": [
    {
     "name": "stdout",
     "output_type": "stream",
     "text": [
      "('First', 'female')\n",
      "('First', 'male')\n",
      "('Second', 'female')\n",
      "('Second', 'male')\n",
      "('Third', 'female')\n",
      "('Third', 'male')\n"
     ]
    }
   ],
   "source": [
    "grouped_two = df.groupby(['class', 'sex'])\n",
    "for key, group in grouped_two:\n",
    "    print(key)"
   ]
  },
  {
   "cell_type": "code",
   "execution_count": null,
   "id": "15aa47a4",
   "metadata": {},
   "outputs": [],
   "source": []
  },
  {
   "cell_type": "code",
   "execution_count": 14,
   "id": "e12a56d7",
   "metadata": {},
   "outputs": [
    {
     "name": "stdout",
     "output_type": "stream",
     "text": [
      "              age       fare  survived\n",
      "class                                 \n",
      "First   14.802856  78.380373  0.484026\n",
      "Second  14.001077  13.417399  0.500623\n",
      "Third   12.495398  11.778142  0.428949\n"
     ]
    },
    {
     "name": "stderr",
     "output_type": "stream",
     "text": [
      "C:\\Users\\user\\AppData\\Local\\Temp\\ipykernel_18340\\2792958608.py:2: FutureWarning: The default value of numeric_only in DataFrameGroupBy.std is deprecated. In a future version, numeric_only will default to False. Either specify numeric_only or select only columns which should be valid for the function.\n",
      "  print(grouped.std())\n"
     ]
    }
   ],
   "source": [
    "#집계 함수 사용\n",
    "print(grouped.std())\n",
    "\n",
    "#특정한 표준편차를 구하고 싶을 때\n",
    "print(grouped['fare'].std())\n",
    "#.을 이용해서 컬럼에 접근할 때는 컬럼이름이 반드시 문자열\n",
    "print(grouped.fare.std())"
   ]
  },
  {
   "cell_type": "code",
   "execution_count": null,
   "id": "b091d8fa",
   "metadata": {},
   "outputs": [],
   "source": [
    "#dataframe과 series의 차이 ??\n"
   ]
  },
  {
   "cell_type": "code",
   "execution_count": null,
   "id": "4b2310c0",
   "metadata": {},
   "outputs": [],
   "source": []
  },
  {
   "cell_type": "code",
   "execution_count": 21,
   "id": "95c198da",
   "metadata": {},
   "outputs": [
    {
     "name": "stdout",
     "output_type": "stream",
     "text": [
      "                 age             sex             fare survived\n",
      "class                                                         \n",
      "First   (80.0, 0.92)  (male, female)  (512.3292, 0.0)   (1, 0)\n",
      "Second  (70.0, 0.67)  (male, female)      (73.5, 0.0)   (1, 0)\n",
      "Third   (74.0, 0.42)  (male, female)     (69.55, 0.0)   (1, 0)\n",
      "         age           sex       fare           survived    \n",
      "         min   max     min   max  min       max      min max\n",
      "class                                                       \n",
      "First   0.92  80.0  female  male  0.0  512.3292        0   1\n",
      "Second  0.67  70.0  female  male  0.0   73.5000        0   1\n",
      "Third   0.42  74.0  female  male  0.0   69.5500        0   1\n",
      "        fare   age\n",
      "class             \n",
      "First    0.0  80.0\n",
      "Second   0.0  70.0\n",
      "Third    0.0  74.0\n"
     ]
    }
   ],
   "source": [
    "#사용자 정의 함수 적용\n",
    "\n",
    "#group에 agg를 이용해서 적용하게 되면 매개변수로 각 그룹이 대입되는 구조\n",
    "def f(group):\n",
    "    return (group.max(), group.min())\n",
    "\n",
    "\n",
    "#하나의 함수에 적용\n",
    "agg_f = grouped.agg(f)\n",
    "print(agg_f)\n",
    "\n",
    "#여러 개의 함수에 적용\n",
    "agg_two = grouped.agg([min, max])\n",
    "print(agg_two)\n",
    "\n",
    "#컬럼 마다 다른 함수 적용\n",
    "#{} 안에 컬럼 이름과 함수 이름을 적어주면 됨\n",
    "#groupby는 집계 함수와 사용자 정의 함수만 사용해야 함\n",
    "#('sex': str.upper  집계 함수가 아니라서 에러)\n",
    "agg_three = grouped.agg({'fare':min, 'age': max})\n",
    "print(agg_three)"
   ]
  },
  {
   "cell_type": "code",
   "execution_count": 27,
   "id": "6d1e8518",
   "metadata": {},
   "outputs": [
    {
     "name": "stdout",
     "output_type": "stream",
     "text": [
      "0   -0.251342\n",
      "1   -0.015770\n",
      "2    0.068776\n",
      "3   -0.218434\n",
      "4    0.789041\n",
      "Name: age, dtype: float64\n",
      "      age     sex  class     fare  survived\n",
      "0    22.0    male  Third   7.2500         0\n",
      "2    26.0  female  Third   7.9250         1\n",
      "4    35.0    male  Third   8.0500         0\n",
      "5     NaN    male  Third   8.4583         0\n",
      "7     2.0    male  Third  21.0750         0\n",
      "..    ...     ...    ...      ...       ...\n",
      "882  22.0  female  Third  10.5167         0\n",
      "884  25.0    male  Third   7.0500         0\n",
      "885  39.0  female  Third  29.1250         0\n",
      "888   NaN  female  Third  23.4500         0\n",
      "890  32.0    male  Third   7.7500         0\n",
      "\n",
      "[491 rows x 5 columns]\n"
     ]
    }
   ],
   "source": [
    "#셀 단위로 함수 적용 - transform이나 apply 사용\n",
    "def z_score(x):\n",
    "    return (x - x.mean()) / x.std()\n",
    "\n",
    "age_zscore = grouped.age.transform(z_score)\n",
    "print(age_zscore.head())\n",
    "\n",
    "#SQL에 Having(Group By 이후의 조건 - 그룹화 한 항목의 필터링)\n",
    "#을 만들고자 할 때는 filter 함수를 이용\n",
    "#그룹화한 항목의 필터링은 그룹의 집계함수를 이용해서 필터링을 수정\n",
    "#행의 개수가 300개가 넘는 그룹의 데이터만 추출\n",
    "group_filter = grouped.filter(lambda x : len(x) > 300)\n",
    "print(group_filter)"
   ]
  },
  {
   "cell_type": "code",
   "execution_count": null,
   "id": "d8388a7b",
   "metadata": {},
   "outputs": [],
   "source": []
  },
  {
   "cell_type": "code",
   "execution_count": 41,
   "id": "2b11e1ce",
   "metadata": {},
   "outputs": [
    {
     "name": "stdout",
     "output_type": "stream",
     "text": [
      "              age        fare  survived\n",
      "sex                                    \n",
      "female  34.611765  106.125798  0.968085\n",
      "male    41.281386   67.226127  0.368852\n"
     ]
    }
   ],
   "source": [
    "#print(df)\n",
    "\n",
    "#2개의 컬럼으로 그룹화 - 멀티인덱스 생성\n",
    "grouped = df.groupby(['class', 'sex'])\n",
    "\n",
    "#First 클래스 이고 sex가 male인 데이텀나 골라오기\n",
    "gdf = grouped.mean()\n",
    "#print(gdf)\n",
    "#print(gdf.loc[('First', 'male')])\n",
    "print(gdf.xs('First',level='class'))"
   ]
  },
  {
   "cell_type": "code",
   "execution_count": null,
   "id": "e98489c2",
   "metadata": {},
   "outputs": [],
   "source": []
  },
  {
   "cell_type": "code",
   "execution_count": 38,
   "id": "570340d6",
   "metadata": {
    "scrolled": true
   },
   "outputs": [
    {
     "name": "stdout",
     "output_type": "stream",
     "text": [
      "Help on function pivot_table in module pandas.core.reshape.pivot:\n",
      "\n",
      "pivot_table(data: 'DataFrame', values=None, index=None, columns=None, aggfunc: 'AggFuncType' = 'mean', fill_value=None, margins: 'bool' = False, dropna: 'bool' = True, margins_name: 'str' = 'All', observed: 'bool' = False, sort: 'bool' = True) -> 'DataFrame'\n",
      "    Create a spreadsheet-style pivot table as a DataFrame.\n",
      "    \n",
      "    The levels in the pivot table will be stored in MultiIndex objects\n",
      "    (hierarchical indexes) on the index and columns of the result DataFrame.\n",
      "    \n",
      "    Parameters\n",
      "    ----------\n",
      "    data : DataFrame\n",
      "    values : column to aggregate, optional\n",
      "    index : column, Grouper, array, or list of the previous\n",
      "        If an array is passed, it must be the same length as the data. The\n",
      "        list can contain any of the other types (except list).\n",
      "        Keys to group by on the pivot table index.  If an array is passed,\n",
      "        it is being used as the same manner as column values.\n",
      "    columns : column, Grouper, array, or list of the previous\n",
      "        If an array is passed, it must be the same length as the data. The\n",
      "        list can contain any of the other types (except list).\n",
      "        Keys to group by on the pivot table column.  If an array is passed,\n",
      "        it is being used as the same manner as column values.\n",
      "    aggfunc : function, list of functions, dict, default numpy.mean\n",
      "        If list of functions passed, the resulting pivot table will have\n",
      "        hierarchical columns whose top level are the function names\n",
      "        (inferred from the function objects themselves)\n",
      "        If dict is passed, the key is column to aggregate and value\n",
      "        is function or list of functions.\n",
      "    fill_value : scalar, default None\n",
      "        Value to replace missing values with (in the resulting pivot table,\n",
      "        after aggregation).\n",
      "    margins : bool, default False\n",
      "        Add all row / columns (e.g. for subtotal / grand totals).\n",
      "    dropna : bool, default True\n",
      "        Do not include columns whose entries are all NaN. If True,\n",
      "        rows with a NaN value in any column will be omitted before\n",
      "        computing margins.\n",
      "    margins_name : str, default 'All'\n",
      "        Name of the row / column that will contain the totals\n",
      "        when margins is True.\n",
      "    observed : bool, default False\n",
      "        This only applies if any of the groupers are Categoricals.\n",
      "        If True: only show observed values for categorical groupers.\n",
      "        If False: show all values for categorical groupers.\n",
      "    \n",
      "        .. versionchanged:: 0.25.0\n",
      "    \n",
      "    sort : bool, default True\n",
      "        Specifies if the result should be sorted.\n",
      "    \n",
      "        .. versionadded:: 1.3.0\n",
      "    \n",
      "    Returns\n",
      "    -------\n",
      "    DataFrame\n",
      "        An Excel style pivot table.\n",
      "    \n",
      "    See Also\n",
      "    --------\n",
      "    DataFrame.pivot : Pivot without aggregation that can handle\n",
      "        non-numeric data.\n",
      "    DataFrame.melt: Unpivot a DataFrame from wide to long format,\n",
      "        optionally leaving identifiers set.\n",
      "    wide_to_long : Wide panel to long format. Less flexible but more\n",
      "        user-friendly than melt.\n",
      "    \n",
      "    Notes\n",
      "    -----\n",
      "    Reference :ref:`the user guide <reshaping.pivot>` for more examples.\n",
      "    \n",
      "    Examples\n",
      "    --------\n",
      "    >>> df = pd.DataFrame({\"A\": [\"foo\", \"foo\", \"foo\", \"foo\", \"foo\",\n",
      "    ...                          \"bar\", \"bar\", \"bar\", \"bar\"],\n",
      "    ...                    \"B\": [\"one\", \"one\", \"one\", \"two\", \"two\",\n",
      "    ...                          \"one\", \"one\", \"two\", \"two\"],\n",
      "    ...                    \"C\": [\"small\", \"large\", \"large\", \"small\",\n",
      "    ...                          \"small\", \"large\", \"small\", \"small\",\n",
      "    ...                          \"large\"],\n",
      "    ...                    \"D\": [1, 2, 2, 3, 3, 4, 5, 6, 7],\n",
      "    ...                    \"E\": [2, 4, 5, 5, 6, 6, 8, 9, 9]})\n",
      "    >>> df\n",
      "         A    B      C  D  E\n",
      "    0  foo  one  small  1  2\n",
      "    1  foo  one  large  2  4\n",
      "    2  foo  one  large  2  5\n",
      "    3  foo  two  small  3  5\n",
      "    4  foo  two  small  3  6\n",
      "    5  bar  one  large  4  6\n",
      "    6  bar  one  small  5  8\n",
      "    7  bar  two  small  6  9\n",
      "    8  bar  two  large  7  9\n",
      "    \n",
      "    This first example aggregates values by taking the sum.\n",
      "    \n",
      "    >>> table = pd.pivot_table(df, values='D', index=['A', 'B'],\n",
      "    ...                     columns=['C'], aggfunc=np.sum)\n",
      "    >>> table\n",
      "    C        large  small\n",
      "    A   B\n",
      "    bar one    4.0    5.0\n",
      "        two    7.0    6.0\n",
      "    foo one    4.0    1.0\n",
      "        two    NaN    6.0\n",
      "    \n",
      "    We can also fill missing values using the `fill_value` parameter.\n",
      "    \n",
      "    >>> table = pd.pivot_table(df, values='D', index=['A', 'B'],\n",
      "    ...                     columns=['C'], aggfunc=np.sum, fill_value=0)\n",
      "    >>> table\n",
      "    C        large  small\n",
      "    A   B\n",
      "    bar one      4      5\n",
      "        two      7      6\n",
      "    foo one      4      1\n",
      "        two      0      6\n",
      "    \n",
      "    The next example aggregates by taking the mean across multiple columns.\n",
      "    \n",
      "    >>> table = pd.pivot_table(df, values=['D', 'E'], index=['A', 'C'],\n",
      "    ...                     aggfunc={'D': np.mean,\n",
      "    ...                              'E': np.mean})\n",
      "    >>> table\n",
      "                    D         E\n",
      "    A   C\n",
      "    bar large  5.500000  7.500000\n",
      "        small  5.500000  8.500000\n",
      "    foo large  2.000000  4.500000\n",
      "        small  2.333333  4.333333\n",
      "    \n",
      "    We can also calculate multiple types of aggregations for any given\n",
      "    value column.\n",
      "    \n",
      "    >>> table = pd.pivot_table(df, values=['D', 'E'], index=['A', 'C'],\n",
      "    ...                     aggfunc={'D': np.mean,\n",
      "    ...                              'E': [min, max, np.mean]})\n",
      "    >>> table\n",
      "                      D   E\n",
      "                   mean max      mean  min\n",
      "    A   C\n",
      "    bar large  5.500000   9  7.500000    6\n",
      "        small  5.500000   9  8.500000    8\n",
      "    foo large  2.000000   5  4.500000    4\n",
      "        small  2.333333   6  4.333333    2\n",
      "\n"
     ]
    }
   ],
   "source": [
    "help(pd.pivot_table)"
   ]
  },
  {
   "cell_type": "code",
   "execution_count": 39,
   "id": "89ac080a",
   "metadata": {},
   "outputs": [
    {
     "name": "stdout",
     "output_type": "stream",
     "text": [
      "class       First     Second      Third\n",
      "sex                                    \n",
      "female  34.611765  28.722973  21.750000\n",
      "male    41.281386  30.740707  26.507589\n"
     ]
    }
   ],
   "source": [
    "print(pd.pivot_table(df, index='sex', columns='class', values = 'age', aggfunc='mean'))"
   ]
  },
  {
   "cell_type": "code",
   "execution_count": null,
   "id": "50d41f6c",
   "metadata": {},
   "outputs": [],
   "source": []
  },
  {
   "cell_type": "markdown",
   "id": "fc33a548",
   "metadata": {},
   "source": [
    "## 서울시 구별 인구 수와 CCTV 개수의 탐색 "
   ]
  },
  {
   "cell_type": "markdown",
   "id": "d7d6e928",
   "metadata": {},
   "source": [
    "### 필요한 라이브러리 import"
   ]
  },
  {
   "cell_type": "code",
   "execution_count": 68,
   "id": "605b5985",
   "metadata": {},
   "outputs": [],
   "source": [
    "import numpy as np\n",
    "import pandas as pd\n",
    "\n",
    "#시각화 패키지\n",
    "import matplotlib.pyplot as plt\n",
    "\n",
    "#시각화를 할 때 한굴 출력을 위해서 import\n",
    "import platform\n",
    "from matplotlib import font_manager,rc"
   ]
  },
  {
   "cell_type": "code",
   "execution_count": null,
   "id": "67cdff19",
   "metadata": {},
   "outputs": [],
   "source": []
  },
  {
   "cell_type": "markdown",
   "id": "40aebb94",
   "metadata": {},
   "source": [
    "## 데이터 읽어오기"
   ]
  },
  {
   "cell_type": "code",
   "execution_count": 45,
   "id": "7e44a8db",
   "metadata": {},
   "outputs": [
    {
     "name": "stdout",
     "output_type": "stream",
     "text": [
      "     기관명    소계  2011년 이전  2012년  2013년  2014년  2015년  2016년  2017년  2018년\n",
      "0  강 남 구  5221    1944.0  195.0  316.0    430    546    765    577    448\n",
      "1  강 동 구  1879     303.0  387.0  134.0     59    144    194    273    385\n",
      "2  강 북 구  1265     243.0   88.0  141.0     74    145    254      1    319\n",
      "3  강 서 구  1617     219.0  155.0  118.0    230    187    190    264    254\n",
      "4  관 악 구  3985     430.0   56.0  419.0    487    609    619    694    671\n"
     ]
    }
   ],
   "source": [
    "cctv = pd.read_excel('./data/cctv.xlsx')\n",
    "print(cctv.head())"
   ]
  },
  {
   "cell_type": "code",
   "execution_count": 46,
   "id": "1c53af82",
   "metadata": {},
   "outputs": [
    {
     "name": "stdout",
     "output_type": "stream",
     "text": [
      "<class 'pandas.core.frame.DataFrame'>\n",
      "RangeIndex: 25 entries, 0 to 24\n",
      "Data columns (total 10 columns):\n",
      " #   Column    Non-Null Count  Dtype  \n",
      "---  ------    --------------  -----  \n",
      " 0   기관명       25 non-null     object \n",
      " 1   소계        25 non-null     int64  \n",
      " 2   2011년 이전  23 non-null     float64\n",
      " 3   2012년     23 non-null     float64\n",
      " 4   2013년     23 non-null     float64\n",
      " 5   2014년     25 non-null     int64  \n",
      " 6   2015년     25 non-null     int64  \n",
      " 7   2016년     25 non-null     int64  \n",
      " 8   2017년     25 non-null     int64  \n",
      " 9   2018년     25 non-null     int64  \n",
      "dtypes: float64(3), int64(6), object(1)\n",
      "memory usage: 2.1+ KB\n"
     ]
    }
   ],
   "source": [
    "cctv.info()"
   ]
  },
  {
   "cell_type": "code",
   "execution_count": 51,
   "id": "d84ec9eb",
   "metadata": {},
   "outputs": [
    {
     "name": "stdout",
     "output_type": "stream",
     "text": [
      "         기간  자치구       세대        계       남자       여자      계.1     남자.1  \\\n",
      "0  2021.2/4   합계  4405638  9795426  4756178  5039248  9565990  4649442   \n",
      "1  2021.2/4  종로구    73525   155106    75009    80097   146029    70985   \n",
      "2  2021.2/4   중구    62897   132259    64526    67733   123016    60019   \n",
      "3  2021.2/4  용산구   111650   240665   116858   123807   226378   108948   \n",
      "4  2021.2/4  성동구   134542   295767   143927   151840   289162   141042   \n",
      "\n",
      "      여자.1     계.2    남자.2    여자.2  세대당인구  65세이상고령자  \n",
      "0  4916548  229436  106736  122700   2.17   1576971  \n",
      "1    75044    9077    4024    5053   1.99     27605  \n",
      "2    62997    9243    4507    4736   1.96     23980  \n",
      "3   117430   14287    7910    6377   2.03     38884  \n",
      "4   148120    6605    2885    3720   2.15     45591  \n"
     ]
    }
   ],
   "source": [
    "#pop.txt는 처음 두 개의 행은 의미가 없음\n",
    "#한글을 포함\n",
    "#구분 기호는 탭\n",
    "#천 단위 구분 기호가 존재\n",
    "\n",
    "pop = pd.read_csv(\"./data/pop.txt\", skiprows = 2, delimiter='\\t', thousands=\",\")\n",
    "print(pop.head())"
   ]
  },
  {
   "cell_type": "markdown",
   "id": "8f8e74de",
   "metadata": {},
   "source": [
    "## 컬럼 이름 변경"
   ]
  },
  {
   "cell_type": "code",
   "execution_count": 52,
   "id": "4dca9d8d",
   "metadata": {},
   "outputs": [
    {
     "name": "stdout",
     "output_type": "stream",
     "text": [
      "    구별    소계  2011년 이전  2012년  2013년  2014년  2015년  2016년  2017년  2018년\n",
      "0  강남구  5221    1944.0  195.0  316.0    430    546    765    577    448\n",
      "1  강동구  1879     303.0  387.0  134.0     59    144    194    273    385\n",
      "2  강북구  1265     243.0   88.0  141.0     74    145    254      1    319\n",
      "3  강서구  1617     219.0  155.0  118.0    230    187    190    264    254\n",
      "4  관악구  3985     430.0   56.0  419.0    487    609    619    694    671\n",
      "         기간   구별       세대        계       남자       여자      계.1     남자.1  \\\n",
      "0  2021.2/4   합계  4405638  9795426  4756178  5039248  9565990  4649442   \n",
      "1  2021.2/4  종로구    73525   155106    75009    80097   146029    70985   \n",
      "2  2021.2/4   중구    62897   132259    64526    67733   123016    60019   \n",
      "3  2021.2/4  용산구   111650   240665   116858   123807   226378   108948   \n",
      "4  2021.2/4  성동구   134542   295767   143927   151840   289162   141042   \n",
      "\n",
      "      여자.1     계.2    남자.2    여자.2  세대당인구  65세이상고령자  \n",
      "0  4916548  229436  106736  122700   2.17   1576971  \n",
      "1    75044    9077    4024    5053   1.99     27605  \n",
      "2    62997    9243    4507    4736   1.96     23980  \n",
      "3   117430   14287    7910    6377   2.03     38884  \n",
      "4   148120    6605    2885    3720   2.15     45591  \n"
     ]
    }
   ],
   "source": [
    "#컬럼 이름 변경\n",
    "cctv.rename(columns={cctv.columns[0]:'구별'}, inplace=True)\n",
    "pop.rename(columns={pop.columns[1]:'구별'}, inplace=True)\n",
    "\n",
    "#cctv의 구이름에는 중간에 공백이 존재하고 pop은 구 이름에 공백이 없음\n",
    "gu = []\n",
    "for x in cctv['구별']:\n",
    "    gu.append(x.replace(' ',''))\n",
    "cctv['구별'] = gu\n",
    "\n",
    "print(cctv.head())\n",
    "print(pop.head())"
   ]
  },
  {
   "cell_type": "markdown",
   "id": "53d25ee2",
   "metadata": {},
   "source": [
    "## 불필요한 열과 행 제거"
   ]
  },
  {
   "cell_type": "code",
   "execution_count": 53,
   "id": "8a91dd51",
   "metadata": {},
   "outputs": [
    {
     "name": "stdout",
     "output_type": "stream",
     "text": [
      "          기간    구별       계      남자      여자       여성비율\n",
      "1   2021.2/4   종로구  155106   75009   80097  51.640169\n",
      "2   2021.2/4    중구  132259   64526   67733  51.212394\n",
      "3   2021.2/4   용산구  240665  116858  123807  51.443708\n",
      "4   2021.2/4   성동구  295767  143927  151840  51.337708\n",
      "5   2021.2/4   광진구  355306  170624  184682  51.978295\n",
      "6   2021.2/4  동대문구  352259  172865  179394  50.926733\n",
      "7   2021.2/4   중랑구  394679  194556  200123  50.705257\n",
      "8   2021.2/4   성북구  443206  212849  230357  51.975154\n",
      "9   2021.2/4   강북구  306093  148824  157269  51.379483\n",
      "10  2021.2/4   도봉구  322419  156843  165576  51.354294\n",
      "11  2021.2/4   노원구  520005  250532  269473  51.821232\n",
      "12  2021.2/4   은평구  479409  229241  250168  52.182583\n",
      "13  2021.2/4  서대문구  317699  150608  167091  52.594122\n",
      "14  2021.2/4   마포구  379984  177998  201986  53.156449\n",
      "15  2021.2/4   양천구  454288  222538  231750  51.013894\n",
      "16  2021.2/4   강서구  582995  280822  302173  51.831148\n",
      "17  2021.2/4   구로구  424582  210936  213646  50.319137\n",
      "18  2021.2/4   금천구  244685  124394  120291  49.161575\n",
      "19  2021.2/4  영등포구  402375  199881  202494  50.324697\n",
      "20  2021.2/4   동작구  397231  191657  205574  51.751751\n",
      "21  2021.2/4   관악구  502698  251713  250985  49.927591\n",
      "22  2021.2/4   서초구  422174  202027  220147  52.146035\n",
      "23  2021.2/4   강남구  536107  256449  279658  52.164587\n",
      "24  2021.2/4   송파구  664341  320113  344228  51.814956\n",
      "25  2021.2/4   강동구  469094  230388  238706  50.886603\n"
     ]
    }
   ],
   "source": [
    "# pop 데이터에서 기간, 구별, 계, 남자, 여자 열만 필요\n",
    "pop = pop[['기간', '구별', '계', '남자', '여자']]\n",
    "\n",
    "# pop 데이터의 첫번째 행은 전체 데이터의 집계라서 불필요\n",
    "pop.drop([0],inplace=True)\n",
    "\n",
    "#새로운 열을 추가 - 없는 열 이름에 데이터를 대입하면 됨\n",
    "pop['여성비율'] = pop['여자']/pop['계']*100\n",
    "print(pop)"
   ]
  },
  {
   "cell_type": "markdown",
   "id": "0fddd59a",
   "metadata": {},
   "source": [
    "## 데이터 결합"
   ]
  },
  {
   "cell_type": "code",
   "execution_count": 54,
   "id": "cd7b9a2c",
   "metadata": {},
   "outputs": [
    {
     "name": "stdout",
     "output_type": "stream",
     "text": [
      "      구별    소계  2011년 이전  2012년  2013년  2014년  2015년  2016년  2017년  2018년  \\\n",
      "0    강남구  5221    1944.0  195.0  316.0    430    546    765    577    448   \n",
      "1    강동구  1879     303.0  387.0  134.0     59    144    194    273    385   \n",
      "2    강북구  1265     243.0   88.0  141.0     74    145    254      1    319   \n",
      "3    강서구  1617     219.0  155.0  118.0    230    187    190    264    254   \n",
      "4    관악구  3985     430.0   56.0  419.0    487    609    619    694    671   \n",
      "5    광진구  1581     470.0   42.0   83.0     87     64     21    468    346   \n",
      "6    구로구  3227     852.0  219.0  349.0    187    268    326    540    486   \n",
      "7    금천구  1634      27.0   17.0  242.0    101    382    136    199    530   \n",
      "8    노원구  1906     481.0  117.0  203.0     80    461    298    110    156   \n",
      "9    도봉구   858     197.0   66.0    8.0    185     59    155    117     71   \n",
      "10  동대문구  2003       NaN    NaN    NaN   1326    111    233    136    197   \n",
      "11   동작구  1780     238.0   93.0   29.0    503    130    254    278    255   \n",
      "12   마포구  1935     585.0  108.0   69.0     70    177    359    372    195   \n",
      "13  서대문구  2121     565.0  233.0  214.0    114    109    277    415    194   \n",
      "14   서초구  2835    1172.0   91.0  228.0    134    215    352    247    396   \n",
      "15   성동구  2679     665.0  109.0  118.0    101    258    201    933    294   \n",
      "16   성북구  3003     779.0   84.0  304.0    241    279    388    285    643   \n",
      "17   송파구  1586     600.0   99.0   88.0     21    166    100    116    396   \n",
      "18   양천구  2775     772.0  161.0  185.0    169    172    349    137    830   \n",
      "19  영등포구  2495     132.0  121.0  206.0    217    366    289    371    793   \n",
      "20   용산구  2063    1279.0  152.0  201.0    107    102     89     60     73   \n",
      "21   은평구  2962    1365.0   83.0   99.0    343    180    296    229    367   \n",
      "22   종로구  1471       8.0    7.0  599.0    132    195    148    281    101   \n",
      "23    중구  1544      25.0  165.0  114.0     80    245    270    317    328   \n",
      "24   중랑구  1068       NaN    NaN    NaN    770    102    121     66      9   \n",
      "\n",
      "          기간       계      남자      여자       여성비율  \n",
      "0   2021.2/4  536107  256449  279658  52.164587  \n",
      "1   2021.2/4  469094  230388  238706  50.886603  \n",
      "2   2021.2/4  306093  148824  157269  51.379483  \n",
      "3   2021.2/4  582995  280822  302173  51.831148  \n",
      "4   2021.2/4  502698  251713  250985  49.927591  \n",
      "5   2021.2/4  355306  170624  184682  51.978295  \n",
      "6   2021.2/4  424582  210936  213646  50.319137  \n",
      "7   2021.2/4  244685  124394  120291  49.161575  \n",
      "8   2021.2/4  520005  250532  269473  51.821232  \n",
      "9   2021.2/4  322419  156843  165576  51.354294  \n",
      "10  2021.2/4  352259  172865  179394  50.926733  \n",
      "11  2021.2/4  397231  191657  205574  51.751751  \n",
      "12  2021.2/4  379984  177998  201986  53.156449  \n",
      "13  2021.2/4  317699  150608  167091  52.594122  \n",
      "14  2021.2/4  422174  202027  220147  52.146035  \n",
      "15  2021.2/4  295767  143927  151840  51.337708  \n",
      "16  2021.2/4  443206  212849  230357  51.975154  \n",
      "17  2021.2/4  664341  320113  344228  51.814956  \n",
      "18  2021.2/4  454288  222538  231750  51.013894  \n",
      "19  2021.2/4  402375  199881  202494  50.324697  \n",
      "20  2021.2/4  240665  116858  123807  51.443708  \n",
      "21  2021.2/4  479409  229241  250168  52.182583  \n",
      "22  2021.2/4  155106   75009   80097  51.640169  \n",
      "23  2021.2/4  132259   64526   67733  51.212394  \n",
      "24  2021.2/4  394679  194556  200123  50.705257  \n"
     ]
    }
   ],
   "source": [
    "df = pd.merge(cctv, pop, on='구별')\n",
    "print(df)"
   ]
  },
  {
   "cell_type": "markdown",
   "id": "8b0d7c22",
   "metadata": {},
   "source": [
    "## 불필요한 열 삭제"
   ]
  },
  {
   "cell_type": "code",
   "execution_count": 58,
   "id": "ea1f99ca",
   "metadata": {},
   "outputs": [
    {
     "ename": "KeyError",
     "evalue": "'2011년 이전'",
     "output_type": "error",
     "traceback": [
      "\u001b[1;31m---------------------------------------------------------------------------\u001b[0m",
      "\u001b[1;31mKeyError\u001b[0m                                  Traceback (most recent call last)",
      "File \u001b[1;32m~\\AppData\\Local\\anaconda3\\lib\\site-packages\\pandas\\core\\indexes\\base.py:3802\u001b[0m, in \u001b[0;36mIndex.get_loc\u001b[1;34m(self, key, method, tolerance)\u001b[0m\n\u001b[0;32m   3801\u001b[0m \u001b[38;5;28;01mtry\u001b[39;00m:\n\u001b[1;32m-> 3802\u001b[0m     \u001b[38;5;28;01mreturn\u001b[39;00m \u001b[38;5;28;43mself\u001b[39;49m\u001b[38;5;241;43m.\u001b[39;49m\u001b[43m_engine\u001b[49m\u001b[38;5;241;43m.\u001b[39;49m\u001b[43mget_loc\u001b[49m\u001b[43m(\u001b[49m\u001b[43mcasted_key\u001b[49m\u001b[43m)\u001b[49m\n\u001b[0;32m   3803\u001b[0m \u001b[38;5;28;01mexcept\u001b[39;00m \u001b[38;5;167;01mKeyError\u001b[39;00m \u001b[38;5;28;01mas\u001b[39;00m err:\n",
      "File \u001b[1;32m~\\AppData\\Local\\anaconda3\\lib\\site-packages\\pandas\\_libs\\index.pyx:138\u001b[0m, in \u001b[0;36mpandas._libs.index.IndexEngine.get_loc\u001b[1;34m()\u001b[0m\n",
      "File \u001b[1;32m~\\AppData\\Local\\anaconda3\\lib\\site-packages\\pandas\\_libs\\index.pyx:165\u001b[0m, in \u001b[0;36mpandas._libs.index.IndexEngine.get_loc\u001b[1;34m()\u001b[0m\n",
      "File \u001b[1;32mpandas\\_libs\\hashtable_class_helper.pxi:5745\u001b[0m, in \u001b[0;36mpandas._libs.hashtable.PyObjectHashTable.get_item\u001b[1;34m()\u001b[0m\n",
      "File \u001b[1;32mpandas\\_libs\\hashtable_class_helper.pxi:5753\u001b[0m, in \u001b[0;36mpandas._libs.hashtable.PyObjectHashTable.get_item\u001b[1;34m()\u001b[0m\n",
      "\u001b[1;31mKeyError\u001b[0m: '2011년 이전'",
      "\nThe above exception was the direct cause of the following exception:\n",
      "\u001b[1;31mKeyError\u001b[0m                                  Traceback (most recent call last)",
      "Cell \u001b[1;32mIn[58], line 3\u001b[0m\n\u001b[0;32m      1\u001b[0m \u001b[38;5;66;03m#2011년 이전, 2012년, 2013년, 2014년, 2015년, 2016년, 2017년, 기간 열을 삭제\u001b[39;00m\n\u001b[0;32m      2\u001b[0m \u001b[38;5;66;03m#del을 이용 - pandas에서는 비추천\u001b[39;00m\n\u001b[1;32m----> 3\u001b[0m \u001b[38;5;28;01mdel\u001b[39;00m df[\u001b[38;5;124m'\u001b[39m\u001b[38;5;124m2011년 이전\u001b[39m\u001b[38;5;124m'\u001b[39m]\n\u001b[0;32m      4\u001b[0m \u001b[38;5;28;01mdel\u001b[39;00m df[\u001b[38;5;124m'\u001b[39m\u001b[38;5;124m2012년\u001b[39m\u001b[38;5;124m'\u001b[39m]\n\u001b[0;32m      5\u001b[0m \u001b[38;5;28;01mdel\u001b[39;00m df[\u001b[38;5;124m'\u001b[39m\u001b[38;5;124m2013년\u001b[39m\u001b[38;5;124m'\u001b[39m]\n",
      "File \u001b[1;32m~\\AppData\\Local\\anaconda3\\lib\\site-packages\\pandas\\core\\generic.py:4243\u001b[0m, in \u001b[0;36mNDFrame.__delitem__\u001b[1;34m(self, key)\u001b[0m\n\u001b[0;32m   4238\u001b[0m             deleted \u001b[38;5;241m=\u001b[39m \u001b[38;5;28;01mTrue\u001b[39;00m\n\u001b[0;32m   4239\u001b[0m \u001b[38;5;28;01mif\u001b[39;00m \u001b[38;5;129;01mnot\u001b[39;00m deleted:\n\u001b[0;32m   4240\u001b[0m     \u001b[38;5;66;03m# If the above loop ran and didn't delete anything because\u001b[39;00m\n\u001b[0;32m   4241\u001b[0m     \u001b[38;5;66;03m# there was no match, this call should raise the appropriate\u001b[39;00m\n\u001b[0;32m   4242\u001b[0m     \u001b[38;5;66;03m# exception:\u001b[39;00m\n\u001b[1;32m-> 4243\u001b[0m     loc \u001b[38;5;241m=\u001b[39m \u001b[38;5;28;43mself\u001b[39;49m\u001b[38;5;241;43m.\u001b[39;49m\u001b[43maxes\u001b[49m\u001b[43m[\u001b[49m\u001b[38;5;241;43m-\u001b[39;49m\u001b[38;5;241;43m1\u001b[39;49m\u001b[43m]\u001b[49m\u001b[38;5;241;43m.\u001b[39;49m\u001b[43mget_loc\u001b[49m\u001b[43m(\u001b[49m\u001b[43mkey\u001b[49m\u001b[43m)\u001b[49m\n\u001b[0;32m   4244\u001b[0m     \u001b[38;5;28mself\u001b[39m\u001b[38;5;241m.\u001b[39m_mgr \u001b[38;5;241m=\u001b[39m \u001b[38;5;28mself\u001b[39m\u001b[38;5;241m.\u001b[39m_mgr\u001b[38;5;241m.\u001b[39midelete(loc)\n\u001b[0;32m   4246\u001b[0m \u001b[38;5;66;03m# delete from the caches\u001b[39;00m\n",
      "File \u001b[1;32m~\\AppData\\Local\\anaconda3\\lib\\site-packages\\pandas\\core\\indexes\\base.py:3804\u001b[0m, in \u001b[0;36mIndex.get_loc\u001b[1;34m(self, key, method, tolerance)\u001b[0m\n\u001b[0;32m   3802\u001b[0m     \u001b[38;5;28;01mreturn\u001b[39;00m \u001b[38;5;28mself\u001b[39m\u001b[38;5;241m.\u001b[39m_engine\u001b[38;5;241m.\u001b[39mget_loc(casted_key)\n\u001b[0;32m   3803\u001b[0m \u001b[38;5;28;01mexcept\u001b[39;00m \u001b[38;5;167;01mKeyError\u001b[39;00m \u001b[38;5;28;01mas\u001b[39;00m err:\n\u001b[1;32m-> 3804\u001b[0m     \u001b[38;5;28;01mraise\u001b[39;00m \u001b[38;5;167;01mKeyError\u001b[39;00m(key) \u001b[38;5;28;01mfrom\u001b[39;00m \u001b[38;5;21;01merr\u001b[39;00m\n\u001b[0;32m   3805\u001b[0m \u001b[38;5;28;01mexcept\u001b[39;00m \u001b[38;5;167;01mTypeError\u001b[39;00m:\n\u001b[0;32m   3806\u001b[0m     \u001b[38;5;66;03m# If we have a listlike key, _check_indexing_error will raise\u001b[39;00m\n\u001b[0;32m   3807\u001b[0m     \u001b[38;5;66;03m#  InvalidIndexError. Otherwise we fall through and re-raise\u001b[39;00m\n\u001b[0;32m   3808\u001b[0m     \u001b[38;5;66;03m#  the TypeError.\u001b[39;00m\n\u001b[0;32m   3809\u001b[0m     \u001b[38;5;28mself\u001b[39m\u001b[38;5;241m.\u001b[39m_check_indexing_error(key)\n",
      "\u001b[1;31mKeyError\u001b[0m: '2011년 이전'"
     ]
    }
   ],
   "source": [
    "#2011년 이전, 2012년, 2013년, 2014년, 2015년, 2016년, 2017년, 기간 열을 삭제\n",
    "#del을 이용 - pandas에서는 비추천\n",
    "del df['2011년 이전']\n",
    "del df['2012년']\n",
    "del df['2013년']\n",
    "del df['2014년']\n",
    "del df['2015년']\n",
    "del df['2016년']\n",
    "del df['2017년']\n",
    "del df['기간']\n",
    "print(df)"
   ]
  },
  {
   "cell_type": "markdown",
   "id": "5cfea3fb",
   "metadata": {},
   "source": [
    "### 인덱스 설정"
   ]
  },
  {
   "cell_type": "code",
   "execution_count": 59,
   "id": "09b793c4",
   "metadata": {},
   "outputs": [
    {
     "name": "stdout",
     "output_type": "stream",
     "text": [
      "        소계  2012년  2013년  2014년  2015년  2016년  2017년  2018년        기간       계  \\\n",
      "구별                                                                              \n",
      "강남구   5221  195.0  316.0    430    546    765    577    448  2021.2/4  536107   \n",
      "강동구   1879  387.0  134.0     59    144    194    273    385  2021.2/4  469094   \n",
      "강북구   1265   88.0  141.0     74    145    254      1    319  2021.2/4  306093   \n",
      "강서구   1617  155.0  118.0    230    187    190    264    254  2021.2/4  582995   \n",
      "관악구   3985   56.0  419.0    487    609    619    694    671  2021.2/4  502698   \n",
      "광진구   1581   42.0   83.0     87     64     21    468    346  2021.2/4  355306   \n",
      "구로구   3227  219.0  349.0    187    268    326    540    486  2021.2/4  424582   \n",
      "금천구   1634   17.0  242.0    101    382    136    199    530  2021.2/4  244685   \n",
      "노원구   1906  117.0  203.0     80    461    298    110    156  2021.2/4  520005   \n",
      "도봉구    858   66.0    8.0    185     59    155    117     71  2021.2/4  322419   \n",
      "동대문구  2003    NaN    NaN   1326    111    233    136    197  2021.2/4  352259   \n",
      "동작구   1780   93.0   29.0    503    130    254    278    255  2021.2/4  397231   \n",
      "마포구   1935  108.0   69.0     70    177    359    372    195  2021.2/4  379984   \n",
      "서대문구  2121  233.0  214.0    114    109    277    415    194  2021.2/4  317699   \n",
      "서초구   2835   91.0  228.0    134    215    352    247    396  2021.2/4  422174   \n",
      "성동구   2679  109.0  118.0    101    258    201    933    294  2021.2/4  295767   \n",
      "성북구   3003   84.0  304.0    241    279    388    285    643  2021.2/4  443206   \n",
      "송파구   1586   99.0   88.0     21    166    100    116    396  2021.2/4  664341   \n",
      "양천구   2775  161.0  185.0    169    172    349    137    830  2021.2/4  454288   \n",
      "영등포구  2495  121.0  206.0    217    366    289    371    793  2021.2/4  402375   \n",
      "용산구   2063  152.0  201.0    107    102     89     60     73  2021.2/4  240665   \n",
      "은평구   2962   83.0   99.0    343    180    296    229    367  2021.2/4  479409   \n",
      "종로구   1471    7.0  599.0    132    195    148    281    101  2021.2/4  155106   \n",
      "중구    1544  165.0  114.0     80    245    270    317    328  2021.2/4  132259   \n",
      "중랑구   1068    NaN    NaN    770    102    121     66      9  2021.2/4  394679   \n",
      "\n",
      "          남자      여자       여성비율  \n",
      "구별                               \n",
      "강남구   256449  279658  52.164587  \n",
      "강동구   230388  238706  50.886603  \n",
      "강북구   148824  157269  51.379483  \n",
      "강서구   280822  302173  51.831148  \n",
      "관악구   251713  250985  49.927591  \n",
      "광진구   170624  184682  51.978295  \n",
      "구로구   210936  213646  50.319137  \n",
      "금천구   124394  120291  49.161575  \n",
      "노원구   250532  269473  51.821232  \n",
      "도봉구   156843  165576  51.354294  \n",
      "동대문구  172865  179394  50.926733  \n",
      "동작구   191657  205574  51.751751  \n",
      "마포구   177998  201986  53.156449  \n",
      "서대문구  150608  167091  52.594122  \n",
      "서초구   202027  220147  52.146035  \n",
      "성동구   143927  151840  51.337708  \n",
      "성북구   212849  230357  51.975154  \n",
      "송파구   320113  344228  51.814956  \n",
      "양천구   222538  231750  51.013894  \n",
      "영등포구  199881  202494  50.324697  \n",
      "용산구   116858  123807  51.443708  \n",
      "은평구   229241  250168  52.182583  \n",
      "종로구    75009   80097  51.640169  \n",
      "중구     64526   67733  51.212394  \n",
      "중랑구   194556  200123  50.705257  \n"
     ]
    }
   ],
   "source": [
    "df.set_index('구별', inplace=True)\n",
    "print(df)"
   ]
  },
  {
   "cell_type": "code",
   "execution_count": 70,
   "id": "18997492",
   "metadata": {},
   "outputs": [],
   "source": [
    "#matplotlib의 기본 폰트가 한글을 지원하지 않기 때문에 폰트를 재설정\n",
    "#운영체제 별로 폰트의 위치가 다르므로 조건문을 잉요해서 설정\n",
    "#Windows의 경로를 설정할 때 /로 디렉토리를 구분해도 \\로 변경해서 적용됨\n",
    "if platform.system() == 'Darwin':\n",
    "    rc('font',family='AppleGothic')\n",
    "elif platform.system() == 'Windows':\n",
    "    font_name = font_manager.FontProperties(fname='c:/Windows/Fonts/malgun.ttf').get_name()\n",
    "    rc('font', family=font_name)"
   ]
  },
  {
   "cell_type": "code",
   "execution_count": 72,
   "id": "0a3f5707",
   "metadata": {},
   "outputs": [
    {
     "data": {
      "image/png": "[encoded data removed]",
      "text/plain": [
       "<Figure size 1000x1000 with 1 Axes>"
      ]
     },
     "metadata": {},
     "output_type": "display_data"
    }
   ],
   "source": [
    "df['소계'].sort_values().plot(kind='barh', grid=True, figsize=(10, 10))\n",
    "plt.show()"
   ]
  },
  {
   "cell_type": "code",
   "execution_count": 73,
   "id": "5c9d5a64",
   "metadata": {},
   "outputs": [
    {
     "data": {
      "image/png": "[encoded data removed]",
      "text/plain": [
       "<Figure size 1000x1000 with 1 Axes>"
      ]
     },
     "metadata": {},
     "output_type": "display_data"
    }
   ],
   "source": [
    "df['cctv 비율'] = df['소계']/df['계']*100\n",
    "df['cctv 비율'].sort_values().plot(kind='barh', grid=True, figsize=(10, 10))\n",
    "plt.show()"
   ]
  },
  {
   "cell_type": "code",
   "execution_count": 74,
   "id": "d7c44073",
   "metadata": {},
   "outputs": [
    {
     "data": {
      "image/png": "[encoded data removed]",
      "text/plain": [
       "<Figure size 600x600 with 1 Axes>"
      ]
     },
     "metadata": {},
     "output_type": "display_data"
    }
   ],
   "source": [
    "#matplotlib에서 제공하는 시각화를 활용\n",
    "plt.figure(figsize=(6,6))\n",
    "plt.scatter(df['계'], df['소계'], s=50)\n",
    "plt.xlabel = ('인구수')\n",
    "plt.ylabel = ('CCTV 개수')\n",
    "plt.grid()\n",
    "plt.show()\n",
    "\n",
    "#산점도(산포도)를 그리는 경우에는 방향성과 그룹화 가능성을 확인해야함"
   ]
  },
  {
   "cell_type": "code",
   "execution_count": 76,
   "id": "13e69946",
   "metadata": {},
   "outputs": [
    {
     "name": "stdout",
     "output_type": "stream",
     "text": [
      " \n",
      "0.002892 x + 1087\n"
     ]
    },
    {
     "data": {
      "image/png": "[encoded data removed]",
      "text/plain": [
       "<Figure size 600x600 with 1 Axes>"
      ]
     },
     "metadata": {},
     "output_type": "display_data"
    }
   ],
   "source": [
    "#2개의 데이터 간의 단항식을 구해서 출력\n",
    "#2개 항목의 단항식을 구하기\n",
    "fp1 = np.polyfit(df['계'], df['소계'], 1)\n",
    "f1 = np.poly1d(fp1)\n",
    "print(f1)\n",
    "\n",
    "#산점도와 단항식을 같이 출력\n",
    "fx = np.linspace(100000, 700000, 100)\n",
    "\n",
    "plt.figure(figsize=(6,6))\n",
    "plt.scatter(df['계'], df['소계'], s=50)\n",
    "plt. plot(fx, f1(fx), ls='dashed', lw=3, color='g')\n",
    "plt.xlabel = ('인구수')\n",
    "plt.ylabel = ('CCTV 개수')\n",
    "plt.grid()\n",
    "plt.show()"
   ]
  },
  {
   "cell_type": "code",
   "execution_count": 80,
   "id": "115b3287",
   "metadata": {},
   "outputs": [
    {
     "name": "stdout",
     "output_type": "stream",
     "text": [
      " \n",
      "0.002892 x + 1087\n"
     ]
    },
    {
     "data": {
      "image/png": "[encoded data removed]",
      "text/plain": [
       "<Figure size 1400x1000 with 1 Axes>"
      ]
     },
     "metadata": {},
     "output_type": "display_data"
    }
   ],
   "source": [
    "#2개의 데이터 간의 단항식을 구해서 출력\n",
    "#2개 항목의 단항식을 구하기\n",
    "fp1 = np.polyfit(df['계'], df['소계'], 1)\n",
    "f1 = np.poly1d(fp1)\n",
    "print(f1)\n",
    "\n",
    "#산점도와 단항식을 같이 출력\n",
    "fx = np.linspace(100000, 700000, 100)\n",
    "\n",
    "df['오차'] = np.abs(df['소계'] - f1(df['계']))\n",
    "\n",
    "plt.figure(figsize=(14, 10))\n",
    "plt.scatter(df['계'], df['소계'], c=df['오차'], s=50)\n",
    "plt. plot(fx, f1(fx), ls='dashed', lw=3, color='g')\n",
    "\n",
    "for n in range(24):\n",
    "    plt.text(df['계'][n] * 1.02, df['소계'][n] * 0.98, df.index[n], fontsize=12)\n",
    "\n",
    "plt.xlabel = ('인구수')\n",
    "plt.ylabel = ('CCTV 개수')\n",
    "plt.grid()\n",
    "plt.show()"
   ]
  },
  {
   "cell_type": "code",
   "execution_count": 89,
   "id": "ecff9ad6",
   "metadata": {},
   "outputs": [
    {
     "name": "stdout",
     "output_type": "stream",
     "text": [
      "             prd_1  prd_2  prd_3  prd_4\n",
      "cust_1 2015      0      1      2      3\n",
      "       2016      4      5      6      7\n",
      "cust_2 2015      8      9     10     11\n",
      "       2016     12     13     14     15\n",
      "cust_1  2015  prd_1     0\n",
      "              prd_2     1\n",
      "              prd_3     2\n",
      "              prd_4     3\n",
      "        2016  prd_1     4\n",
      "              prd_2     5\n",
      "              prd_3     6\n",
      "              prd_4     7\n",
      "cust_2  2015  prd_1     8\n",
      "              prd_2     9\n",
      "              prd_3    10\n",
      "              prd_4    11\n",
      "        2016  prd_1    12\n",
      "              prd_2    13\n",
      "              prd_3    14\n",
      "              prd_4    15\n",
      "dtype: int32\n"
     ]
    }
   ],
   "source": [
    "#멀티 인덱스로 사용할 데이터 생성\n",
    "mul_index = pd.MultiIndex.from_tuples([('cust_1', '2015'), ('cust_1', '2016'), ('cust_2', '2015'), ('cust_2', '2016')])\n",
    "\n",
    "data = pd.DataFrame(data = np.arange(16).reshape(4,4), \n",
    "                    index = mul_index, columns = ['prd_1', 'prd_2', 'prd_3', 'prd_4'], \n",
    "                    dtype ='int')\n",
    "print(data)\n",
    "\n",
    "#컬럼들이 하위 인덱스가 됨\n",
    "data_stacked = data.stack()\n",
    "print(data_stacked)"
   ]
  },
  {
   "cell_type": "code",
   "execution_count": 90,
   "id": "b34b7ed6",
   "metadata": {},
   "outputs": [
    {
     "name": "stdout",
     "output_type": "stream",
     "text": [
      "cust_1  2015  prd_1     0.0\n",
      "              prd_2     1.0\n",
      "              prd_3     2.0\n",
      "              prd_4     3.0\n",
      "        2016  prd_1     4.0\n",
      "              prd_2     5.0\n",
      "              prd_3     6.0\n",
      "              prd_4     7.0\n",
      "cust_2  2015  prd_1     8.0\n",
      "              prd_2     9.0\n",
      "              prd_3    10.0\n",
      "        2016  prd_1    12.0\n",
      "              prd_2    13.0\n",
      "              prd_3    14.0\n",
      "dtype: float64\n"
     ]
    }
   ],
   "source": [
    "data.loc['cust_2', 'prd_4'] = np.nan\n",
    "print(data.stack())"
   ]
  },
  {
   "cell_type": "code",
   "execution_count": 91,
   "id": "4c27e8c4",
   "metadata": {},
   "outputs": [
    {
     "name": "stdout",
     "output_type": "stream",
     "text": [
      "cust_1  2015  prd_1     0.0\n",
      "              prd_2     1.0\n",
      "              prd_3     2.0\n",
      "              prd_4     3.0\n",
      "        2016  prd_1     4.0\n",
      "              prd_2     5.0\n",
      "              prd_3     6.0\n",
      "              prd_4     7.0\n",
      "cust_2  2015  prd_1     8.0\n",
      "              prd_2     9.0\n",
      "              prd_3    10.0\n",
      "              prd_4     NaN\n",
      "        2016  prd_1    12.0\n",
      "              prd_2    13.0\n",
      "              prd_3    14.0\n",
      "              prd_4     NaN\n",
      "dtype: float64\n"
     ]
    }
   ],
   "source": [
    "#추천 시스템만들 때 빈자리 채우는 단계에서 사용 됨\n",
    "data_stacked = data.stack(dropna=False)\n",
    "print(data_stacked)"
   ]
  },
  {
   "cell_type": "code",
   "execution_count": 92,
   "id": "beae9fb8",
   "metadata": {},
   "outputs": [
    {
     "name": "stdout",
     "output_type": "stream",
     "text": [
      "            cust_1  cust_2\n",
      "2015 prd_1     0.0     8.0\n",
      "     prd_2     1.0     9.0\n",
      "     prd_3     2.0    10.0\n",
      "     prd_4     3.0     NaN\n",
      "2016 prd_1     4.0    12.0\n",
      "     prd_2     5.0    13.0\n",
      "     prd_3     6.0    14.0\n",
      "     prd_4     7.0     NaN\n"
     ]
    }
   ],
   "source": [
    "#0 레벨의 인덱스가 컬럼으로 변경됨\n",
    "print(data_stacked.unstack(level=0))"
   ]
  },
  {
   "cell_type": "code",
   "execution_count": null,
   "id": "9a05cac6",
   "metadata": {},
   "outputs": [],
   "source": []
  },
  {
   "cell_type": "code",
   "execution_count": 93,
   "id": "d37a747a",
   "metadata": {},
   "outputs": [
    {
     "name": "stdout",
     "output_type": "stream",
     "text": [
      "     year  quarter   realgdp  realcons  realinv  realgovt  realdpi    cpi  \\\n",
      "0  1959.0      1.0  2710.349    1707.4  286.898   470.045   1886.9  28.98   \n",
      "1  1959.0      2.0  2778.801    1733.7  310.859   481.301   1919.7  29.15   \n",
      "2  1959.0      3.0  2775.488    1751.8  289.226   491.260   1916.4  29.35   \n",
      "3  1959.0      4.0  2785.204    1753.7  299.356   484.052   1931.3  29.37   \n",
      "4  1960.0      1.0  2847.699    1770.5  331.722   462.199   1955.5  29.54   \n",
      "\n",
      "      m1  tbilrate  unemp      pop  infl  realint  \n",
      "0  139.7      2.82    5.8  177.146  0.00     0.00  \n",
      "1  141.7      3.08    5.1  177.830  2.34     0.74  \n",
      "2  140.5      3.82    5.3  178.657  2.74     1.09  \n",
      "3  140.0      4.33    5.6  179.386  0.27     4.06  \n",
      "4  139.6      3.50    5.2  180.007  2.31     1.19  \n"
     ]
    }
   ],
   "source": [
    "# 시계열 인덱스 만들기\n",
    "data = pd.read_csv('./data/macrodata.csv')\n",
    "print(data.head())"
   ]
  },
  {
   "cell_type": "code",
   "execution_count": 95,
   "id": "394e326c",
   "metadata": {},
   "outputs": [
    {
     "name": "stdout",
     "output_type": "stream",
     "text": [
      "PeriodIndex(['1959Q1', '1959Q2', '1959Q3', '1959Q4', '1960Q1', '1960Q2',\n",
      "             '1960Q3', '1960Q4', '1961Q1', '1961Q2',\n",
      "             ...\n",
      "             '2007Q2', '2007Q3', '2007Q4', '2008Q1', '2008Q2', '2008Q3',\n",
      "             '2008Q4', '2009Q1', '2009Q2', '2009Q3'],\n",
      "            dtype='period[Q-DEC]', name='data', length=203)\n"
     ]
    }
   ],
   "source": [
    "# 시계열 인덱스 생성\n",
    "periods = pd.PeriodIndex(year=data['year'],quarter=data['quarter'], name='data')\n",
    "#print(periods)\n"
   ]
  },
  {
   "cell_type": "code",
   "execution_count": 100,
   "id": "efa85fe0",
   "metadata": {},
   "outputs": [
    {
     "name": "stdout",
     "output_type": "stream",
     "text": [
      "item    realgdp  infl  unemp\n",
      "0      2710.349  0.00    5.8\n",
      "1      2778.801  2.34    5.1\n",
      "2      2775.488  2.74    5.3\n",
      "3      2785.204  0.27    5.6\n",
      "4      2847.699  2.31    5.2\n",
      "..          ...   ...    ...\n",
      "198   13324.600 -3.16    6.0\n",
      "199   13141.920 -8.79    6.9\n",
      "200   12925.410  0.94    8.1\n",
      "201   12901.504  3.37    9.2\n",
      "202   12990.341  3.56    9.6\n",
      "\n",
      "[203 rows x 3 columns]\n"
     ]
    }
   ],
   "source": [
    "columns = pd.Index(['realgdp', 'infl', 'unemp'], name='item')\n",
    "#print(columns)\n",
    "\n",
    "data = data.reindex(columns = columns)\n",
    "print(data)"
   ]
  },
  {
   "cell_type": "code",
   "execution_count": 102,
   "id": "b0ebcb31",
   "metadata": {},
   "outputs": [
    {
     "name": "stdout",
     "output_type": "stream",
     "text": [
      "item                             realgdp  infl  unemp\n",
      "data                                                 \n",
      "1959-03-31 23:59:59.999999999   2710.349  0.00    5.8\n",
      "1959-06-30 23:59:59.999999999   2778.801  2.34    5.1\n",
      "1959-09-30 23:59:59.999999999   2775.488  2.74    5.3\n",
      "1959-12-31 23:59:59.999999999   2785.204  0.27    5.6\n",
      "1960-03-31 23:59:59.999999999   2847.699  2.31    5.2\n",
      "...                                  ...   ...    ...\n",
      "2008-09-30 23:59:59.999999999  13324.600 -3.16    6.0\n",
      "2008-12-31 23:59:59.999999999  13141.920 -8.79    6.9\n",
      "2009-03-31 23:59:59.999999999  12925.410  0.94    8.1\n",
      "2009-06-30 23:59:59.999999999  12901.504  3.37    9.2\n",
      "2009-09-30 23:59:59.999999999  12990.341  3.56    9.6\n",
      "\n",
      "[203 rows x 3 columns]\n"
     ]
    }
   ],
   "source": [
    "#인덱스 설정\n",
    "#쿼터의 마지막 날을 세부 데이터로 설정\n",
    "data.index = periods.to_timestamp('D', 'end')\n",
    "print(data)"
   ]
  },
  {
   "cell_type": "code",
   "execution_count": null,
   "id": "d4af137b",
   "metadata": {},
   "outputs": [],
   "source": []
  },
  {
   "cell_type": "code",
   "execution_count": 103,
   "id": "5096b9b1",
   "metadata": {},
   "outputs": [
    {
     "name": "stdout",
     "output_type": "stream",
     "text": [
      "                             data     item      value\n",
      "0   1959-03-31 23:59:59.999999999  realgdp   2710.349\n",
      "1   1959-03-31 23:59:59.999999999     infl      0.000\n",
      "2   1959-03-31 23:59:59.999999999    unemp      5.800\n",
      "3   1959-06-30 23:59:59.999999999  realgdp   2778.801\n",
      "4   1959-06-30 23:59:59.999999999     infl      2.340\n",
      "..                            ...      ...        ...\n",
      "604 2009-06-30 23:59:59.999999999     infl      3.370\n",
      "605 2009-06-30 23:59:59.999999999    unemp      9.200\n",
      "606 2009-09-30 23:59:59.999999999  realgdp  12990.341\n",
      "607 2009-09-30 23:59:59.999999999     infl      3.560\n",
      "608 2009-09-30 23:59:59.999999999    unemp      9.600\n",
      "\n",
      "[609 rows x 3 columns]\n"
     ]
    }
   ],
   "source": [
    "#날짜를 데이터로 사용\n",
    "ldata = data.stack().reset_index().rename(columns={0:'value'})\n",
    "print(ldata)"
   ]
  },
  {
   "cell_type": "code",
   "execution_count": 104,
   "id": "59514256",
   "metadata": {},
   "outputs": [
    {
     "name": "stdout",
     "output_type": "stream",
     "text": [
      "item                           infl    realgdp  unemp\n",
      "data                                                 \n",
      "1959-03-31 23:59:59.999999999  0.00   2710.349    5.8\n",
      "1959-06-30 23:59:59.999999999  2.34   2778.801    5.1\n",
      "1959-09-30 23:59:59.999999999  2.74   2775.488    5.3\n",
      "1959-12-31 23:59:59.999999999  0.27   2785.204    5.6\n",
      "1960-03-31 23:59:59.999999999  2.31   2847.699    5.2\n",
      "...                             ...        ...    ...\n",
      "2008-09-30 23:59:59.999999999 -3.16  13324.600    6.0\n",
      "2008-12-31 23:59:59.999999999 -8.79  13141.920    6.9\n",
      "2009-03-31 23:59:59.999999999  0.94  12925.410    8.1\n",
      "2009-06-30 23:59:59.999999999  3.37  12901.504    9.2\n",
      "2009-09-30 23:59:59.999999999  3.56  12990.341    9.6\n",
      "\n",
      "[203 rows x 3 columns]\n"
     ]
    },
    {
     "name": "stderr",
     "output_type": "stream",
     "text": [
      "C:\\Users\\user\\AppData\\Local\\Temp\\ipykernel_18340\\3333098481.py:1: FutureWarning: In a future version of pandas all arguments of DataFrame.pivot will be keyword-only.\n",
      "  pivoted = ldata.pivot('data', 'item', 'value')\n"
     ]
    }
   ],
   "source": [
    "pivoted = ldata.pivot('data', 'item', 'value')\n",
    "print(pivoted)"
   ]
  },
  {
   "cell_type": "code",
   "execution_count": 107,
   "id": "d294ee9c",
   "metadata": {},
   "outputs": [
    {
     "name": "stdout",
     "output_type": "stream",
     "text": [
      "   cust_id prod_id  pch_cnt  pch_price  pch_amt\n",
      "0        1       A        1        100       10\n",
      "1        2       B        2        200       20\n",
      "2        3       C        3        300       30\n",
      "3        4       D        4        400       40\n",
      "    cust_id prod_id   variable  value\n",
      "0         1       A    pch_cnt      1\n",
      "1         2       B    pch_cnt      2\n",
      "2         3       C    pch_cnt      3\n",
      "3         4       D    pch_cnt      4\n",
      "4         1       A  pch_price    100\n",
      "5         2       B  pch_price    200\n",
      "6         3       C  pch_price    300\n",
      "7         4       D  pch_price    400\n",
      "8         1       A    pch_amt     10\n",
      "9         2       B    pch_amt     20\n",
      "10        3       C    pch_amt     30\n",
      "11        4       D    pch_amt     40\n"
     ]
    }
   ],
   "source": [
    "#컬럼 줄이기\n",
    "data = pd.DataFrame({\"cust_id\":[1,2,3,4], \"prod_id\": [\"A\", \"B\", \"C\", \"D\"],\n",
    "                    \"pch_cnt\":[1,2,3,4], \"pch_price\":[100, 200, 300, 400],\n",
    "                    \"pch_amt\": [10, 20, 30, 40]})\n",
    "\n",
    "print(data)\n",
    "result = pd.melt(data, id_vars = [\"cust_id\", \"prod_id\"])\n",
    "print(result)"
   ]
  },
  {
   "cell_type": "code",
   "execution_count": 115,
   "id": "1b0897ac",
   "metadata": {},
   "outputs": [
    {
     "name": "stdout",
     "output_type": "stream",
     "text": [
      "거짓         c         d\n",
      "사실                    \n",
      "a   0.000000  0.500000\n",
      "b   0.333333  0.166667\n",
      "fac_1  a  b   \n",
      "fac_2  d  c  d\n",
      "id            \n",
      "id1    3  0  0\n",
      "id2    0  2  0\n",
      "id3    0  0  1\n"
     ]
    }
   ],
   "source": [
    "data = pd.DataFrame({\"id\":[\"id1\", \"id1\", \"id1\", \"id2\", \"id2\", \"id3\"],\n",
    "                    \"fac_1\": [\"a\", \"a\", \"a\", \"b\", \"b\",\"b\"],\n",
    "                    \"fac_2\": [\"d\", \"d\", \"d\", \"c\", \"c\", \"d\"]})\n",
    "\n",
    "#fac_1과 fac_2의 빈도 분석\n",
    "print(pd.crosstab(data['fac_1'], data['fac_2'],\n",
    "                 rownames=['사실'], colnames=['거짓'], normalize = True))\n",
    "print(pd.crosstab(data.id, [data['fac_1'], data['fac_2']]))"
   ]
  },
  {
   "cell_type": "code",
   "execution_count": null,
   "id": "c4f2047c",
   "metadata": {},
   "outputs": [],
   "source": []
  },
  {
   "cell_type": "markdown",
   "id": "db5f81b1",
   "metadata": {},
   "source": [
    "### 데이터 전처리"
   ]
  },
  {
   "cell_type": "code",
   "execution_count": 116,
   "id": "d3ad103e",
   "metadata": {},
   "outputs": [
    {
     "name": "stdout",
     "output_type": "stream",
     "text": [
      "    mpg  cylinders  displacement horsepower  weight  accleration  model year  \\\n",
      "0  18.0          8         307.0      130.0  3504.0         12.0          70   \n",
      "1  15.0          8         350.0      165.0  3693.0         11.5          70   \n",
      "2  18.0          8         318.0      150.0  3436.0         11.0          70   \n",
      "3  16.0          8         304.0      150.0  3433.0         12.0          70   \n",
      "4  17.0          8         302.0      140.0  3449.0         10.5          70   \n",
      "\n",
      "   origin                       name  \n",
      "0       1  chevrolet chevelle malibu  \n",
      "1       1          buick skylark 320  \n",
      "2       1         plymouth satellite  \n",
      "3       1              amc rebel sst  \n",
      "4       1                ford torino  \n"
     ]
    }
   ],
   "source": [
    "df = pd.read_csv('./data/auto-mpg.csv', header=None)\n",
    "df.columns = ['mpg', 'cylinders', 'displacement', 'horsepower', 'weight',\n",
    "             'accleration', 'model year', 'origin', 'name']\n",
    "print(df.head())"
   ]
  },
  {
   "cell_type": "code",
   "execution_count": 118,
   "id": "e44b1b61",
   "metadata": {},
   "outputs": [
    {
     "name": "stdout",
     "output_type": "stream",
     "text": [
      "<class 'pandas.core.frame.DataFrame'>\n",
      "RangeIndex: 398 entries, 0 to 397\n",
      "Data columns (total 9 columns):\n",
      " #   Column        Non-Null Count  Dtype  \n",
      "---  ------        --------------  -----  \n",
      " 0   mpg           398 non-null    float64\n",
      " 1   cylinders     398 non-null    int64  \n",
      " 2   displacement  398 non-null    float64\n",
      " 3   horsepower    398 non-null    object \n",
      " 4   weight        398 non-null    float64\n",
      " 5   accleration   398 non-null    float64\n",
      " 6   model year    398 non-null    int64  \n",
      " 7   origin        398 non-null    int64  \n",
      " 8   name          398 non-null    object \n",
      "dtypes: float64(4), int64(3), object(2)\n",
      "memory usage: 28.1+ KB\n"
     ]
    }
   ],
   "source": [
    "#데이터의 자료형 확인은 dtypes 속성이나 info()를 호출하면 됨\n",
    "#print(df.dtypes)\n",
    "df.info()"
   ]
  },
  {
   "cell_type": "code",
   "execution_count": 123,
   "id": "ea0d5618",
   "metadata": {},
   "outputs": [
    {
     "name": "stdout",
     "output_type": "stream",
     "text": [
      "['130.0' '165.0' '150.0' '140.0' '198.0' '220.0' '215.0' '225.0' '190.0'\n",
      " '170.0' '160.0' '95.00' '97.00' '85.00' '88.00' '46.00' '87.00' '90.00'\n",
      " '113.0' '200.0' '210.0' '193.0' nan '100.0' '105.0' '175.0' '153.0'\n",
      " '180.0' '110.0' '72.00' '86.00' '70.00' '76.00' '65.00' '69.00' '60.00'\n",
      " '80.00' '54.00' '208.0' '155.0' '112.0' '92.00' '145.0' '137.0' '158.0'\n",
      " '167.0' '94.00' '107.0' '230.0' '49.00' '75.00' '91.00' '122.0' '67.00'\n",
      " '83.00' '78.00' '52.00' '61.00' '93.00' '148.0' '129.0' '96.00' '71.00'\n",
      " '98.00' '115.0' '53.00' '81.00' '79.00' '120.0' '152.0' '102.0' '108.0'\n",
      " '68.00' '58.00' '149.0' '89.00' '63.00' '48.00' '66.00' '139.0' '103.0'\n",
      " '125.0' '133.0' '138.0' '135.0' '142.0' '77.00' '62.00' '132.0' '84.00'\n",
      " '64.00' '74.00' '116.0' '82.00']\n"
     ]
    }
   ],
   "source": [
    "#horsepower는 마력인데 마력은 숫자 데이텅임 -> 근데 object라고 되어 있음\n",
    "# 변경\n",
    "#df['horsepower'] = df['horsepower'].astype('float') - 에러 발생\n",
    "\n",
    "#중복된 데이터를 제외하고 출력\n",
    "#unique나 sort_values를 이용할 수 있음\n",
    "#중복된 데이터를 제외하고 출력 - ? 라는 값이 존재\n",
    "#print(df['horsepower'].sort_values())\n",
    "print(df['horsepower'].unique())\n",
    "\n",
    "#?라는 값을 가진 데이터를 어떻게 할 것인지 결정\n",
    "#보통 평균이나 중앙값을 대입 or 앞이나 뒤의 값으로 채움 or 데이터의 양이 많을 땐 지우기\n",
    "# ?값을 None으로 설정하고 None인 데이터를 제거\n",
    "df['horsepower'].replace('?', np.nan, inplace=True)\n",
    "df.dropna(subset = ['horsepower'], axis=0, inplace=True)\n",
    "df['horsepower'] = df['horsepower'].astype('float')\n"
   ]
  },
  {
   "cell_type": "code",
   "execution_count": 124,
   "id": "b65fde2a",
   "metadata": {},
   "outputs": [
    {
     "name": "stdout",
     "output_type": "stream",
     "text": [
      "<class 'pandas.core.frame.DataFrame'>\n",
      "Int64Index: 392 entries, 0 to 397\n",
      "Data columns (total 9 columns):\n",
      " #   Column        Non-Null Count  Dtype   \n",
      "---  ------        --------------  -----   \n",
      " 0   mpg           392 non-null    float64 \n",
      " 1   cylinders     392 non-null    int64   \n",
      " 2   displacement  392 non-null    float64 \n",
      " 3   horsepower    392 non-null    float64 \n",
      " 4   weight        392 non-null    float64 \n",
      " 5   accleration   392 non-null    float64 \n",
      " 6   model year    392 non-null    int64   \n",
      " 7   origin        392 non-null    category\n",
      " 8   name          392 non-null    object  \n",
      "dtypes: category(1), float64(5), int64(2), object(1)\n",
      "memory usage: 28.1+ KB\n",
      "    mpg  cylinders  displacement  horsepower  weight  accleration  model year  \\\n",
      "0  18.0          8         307.0       130.0  3504.0         12.0          70   \n",
      "1  15.0          8         350.0       165.0  3693.0         11.5          70   \n",
      "2  18.0          8         318.0       150.0  3436.0         11.0          70   \n",
      "3  16.0          8         304.0       150.0  3433.0         12.0          70   \n",
      "4  17.0          8         302.0       140.0  3449.0         10.5          70   \n",
      "\n",
      "  origin                       name  \n",
      "0     미국  chevrolet chevelle malibu  \n",
      "1     미국          buick skylark 320  \n",
      "2     미국         plymouth satellite  \n",
      "3     미국              amc rebel sst  \n",
      "4     미국                ford torino  \n"
     ]
    }
   ],
   "source": [
    "#origin이라는 열은 1, 2, 3이라는 값만 소유하고 있음\n",
    "#이 값은 실제로는 미국, 유럽, 일본을 의미하는 숫자임\n",
    "#분석을 할 때는 미국, 유럽, 일본으로 보여지는 것이 더 나을 수도 있음\n",
    "#이런 경우 새로운 컬럼을 추가해서 보여지도록 할 수도 있고, 컬럼의 값을 변경할 수도 있음\n",
    "#범주형으로 변경해 두는 것이 분석 속도를 높이는데 도움이 됨\n",
    "#불필요한 계산을 줄일 수 있음\n",
    "\n",
    "#origin의 형태가 변했음\n",
    "df['origin'].replace({1: '미국', 2:'유럽', 3:'일본'}, inplace=True)\n",
    "#범주형으로 변환\n",
    "df['origin'] = df['origin'].astype('category')\n",
    "df.info()\n",
    "print(df.head())\n",
    "#df.corr() 처음 데이터 불러왔을 때도 실행해보고 결과 비교해보기"
   ]
  },
  {
   "cell_type": "code",
   "execution_count": null,
   "id": "e043bc68",
   "metadata": {},
   "outputs": [],
   "source": []
  },
  {
   "cell_type": "code",
   "execution_count": null,
   "id": "e1f85871",
   "metadata": {},
   "outputs": [],
   "source": []
  },
  {
   "cell_type": "code",
   "execution_count": null,
   "id": "279ed4c7",
   "metadata": {},
   "outputs": [],
   "source": []
  }
 ],
 "metadata": {
  "kernelspec": {
   "display_name": "Python 3 (ipykernel)",
   "language": "python",
   "name": "python3"
  },
  "language_info": {
   "codemirror_mode": {
    "name": "ipython",
    "version": 3
   },
   "file_extension": ".py",
   "mimetype": "text/x-python",
   "name": "python",
   "nbconvert_exporter": "python",
   "pygments_lexer": "ipython3",
   "version": "3.10.9"
  }
 },
 "nbformat": 4,
 "nbformat_minor": 5
}
