{
 "cells": [
  {
   "cell_type": "code",
   "execution_count": 1,
   "id": "ce5985ed",
   "metadata": {},
   "outputs": [],
   "source": [
    "import sys\n",
    "\n",
    "# 사이킷런 ≥0.20 필수\n",
    "import sklearn\n",
    "\n",
    "# 공통 모듈 임포트\n",
    "import numpy as np\n",
    "import pandas as pd\n",
    "import os\n",
    "\n",
    "# 노트북 실행 결과를 동일하게 유지하기 위해\n",
    "np.random.seed(42)\n",
    "\n",
    "# 깔끔한 그래프 출력을 위해\n",
    "%matplotlib inline\n",
    "import matplotlib as mpl\n",
    "import matplotlib.pyplot as plt\n",
    "mpl.rc('axes', labelsize=14)\n",
    "mpl.rc('xtick', labelsize=12)\n",
    "mpl.rc('ytick', labelsize=12)\n",
    "\n",
    "import platform\n",
    "from matplotlib import font_manager, rc\n",
    "\n",
    "#매킨토시의 경우\n",
    "if platform.system() == 'Darwin':\n",
    "    rc('font', family='AppleGothic')\n",
    "#윈도우의 경우\n",
    "elif platform.system() == 'Windows':\n",
    "    font_name = font_manager.FontProperties(fname=\"c:/Windows/Fonts/malgun.ttf\").get_name()\n",
    "    rc('font', family=font_name)\n",
    "\n",
    "mpl.rcParams['axes.unicode_minus'] = False\n",
    "\n",
    "# 그림을 저장할 위치\n",
    "PROJECT_ROOT_DIR = \".\"\n",
    "CHAPTER_ID = \"association_analysis\"\n",
    "IMAGES_PATH = os.path.join(PROJECT_ROOT_DIR, \"images\", CHAPTER_ID)\n",
    "os.makedirs(IMAGES_PATH, exist_ok=True)\n",
    "\n",
    "def save_fig(fig_id, tight_layout=True, fig_extension=\"png\", resolution=300):\n",
    "    path = os.path.join(IMAGES_PATH, fig_id + \".\" + fig_extension)\n",
    "    print(\"그림 저장:\", fig_id)\n",
    "    if tight_layout:\n",
    "        plt.tight_layout()\n",
    "    plt.savefig(path, format=fig_extension, dpi=resolution)\n",
    "    \n",
    "        \n",
    "import warnings\n",
    "warnings.filterwarnings(action='ignore')"
   ]
  },
  {
   "cell_type": "markdown",
   "id": "68f21f17",
   "metadata": {},
   "source": [
    "## surprise 패키지 활용"
   ]
  },
  {
   "cell_type": "code",
   "execution_count": 2,
   "id": "ea37ba7d",
   "metadata": {},
   "outputs": [
    {
     "name": "stdout",
     "output_type": "stream",
     "text": [
      "Collecting scikit_surprise\n",
      "  Downloading scikit-surprise-1.1.3.tar.gz (771 kB)\n",
      "     -------------------------------------- 772.0/772.0 kB 3.5 MB/s eta 0:00:00\n",
      "  Preparing metadata (setup.py): started\n",
      "  Preparing metadata (setup.py): finished with status 'done'\n",
      "Requirement already satisfied: joblib>=1.0.0 in c:\\users\\user\\appdata\\local\\anaconda3\\lib\\site-packages (from scikit_surprise) (1.1.1)\n",
      "Requirement already satisfied: numpy>=1.17.3 in c:\\users\\user\\appdata\\local\\anaconda3\\lib\\site-packages (from scikit_surprise) (1.23.5)\n",
      "Requirement already satisfied: scipy>=1.3.2 in c:\\users\\user\\appdata\\local\\anaconda3\\lib\\site-packages (from scikit_surprise) (1.10.0)\n",
      "Building wheels for collected packages: scikit_surprise\n",
      "  Building wheel for scikit_surprise (setup.py): started\n",
      "  Building wheel for scikit_surprise (setup.py): finished with status 'done'\n",
      "  Created wheel for scikit_surprise: filename=scikit_surprise-1.1.3-cp310-cp310-win_amd64.whl size=1082377 sha256=c868911695762e827e7db15579836aaf369da2c79b00c6625dda76ca88699967\n",
      "  Stored in directory: c:\\users\\user\\appdata\\local\\pip\\cache\\wheels\\df\\e4\\a6\\7ad72453dd693f420b0c639bedeec34641738d11b55d8d9b84\n",
      "Successfully built scikit_surprise\n",
      "Installing collected packages: scikit_surprise\n",
      "Successfully installed scikit_surprise-1.1.3\n"
     ]
    }
   ],
   "source": [
    "!pip install scikit_surprise"
   ]
  },
  {
   "cell_type": "code",
   "execution_count": 5,
   "id": "4038a012",
   "metadata": {},
   "outputs": [
    {
     "name": "stdout",
     "output_type": "stream",
     "text": [
      "Dataset ml-100k could not be found. Do you want to download it? [Y/n] Y\n",
      "Trying to download dataset from https://files.grouplens.org/datasets/movielens/ml-100k.zip...\n",
      "Done! Dataset ml-100k has been saved to C:\\Users\\user/.surprise_data/ml-100k\n"
     ]
    }
   ],
   "source": [
    "import surprise\n",
    "from surprise import SVD\n",
    "from surprise import Dataset\n",
    "from surprise import accuracy\n",
    "from surprise.model_selection import train_test_split\n",
    "\n",
    "data = Dataset.load_builtin(name='ml-100k', prompt=True)"
   ]
  },
  {
   "cell_type": "code",
   "execution_count": 6,
   "id": "52ddffc2",
   "metadata": {},
   "outputs": [],
   "source": [
    "trainset, testset = train_test_split(data, test_size=.25, random_state=42) "
   ]
  },
  {
   "cell_type": "code",
   "execution_count": 7,
   "id": "4dc157c1",
   "metadata": {},
   "outputs": [
    {
     "data": {
      "text/plain": [
       "<surprise.prediction_algorithms.matrix_factorization.SVD at 0x14c5cff4910>"
      ]
     },
     "execution_count": 7,
     "metadata": {},
     "output_type": "execute_result"
    }
   ],
   "source": [
    "algo = SVD()\n",
    "algo.fit(trainset) "
   ]
  },
  {
   "cell_type": "code",
   "execution_count": 9,
   "id": "1ce61c1c",
   "metadata": {},
   "outputs": [
    {
     "name": "stdout",
     "output_type": "stream",
     "text": [
      "[('391', '591', 3.5608561717920146), ('181', '1291', 1.5179912523702612), ('637', '268', 3.0225936743828146), ('332', '451', 4.070696434930238), ('271', '204', 3.8608142964823338)]\n"
     ]
    }
   ],
   "source": [
    "predictions = algo.test( testset )\n",
    "#print(predictions[:5])\n",
    "\n",
    "print([(pred.uid, pred.iid, pred.est) for pred in predictions[:5]])"
   ]
  },
  {
   "cell_type": "markdown",
   "id": "e3ee56cc",
   "metadata": {},
   "source": [
    "## 로컬 데이터를 이용한 surprise 패캐지 활용"
   ]
  },
  {
   "cell_type": "code",
   "execution_count": null,
   "id": "8db2e2b3",
   "metadata": {},
   "outputs": [],
   "source": []
  },
  {
   "cell_type": "code",
   "execution_count": null,
   "id": "3125e7dd",
   "metadata": {},
   "outputs": [],
   "source": []
  },
  {
   "cell_type": "code",
   "execution_count": null,
   "id": "71131c84",
   "metadata": {},
   "outputs": [],
   "source": []
  }
 ],
 "metadata": {
  "kernelspec": {
   "display_name": "Python 3 (ipykernel)",
   "language": "python",
   "name": "python3"
  },
  "language_info": {
   "codemirror_mode": {
    "name": "ipython",
    "version": 3
   },
   "file_extension": ".py",
   "mimetype": "text/x-python",
   "name": "python",
   "nbconvert_exporter": "python",
   "pygments_lexer": "ipython3",
   "version": "3.10.9"
  }
 },
 "nbformat": 4,
 "nbformat_minor": 5
}
