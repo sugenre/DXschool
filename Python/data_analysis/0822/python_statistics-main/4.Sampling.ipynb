{
 "cells": [
  {
   "cell_type": "markdown",
   "id": "8fc6fe11",
   "metadata": {},
   "source": [
    "# 표본 추출"
   ]
  },
  {
   "cell_type": "code",
   "execution_count": 2,
   "id": "4456db5a",
   "metadata": {},
   "outputs": [],
   "source": [
    "import numpy as np\n",
    "import pandas as pd\n",
    "import seaborn as sns\n",
    "import scipy as sp\n",
    "\n",
    "import scipy.stats\n",
    "\n",
    "#시각화 패키지\n",
    "import matplotlib.pyplot as plt\n",
    "\n",
    "#시각화에서 한글을 사용하기 위한 설정\n",
    "import platform\n",
    "from matplotlib import font_manager, rc\n",
    "\n",
    "if platform.system() == 'Darwin':\n",
    "    rc('font', family='AppleGothic')\n",
    "#윈도우의 경우\n",
    "elif platform.system() == 'Windows':\n",
    "    font_name = font_manager.FontProperties(fname=\"c:/Windows/Fonts/malgun.ttf\").get_name()\n",
    "    rc('font', family=font_name)\n",
    "    \n",
    "#시각화에서 음수를 표현하기 위한 설정\n",
    "import matplotlib\n",
    "matplotlib.rcParams['axes.unicode_minus'] = False \n",
    "\n",
    "# Jupyter Notebook의 출력을 소수점 이하 3자리로 제한 \n",
    "%precision 3\n",
    "# DataFrame의 출력을 소수점 이하 3자리로 제한 \n",
    "pd.set_option('precision', 3)"
   ]
  },
  {
   "cell_type": "markdown",
   "id": "f721d84a",
   "metadata": {},
   "source": [
    "## 비복원 추출"
   ]
  },
  {
   "cell_type": "code",
   "execution_count": 3,
   "id": "f45339a4",
   "metadata": {},
   "outputs": [
    {
     "name": "stdout",
     "output_type": "stream",
     "text": [
      "40 20 20 50 20 \n",
      "[40, 50, 10, 30, 20]\n"
     ]
    }
   ],
   "source": [
    "import random\n",
    "li = [10,20,30,40,50]\n",
    "#복원 추출\n",
    "for i in range(5):\n",
    "    print(li[random.randint(0, len(li)-1)], end=' ')\n",
    "print()\n",
    "#비복원 추출\n",
    "print(random.sample(li, k=5))"
   ]
  },
  {
   "cell_type": "code",
   "execution_count": 4,
   "id": "db3b06f0",
   "metadata": {},
   "outputs": [
    {
     "name": "stdout",
     "output_type": "stream",
     "text": [
      "         income  type\n",
      "43286   96500.0  Data\n",
      "47007   32500.0  Data\n",
      "20584   49975.0  Data\n",
      "17650  130000.0  Data\n",
      "32049   44000.0  Data\n"
     ]
    },
    {
     "data": {
      "image/png": "[encoded data removed]",
      "text/plain": [
       "<Figure size 288x432 with 3 Axes>"
      ]
     },
     "metadata": {
      "needs_background": "light"
     },
     "output_type": "display_data"
    }
   ],
   "source": [
    "from sklearn.utils import resample\n",
    "loans_income = pd.read_csv('./data/loans_income.csv', squeeze=True)\n",
    "\n",
    "sample_data = pd.DataFrame({\n",
    "    'income': loans_income.sample(1000),\n",
    "    'type': 'Data',\n",
    "})\n",
    "\n",
    "sample_mean_05 = pd.DataFrame({\n",
    "    'income': [loans_income.sample(5).mean() for _ in range(1000)],\n",
    "    'type': 'Mean of 5',\n",
    "})\n",
    "\n",
    "sample_mean_20 = pd.DataFrame({\n",
    "    'income': [loans_income.sample(20).mean() for _ in range(1000)],\n",
    "    'type': 'Mean of 20',\n",
    "})\n",
    "\n",
    "results = pd.concat([sample_data, sample_mean_05, sample_mean_20])\n",
    "print(results.head())\n",
    "\n",
    "g = sns.FacetGrid(results, col='type', col_wrap=1, \n",
    "                  height=2, aspect=2)\n",
    "g.map(plt.hist, 'income', range=[0, 200000], bins=40)\n",
    "g.set_axis_labels('Income', 'Count')\n",
    "g.set_titles('{col_name}')\n",
    "\n",
    "plt.tight_layout()\n",
    "plt.show()"
   ]
  },
  {
   "cell_type": "code",
   "execution_count": 5,
   "id": "b9115300",
   "metadata": {},
   "outputs": [
    {
     "name": "stdout",
     "output_type": "stream",
     "text": [
      "['Hello' 'Nice' 'Hello' 'Good' 'Nice']\n"
     ]
    }
   ],
   "source": [
    "# 가중치를 고려한 추출\n",
    "arr = ['Hello', 'Hi', 'Good', 'Nice']\n",
    "print(np.random.choice(arr, 5, p=[0.5, 0.1, 0.1, 0.3]))"
   ]
  },
  {
   "cell_type": "code",
   "execution_count": 6,
   "id": "1c46229d",
   "metadata": {},
   "outputs": [
    {
     "name": "stdout",
     "output_type": "stream",
     "text": [
      "   0   1   2\n",
      "0  0   1   2\n",
      "1  3   4   5\n",
      "2  6   7   8\n",
      "3  9  10  11\n",
      "\n",
      "   0  1  2\n",
      "1  3  4  5\n",
      "\n",
      "   0   1   2\n",
      "0  0   1   2\n",
      "1  3   4   5\n",
      "3  9  10  11\n"
     ]
    }
   ],
   "source": [
    "ex_df=pd.DataFrame(np.arange(0,12).reshape(4,3))\n",
    "print(ex_df)\n",
    "print()\n",
    "\n",
    "# 랜덤 샘플 추출 예제\n",
    "print(ex_df.sample())\n",
    "print()\n",
    "\n",
    "print(ex_df.sample(n=3))"
   ]
  },
  {
   "cell_type": "code",
   "execution_count": 7,
   "id": "1d4d723b",
   "metadata": {},
   "outputs": [
    {
     "name": "stdout",
     "output_type": "stream",
     "text": [
      "   0  1  2\n",
      "0  0  1  2\n",
      "1  3  4  5\n",
      "2  6  7  8\n",
      "\n",
      "   0   2\n",
      "0  0   2\n",
      "1  3   5\n",
      "2  6   8\n",
      "3  9  11\n"
     ]
    }
   ],
   "source": [
    "# weights 입력변수의 사용\n",
    "print(ex_df.sample(n=3, replace=True, weights=[0.7,0.2,0.1,0]))\n",
    "print()\n",
    "#열 샘플링\n",
    "print(ex_df.sample(n=2, axis=1))"
   ]
  },
  {
   "cell_type": "code",
   "execution_count": 8,
   "id": "5b512ef2",
   "metadata": {},
   "outputs": [
    {
     "name": "stdout",
     "output_type": "stream",
     "text": [
      "[[ 0  1]\n",
      " [ 2  3]\n",
      " [ 4  5]\n",
      " [ 6  7]\n",
      " [ 8  9]\n",
      " [10 11]\n",
      " [12 13]\n",
      " [14 15]\n",
      " [16 17]\n",
      " [18 19]]\n",
      "\n",
      "[0 1 2 3 4 5 6 7 8 9]\n"
     ]
    }
   ],
   "source": [
    "X = np.arange(20).reshape(10, 2)\n",
    "print(X)\n",
    "print()\n",
    "y = np.arange(10)\n",
    "print(y)"
   ]
  },
  {
   "cell_type": "code",
   "execution_count": null,
   "id": "a498c3dc",
   "metadata": {},
   "outputs": [],
   "source": []
  },
  {
   "cell_type": "markdown",
   "id": "8f185135",
   "metadata": {},
   "source": [
    "## 순차적 분할"
   ]
  },
  {
   "cell_type": "code",
   "execution_count": 9,
   "id": "e1622596",
   "metadata": {},
   "outputs": [
    {
     "name": "stdout",
     "output_type": "stream",
     "text": [
      "X_train shape: (6, 2)\n",
      "X_test shape: (4, 2)\n",
      "y_train shape: (6,)\n",
      "y_test shape: (4,)\n",
      "\n",
      "[[ 0  1]\n",
      " [ 2  3]\n",
      " [ 4  5]\n",
      " [ 6  7]\n",
      " [ 8  9]\n",
      " [10 11]]\n",
      "\n",
      "[0 1 2 3 4 5]\n"
     ]
    }
   ],
   "source": [
    "from sklearn.model_selection import train_test_split\n",
    "# shuffle = False\n",
    "X_train, X_test, y_train, y_test = train_test_split(X, y, \n",
    "                                                    test_size=0.4, \n",
    "                                                    shuffle=False, \n",
    "                                                    random_state=1004)\n",
    "print('X_train shape:', X_train.shape)\n",
    "print('X_test shape:', X_test.shape)\n",
    "print('y_train shape:', y_train.shape)\n",
    "print('y_test shape:', y_test.shape)\n",
    "print()\n",
    "print(X_train)\n",
    "print()\n",
    "print(y_train)"
   ]
  },
  {
   "cell_type": "code",
   "execution_count": null,
   "id": "cdef38dc",
   "metadata": {},
   "outputs": [],
   "source": []
  },
  {
   "cell_type": "markdown",
   "id": "e9022025",
   "metadata": {},
   "source": [
    "## 무작위 분할"
   ]
  },
  {
   "cell_type": "code",
   "execution_count": 10,
   "id": "a6e2f8d3",
   "metadata": {},
   "outputs": [
    {
     "name": "stdout",
     "output_type": "stream",
     "text": [
      "[[ 2  3]\n",
      " [ 8  9]\n",
      " [ 6  7]\n",
      " [14 15]\n",
      " [10 11]\n",
      " [ 4  5]]\n",
      "\n",
      "[1 4 3 7 5 2]\n"
     ]
    }
   ],
   "source": [
    "# shuffle = True\n",
    "X_train, X_test, y_train, y_test = train_test_split(X, y, \n",
    "                                                    test_size=0.4, \n",
    "                                                    shuffle=True, \n",
    "                                                    random_state=1004)\n",
    "print(X_train)\n",
    "print()\n",
    "print(y_train)"
   ]
  },
  {
   "cell_type": "code",
   "execution_count": null,
   "id": "9bf6a111",
   "metadata": {},
   "outputs": [],
   "source": []
  },
  {
   "cell_type": "markdown",
   "id": "a12b677c",
   "metadata": {},
   "source": [
    "## 층화 무작위 추출"
   ]
  },
  {
   "cell_type": "code",
   "execution_count": 11,
   "id": "8968f5e7",
   "metadata": {},
   "outputs": [
    {
     "name": "stdout",
     "output_type": "stream",
     "text": [
      "[[ 0  1]\n",
      " [ 2  3]\n",
      " [ 4  5]\n",
      " [ 6  7]\n",
      " [ 8  9]\n",
      " [10 11]\n",
      " [12 13]\n",
      " [14 15]\n",
      " [16 17]\n",
      " [18 19]\n",
      " [20 21]\n",
      " [22 23]\n",
      " [24 25]\n",
      " [26 27]\n",
      " [28 29]]\n",
      "\n",
      "[ 0  1  2  3  4  5  6  7  8  9 10 11 12 13 14]\n",
      "\n",
      "[0, 0, 0, 0, 0, 1, 1, 1, 1, 1, 1, 1, 1, 1, 1]\n"
     ]
    }
   ],
   "source": [
    "X = np.arange(30).reshape(15, 2)\n",
    "print(X)\n",
    "print()\n",
    "\n",
    "y = np.arange(15)\n",
    "print(y)\n",
    "print()\n",
    "\n",
    "# stratum (group)\n",
    "grp = [0, 0, 0, 0, 0, 1, 1, 1, 1, 1, 1, 1, 1, 1, 1]\n",
    "print(grp)"
   ]
  },
  {
   "cell_type": "code",
   "execution_count": 13,
   "id": "9359b14b",
   "metadata": {},
   "outputs": [
    {
     "name": "stdout",
     "output_type": "stream",
     "text": [
      "X_train shape: (12, 2)\n",
      "X_test shape: (3, 2)\n",
      "y_train shape: (12,)\n",
      "y_test shape: (3,)\n",
      "[[12 13]\n",
      " [ 8  9]\n",
      " [28 29]\n",
      " [ 0  1]\n",
      " [10 11]\n",
      " [ 6  7]\n",
      " [ 2  3]\n",
      " [18 19]\n",
      " [20 21]\n",
      " [22 23]\n",
      " [26 27]\n",
      " [14 15]]\n",
      "\n",
      "[ 6  4 14  0  5  3  1  9 10 11 13  7]\n",
      "\n",
      "[[16 17]\n",
      " [ 4  5]\n",
      " [24 25]]\n",
      "\n",
      "[ 8  2 12]\n"
     ]
    }
   ],
   "source": [
    "from sklearn.model_selection import train_test_split\n",
    "X_train, X_test, y_train, y_test = train_test_split(X,y, \n",
    "                                                    test_size=0.2, \n",
    "                                                    shuffle=True,\n",
    "                                                    stratify=grp, \n",
    "                                                    random_state=1004)\n",
    "\n",
    "print('X_train shape:', X_train.shape)\n",
    "print('X_test shape:', X_test.shape)\n",
    "print('y_train shape:', y_train.shape)\n",
    "print('y_test shape:', y_test.shape)"
   ]
  },
  {
   "cell_type": "code",
   "execution_count": 14,
   "id": "4a120b81",
   "metadata": {},
   "outputs": [
    {
     "name": "stdout",
     "output_type": "stream",
     "text": [
      "[[12 13]\n",
      " [ 8  9]\n",
      " [28 29]\n",
      " [ 0  1]\n",
      " [10 11]\n",
      " [ 6  7]\n",
      " [ 2  3]\n",
      " [18 19]\n",
      " [20 21]\n",
      " [22 23]\n",
      " [26 27]\n",
      " [14 15]]\n",
      "\n",
      "[ 6  4 14  0  5  3  1  9 10 11 13  7]\n",
      "\n",
      "[[16 17]\n",
      " [ 4  5]\n",
      " [24 25]]\n",
      "\n",
      "[ 8  2 12]\n"
     ]
    }
   ],
   "source": [
    "print(X_train)\n",
    "print()\n",
    "print(y_train)\n",
    "print()\n",
    "print(X_test)\n",
    "print()\n",
    "print(y_test)"
   ]
  },
  {
   "cell_type": "code",
   "execution_count": 15,
   "id": "4c68b5dc",
   "metadata": {},
   "outputs": [
    {
     "name": "stdout",
     "output_type": "stream",
     "text": [
      "[[12 13]\n",
      " [ 8  9]\n",
      " [28 29]\n",
      " [ 0  1]\n",
      " [10 11]\n",
      " [ 6  7]\n",
      " [ 2  3]\n",
      " [18 19]\n",
      " [20 21]\n",
      " [22 23]\n",
      " [26 27]\n",
      " [14 15]]\n",
      "\n",
      "[ 6  4 14  0  5  3  1  9 10 11 13  7]\n",
      "\n",
      "[[16 17]\n",
      " [ 4  5]\n",
      " [24 25]]\n",
      "\n",
      "[ 8  2 12]\n"
     ]
    }
   ],
   "source": [
    "from sklearn.model_selection import StratifiedShuffleSplit\n",
    "split = StratifiedShuffleSplit(n_splits=1, test_size=0.2, random_state=1004)\n",
    "for train_idx, test_idx in split.split(X, grp):\n",
    "    X_train = X[train_idx]\n",
    "    X_test = X[test_idx]\n",
    "    y_train = y[train_idx]\n",
    "    y_test = y[test_idx]\n",
    "print(X_train)\n",
    "print()\n",
    "print(y_train)\n",
    "print()\n",
    "print(X_test)\n",
    "print()\n",
    "print(y_test)"
   ]
  },
  {
   "cell_type": "code",
   "execution_count": 16,
   "id": "2ed6d058",
   "metadata": {},
   "outputs": [
    {
     "name": "stdout",
     "output_type": "stream",
     "text": [
      "    X1  X2   y\n",
      "0    0   1   0\n",
      "1    2   3   1\n",
      "2    4   5   2\n",
      "3    6   7   3\n",
      "4    8   9   4\n",
      "5   10  11   5\n",
      "6   12  13   6\n",
      "7   14  15   7\n",
      "8   16  17   8\n",
      "9   18  19   9\n",
      "10  20  21  10\n",
      "11  22  23  11\n",
      "12  24  25  12\n",
      "13  26  27  13\n",
      "14  28  29  14\n"
     ]
    }
   ],
   "source": [
    "X = np.arange(30).reshape(15, 2)\n",
    "y = np.arange(15)\n",
    "\n",
    "df = pd.DataFrame(np.column_stack((X, y)), columns=['X1','X2', 'y'])\n",
    "print(df)\n"
   ]
  },
  {
   "cell_type": "code",
   "execution_count": 17,
   "id": "5064873a",
   "metadata": {},
   "outputs": [
    {
     "name": "stdout",
     "output_type": "stream",
     "text": [
      "    X1  X2   y  grp\n",
      "0    0   1   0    0\n",
      "1    2   3   1    0\n",
      "2    4   5   2    0\n",
      "3    6   7   3    0\n",
      "4    8   9   4    0\n",
      "5   10  11   5    1\n",
      "6   12  13   6    1\n",
      "7   14  15   7    1\n",
      "8   16  17   8    1\n",
      "9   18  19   9    1\n",
      "10  20  21  10    1\n",
      "11  22  23  11    1\n",
      "12  24  25  12    1\n",
      "13  26  27  13    1\n",
      "14  28  29  14    1\n"
     ]
    }
   ],
   "source": [
    "df['grp'] = [0, 0, 0, 0, 0, 1, 1, 1, 1, 1, 1, 1, 1, 1, 1]\n",
    "print(df)"
   ]
  },
  {
   "cell_type": "code",
   "execution_count": 18,
   "id": "1dbfafe3",
   "metadata": {},
   "outputs": [
    {
     "name": "stdout",
     "output_type": "stream",
     "text": [
      "    X1  X2   y  grp\n",
      "6   12  13   6    1\n",
      "4    8   9   4    0\n",
      "14  28  29  14    1\n",
      "0    0   1   0    0\n",
      "5   10  11   5    1\n",
      "3    6   7   3    0\n",
      "1    2   3   1    0\n",
      "9   18  19   9    1\n",
      "10  20  21  10    1\n",
      "11  22  23  11    1\n",
      "13  26  27  13    1\n",
      "7   14  15   7    1\n",
      "\n",
      "    X1  X2   y  grp\n",
      "8   16  17   8    1\n",
      "2    4   5   2    0\n",
      "12  24  25  12    1\n"
     ]
    }
   ],
   "source": [
    "from sklearn.model_selection import StratifiedShuffleSplit\n",
    "split = StratifiedShuffleSplit(n_splits=1, test_size=0.2, random_state=1004)\n",
    "for train_idx, test_idx in split.split(df, df[\"grp\"]):\n",
    "    df_strat_train = df.loc[train_idx]\n",
    "    df_strat_test = df.loc[test_idx]\n",
    "print(df_strat_train)\n",
    "print()\n",
    "print(df_strat_test)"
   ]
  },
  {
   "cell_type": "code",
   "execution_count": 19,
   "id": "5603c698",
   "metadata": {},
   "outputs": [
    {
     "name": "stdout",
     "output_type": "stream",
     "text": [
      "1    0.667\n",
      "0    0.333\n",
      "Name: grp, dtype: float64\n",
      "\n",
      "1    0.667\n",
      "0    0.333\n",
      "Name: grp, dtype: float64\n",
      "\n",
      "1    0.667\n",
      "0    0.333\n",
      "Name: grp, dtype: float64\n"
     ]
    }
   ],
   "source": [
    "print(df[\"grp\"].value_counts() / len(df))\n",
    "print()\n",
    "print(df_strat_train[\"grp\"].value_counts() / len(df_strat_train))\n",
    "print()\n",
    "print(df_strat_test[\"grp\"].value_counts() / len(df_strat_test))"
   ]
  },
  {
   "cell_type": "code",
   "execution_count": null,
   "id": "66a986dd",
   "metadata": {},
   "outputs": [],
   "source": []
  },
  {
   "cell_type": "markdown",
   "id": "bb81046a",
   "metadata": {},
   "source": [
    "## 재표본 추출"
   ]
  },
  {
   "cell_type": "markdown",
   "id": "fccee85c",
   "metadata": {},
   "source": [
    "### 부트스트랩"
   ]
  },
  {
   "cell_type": "code",
   "execution_count": 20,
   "id": "6ae046ea",
   "metadata": {},
   "outputs": [
    {
     "name": "stdout",
     "output_type": "stream",
     "text": [
      "   user_id   age  drinks_coffee  height\n",
      "0     4509   <21          False  64.538\n",
      "1     1864  >=21           True  65.824\n",
      "2     2060   <21          False  71.320\n",
      "3     7875  >=21           True  68.569\n",
      "4     6254   <21           True  64.020\n",
      "<class 'pandas.core.frame.DataFrame'>\n",
      "RangeIndex: 2974 entries, 0 to 2973\n",
      "Data columns (total 4 columns):\n",
      " #   Column         Non-Null Count  Dtype  \n",
      "---  ------         --------------  -----  \n",
      " 0   user_id        2974 non-null   int64  \n",
      " 1   age            2974 non-null   object \n",
      " 2   drinks_coffee  2974 non-null   bool   \n",
      " 3   height         2974 non-null   float64\n",
      "dtypes: bool(1), float64(1), int64(1), object(1)\n",
      "memory usage: 72.7+ KB\n",
      "None\n"
     ]
    }
   ],
   "source": [
    "np.random.seed(104)\n",
    "\n",
    "df = pd.read_csv('./data/coffee_dataset.csv')\n",
    "print(df.head())\n",
    "df.info()"
   ]
  },
  {
   "cell_type": "code",
   "execution_count": 21,
   "id": "7c35feb9",
   "metadata": {},
   "outputs": [
    {
     "name": "stdout",
     "output_type": "stream",
     "text": [
      "<class 'pandas.core.frame.DataFrame'>\n",
      "Int64Index: 200 entries, 486 to 914\n",
      "Data columns (total 4 columns):\n",
      " #   Column         Non-Null Count  Dtype  \n",
      "---  ------         --------------  -----  \n",
      " 0   user_id        200 non-null    int64  \n",
      " 1   age            200 non-null    object \n",
      " 2   drinks_coffee  200 non-null    bool   \n",
      " 3   height         200 non-null    float64\n",
      "dtypes: bool(1), float64(1), int64(1), object(1)\n",
      "memory usage: 6.4+ KB\n",
      "None\n"
     ]
    }
   ],
   "source": [
    "df_sample = df.sample(200)\n",
    "df_sample.info()"
   ]
  },
  {
   "cell_type": "code",
   "execution_count": 22,
   "id": "302387f2",
   "metadata": {},
   "outputs": [
    {
     "name": "stdout",
     "output_type": "stream",
     "text": [
      "-3.1319975931075725 -0.7811253958264726\n"
     ]
    }
   ],
   "source": [
    "#커피를 마시는 사람과 그렇지 않은 사람의 키 평균 차이\n",
    "iterationNum = 10000\n",
    "diffHeightList = []\n",
    "for _ in range(iterationNum):\n",
    "    bootSample = df_sample.sample(200, replace=True) # 복원 추출\n",
    "    nonCoffeeHeightMean = bootSample[bootSample['drinks_coffee'] == False].height.mean() # 커피를 마시지 않는 사람 평균 키\n",
    "    coffeeHeightMean = bootSample[bootSample['drinks_coffee'] == True].height.mean() # 커피를 마시는 사람 평균 키\n",
    "    diff = nonCoffeeHeightMean - coffeeHeightMean\n",
    "    diffHeightList.append(diff)\n",
    "#  신뢰수준 99.5%인 평균 키 차이에 대한 신뢰구간\n",
    "print(np.percentile(diffHeightList, 0.5), np.percentile(diffHeightList, 99.5))"
   ]
  },
  {
   "cell_type": "code",
   "execution_count": 23,
   "id": "471fe550",
   "metadata": {},
   "outputs": [
    {
     "data": {
      "text/plain": [
       "(3.094910696764073, 4.97970620735041)"
      ]
     },
     "execution_count": 23,
     "metadata": {},
     "output_type": "execute_result"
    }
   ],
   "source": [
    "#21세 이상의 사람과 21세 미만의 키 평균 차이\n",
    "diffHeightListByAge = []\n",
    "for _ in range(iterationNum):\n",
    "    bootSample = df_sample.sample(200, replace=True) # 복원 추출\n",
    "    over21HeightMean = bootSample[bootSample['age'] == '>=21'].height.mean() # 21살 이상 평균 키\n",
    "    under21HeightMean = bootSample[bootSample['age'] == '<21'].height.mean() # 21살 미만 평균 키\n",
    "    diff = over21HeightMean - under21HeightMean\n",
    "    diffHeightListByAge.append(diff)\n",
    "\n",
    "np.percentile(diffHeightListByAge, 0.5), np.percentile(diffHeightListByAge, 99.5)"
   ]
  },
  {
   "cell_type": "code",
   "execution_count": 24,
   "id": "ccd12889",
   "metadata": {},
   "outputs": [
    {
     "data": {
      "text/plain": [
       "(0.2654451155424802, 2.473977523788757)"
      ]
     },
     "execution_count": 24,
     "metadata": {},
     "output_type": "execute_result"
    }
   ],
   "source": [
    "#21살 미만인 사람들 중 커피를 마시지 않는 사람과 커피를 마시는 사람의 평균 키 차이\n",
    "diffHeightListUnder21 = []\n",
    "for _ in range(iterationNum):\n",
    "    bootSample = df_sample.sample(200, replace=True) # 복원 추출\n",
    "    nonCoffeeHeightMeanUnder21 = bootSample.query(\"age == '<21' and drinks_coffee == False\").height.mean() # 21살 미만이며 커피를 마시지 않는 사람 평균 키\n",
    "    coffeeHeightMeanUnder21 = bootSample.query(\"age == '<21' and drinks_coffee == True\").height.mean() # 21살 미만이며 커피를 마시는 사람 평균 키\n",
    "    diff = nonCoffeeHeightMeanUnder21 - coffeeHeightMeanUnder21\n",
    "    diffHeightListUnder21.append(diff)\n",
    "\n",
    "np.percentile(diffHeightListUnder21, 0.5), np.percentile(diffHeightListUnder21, 99.5)"
   ]
  },
  {
   "cell_type": "code",
   "execution_count": 25,
   "id": "754e12f3",
   "metadata": {},
   "outputs": [
    {
     "data": {
      "text/plain": [
       "(nan, nan)"
      ]
     },
     "execution_count": 25,
     "metadata": {},
     "output_type": "execute_result"
    }
   ],
   "source": [
    "#21살 이상인 사람들 중 커피를 마시지 않는 사람과 커피를 마시는 사람의 평균 키 차이\n",
    "diffHeightListOver21 = []\n",
    "for _ in range(iterationNum):\n",
    "    bootSample = df_sample.sample(200, replace=True) # 복원 추출\n",
    "    nonCoffeeHeightMeanOver21 = bootSample.query(\"age != '<21' and drinks_coffee == False\").height.mean() # 21살 이상이며 커피를 마시지 않는 사람 평균 키\n",
    "    coffeeHeightMeanOver21 = bootSample.query(\"age != '<21' and drinks_coffee == True\").height.mean() # 21살 이상이며 커피를 마시는 사람 평균 키\n",
    "\n",
    "    diff = nonCoffeeHeightMeanOver21 - coffeeHeightMeanOver21\n",
    "    diffHeightListOver21.append(diff)\n",
    "\n",
    "np.percentile(diffHeightListOver21, 0.5), np.percentile(diffHeightListOver21, 99.5)\n"
   ]
  },
  {
   "cell_type": "code",
   "execution_count": 26,
   "id": "e75a169d",
   "metadata": {},
   "outputs": [
    {
     "name": "stdout",
     "output_type": "stream",
     "text": [
      "-1.9568024933369799\n",
      "3.88229124992111\n",
      "1.6993900935511732\n",
      "1.9509354889786579\n"
     ]
    }
   ],
   "source": [
    "# 1. 커피를 마시지 않는 사람과 커피를 마시는 사람의 평균 키 차이\n",
    "print(df[df['drinks_coffee'] == False].height.mean() - df[df['drinks_coffee'] == True].height.mean())\n",
    "# 2. 21살 이상과 21살 미만인 사람들의 평균 키 차이\n",
    "print(df[df['age'] == '>=21'].height.mean() - df[df['age'] == '<21'].height.mean())\n",
    "# 3. 21살 미만인 사람들 중 커피를 마시지 않는 사람과 커피를 마시는 사람의 평균 키 차이\n",
    "print(df.query(\"age == '<21' and drinks_coffee == False\").height.mean() - df.query(\"age == '<21' and drinks_coffee == True\").height.mean())\n",
    "# 4. 21살 이상인 사람들 중 커피를 마시지 않는 사람과 커피를 마시는 사람의 평균 키 차이\n",
    "print(df.query(\"age != '<21' and drinks_coffee == False\").height.mean() - df.query(\"age != '<21' and drinks_coffee == True\").height.mean())\n"
   ]
  },
  {
   "cell_type": "code",
   "execution_count": 28,
   "id": "fc9369c8",
   "metadata": {},
   "outputs": [
    {
     "name": "stdout",
     "output_type": "stream",
     "text": [
      "Bootstrap Statistics:\n",
      "original: 62000.0\n",
      "bias: -60.12550000000192\n",
      "std. error: 192.02552252513416\n"
     ]
    }
   ],
   "source": [
    "results = []\n",
    "for nrepeat in range(1000):\n",
    "    sample = resample(loans_income)\n",
    "    results.append(sample.median())\n",
    "results = pd.Series(results)\n",
    "print('Bootstrap Statistics:')\n",
    "print(f'original: {loans_income.median()}')\n",
    "print(f'bias: {results.mean() - loans_income.median()}')\n",
    "print(f'std. error: {results.std()}')"
   ]
  },
  {
   "cell_type": "code",
   "execution_count": null,
   "id": "37004431",
   "metadata": {},
   "outputs": [],
   "source": []
  }
 ],
 "metadata": {
  "kernelspec": {
   "display_name": "Python 3 (ipykernel)",
   "language": "python",
   "name": "python3"
  },
  "language_info": {
   "codemirror_mode": {
    "name": "ipython",
    "version": 3
   },
   "file_extension": ".py",
   "mimetype": "text/x-python",
   "name": "python",
   "nbconvert_exporter": "python",
   "pygments_lexer": "ipython3",
   "version": "3.9.7"
  }
 },
 "nbformat": 4,
 "nbformat_minor": 5
}
