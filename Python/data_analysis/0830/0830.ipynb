{
 "cells": [
  {
   "cell_type": "markdown",
   "id": "61b7b6d5",
   "metadata": {},
   "source": [
    "# 다변량 선형 회귀"
   ]
  },
  {
   "cell_type": "markdown",
   "id": "b028c1b7",
   "metadata": {},
   "source": [
    "## 보스톤 주택 가격을 다변량 선형 회귀를 이용해서 예측"
   ]
  },
  {
   "cell_type": "code",
   "execution_count": 3,
   "id": "4d129aa9",
   "metadata": {},
   "outputs": [],
   "source": [
    "# 파이썬 ≥3.5 필수\n",
    "import sys\n",
    "assert sys.version_info >= (3, 5)\n",
    "# sklearn ≥0.20 필수\n",
    "import sklearn\n",
    "assert sklearn.__version__ >= \"0.20\"\n",
    "# 공통 모듈 임포트\n",
    "import numpy as np\n",
    "import pandas as pd\n",
    "import seaborn as sns\n",
    "import os\n",
    "\n",
    "# 노트북 실행 결과를 동일하게 유지하기 위해\n",
    "np.random.seed(42)\n",
    "# 깔끔한 그래프 출력을 위해\n",
    "%matplotlib inline\n",
    "import matplotlib as mpl\n",
    "import matplotlib.pyplot as plt\n",
    "mpl.rc('axes', labelsize=14)\n",
    "mpl.rc('xtick', labelsize=12)\n",
    "mpl.rc('ytick', labelsize=12)\n",
    "# 그림을 저장할 위치\n",
    "PROJECT_ROOT_DIR = \".\"\n",
    "CHAPTER_ID = \"regression\"\n",
    "IMAGES_PATH = os.path.join(PROJECT_ROOT_DIR, \"images\", CHAPTER_ID)\n",
    "os.makedirs(IMAGES_PATH, exist_ok=True)\n",
    "\n",
    "import platform\n",
    "from matplotlib import font_manager, rc\n",
    "#매킨토시의 경우\n",
    "if platform.system() == 'Darwin':\n",
    "    rc('font', family='AppleGothic')\n",
    "#윈도우의 경우\n",
    "elif platform.system() == 'Windows':\n",
    "    font_name = font_manager.FontProperties(fname=\"c:/Windows/Fonts/malgun.ttf\").get_name()\n",
    "    rc('font', family=font_name)\n",
    "    mpl.rcParams['axes.unicode_minus'] = False\n",
    "def save_fig(fig_id, tight_layout=True, fig_extension=\"png\", resolution=300):\n",
    "    path = os.path.join(IMAGES_PATH, fig_id + \".\" + fig_extension)\n",
    "    print(\"그림 저장:\", fig_id)\n",
    "    if tight_layout:\n",
    "        plt.tight_layout()\n",
    "        plt.savefig(path, format=fig_extension, dpi=resolution)\n"
   ]
  },
  {
   "cell_type": "code",
   "execution_count": 4,
   "id": "3d6c5074",
   "metadata": {},
   "outputs": [],
   "source": [
    "data_url = \"http://lib.stat.cmu.edu/datasets/boston\"\n",
    "raw_df = pd.read_csv(data_url, sep=\"\\s+\", skiprows=22, header=None)\n",
    "data = np.hstack([raw_df.values[::2, :], raw_df.values[1::2, :2]])\n",
    "target = raw_df.values[1::2, 2]"
   ]
  },
  {
   "cell_type": "code",
   "execution_count": 10,
   "id": "d68c85d2",
   "metadata": {},
   "outputs": [],
   "source": [
    "# boston 데이터 세트 DataFrame 변환\n",
    "bostonDF = pd.DataFrame(data, columns = [\"CRIM\", \"ZN\", \"INDUS\", \"CHAS\", \"NOX\",\n",
    "\"RM\", \"AGE\", \"DIS\", \"RAD\", \"TAX\", \"PTRATIO\", \"B\", \"LSTAT\"])\n",
    "# boston 데이터 세트의 target 배열은 주택 가격임 . 이를 PRICE 칼럼으로 DataFrame어|추가함.\n",
    "bostonDF['PRICE'] = target\n",
    "\n",
    "y_target = bostonDF['PRICE']\n",
    "X_data = bostonDF.drop(['PRICE'],axis=1,inplace=False)"
   ]
  },
  {
   "cell_type": "code",
   "execution_count": 14,
   "id": "48d3eddd",
   "metadata": {},
   "outputs": [],
   "source": [
    "#훈련 데이터와 테스트 데이터 분리\n",
    "from sklearn.model_selection import train_test_split\n",
    "from sklearn.linear_model import LinearRegression\n",
    "from sklearn.metrics import mean_squared_error , r2_score\n",
    "\n",
    "#데이터를 7:3으로 분리 - 절대적인 비율은 아님\n",
    "#8:2나 9:1 등도 사용해보고 경진대회에서는 100%사용하는것도 고려\n",
    "X_train , X_test , y_train , y_test = train_test_split(X_data , y_target ,test_size=0.3,\n",
    "random_state=156)"
   ]
  },
  {
   "cell_type": "code",
   "execution_count": 15,
   "id": "ea405434",
   "metadata": {},
   "outputs": [
    {
     "data": {
      "text/html": [
       "<style>#sk-container-id-1 {color: black;}#sk-container-id-1 pre{padding: 0;}#sk-container-id-1 div.sk-toggleable {background-color: white;}#sk-container-id-1 label.sk-toggleable__label {cursor: pointer;display: block;width: 100%;margin-bottom: 0;padding: 0.3em;box-sizing: border-box;text-align: center;}#sk-container-id-1 label.sk-toggleable__label-arrow:before {content: \"▸\";float: left;margin-right: 0.25em;color: #696969;}#sk-container-id-1 label.sk-toggleable__label-arrow:hover:before {color: black;}#sk-container-id-1 div.sk-estimator:hover label.sk-toggleable__label-arrow:before {color: black;}#sk-container-id-1 div.sk-toggleable__content {max-height: 0;max-width: 0;overflow: hidden;text-align: left;background-color: #f0f8ff;}#sk-container-id-1 div.sk-toggleable__content pre {margin: 0.2em;color: black;border-radius: 0.25em;background-color: #f0f8ff;}#sk-container-id-1 input.sk-toggleable__control:checked~div.sk-toggleable__content {max-height: 200px;max-width: 100%;overflow: auto;}#sk-container-id-1 input.sk-toggleable__control:checked~label.sk-toggleable__label-arrow:before {content: \"▾\";}#sk-container-id-1 div.sk-estimator input.sk-toggleable__control:checked~label.sk-toggleable__label {background-color: #d4ebff;}#sk-container-id-1 div.sk-label input.sk-toggleable__control:checked~label.sk-toggleable__label {background-color: #d4ebff;}#sk-container-id-1 input.sk-hidden--visually {border: 0;clip: rect(1px 1px 1px 1px);clip: rect(1px, 1px, 1px, 1px);height: 1px;margin: -1px;overflow: hidden;padding: 0;position: absolute;width: 1px;}#sk-container-id-1 div.sk-estimator {font-family: monospace;background-color: #f0f8ff;border: 1px dotted black;border-radius: 0.25em;box-sizing: border-box;margin-bottom: 0.5em;}#sk-container-id-1 div.sk-estimator:hover {background-color: #d4ebff;}#sk-container-id-1 div.sk-parallel-item::after {content: \"\";width: 100%;border-bottom: 1px solid gray;flex-grow: 1;}#sk-container-id-1 div.sk-label:hover label.sk-toggleable__label {background-color: #d4ebff;}#sk-container-id-1 div.sk-serial::before {content: \"\";position: absolute;border-left: 1px solid gray;box-sizing: border-box;top: 0;bottom: 0;left: 50%;z-index: 0;}#sk-container-id-1 div.sk-serial {display: flex;flex-direction: column;align-items: center;background-color: white;padding-right: 0.2em;padding-left: 0.2em;position: relative;}#sk-container-id-1 div.sk-item {position: relative;z-index: 1;}#sk-container-id-1 div.sk-parallel {display: flex;align-items: stretch;justify-content: center;background-color: white;position: relative;}#sk-container-id-1 div.sk-item::before, #sk-container-id-1 div.sk-parallel-item::before {content: \"\";position: absolute;border-left: 1px solid gray;box-sizing: border-box;top: 0;bottom: 0;left: 50%;z-index: -1;}#sk-container-id-1 div.sk-parallel-item {display: flex;flex-direction: column;z-index: 1;position: relative;background-color: white;}#sk-container-id-1 div.sk-parallel-item:first-child::after {align-self: flex-end;width: 50%;}#sk-container-id-1 div.sk-parallel-item:last-child::after {align-self: flex-start;width: 50%;}#sk-container-id-1 div.sk-parallel-item:only-child::after {width: 0;}#sk-container-id-1 div.sk-dashed-wrapped {border: 1px dashed gray;margin: 0 0.4em 0.5em 0.4em;box-sizing: border-box;padding-bottom: 0.4em;background-color: white;}#sk-container-id-1 div.sk-label label {font-family: monospace;font-weight: bold;display: inline-block;line-height: 1.2em;}#sk-container-id-1 div.sk-label-container {text-align: center;}#sk-container-id-1 div.sk-container {/* jupyter's `normalize.less` sets `[hidden] { display: none; }` but bootstrap.min.css set `[hidden] { display: none !important; }` so we also need the `!important` here to be able to override the default hidden behavior on the sphinx rendered scikit-learn.org. See: https://github.com/scikit-learn/scikit-learn/issues/21755 */display: inline-block !important;position: relative;}#sk-container-id-1 div.sk-text-repr-fallback {display: none;}</style><div id=\"sk-container-id-1\" class=\"sk-top-container\"><div class=\"sk-text-repr-fallback\"><pre>LinearRegression()</pre><b>In a Jupyter environment, please rerun this cell to show the HTML representation or trust the notebook. <br />On GitHub, the HTML representation is unable to render, please try loading this page with nbviewer.org.</b></div><div class=\"sk-container\" hidden><div class=\"sk-item\"><div class=\"sk-estimator sk-toggleable\"><input class=\"sk-toggleable__control sk-hidden--visually\" id=\"sk-estimator-id-1\" type=\"checkbox\" checked><label for=\"sk-estimator-id-1\" class=\"sk-toggleable__label sk-toggleable__label-arrow\">LinearRegression</label><div class=\"sk-toggleable__content\"><pre>LinearRegression()</pre></div></div></div></div></div>"
      ],
      "text/plain": [
       "LinearRegression()"
      ]
     },
     "execution_count": 15,
     "metadata": {},
     "output_type": "execute_result"
    }
   ],
   "source": [
    "#회귀 모델을 생성하고 훈련\n",
    "from sklearn.linear_model import LinearRegression\n",
    "\n",
    "lr = LinearRegression()\n",
    "lr.fit(X_train, y_train)"
   ]
  },
  {
   "cell_type": "code",
   "execution_count": 18,
   "id": "75d48d69",
   "metadata": {},
   "outputs": [
    {
     "name": "stdout",
     "output_type": "stream",
     "text": [
      "MSE :  17.29691590790215\n",
      "RMSE :  4.158956107955715\n",
      "R2 :  0.7572263323138921\n"
     ]
    }
   ],
   "source": [
    "#평가\n",
    "y_pred = lr.predict(X_test)\n",
    "\n",
    "from sklearn.metrics import mean_squared_error, r2_score\n",
    "mse = mean_squared_error(y_test, y_preds)\n",
    "#mse는 제곱을 하므로 실제 데이터보다 스케일이 큰 경우가 많음\n",
    "#mse의 제곱근을 많이 사용\n",
    "rmse = np.sqrt(mse)\n",
    "\n",
    "r2score = r2_score(y_test, y_pred)\n",
    "\n",
    "print(\"MSE : \", mse)\n",
    "print(\"RMSE : \", rmse)\n",
    "print(\"R2 : \", r2score)"
   ]
  },
  {
   "cell_type": "code",
   "execution_count": 19,
   "id": "240172ed",
   "metadata": {},
   "outputs": [
    {
     "name": "stdout",
     "output_type": "stream",
     "text": [
      "절편 값: 40.995595172164336\n",
      "회귀 계수값: [ -0.1   0.1   0.    3.  -19.8   3.4   0.   -1.7   0.4  -0.   -0.9   0.\n",
      "  -0.6]\n"
     ]
    }
   ],
   "source": [
    "#회귀 계수와 절편 값을 획인\n",
    "print('절편 값:',lr.intercept_)\n",
    "print('회귀 계수값:', np.round(lr.coef_, 1))\n"
   ]
  },
  {
   "cell_type": "markdown",
   "id": "87e32709",
   "metadata": {},
   "source": [
    "### score.csv 파일의 데이터를 이용해서 iq와 acafemy, game, tv 정보를 이용해서 score 예측"
   ]
  },
  {
   "cell_type": "code",
   "execution_count": 21,
   "id": "1200a67c",
   "metadata": {},
   "outputs": [
    {
     "name": "stdout",
     "output_type": "stream",
     "text": [
      "<class 'pandas.core.frame.DataFrame'>\n",
      "RangeIndex: 10 entries, 0 to 9\n",
      "Data columns (total 6 columns):\n",
      " #   Column   Non-Null Count  Dtype \n",
      "---  ------   --------------  ----- \n",
      " 0   name     10 non-null     object\n",
      " 1   score    10 non-null     int64 \n",
      " 2   iq       10 non-null     int64 \n",
      " 3   academy  10 non-null     int64 \n",
      " 4   game     10 non-null     int64 \n",
      " 5   tv       10 non-null     int64 \n",
      "dtypes: int64(5), object(1)\n",
      "memory usage: 608.0+ bytes\n"
     ]
    }
   ],
   "source": [
    "df = pd.read_csv(\"../python_machine_learning-main/data/score.csv\", encoding=\"ms949\")\n",
    "df.info()"
   ]
  },
  {
   "cell_type": "code",
   "execution_count": 22,
   "id": "daa35141",
   "metadata": {},
   "outputs": [
    {
     "name": "stdout",
     "output_type": "stream",
     "text": [
      "절편과 기울기 :  Intercept    23.299232\n",
      "iq            0.468422\n",
      "academy       0.717901\n",
      "game         -0.838955\n",
      "tv           -1.385408\n",
      "dtype: float64\n",
      "유의확률: Intercept    0.117508\n",
      "iq           0.003376\n",
      "academy      0.534402\n",
      "game         0.131001\n",
      "tv           0.184269\n",
      "dtype: float64\n",
      "결정계수: 0.9608351062148871\n"
     ]
    }
   ],
   "source": [
    "import statsmodels.formula.api as sm\n",
    "\n",
    "result = sm.ols(formula = 'score ~ iq + academy + game + tv', data = df).fit()\n",
    "print('절편과 기울기 : ', result.params)\n",
    "print('유의확률:' , result.pvalues)\n",
    "print('결정계수:' , result.rsquared)"
   ]
  },
  {
   "cell_type": "code",
   "execution_count": 24,
   "id": "ca3247cd",
   "metadata": {},
   "outputs": [
    {
     "name": "stdout",
     "output_type": "stream",
     "text": [
      "예상 점수 :  83.28448678034155\n"
     ]
    }
   ],
   "source": [
    "#IQ가 130이고 학원을 3개 다니고 게임을 2시간하고 TV를 1시간 보는 학생의 예상 점수는 ?\n",
    "y = result.params.Intercept + 130*result.params.iq + 3*result.params.academy + 2*result.params.game + 1*result.params.tv\n",
    "print(\"예상 점수 : \", y)"
   ]
  },
  {
   "cell_type": "code",
   "execution_count": 25,
   "id": "28b2f89c",
   "metadata": {},
   "outputs": [
    {
     "data": {
      "image/png": "[encoded data removed]",
      "text/plain": [
       "<Figure size 640x480 with 1 Axes>"
      ]
     },
     "metadata": {},
     "output_type": "display_data"
    }
   ],
   "source": [
    "#예측 값과 실제 값의 시각화 - 결정 계수가 높으므로 오차가 별로 없음\n",
    "plt.figure()\n",
    "plt.plot(df['score'], label='실제 성적')\n",
    "plt.plot(result.predict(), label='예측 성적')\n",
    "plt.xticks(range(0,10,1),df['name'])\n",
    "plt.legend();\n",
    "plt.show()"
   ]
  },
  {
   "cell_type": "code",
   "execution_count": 28,
   "id": "3999f17c",
   "metadata": {},
   "outputs": [
    {
     "name": "stdout",
     "output_type": "stream",
     "text": [
      "   VIF Factor features\n",
      "0   31.162062       iq\n",
      "1   13.444494  academy\n",
      "2    3.054510     game\n",
      "3    7.783607       tv\n"
     ]
    }
   ],
   "source": [
    "#VIF(분산 팽차 요인) 출력 - VIF가 높은 academy를 제거하고 다시 출력\n",
    "X = df.drop(['score', 'name'], axis=1)\n",
    "\n",
    "from statsmodels.stats.outliers_influence import variance_inflation_factor\n",
    "\n",
    "vif = pd.DataFrame()\n",
    "vif['VIF Factor'] = [variance_inflation_factor(X.values, i) for i in range(X.shape[1])]\n",
    "vif[\"features\"] = X.columns\n",
    "print(vif)"
   ]
  },
  {
   "cell_type": "code",
   "execution_count": null,
   "id": "bec571cd",
   "metadata": {},
   "outputs": [],
   "source": [
    "result = sm.ols(formula = 'score ~ iq + academy + game + tv', data = df).fit()\n",
    "print('절편과 기울기 : ', result.params)\n",
    "print('유의확률:' , result.pvalues)\n",
    "print('결정계수:' , result.rsquared)"
   ]
  },
  {
   "cell_type": "markdown",
   "id": "dfde6106",
   "metadata": {},
   "source": [
    "### 보스톤 주택 가격에 Ridge 모델 적용"
   ]
  },
  {
   "cell_type": "code",
   "execution_count": 29,
   "id": "85cebe7e",
   "metadata": {},
   "outputs": [
    {
     "name": "stdout",
     "output_type": "stream",
     "text": [
      "0    24.0\n",
      "1    21.6\n",
      "2    34.7\n",
      "3    33.4\n",
      "4    36.2\n",
      "Name: PRICE, dtype: float64\n"
     ]
    }
   ],
   "source": [
    "from sklearn.linear_model import Ridge\n",
    "\n",
    "y_target = bostonDF['PRICE']\n",
    "X_data = bostonDF.drop(['PRICE'], axis=1, inplace=False)\n",
    "print(y_target.head())"
   ]
  },
  {
   "cell_type": "code",
   "execution_count": 33,
   "id": "3620e18c",
   "metadata": {},
   "outputs": [
    {
     "name": "stdout",
     "output_type": "stream",
     "text": [
      "alpha0 일 대 folds의 평균 RMSE : 5.828658946215806\n",
      "alpha0.1 일 대 folds의 평균 RMSE : 5.788486627032412\n",
      "alpha1 일 대 folds의 평균 RMSE : 5.652570965613549\n",
      "alpha10 일 대 folds의 평균 RMSE : 5.518166280868973\n",
      "alpha100 일 대 folds의 평균 RMSE : 5.329589628472148\n"
     ]
    }
   ],
   "source": [
    "from sklearn.datasets import make_regression\n",
    "from sklearn.model_selection import cross_val_score\n",
    "from sklearn.linear_model import LinearRegression\n",
    "\n",
    "#적용할 규제 값\n",
    "alphas = [0, 0.1, 1, 10, 100]\n",
    "\n",
    "for alpha in alphas:\n",
    "    ridge = Ridge(alpha = alpha)\n",
    "    \n",
    "    neg_mse_scores = cross_val_score(ridge, X_data, y_target,\n",
    "                                    scoring = \"neg_mean_squared_error\", cv=5)\n",
    "    avg_rmse = np.mean(np.sqrt(-1 * neg_mse_scores))\n",
    "    print(\"alpha{0} 일 대 folds의 평균 RMSE : {1}\".format(alpha, avg_rmse))\n",
    "    "
   ]
  },
  {
   "cell_type": "markdown",
   "id": "14589ec2",
   "metadata": {},
   "source": [
    "# 비선형 회귀"
   ]
  },
  {
   "cell_type": "markdown",
   "id": "0092f3ce",
   "metadata": {},
   "source": [
    "## KNN"
   ]
  },
  {
   "cell_type": "code",
   "execution_count": 34,
   "id": "f4be7c6a",
   "metadata": {},
   "outputs": [
    {
     "data": {
      "text/html": [
       "<style>#sk-container-id-2 {color: black;}#sk-container-id-2 pre{padding: 0;}#sk-container-id-2 div.sk-toggleable {background-color: white;}#sk-container-id-2 label.sk-toggleable__label {cursor: pointer;display: block;width: 100%;margin-bottom: 0;padding: 0.3em;box-sizing: border-box;text-align: center;}#sk-container-id-2 label.sk-toggleable__label-arrow:before {content: \"▸\";float: left;margin-right: 0.25em;color: #696969;}#sk-container-id-2 label.sk-toggleable__label-arrow:hover:before {color: black;}#sk-container-id-2 div.sk-estimator:hover label.sk-toggleable__label-arrow:before {color: black;}#sk-container-id-2 div.sk-toggleable__content {max-height: 0;max-width: 0;overflow: hidden;text-align: left;background-color: #f0f8ff;}#sk-container-id-2 div.sk-toggleable__content pre {margin: 0.2em;color: black;border-radius: 0.25em;background-color: #f0f8ff;}#sk-container-id-2 input.sk-toggleable__control:checked~div.sk-toggleable__content {max-height: 200px;max-width: 100%;overflow: auto;}#sk-container-id-2 input.sk-toggleable__control:checked~label.sk-toggleable__label-arrow:before {content: \"▾\";}#sk-container-id-2 div.sk-estimator input.sk-toggleable__control:checked~label.sk-toggleable__label {background-color: #d4ebff;}#sk-container-id-2 div.sk-label input.sk-toggleable__control:checked~label.sk-toggleable__label {background-color: #d4ebff;}#sk-container-id-2 input.sk-hidden--visually {border: 0;clip: rect(1px 1px 1px 1px);clip: rect(1px, 1px, 1px, 1px);height: 1px;margin: -1px;overflow: hidden;padding: 0;position: absolute;width: 1px;}#sk-container-id-2 div.sk-estimator {font-family: monospace;background-color: #f0f8ff;border: 1px dotted black;border-radius: 0.25em;box-sizing: border-box;margin-bottom: 0.5em;}#sk-container-id-2 div.sk-estimator:hover {background-color: #d4ebff;}#sk-container-id-2 div.sk-parallel-item::after {content: \"\";width: 100%;border-bottom: 1px solid gray;flex-grow: 1;}#sk-container-id-2 div.sk-label:hover label.sk-toggleable__label {background-color: #d4ebff;}#sk-container-id-2 div.sk-serial::before {content: \"\";position: absolute;border-left: 1px solid gray;box-sizing: border-box;top: 0;bottom: 0;left: 50%;z-index: 0;}#sk-container-id-2 div.sk-serial {display: flex;flex-direction: column;align-items: center;background-color: white;padding-right: 0.2em;padding-left: 0.2em;position: relative;}#sk-container-id-2 div.sk-item {position: relative;z-index: 1;}#sk-container-id-2 div.sk-parallel {display: flex;align-items: stretch;justify-content: center;background-color: white;position: relative;}#sk-container-id-2 div.sk-item::before, #sk-container-id-2 div.sk-parallel-item::before {content: \"\";position: absolute;border-left: 1px solid gray;box-sizing: border-box;top: 0;bottom: 0;left: 50%;z-index: -1;}#sk-container-id-2 div.sk-parallel-item {display: flex;flex-direction: column;z-index: 1;position: relative;background-color: white;}#sk-container-id-2 div.sk-parallel-item:first-child::after {align-self: flex-end;width: 50%;}#sk-container-id-2 div.sk-parallel-item:last-child::after {align-self: flex-start;width: 50%;}#sk-container-id-2 div.sk-parallel-item:only-child::after {width: 0;}#sk-container-id-2 div.sk-dashed-wrapped {border: 1px dashed gray;margin: 0 0.4em 0.5em 0.4em;box-sizing: border-box;padding-bottom: 0.4em;background-color: white;}#sk-container-id-2 div.sk-label label {font-family: monospace;font-weight: bold;display: inline-block;line-height: 1.2em;}#sk-container-id-2 div.sk-label-container {text-align: center;}#sk-container-id-2 div.sk-container {/* jupyter's `normalize.less` sets `[hidden] { display: none; }` but bootstrap.min.css set `[hidden] { display: none !important; }` so we also need the `!important` here to be able to override the default hidden behavior on the sphinx rendered scikit-learn.org. See: https://github.com/scikit-learn/scikit-learn/issues/21755 */display: inline-block !important;position: relative;}#sk-container-id-2 div.sk-text-repr-fallback {display: none;}</style><div id=\"sk-container-id-2\" class=\"sk-top-container\"><div class=\"sk-text-repr-fallback\"><pre>KNeighborsRegressor(n_neighbors=3, weights=&#x27;distance&#x27;)</pre><b>In a Jupyter environment, please rerun this cell to show the HTML representation or trust the notebook. <br />On GitHub, the HTML representation is unable to render, please try loading this page with nbviewer.org.</b></div><div class=\"sk-container\" hidden><div class=\"sk-item\"><div class=\"sk-estimator sk-toggleable\"><input class=\"sk-toggleable__control sk-hidden--visually\" id=\"sk-estimator-id-2\" type=\"checkbox\" checked><label for=\"sk-estimator-id-2\" class=\"sk-toggleable__label sk-toggleable__label-arrow\">KNeighborsRegressor</label><div class=\"sk-toggleable__content\"><pre>KNeighborsRegressor(n_neighbors=3, weights=&#x27;distance&#x27;)</pre></div></div></div></div></div>"
      ],
      "text/plain": [
       "KNeighborsRegressor(n_neighbors=3, weights='distance')"
      ]
     },
     "execution_count": 34,
     "metadata": {},
     "output_type": "execute_result"
    }
   ],
   "source": [
    "from sklearn.neighbors import KNeighborsRegressor\n",
    "#거리를 가지고 가중 평균을 구해서 예측\n",
    "#uniform을 설정하면 일반 평균\n",
    "regressor = KNeighborsRegressor(n_neighbors = 3, weights = \"distance\")\n",
    "\n",
    "X_train = [\n",
    "    [0.5, 0.2, 0.1], \n",
    "    [0.9, 0.7, 0.3],\n",
    "    [0.4, 0.5, 0.7],\n",
    "    [0.2, 0.3, 0.5]\n",
    "]\n",
    "\n",
    "y_train = [0.5, 6.8, 9.0, 4.3]\n",
    "\n",
    "regressor.fit(X_train, y_train)"
   ]
  },
  {
   "cell_type": "code",
   "execution_count": 35,
   "id": "bc3a65a6",
   "metadata": {},
   "outputs": [
    {
     "name": "stdout",
     "output_type": "stream",
     "text": [
      "[4.97716128 7.32372976]\n"
     ]
    }
   ],
   "source": [
    "X_test = [\n",
    "[0.2, 0.1, 0.7],\n",
    "[0.4, 0.7, 0.6]\n",
    "]\n",
    "\n",
    "pred = regressor.predict(X_test)\n",
    "print(pred)"
   ]
  },
  {
   "cell_type": "code",
   "execution_count": 37,
   "id": "70bf5712",
   "metadata": {},
   "outputs": [],
   "source": [
    "#샘플 데이터를 생성\n",
    "np.random.seed(42)\n",
    "m = 200\n",
    "X = np.random.rand(m, 1)\n",
    "y = 4 * (X - 0.5) ** 2\n",
    "y = y + np.random.randn(m, 1) / 10"
   ]
  },
  {
   "cell_type": "code",
   "execution_count": 38,
   "id": "747841be",
   "metadata": {},
   "outputs": [
    {
     "data": {
      "text/html": [
       "<style>#sk-container-id-4 {color: black;}#sk-container-id-4 pre{padding: 0;}#sk-container-id-4 div.sk-toggleable {background-color: white;}#sk-container-id-4 label.sk-toggleable__label {cursor: pointer;display: block;width: 100%;margin-bottom: 0;padding: 0.3em;box-sizing: border-box;text-align: center;}#sk-container-id-4 label.sk-toggleable__label-arrow:before {content: \"▸\";float: left;margin-right: 0.25em;color: #696969;}#sk-container-id-4 label.sk-toggleable__label-arrow:hover:before {color: black;}#sk-container-id-4 div.sk-estimator:hover label.sk-toggleable__label-arrow:before {color: black;}#sk-container-id-4 div.sk-toggleable__content {max-height: 0;max-width: 0;overflow: hidden;text-align: left;background-color: #f0f8ff;}#sk-container-id-4 div.sk-toggleable__content pre {margin: 0.2em;color: black;border-radius: 0.25em;background-color: #f0f8ff;}#sk-container-id-4 input.sk-toggleable__control:checked~div.sk-toggleable__content {max-height: 200px;max-width: 100%;overflow: auto;}#sk-container-id-4 input.sk-toggleable__control:checked~label.sk-toggleable__label-arrow:before {content: \"▾\";}#sk-container-id-4 div.sk-estimator input.sk-toggleable__control:checked~label.sk-toggleable__label {background-color: #d4ebff;}#sk-container-id-4 div.sk-label input.sk-toggleable__control:checked~label.sk-toggleable__label {background-color: #d4ebff;}#sk-container-id-4 input.sk-hidden--visually {border: 0;clip: rect(1px 1px 1px 1px);clip: rect(1px, 1px, 1px, 1px);height: 1px;margin: -1px;overflow: hidden;padding: 0;position: absolute;width: 1px;}#sk-container-id-4 div.sk-estimator {font-family: monospace;background-color: #f0f8ff;border: 1px dotted black;border-radius: 0.25em;box-sizing: border-box;margin-bottom: 0.5em;}#sk-container-id-4 div.sk-estimator:hover {background-color: #d4ebff;}#sk-container-id-4 div.sk-parallel-item::after {content: \"\";width: 100%;border-bottom: 1px solid gray;flex-grow: 1;}#sk-container-id-4 div.sk-label:hover label.sk-toggleable__label {background-color: #d4ebff;}#sk-container-id-4 div.sk-serial::before {content: \"\";position: absolute;border-left: 1px solid gray;box-sizing: border-box;top: 0;bottom: 0;left: 50%;z-index: 0;}#sk-container-id-4 div.sk-serial {display: flex;flex-direction: column;align-items: center;background-color: white;padding-right: 0.2em;padding-left: 0.2em;position: relative;}#sk-container-id-4 div.sk-item {position: relative;z-index: 1;}#sk-container-id-4 div.sk-parallel {display: flex;align-items: stretch;justify-content: center;background-color: white;position: relative;}#sk-container-id-4 div.sk-item::before, #sk-container-id-4 div.sk-parallel-item::before {content: \"\";position: absolute;border-left: 1px solid gray;box-sizing: border-box;top: 0;bottom: 0;left: 50%;z-index: -1;}#sk-container-id-4 div.sk-parallel-item {display: flex;flex-direction: column;z-index: 1;position: relative;background-color: white;}#sk-container-id-4 div.sk-parallel-item:first-child::after {align-self: flex-end;width: 50%;}#sk-container-id-4 div.sk-parallel-item:last-child::after {align-self: flex-start;width: 50%;}#sk-container-id-4 div.sk-parallel-item:only-child::after {width: 0;}#sk-container-id-4 div.sk-dashed-wrapped {border: 1px dashed gray;margin: 0 0.4em 0.5em 0.4em;box-sizing: border-box;padding-bottom: 0.4em;background-color: white;}#sk-container-id-4 div.sk-label label {font-family: monospace;font-weight: bold;display: inline-block;line-height: 1.2em;}#sk-container-id-4 div.sk-label-container {text-align: center;}#sk-container-id-4 div.sk-container {/* jupyter's `normalize.less` sets `[hidden] { display: none; }` but bootstrap.min.css set `[hidden] { display: none !important; }` so we also need the `!important` here to be able to override the default hidden behavior on the sphinx rendered scikit-learn.org. See: https://github.com/scikit-learn/scikit-learn/issues/21755 */display: inline-block !important;position: relative;}#sk-container-id-4 div.sk-text-repr-fallback {display: none;}</style><div id=\"sk-container-id-4\" class=\"sk-top-container\"><div class=\"sk-text-repr-fallback\"><pre>DecisionTreeRegressor(max_depth=2, random_state=42)</pre><b>In a Jupyter environment, please rerun this cell to show the HTML representation or trust the notebook. <br />On GitHub, the HTML representation is unable to render, please try loading this page with nbviewer.org.</b></div><div class=\"sk-container\" hidden><div class=\"sk-item\"><div class=\"sk-estimator sk-toggleable\"><input class=\"sk-toggleable__control sk-hidden--visually\" id=\"sk-estimator-id-4\" type=\"checkbox\" checked><label for=\"sk-estimator-id-4\" class=\"sk-toggleable__label sk-toggleable__label-arrow\">DecisionTreeRegressor</label><div class=\"sk-toggleable__content\"><pre>DecisionTreeRegressor(max_depth=2, random_state=42)</pre></div></div></div></div></div>"
      ],
      "text/plain": [
       "DecisionTreeRegressor(max_depth=2, random_state=42)"
      ]
     },
     "execution_count": 38,
     "metadata": {},
     "output_type": "execute_result"
    }
   ],
   "source": [
    "from sklearn.tree import DecisionTreeRegressor\n",
    "\n",
    "tree_reg = DecisionTreeRegressor(max_depth=2, random_state=42)\n",
    "tree_reg.fit(X, y)"
   ]
  },
  {
   "cell_type": "code",
   "execution_count": 41,
   "id": "d079f226",
   "metadata": {
    "scrolled": false
   },
   "outputs": [
    {
     "data": {
      "image/svg+xml": [
       "<?xml version=\"1.0\" encoding=\"UTF-8\" standalone=\"no\"?>\n",
       "<!DOCTYPE svg PUBLIC \"-//W3C//DTD SVG 1.1//EN\"\n",
       " \"http://www.w3.org/Graphics/SVG/1.1/DTD/svg11.dtd\">\n",
       "<!-- Generated by graphviz version 8.1.0 (20230707.0739)\n",
       " -->\n",
       "<!-- Title: Tree Pages: 1 -->\n",
       "<svg width=\"698pt\" height=\"286pt\"\n",
       " viewBox=\"0.00 0.00 697.50 285.50\" xmlns=\"http://www.w3.org/2000/svg\" xmlns:xlink=\"http://www.w3.org/1999/xlink\">\n",
       "<g id=\"graph0\" class=\"graph\" transform=\"scale(1 1) rotate(0) translate(4 281.5)\">\n",
       "<title>Tree</title>\n",
       "<polygon fill=\"white\" stroke=\"none\" points=\"-4,4 -4,-281.5 693.5,-281.5 693.5,4 -4,4\"/>\n",
       "<!-- 0 -->\n",
       "<g id=\"node1\" class=\"node\">\n",
       "<title>0</title>\n",
       "<path fill=\"#f6d6be\" stroke=\"black\" d=\"M411.5,-277.5C411.5,-277.5 277,-277.5 277,-277.5 271,-277.5 265,-271.5 265,-265.5 265,-265.5 265,-215.5 265,-215.5 265,-209.5 271,-203.5 277,-203.5 277,-203.5 411.5,-203.5 411.5,-203.5 417.5,-203.5 423.5,-209.5 423.5,-215.5 423.5,-215.5 423.5,-265.5 423.5,-265.5 423.5,-271.5 417.5,-277.5 411.5,-277.5\"/>\n",
       "<text text-anchor=\"middle\" x=\"344.25\" y=\"-260.2\" font-family=\"Helvetica,sans-Serif\" font-size=\"14.00\">X &lt;= 0.197</text>\n",
       "<text text-anchor=\"middle\" x=\"344.25\" y=\"-243.7\" font-family=\"Helvetica,sans-Serif\" font-size=\"14.00\">squared_error = 0.098</text>\n",
       "<text text-anchor=\"middle\" x=\"344.25\" y=\"-227.2\" font-family=\"Helvetica,sans-Serif\" font-size=\"14.00\">samples = 200</text>\n",
       "<text text-anchor=\"middle\" x=\"344.25\" y=\"-210.7\" font-family=\"Helvetica,sans-Serif\" font-size=\"14.00\">value = 0.354</text>\n",
       "</g>\n",
       "<!-- 1 -->\n",
       "<g id=\"node2\" class=\"node\">\n",
       "<title>1</title>\n",
       "<path fill=\"#eb9d65\" stroke=\"black\" d=\"M323.5,-167.5C323.5,-167.5 189,-167.5 189,-167.5 183,-167.5 177,-161.5 177,-155.5 177,-155.5 177,-105.5 177,-105.5 177,-99.5 183,-93.5 189,-93.5 189,-93.5 323.5,-93.5 323.5,-93.5 329.5,-93.5 335.5,-99.5 335.5,-105.5 335.5,-105.5 335.5,-155.5 335.5,-155.5 335.5,-161.5 329.5,-167.5 323.5,-167.5\"/>\n",
       "<text text-anchor=\"middle\" x=\"256.25\" y=\"-150.2\" font-family=\"Helvetica,sans-Serif\" font-size=\"14.00\">X &lt;= 0.092</text>\n",
       "<text text-anchor=\"middle\" x=\"256.25\" y=\"-133.7\" font-family=\"Helvetica,sans-Serif\" font-size=\"14.00\">squared_error = 0.038</text>\n",
       "<text text-anchor=\"middle\" x=\"256.25\" y=\"-117.2\" font-family=\"Helvetica,sans-Serif\" font-size=\"14.00\">samples = 44</text>\n",
       "<text text-anchor=\"middle\" x=\"256.25\" y=\"-100.7\" font-family=\"Helvetica,sans-Serif\" font-size=\"14.00\">value = 0.689</text>\n",
       "</g>\n",
       "<!-- 0&#45;&gt;1 -->\n",
       "<g id=\"edge1\" class=\"edge\">\n",
       "<title>0&#45;&gt;1</title>\n",
       "<path fill=\"none\" stroke=\"black\" d=\"M314.7,-203.24C307.66,-194.6 300.07,-185.28 292.76,-176.31\"/>\n",
       "<polygon fill=\"black\" stroke=\"black\" points=\"294.9,-174.39 285.87,-168.85 289.47,-178.81 294.9,-174.39\"/>\n",
       "<text text-anchor=\"middle\" x=\"283.33\" y=\"-187.67\" font-family=\"Helvetica,sans-Serif\" font-size=\"14.00\">True</text>\n",
       "</g>\n",
       "<!-- 4 -->\n",
       "<g id=\"node5\" class=\"node\">\n",
       "<title>4</title>\n",
       "<path fill=\"#fae6d7\" stroke=\"black\" d=\"M500.5,-167.5C500.5,-167.5 366,-167.5 366,-167.5 360,-167.5 354,-161.5 354,-155.5 354,-155.5 354,-105.5 354,-105.5 354,-99.5 360,-93.5 366,-93.5 366,-93.5 500.5,-93.5 500.5,-93.5 506.5,-93.5 512.5,-99.5 512.5,-105.5 512.5,-105.5 512.5,-155.5 512.5,-155.5 512.5,-161.5 506.5,-167.5 500.5,-167.5\"/>\n",
       "<text text-anchor=\"middle\" x=\"433.25\" y=\"-150.2\" font-family=\"Helvetica,sans-Serif\" font-size=\"14.00\">X &lt;= 0.772</text>\n",
       "<text text-anchor=\"middle\" x=\"433.25\" y=\"-133.7\" font-family=\"Helvetica,sans-Serif\" font-size=\"14.00\">squared_error = 0.074</text>\n",
       "<text text-anchor=\"middle\" x=\"433.25\" y=\"-117.2\" font-family=\"Helvetica,sans-Serif\" font-size=\"14.00\">samples = 156</text>\n",
       "<text text-anchor=\"middle\" x=\"433.25\" y=\"-100.7\" font-family=\"Helvetica,sans-Serif\" font-size=\"14.00\">value = 0.259</text>\n",
       "</g>\n",
       "<!-- 0&#45;&gt;4 -->\n",
       "<g id=\"edge4\" class=\"edge\">\n",
       "<title>0&#45;&gt;4</title>\n",
       "<path fill=\"none\" stroke=\"black\" d=\"M374.13,-203.24C381.25,-194.6 388.93,-185.28 396.32,-176.31\"/>\n",
       "<polygon fill=\"black\" stroke=\"black\" points=\"399.64,-178.79 403.29,-168.85 394.23,-174.34 399.64,-178.79\"/>\n",
       "<text text-anchor=\"middle\" x=\"405.69\" y=\"-187.69\" font-family=\"Helvetica,sans-Serif\" font-size=\"14.00\">False</text>\n",
       "</g>\n",
       "<!-- 2 -->\n",
       "<g id=\"node3\" class=\"node\">\n",
       "<title>2</title>\n",
       "<path fill=\"#e58139\" stroke=\"black\" d=\"M146.5,-57.5C146.5,-57.5 12,-57.5 12,-57.5 6,-57.5 0,-51.5 0,-45.5 0,-45.5 0,-12 0,-12 0,-6 6,0 12,0 12,0 146.5,0 146.5,0 152.5,0 158.5,-6 158.5,-12 158.5,-12 158.5,-45.5 158.5,-45.5 158.5,-51.5 152.5,-57.5 146.5,-57.5\"/>\n",
       "<text text-anchor=\"middle\" x=\"79.25\" y=\"-40.2\" font-family=\"Helvetica,sans-Serif\" font-size=\"14.00\">squared_error = 0.018</text>\n",
       "<text text-anchor=\"middle\" x=\"79.25\" y=\"-23.7\" font-family=\"Helvetica,sans-Serif\" font-size=\"14.00\">samples = 20</text>\n",
       "<text text-anchor=\"middle\" x=\"79.25\" y=\"-7.2\" font-family=\"Helvetica,sans-Serif\" font-size=\"14.00\">value = 0.854</text>\n",
       "</g>\n",
       "<!-- 1&#45;&gt;2 -->\n",
       "<g id=\"edge2\" class=\"edge\">\n",
       "<title>1&#45;&gt;2</title>\n",
       "<path fill=\"none\" stroke=\"black\" d=\"M191.6,-93.06C174.27,-83.3 155.62,-72.79 138.59,-63.19\"/>\n",
       "<polygon fill=\"black\" stroke=\"black\" points=\"140.74,-59.82 130.31,-57.96 137.31,-65.92 140.74,-59.82\"/>\n",
       "</g>\n",
       "<!-- 3 -->\n",
       "<g id=\"node4\" class=\"node\">\n",
       "<title>3</title>\n",
       "<path fill=\"#f0b489\" stroke=\"black\" d=\"M323.5,-57.5C323.5,-57.5 189,-57.5 189,-57.5 183,-57.5 177,-51.5 177,-45.5 177,-45.5 177,-12 177,-12 177,-6 183,0 189,0 189,0 323.5,0 323.5,0 329.5,0 335.5,-6 335.5,-12 335.5,-12 335.5,-45.5 335.5,-45.5 335.5,-51.5 329.5,-57.5 323.5,-57.5\"/>\n",
       "<text text-anchor=\"middle\" x=\"256.25\" y=\"-40.2\" font-family=\"Helvetica,sans-Serif\" font-size=\"14.00\">squared_error = 0.013</text>\n",
       "<text text-anchor=\"middle\" x=\"256.25\" y=\"-23.7\" font-family=\"Helvetica,sans-Serif\" font-size=\"14.00\">samples = 24</text>\n",
       "<text text-anchor=\"middle\" x=\"256.25\" y=\"-7.2\" font-family=\"Helvetica,sans-Serif\" font-size=\"14.00\">value = 0.552</text>\n",
       "</g>\n",
       "<!-- 1&#45;&gt;3 -->\n",
       "<g id=\"edge3\" class=\"edge\">\n",
       "<title>1&#45;&gt;3</title>\n",
       "<path fill=\"none\" stroke=\"black\" d=\"M256.25,-93.21C256.25,-85.16 256.25,-76.61 256.25,-68.48\"/>\n",
       "<polygon fill=\"black\" stroke=\"black\" points=\"259.75,-68.73 256.25,-58.73 252.75,-68.73 259.75,-68.73\"/>\n",
       "</g>\n",
       "<!-- 5 -->\n",
       "<g id=\"node6\" class=\"node\">\n",
       "<title>5</title>\n",
       "<path fill=\"#ffffff\" stroke=\"black\" d=\"M500.5,-57.5C500.5,-57.5 366,-57.5 366,-57.5 360,-57.5 354,-51.5 354,-45.5 354,-45.5 354,-12 354,-12 354,-6 360,0 366,0 366,0 500.5,0 500.5,0 506.5,0 512.5,-6 512.5,-12 512.5,-12 512.5,-45.5 512.5,-45.5 512.5,-51.5 506.5,-57.5 500.5,-57.5\"/>\n",
       "<text text-anchor=\"middle\" x=\"433.25\" y=\"-40.2\" font-family=\"Helvetica,sans-Serif\" font-size=\"14.00\">squared_error = 0.015</text>\n",
       "<text text-anchor=\"middle\" x=\"433.25\" y=\"-23.7\" font-family=\"Helvetica,sans-Serif\" font-size=\"14.00\">samples = 110</text>\n",
       "<text text-anchor=\"middle\" x=\"433.25\" y=\"-7.2\" font-family=\"Helvetica,sans-Serif\" font-size=\"14.00\">value = 0.111</text>\n",
       "</g>\n",
       "<!-- 4&#45;&gt;5 -->\n",
       "<g id=\"edge5\" class=\"edge\">\n",
       "<title>4&#45;&gt;5</title>\n",
       "<path fill=\"none\" stroke=\"black\" d=\"M433.25,-93.21C433.25,-85.16 433.25,-76.61 433.25,-68.48\"/>\n",
       "<polygon fill=\"black\" stroke=\"black\" points=\"436.75,-68.73 433.25,-58.73 429.75,-68.73 436.75,-68.73\"/>\n",
       "</g>\n",
       "<!-- 6 -->\n",
       "<g id=\"node7\" class=\"node\">\n",
       "<title>6</title>\n",
       "<path fill=\"#edaa79\" stroke=\"black\" d=\"M677.5,-57.5C677.5,-57.5 543,-57.5 543,-57.5 537,-57.5 531,-51.5 531,-45.5 531,-45.5 531,-12 531,-12 531,-6 537,0 543,0 543,0 677.5,0 677.5,0 683.5,0 689.5,-6 689.5,-12 689.5,-12 689.5,-45.5 689.5,-45.5 689.5,-51.5 683.5,-57.5 677.5,-57.5\"/>\n",
       "<text text-anchor=\"middle\" x=\"610.25\" y=\"-40.2\" font-family=\"Helvetica,sans-Serif\" font-size=\"14.00\">squared_error = 0.036</text>\n",
       "<text text-anchor=\"middle\" x=\"610.25\" y=\"-23.7\" font-family=\"Helvetica,sans-Serif\" font-size=\"14.00\">samples = 46</text>\n",
       "<text text-anchor=\"middle\" x=\"610.25\" y=\"-7.2\" font-family=\"Helvetica,sans-Serif\" font-size=\"14.00\">value = 0.615</text>\n",
       "</g>\n",
       "<!-- 4&#45;&gt;6 -->\n",
       "<g id=\"edge6\" class=\"edge\">\n",
       "<title>4&#45;&gt;6</title>\n",
       "<path fill=\"none\" stroke=\"black\" d=\"M497.9,-93.06C515.23,-83.3 533.88,-72.79 550.91,-63.19\"/>\n",
       "<polygon fill=\"black\" stroke=\"black\" points=\"552.19,-65.92 559.19,-57.96 548.76,-59.82 552.19,-65.92\"/>\n",
       "</g>\n",
       "</g>\n",
       "</svg>\n"
      ],
      "text/plain": [
       "<graphviz.sources.Source at 0x1b97e491600>"
      ]
     },
     "execution_count": 41,
     "metadata": {},
     "output_type": "execute_result"
    }
   ],
   "source": [
    "#트리 시각화\n",
    "from graphviz import Source\n",
    "from sklearn.tree import export_graphviz\n",
    "\n",
    "#트리 시각화 파일 생성\n",
    "export_graphviz(\n",
    "    tree_reg,\n",
    "    out_file=\"decision_tree.dot\",\n",
    "    feature_names=[\"X\"],\n",
    "    class_names=[\"y\"],\n",
    "    rounded=True,\n",
    "    filled=True\n",
    ")\n",
    "\n",
    "#화면 출력\n",
    "with open('decision_tree.dot') as f:\n",
    "    dot_graph = f.read()\n",
    "src = Source(dot_graph)\n",
    "src"
   ]
  },
  {
   "cell_type": "code",
   "execution_count": 42,
   "id": "809f3c24",
   "metadata": {},
   "outputs": [
    {
     "data": {
      "image/svg+xml": [
       "<?xml version=\"1.0\" encoding=\"UTF-8\" standalone=\"no\"?>\n",
       "<!DOCTYPE svg PUBLIC \"-//W3C//DTD SVG 1.1//EN\"\n",
       " \"http://www.w3.org/Graphics/SVG/1.1/DTD/svg11.dtd\">\n",
       "<!-- Generated by graphviz version 8.1.0 (20230707.0739)\n",
       " -->\n",
       "<!-- Title: Tree Pages: 1 -->\n",
       "<svg width=\"1396pt\" height=\"836pt\"\n",
       " viewBox=\"0.00 0.00 1395.50 835.50\" xmlns=\"http://www.w3.org/2000/svg\" xmlns:xlink=\"http://www.w3.org/1999/xlink\">\n",
       "<g id=\"graph0\" class=\"graph\" transform=\"scale(1 1) rotate(0) translate(4 831.5)\">\n",
       "<title>Tree</title>\n",
       "<polygon fill=\"white\" stroke=\"none\" points=\"-4,4 -4,-831.5 1391.5,-831.5 1391.5,4 -4,4\"/>\n",
       "<!-- 0 -->\n",
       "<g id=\"node1\" class=\"node\">\n",
       "<title>0</title>\n",
       "<path fill=\"#f5ceb2\" stroke=\"black\" d=\"M755.5,-827.5C755.5,-827.5 621,-827.5 621,-827.5 615,-827.5 609,-821.5 609,-815.5 609,-815.5 609,-765.5 609,-765.5 609,-759.5 615,-753.5 621,-753.5 621,-753.5 755.5,-753.5 755.5,-753.5 761.5,-753.5 767.5,-759.5 767.5,-765.5 767.5,-765.5 767.5,-815.5 767.5,-815.5 767.5,-821.5 761.5,-827.5 755.5,-827.5\"/>\n",
       "<text text-anchor=\"middle\" x=\"688.25\" y=\"-810.2\" font-family=\"Helvetica,sans-Serif\" font-size=\"14.00\">X &lt;= 0.197</text>\n",
       "<text text-anchor=\"middle\" x=\"688.25\" y=\"-793.7\" font-family=\"Helvetica,sans-Serif\" font-size=\"14.00\">squared_error = 0.098</text>\n",
       "<text text-anchor=\"middle\" x=\"688.25\" y=\"-777.2\" font-family=\"Helvetica,sans-Serif\" font-size=\"14.00\">samples = 200</text>\n",
       "<text text-anchor=\"middle\" x=\"688.25\" y=\"-760.7\" font-family=\"Helvetica,sans-Serif\" font-size=\"14.00\">value = 0.354</text>\n",
       "</g>\n",
       "<!-- 1 -->\n",
       "<g id=\"node2\" class=\"node\">\n",
       "<title>1</title>\n",
       "<path fill=\"#eca36e\" stroke=\"black\" d=\"M583.5,-717.5C583.5,-717.5 449,-717.5 449,-717.5 443,-717.5 437,-711.5 437,-705.5 437,-705.5 437,-655.5 437,-655.5 437,-649.5 443,-643.5 449,-643.5 449,-643.5 583.5,-643.5 583.5,-643.5 589.5,-643.5 595.5,-649.5 595.5,-655.5 595.5,-655.5 595.5,-705.5 595.5,-705.5 595.5,-711.5 589.5,-717.5 583.5,-717.5\"/>\n",
       "<text text-anchor=\"middle\" x=\"516.25\" y=\"-700.2\" font-family=\"Helvetica,sans-Serif\" font-size=\"14.00\">X &lt;= 0.092</text>\n",
       "<text text-anchor=\"middle\" x=\"516.25\" y=\"-683.7\" font-family=\"Helvetica,sans-Serif\" font-size=\"14.00\">squared_error = 0.038</text>\n",
       "<text text-anchor=\"middle\" x=\"516.25\" y=\"-667.2\" font-family=\"Helvetica,sans-Serif\" font-size=\"14.00\">samples = 44</text>\n",
       "<text text-anchor=\"middle\" x=\"516.25\" y=\"-650.7\" font-family=\"Helvetica,sans-Serif\" font-size=\"14.00\">value = 0.689</text>\n",
       "</g>\n",
       "<!-- 0&#45;&gt;1 -->\n",
       "<g id=\"edge1\" class=\"edge\">\n",
       "<title>0&#45;&gt;1</title>\n",
       "<path fill=\"none\" stroke=\"black\" d=\"M630.5,-753.24C615.32,-743.71 598.83,-733.35 583.22,-723.55\"/>\n",
       "<polygon fill=\"black\" stroke=\"black\" points=\"585.47,-720.2 575.14,-717.85 581.75,-726.13 585.47,-720.2\"/>\n",
       "<text text-anchor=\"middle\" x=\"579.71\" y=\"-737.17\" font-family=\"Helvetica,sans-Serif\" font-size=\"14.00\">True</text>\n",
       "</g>\n",
       "<!-- 8 -->\n",
       "<g id=\"node9\" class=\"node\">\n",
       "<title>8</title>\n",
       "<path fill=\"#f7dbc6\" stroke=\"black\" d=\"M932.5,-717.5C932.5,-717.5 798,-717.5 798,-717.5 792,-717.5 786,-711.5 786,-705.5 786,-705.5 786,-655.5 786,-655.5 786,-649.5 792,-643.5 798,-643.5 798,-643.5 932.5,-643.5 932.5,-643.5 938.5,-643.5 944.5,-649.5 944.5,-655.5 944.5,-655.5 944.5,-705.5 944.5,-705.5 944.5,-711.5 938.5,-717.5 932.5,-717.5\"/>\n",
       "<text text-anchor=\"middle\" x=\"865.25\" y=\"-700.2\" font-family=\"Helvetica,sans-Serif\" font-size=\"14.00\">X &lt;= 0.772</text>\n",
       "<text text-anchor=\"middle\" x=\"865.25\" y=\"-683.7\" font-family=\"Helvetica,sans-Serif\" font-size=\"14.00\">squared_error = 0.074</text>\n",
       "<text text-anchor=\"middle\" x=\"865.25\" y=\"-667.2\" font-family=\"Helvetica,sans-Serif\" font-size=\"14.00\">samples = 156</text>\n",
       "<text text-anchor=\"middle\" x=\"865.25\" y=\"-650.7\" font-family=\"Helvetica,sans-Serif\" font-size=\"14.00\">value = 0.259</text>\n",
       "</g>\n",
       "<!-- 0&#45;&gt;8 -->\n",
       "<g id=\"edge8\" class=\"edge\">\n",
       "<title>0&#45;&gt;8</title>\n",
       "<path fill=\"none\" stroke=\"black\" d=\"M747.68,-753.24C763.3,-743.71 780.27,-733.35 796.34,-723.55\"/>\n",
       "<polygon fill=\"black\" stroke=\"black\" points=\"797.96,-726.05 804.67,-717.85 794.32,-720.07 797.96,-726.05\"/>\n",
       "<text text-anchor=\"middle\" x=\"799.79\" y=\"-737.1\" font-family=\"Helvetica,sans-Serif\" font-size=\"14.00\">False</text>\n",
       "</g>\n",
       "<!-- 2 -->\n",
       "<g id=\"node3\" class=\"node\">\n",
       "<title>2</title>\n",
       "<path fill=\"#e88d4c\" stroke=\"black\" d=\"M323.5,-607.5C323.5,-607.5 189,-607.5 189,-607.5 183,-607.5 177,-601.5 177,-595.5 177,-595.5 177,-545.5 177,-545.5 177,-539.5 183,-533.5 189,-533.5 189,-533.5 323.5,-533.5 323.5,-533.5 329.5,-533.5 335.5,-539.5 335.5,-545.5 335.5,-545.5 335.5,-595.5 335.5,-595.5 335.5,-601.5 329.5,-607.5 323.5,-607.5\"/>\n",
       "<text text-anchor=\"middle\" x=\"256.25\" y=\"-590.2\" font-family=\"Helvetica,sans-Serif\" font-size=\"14.00\">X &lt;= 0.046</text>\n",
       "<text text-anchor=\"middle\" x=\"256.25\" y=\"-573.7\" font-family=\"Helvetica,sans-Serif\" font-size=\"14.00\">squared_error = 0.018</text>\n",
       "<text text-anchor=\"middle\" x=\"256.25\" y=\"-557.2\" font-family=\"Helvetica,sans-Serif\" font-size=\"14.00\">samples = 20</text>\n",
       "<text text-anchor=\"middle\" x=\"256.25\" y=\"-540.7\" font-family=\"Helvetica,sans-Serif\" font-size=\"14.00\">value = 0.854</text>\n",
       "</g>\n",
       "<!-- 1&#45;&gt;2 -->\n",
       "<g id=\"edge2\" class=\"edge\">\n",
       "<title>1&#45;&gt;2</title>\n",
       "<path fill=\"none\" stroke=\"black\" d=\"M436.83,-646.51C407.98,-634.53 375.2,-620.91 345.56,-608.6\"/>\n",
       "<polygon fill=\"black\" stroke=\"black\" points=\"347.21,-605.08 336.63,-604.47 344.52,-611.54 347.21,-605.08\"/>\n",
       "</g>\n",
       "<!-- 5 -->\n",
       "<g id=\"node6\" class=\"node\">\n",
       "<title>5</title>\n",
       "<path fill=\"#f0b48a\" stroke=\"black\" d=\"M583.5,-607.5C583.5,-607.5 449,-607.5 449,-607.5 443,-607.5 437,-601.5 437,-595.5 437,-595.5 437,-545.5 437,-545.5 437,-539.5 443,-533.5 449,-533.5 449,-533.5 583.5,-533.5 583.5,-533.5 589.5,-533.5 595.5,-539.5 595.5,-545.5 595.5,-545.5 595.5,-595.5 595.5,-595.5 595.5,-601.5 589.5,-607.5 583.5,-607.5\"/>\n",
       "<text text-anchor=\"middle\" x=\"516.25\" y=\"-590.2\" font-family=\"Helvetica,sans-Serif\" font-size=\"14.00\">X &lt;= 0.139</text>\n",
       "<text text-anchor=\"middle\" x=\"516.25\" y=\"-573.7\" font-family=\"Helvetica,sans-Serif\" font-size=\"14.00\">squared_error = 0.013</text>\n",
       "<text text-anchor=\"middle\" x=\"516.25\" y=\"-557.2\" font-family=\"Helvetica,sans-Serif\" font-size=\"14.00\">samples = 24</text>\n",
       "<text text-anchor=\"middle\" x=\"516.25\" y=\"-540.7\" font-family=\"Helvetica,sans-Serif\" font-size=\"14.00\">value = 0.552</text>\n",
       "</g>\n",
       "<!-- 1&#45;&gt;5 -->\n",
       "<g id=\"edge5\" class=\"edge\">\n",
       "<title>1&#45;&gt;5</title>\n",
       "<path fill=\"none\" stroke=\"black\" d=\"M516.25,-643.24C516.25,-635.4 516.25,-627 516.25,-618.82\"/>\n",
       "<polygon fill=\"black\" stroke=\"black\" points=\"519.75,-618.85 516.25,-608.85 512.75,-618.85 519.75,-618.85\"/>\n",
       "</g>\n",
       "<!-- 3 -->\n",
       "<g id=\"node4\" class=\"node\">\n",
       "<title>3</title>\n",
       "<path fill=\"#e58139\" stroke=\"black\" d=\"M146.5,-489.25C146.5,-489.25 12,-489.25 12,-489.25 6,-489.25 0,-483.25 0,-477.25 0,-477.25 0,-443.75 0,-443.75 0,-437.75 6,-431.75 12,-431.75 12,-431.75 146.5,-431.75 146.5,-431.75 152.5,-431.75 158.5,-437.75 158.5,-443.75 158.5,-443.75 158.5,-477.25 158.5,-477.25 158.5,-483.25 152.5,-489.25 146.5,-489.25\"/>\n",
       "<text text-anchor=\"middle\" x=\"79.25\" y=\"-471.95\" font-family=\"Helvetica,sans-Serif\" font-size=\"14.00\">squared_error = 0.012</text>\n",
       "<text text-anchor=\"middle\" x=\"79.25\" y=\"-455.45\" font-family=\"Helvetica,sans-Serif\" font-size=\"14.00\">samples = 10</text>\n",
       "<text text-anchor=\"middle\" x=\"79.25\" y=\"-438.95\" font-family=\"Helvetica,sans-Serif\" font-size=\"14.00\">value = 0.947</text>\n",
       "</g>\n",
       "<!-- 2&#45;&gt;3 -->\n",
       "<g id=\"edge3\" class=\"edge\">\n",
       "<title>2&#45;&gt;3</title>\n",
       "<path fill=\"none\" stroke=\"black\" d=\"M196.82,-533.24C176.7,-520.96 154.34,-507.32 134.56,-495.25\"/>\n",
       "<polygon fill=\"black\" stroke=\"black\" points=\"136.73,-491.86 126.37,-489.64 133.09,-497.84 136.73,-491.86\"/>\n",
       "</g>\n",
       "<!-- 4 -->\n",
       "<g id=\"node5\" class=\"node\">\n",
       "<title>4</title>\n",
       "<path fill=\"#ea995f\" stroke=\"black\" d=\"M323.5,-489.25C323.5,-489.25 189,-489.25 189,-489.25 183,-489.25 177,-483.25 177,-477.25 177,-477.25 177,-443.75 177,-443.75 177,-437.75 183,-431.75 189,-431.75 189,-431.75 323.5,-431.75 323.5,-431.75 329.5,-431.75 335.5,-437.75 335.5,-443.75 335.5,-443.75 335.5,-477.25 335.5,-477.25 335.5,-483.25 329.5,-489.25 323.5,-489.25\"/>\n",
       "<text text-anchor=\"middle\" x=\"256.25\" y=\"-471.95\" font-family=\"Helvetica,sans-Serif\" font-size=\"14.00\">squared_error = 0.006</text>\n",
       "<text text-anchor=\"middle\" x=\"256.25\" y=\"-455.45\" font-family=\"Helvetica,sans-Serif\" font-size=\"14.00\">samples = 10</text>\n",
       "<text text-anchor=\"middle\" x=\"256.25\" y=\"-438.95\" font-family=\"Helvetica,sans-Serif\" font-size=\"14.00\">value = 0.761</text>\n",
       "</g>\n",
       "<!-- 2&#45;&gt;4 -->\n",
       "<g id=\"edge4\" class=\"edge\">\n",
       "<title>2&#45;&gt;4</title>\n",
       "<path fill=\"none\" stroke=\"black\" d=\"M256.25,-533.24C256.25,-522.69 256.25,-511.12 256.25,-500.41\"/>\n",
       "<polygon fill=\"black\" stroke=\"black\" points=\"259.75,-500.64 256.25,-490.64 252.75,-500.64 259.75,-500.64\"/>\n",
       "</g>\n",
       "<!-- 6 -->\n",
       "<g id=\"node7\" class=\"node\">\n",
       "<title>6</title>\n",
       "<path fill=\"#eeac7d\" stroke=\"black\" d=\"M491.38,-489.25C491.38,-489.25 365.12,-489.25 365.12,-489.25 359.12,-489.25 353.12,-483.25 353.12,-477.25 353.12,-477.25 353.12,-443.75 353.12,-443.75 353.12,-437.75 359.12,-431.75 365.12,-431.75 365.12,-431.75 491.38,-431.75 491.38,-431.75 497.38,-431.75 503.38,-437.75 503.38,-443.75 503.38,-443.75 503.38,-477.25 503.38,-477.25 503.38,-483.25 497.38,-489.25 491.38,-489.25\"/>\n",
       "<text text-anchor=\"middle\" x=\"428.25\" y=\"-471.95\" font-family=\"Helvetica,sans-Serif\" font-size=\"14.00\">squared_error = 0.01</text>\n",
       "<text text-anchor=\"middle\" x=\"428.25\" y=\"-455.45\" font-family=\"Helvetica,sans-Serif\" font-size=\"14.00\">samples = 10</text>\n",
       "<text text-anchor=\"middle\" x=\"428.25\" y=\"-438.95\" font-family=\"Helvetica,sans-Serif\" font-size=\"14.00\">value = 0.614</text>\n",
       "</g>\n",
       "<!-- 5&#45;&gt;6 -->\n",
       "<g id=\"edge6\" class=\"edge\">\n",
       "<title>5&#45;&gt;6</title>\n",
       "<path fill=\"none\" stroke=\"black\" d=\"M486.7,-533.24C477.47,-521.91 467.29,-509.41 458.04,-498.06\"/>\n",
       "<polygon fill=\"black\" stroke=\"black\" points=\"460.21,-496.18 451.18,-490.64 454.78,-500.61 460.21,-496.18\"/>\n",
       "</g>\n",
       "<!-- 7 -->\n",
       "<g id=\"node8\" class=\"node\">\n",
       "<title>7</title>\n",
       "<path fill=\"#f1ba93\" stroke=\"black\" d=\"M667.5,-489.25C667.5,-489.25 533,-489.25 533,-489.25 527,-489.25 521,-483.25 521,-477.25 521,-477.25 521,-443.75 521,-443.75 521,-437.75 527,-431.75 533,-431.75 533,-431.75 667.5,-431.75 667.5,-431.75 673.5,-431.75 679.5,-437.75 679.5,-443.75 679.5,-443.75 679.5,-477.25 679.5,-477.25 679.5,-483.25 673.5,-489.25 667.5,-489.25\"/>\n",
       "<text text-anchor=\"middle\" x=\"600.25\" y=\"-471.95\" font-family=\"Helvetica,sans-Serif\" font-size=\"14.00\">squared_error = 0.011</text>\n",
       "<text text-anchor=\"middle\" x=\"600.25\" y=\"-455.45\" font-family=\"Helvetica,sans-Serif\" font-size=\"14.00\">samples = 14</text>\n",
       "<text text-anchor=\"middle\" x=\"600.25\" y=\"-438.95\" font-family=\"Helvetica,sans-Serif\" font-size=\"14.00\">value = 0.508</text>\n",
       "</g>\n",
       "<!-- 5&#45;&gt;7 -->\n",
       "<g id=\"edge7\" class=\"edge\">\n",
       "<title>5&#45;&gt;7</title>\n",
       "<path fill=\"none\" stroke=\"black\" d=\"M544.45,-533.24C553.27,-521.91 562.99,-509.41 571.82,-498.06\"/>\n",
       "<polygon fill=\"black\" stroke=\"black\" points=\"574.98,-500.68 578.36,-490.64 569.46,-496.39 574.98,-500.68\"/>\n",
       "</g>\n",
       "<!-- 9 -->\n",
       "<g id=\"node10\" class=\"node\">\n",
       "<title>9</title>\n",
       "<path fill=\"#fbeee4\" stroke=\"black\" d=\"M932.5,-607.5C932.5,-607.5 798,-607.5 798,-607.5 792,-607.5 786,-601.5 786,-595.5 786,-595.5 786,-545.5 786,-545.5 786,-539.5 792,-533.5 798,-533.5 798,-533.5 932.5,-533.5 932.5,-533.5 938.5,-533.5 944.5,-539.5 944.5,-545.5 944.5,-545.5 944.5,-595.5 944.5,-595.5 944.5,-601.5 938.5,-607.5 932.5,-607.5\"/>\n",
       "<text text-anchor=\"middle\" x=\"865.25\" y=\"-590.2\" font-family=\"Helvetica,sans-Serif\" font-size=\"14.00\">X &lt;= 0.287</text>\n",
       "<text text-anchor=\"middle\" x=\"865.25\" y=\"-573.7\" font-family=\"Helvetica,sans-Serif\" font-size=\"14.00\">squared_error = 0.015</text>\n",
       "<text text-anchor=\"middle\" x=\"865.25\" y=\"-557.2\" font-family=\"Helvetica,sans-Serif\" font-size=\"14.00\">samples = 110</text>\n",
       "<text text-anchor=\"middle\" x=\"865.25\" y=\"-540.7\" font-family=\"Helvetica,sans-Serif\" font-size=\"14.00\">value = 0.111</text>\n",
       "</g>\n",
       "<!-- 8&#45;&gt;9 -->\n",
       "<g id=\"edge9\" class=\"edge\">\n",
       "<title>8&#45;&gt;9</title>\n",
       "<path fill=\"none\" stroke=\"black\" d=\"M865.25,-643.24C865.25,-635.4 865.25,-627 865.25,-618.82\"/>\n",
       "<polygon fill=\"black\" stroke=\"black\" points=\"868.75,-618.85 865.25,-608.85 861.75,-618.85 868.75,-618.85\"/>\n",
       "</g>\n",
       "<!-- 24 -->\n",
       "<g id=\"node25\" class=\"node\">\n",
       "<title>24</title>\n",
       "<path fill=\"#eeac7d\" stroke=\"black\" d=\"M1198.5,-607.5C1198.5,-607.5 1064,-607.5 1064,-607.5 1058,-607.5 1052,-601.5 1052,-595.5 1052,-595.5 1052,-545.5 1052,-545.5 1052,-539.5 1058,-533.5 1064,-533.5 1064,-533.5 1198.5,-533.5 1198.5,-533.5 1204.5,-533.5 1210.5,-539.5 1210.5,-545.5 1210.5,-545.5 1210.5,-595.5 1210.5,-595.5 1210.5,-601.5 1204.5,-607.5 1198.5,-607.5\"/>\n",
       "<text text-anchor=\"middle\" x=\"1131.25\" y=\"-590.2\" font-family=\"Helvetica,sans-Serif\" font-size=\"14.00\">X &lt;= 0.904</text>\n",
       "<text text-anchor=\"middle\" x=\"1131.25\" y=\"-573.7\" font-family=\"Helvetica,sans-Serif\" font-size=\"14.00\">squared_error = 0.036</text>\n",
       "<text text-anchor=\"middle\" x=\"1131.25\" y=\"-557.2\" font-family=\"Helvetica,sans-Serif\" font-size=\"14.00\">samples = 46</text>\n",
       "<text text-anchor=\"middle\" x=\"1131.25\" y=\"-540.7\" font-family=\"Helvetica,sans-Serif\" font-size=\"14.00\">value = 0.615</text>\n",
       "</g>\n",
       "<!-- 8&#45;&gt;24 -->\n",
       "<g id=\"edge24\" class=\"edge\">\n",
       "<title>8&#45;&gt;24</title>\n",
       "<path fill=\"none\" stroke=\"black\" d=\"M944.7,-647.24C975.23,-634.85 1010.27,-620.62 1041.69,-607.86\"/>\n",
       "<polygon fill=\"black\" stroke=\"black\" points=\"1042.8,-610.78 1050.75,-603.78 1040.17,-604.3 1042.8,-610.78\"/>\n",
       "</g>\n",
       "<!-- 10 -->\n",
       "<g id=\"node11\" class=\"node\">\n",
       "<title>10</title>\n",
       "<path fill=\"#f8decb\" stroke=\"black\" d=\"M844.5,-489.25C844.5,-489.25 710,-489.25 710,-489.25 704,-489.25 698,-483.25 698,-477.25 698,-477.25 698,-443.75 698,-443.75 698,-437.75 704,-431.75 710,-431.75 710,-431.75 844.5,-431.75 844.5,-431.75 850.5,-431.75 856.5,-437.75 856.5,-443.75 856.5,-443.75 856.5,-477.25 856.5,-477.25 856.5,-483.25 850.5,-489.25 844.5,-489.25\"/>\n",
       "<text text-anchor=\"middle\" x=\"777.25\" y=\"-471.95\" font-family=\"Helvetica,sans-Serif\" font-size=\"14.00\">squared_error = 0.006</text>\n",
       "<text text-anchor=\"middle\" x=\"777.25\" y=\"-455.45\" font-family=\"Helvetica,sans-Serif\" font-size=\"14.00\">samples = 19</text>\n",
       "<text text-anchor=\"middle\" x=\"777.25\" y=\"-438.95\" font-family=\"Helvetica,sans-Serif\" font-size=\"14.00\">value = 0.236</text>\n",
       "</g>\n",
       "<!-- 9&#45;&gt;10 -->\n",
       "<g id=\"edge10\" class=\"edge\">\n",
       "<title>9&#45;&gt;10</title>\n",
       "<path fill=\"none\" stroke=\"black\" d=\"M835.7,-533.24C826.47,-521.91 816.29,-509.41 807.04,-498.06\"/>\n",
       "<polygon fill=\"black\" stroke=\"black\" points=\"809.21,-496.18 800.18,-490.64 803.78,-500.61 809.21,-496.18\"/>\n",
       "</g>\n",
       "<!-- 11 -->\n",
       "<g id=\"node12\" class=\"node\">\n",
       "<title>11</title>\n",
       "<path fill=\"#fcf1ea\" stroke=\"black\" d=\"M1021.5,-497.5C1021.5,-497.5 887,-497.5 887,-497.5 881,-497.5 875,-491.5 875,-485.5 875,-485.5 875,-435.5 875,-435.5 875,-429.5 881,-423.5 887,-423.5 887,-423.5 1021.5,-423.5 1021.5,-423.5 1027.5,-423.5 1033.5,-429.5 1033.5,-435.5 1033.5,-435.5 1033.5,-485.5 1033.5,-485.5 1033.5,-491.5 1027.5,-497.5 1021.5,-497.5\"/>\n",
       "<text text-anchor=\"middle\" x=\"954.25\" y=\"-480.2\" font-family=\"Helvetica,sans-Serif\" font-size=\"14.00\">X &lt;= 0.628</text>\n",
       "<text text-anchor=\"middle\" x=\"954.25\" y=\"-463.7\" font-family=\"Helvetica,sans-Serif\" font-size=\"14.00\">squared_error = 0.013</text>\n",
       "<text text-anchor=\"middle\" x=\"954.25\" y=\"-447.2\" font-family=\"Helvetica,sans-Serif\" font-size=\"14.00\">samples = 91</text>\n",
       "<text text-anchor=\"middle\" x=\"954.25\" y=\"-430.7\" font-family=\"Helvetica,sans-Serif\" font-size=\"14.00\">value = 0.084</text>\n",
       "</g>\n",
       "<!-- 9&#45;&gt;11 -->\n",
       "<g id=\"edge11\" class=\"edge\">\n",
       "<title>9&#45;&gt;11</title>\n",
       "<path fill=\"none\" stroke=\"black\" d=\"M895.13,-533.24C902.25,-524.6 909.93,-515.28 917.32,-506.31\"/>\n",
       "<polygon fill=\"black\" stroke=\"black\" points=\"920.64,-508.79 924.29,-498.85 915.23,-504.34 920.64,-508.79\"/>\n",
       "</g>\n",
       "<!-- 12 -->\n",
       "<g id=\"node13\" class=\"node\">\n",
       "<title>12</title>\n",
       "<path fill=\"#fdf7f2\" stroke=\"black\" d=\"M844.5,-387.5C844.5,-387.5 710,-387.5 710,-387.5 704,-387.5 698,-381.5 698,-375.5 698,-375.5 698,-325.5 698,-325.5 698,-319.5 704,-313.5 710,-313.5 710,-313.5 844.5,-313.5 844.5,-313.5 850.5,-313.5 856.5,-319.5 856.5,-325.5 856.5,-325.5 856.5,-375.5 856.5,-375.5 856.5,-381.5 850.5,-387.5 844.5,-387.5\"/>\n",
       "<text text-anchor=\"middle\" x=\"777.25\" y=\"-370.2\" font-family=\"Helvetica,sans-Serif\" font-size=\"14.00\">X &lt;= 0.422</text>\n",
       "<text text-anchor=\"middle\" x=\"777.25\" y=\"-353.7\" font-family=\"Helvetica,sans-Serif\" font-size=\"14.00\">squared_error = 0.011</text>\n",
       "<text text-anchor=\"middle\" x=\"777.25\" y=\"-337.2\" font-family=\"Helvetica,sans-Serif\" font-size=\"14.00\">samples = 64</text>\n",
       "<text text-anchor=\"middle\" x=\"777.25\" y=\"-320.7\" font-family=\"Helvetica,sans-Serif\" font-size=\"14.00\">value = 0.044</text>\n",
       "</g>\n",
       "<!-- 11&#45;&gt;12 -->\n",
       "<g id=\"edge12\" class=\"edge\">\n",
       "<title>11&#45;&gt;12</title>\n",
       "<path fill=\"none\" stroke=\"black\" d=\"M894.82,-423.24C879.2,-413.71 862.23,-403.35 846.16,-393.55\"/>\n",
       "<polygon fill=\"black\" stroke=\"black\" points=\"848.18,-390.07 837.83,-387.85 844.54,-396.05 848.18,-390.07\"/>\n",
       "</g>\n",
       "<!-- 21 -->\n",
       "<g id=\"node22\" class=\"node\">\n",
       "<title>21</title>\n",
       "<path fill=\"#fae5d6\" stroke=\"black\" d=\"M1021.5,-387.5C1021.5,-387.5 887,-387.5 887,-387.5 881,-387.5 875,-381.5 875,-375.5 875,-375.5 875,-325.5 875,-325.5 875,-319.5 881,-313.5 887,-313.5 887,-313.5 1021.5,-313.5 1021.5,-313.5 1027.5,-313.5 1033.5,-319.5 1033.5,-325.5 1033.5,-325.5 1033.5,-375.5 1033.5,-375.5 1033.5,-381.5 1027.5,-387.5 1021.5,-387.5\"/>\n",
       "<text text-anchor=\"middle\" x=\"954.25\" y=\"-370.2\" font-family=\"Helvetica,sans-Serif\" font-size=\"14.00\">X &lt;= 0.707</text>\n",
       "<text text-anchor=\"middle\" x=\"954.25\" y=\"-353.7\" font-family=\"Helvetica,sans-Serif\" font-size=\"14.00\">squared_error = 0.005</text>\n",
       "<text text-anchor=\"middle\" x=\"954.25\" y=\"-337.2\" font-family=\"Helvetica,sans-Serif\" font-size=\"14.00\">samples = 27</text>\n",
       "<text text-anchor=\"middle\" x=\"954.25\" y=\"-320.7\" font-family=\"Helvetica,sans-Serif\" font-size=\"14.00\">value = 0.181</text>\n",
       "</g>\n",
       "<!-- 11&#45;&gt;21 -->\n",
       "<g id=\"edge21\" class=\"edge\">\n",
       "<title>11&#45;&gt;21</title>\n",
       "<path fill=\"none\" stroke=\"black\" d=\"M954.25,-423.24C954.25,-415.4 954.25,-407 954.25,-398.82\"/>\n",
       "<polygon fill=\"black\" stroke=\"black\" points=\"957.75,-398.85 954.25,-388.85 950.75,-398.85 957.75,-398.85\"/>\n",
       "</g>\n",
       "<!-- 13 -->\n",
       "<g id=\"node14\" class=\"node\">\n",
       "<title>13</title>\n",
       "<path fill=\"#fcf1e9\" stroke=\"black\" d=\"M667.5,-277.5C667.5,-277.5 533,-277.5 533,-277.5 527,-277.5 521,-271.5 521,-265.5 521,-265.5 521,-215.5 521,-215.5 521,-209.5 527,-203.5 533,-203.5 533,-203.5 667.5,-203.5 667.5,-203.5 673.5,-203.5 679.5,-209.5 679.5,-215.5 679.5,-215.5 679.5,-265.5 679.5,-265.5 679.5,-271.5 673.5,-277.5 667.5,-277.5\"/>\n",
       "<text text-anchor=\"middle\" x=\"600.25\" y=\"-260.2\" font-family=\"Helvetica,sans-Serif\" font-size=\"14.00\">X &lt;= 0.319</text>\n",
       "<text text-anchor=\"middle\" x=\"600.25\" y=\"-243.7\" font-family=\"Helvetica,sans-Serif\" font-size=\"14.00\">squared_error = 0.011</text>\n",
       "<text text-anchor=\"middle\" x=\"600.25\" y=\"-227.2\" font-family=\"Helvetica,sans-Serif\" font-size=\"14.00\">samples = 29</text>\n",
       "<text text-anchor=\"middle\" x=\"600.25\" y=\"-210.7\" font-family=\"Helvetica,sans-Serif\" font-size=\"14.00\">value = 0.088</text>\n",
       "</g>\n",
       "<!-- 12&#45;&gt;13 -->\n",
       "<g id=\"edge13\" class=\"edge\">\n",
       "<title>12&#45;&gt;13</title>\n",
       "<path fill=\"none\" stroke=\"black\" d=\"M717.82,-313.24C702.2,-303.71 685.23,-293.35 669.16,-283.55\"/>\n",
       "<polygon fill=\"black\" stroke=\"black\" points=\"671.18,-280.07 660.83,-277.85 667.54,-286.05 671.18,-280.07\"/>\n",
       "</g>\n",
       "<!-- 16 -->\n",
       "<g id=\"node17\" class=\"node\">\n",
       "<title>16</title>\n",
       "<path fill=\"#fefbf9\" stroke=\"black\" d=\"M844.5,-277.5C844.5,-277.5 710,-277.5 710,-277.5 704,-277.5 698,-271.5 698,-265.5 698,-265.5 698,-215.5 698,-215.5 698,-209.5 704,-203.5 710,-203.5 710,-203.5 844.5,-203.5 844.5,-203.5 850.5,-203.5 856.5,-209.5 856.5,-215.5 856.5,-215.5 856.5,-265.5 856.5,-265.5 856.5,-271.5 850.5,-277.5 844.5,-277.5\"/>\n",
       "<text text-anchor=\"middle\" x=\"777.25\" y=\"-260.2\" font-family=\"Helvetica,sans-Serif\" font-size=\"14.00\">X &lt;= 0.558</text>\n",
       "<text text-anchor=\"middle\" x=\"777.25\" y=\"-243.7\" font-family=\"Helvetica,sans-Serif\" font-size=\"14.00\">squared_error = 0.008</text>\n",
       "<text text-anchor=\"middle\" x=\"777.25\" y=\"-227.2\" font-family=\"Helvetica,sans-Serif\" font-size=\"14.00\">samples = 35</text>\n",
       "<text text-anchor=\"middle\" x=\"777.25\" y=\"-210.7\" font-family=\"Helvetica,sans-Serif\" font-size=\"14.00\">value = 0.007</text>\n",
       "</g>\n",
       "<!-- 12&#45;&gt;16 -->\n",
       "<g id=\"edge16\" class=\"edge\">\n",
       "<title>12&#45;&gt;16</title>\n",
       "<path fill=\"none\" stroke=\"black\" d=\"M777.25,-313.24C777.25,-305.4 777.25,-297 777.25,-288.82\"/>\n",
       "<polygon fill=\"black\" stroke=\"black\" points=\"780.75,-288.85 777.25,-278.85 773.75,-288.85 780.75,-288.85\"/>\n",
       "</g>\n",
       "<!-- 14 -->\n",
       "<g id=\"node15\" class=\"node\">\n",
       "<title>14</title>\n",
       "<path fill=\"#fdf5f0\" stroke=\"black\" d=\"M491.38,-159.25C491.38,-159.25 365.12,-159.25 365.12,-159.25 359.12,-159.25 353.12,-153.25 353.12,-147.25 353.12,-147.25 353.12,-113.75 353.12,-113.75 353.12,-107.75 359.12,-101.75 365.12,-101.75 365.12,-101.75 491.38,-101.75 491.38,-101.75 497.38,-101.75 503.38,-107.75 503.38,-113.75 503.38,-113.75 503.38,-147.25 503.38,-147.25 503.38,-153.25 497.38,-159.25 491.38,-159.25\"/>\n",
       "<text text-anchor=\"middle\" x=\"428.25\" y=\"-141.95\" font-family=\"Helvetica,sans-Serif\" font-size=\"14.00\">squared_error = 0.01</text>\n",
       "<text text-anchor=\"middle\" x=\"428.25\" y=\"-125.45\" font-family=\"Helvetica,sans-Serif\" font-size=\"14.00\">samples = 10</text>\n",
       "<text text-anchor=\"middle\" x=\"428.25\" y=\"-108.95\" font-family=\"Helvetica,sans-Serif\" font-size=\"14.00\">value = 0.054</text>\n",
       "</g>\n",
       "<!-- 13&#45;&gt;14 -->\n",
       "<g id=\"edge14\" class=\"edge\">\n",
       "<title>13&#45;&gt;14</title>\n",
       "<path fill=\"none\" stroke=\"black\" d=\"M542.5,-203.24C523.04,-191.02 501.41,-177.44 482.25,-165.41\"/>\n",
       "<polygon fill=\"black\" stroke=\"black\" points=\"484.4,-162 474.07,-159.64 480.68,-167.92 484.4,-162\"/>\n",
       "</g>\n",
       "<!-- 15 -->\n",
       "<g id=\"node16\" class=\"node\">\n",
       "<title>15</title>\n",
       "<path fill=\"#fcefe5\" stroke=\"black\" d=\"M667.5,-159.25C667.5,-159.25 533,-159.25 533,-159.25 527,-159.25 521,-153.25 521,-147.25 521,-147.25 521,-113.75 521,-113.75 521,-107.75 527,-101.75 533,-101.75 533,-101.75 667.5,-101.75 667.5,-101.75 673.5,-101.75 679.5,-107.75 679.5,-113.75 679.5,-113.75 679.5,-147.25 679.5,-147.25 679.5,-153.25 673.5,-159.25 667.5,-159.25\"/>\n",
       "<text text-anchor=\"middle\" x=\"600.25\" y=\"-141.95\" font-family=\"Helvetica,sans-Serif\" font-size=\"14.00\">squared_error = 0.011</text>\n",
       "<text text-anchor=\"middle\" x=\"600.25\" y=\"-125.45\" font-family=\"Helvetica,sans-Serif\" font-size=\"14.00\">samples = 19</text>\n",
       "<text text-anchor=\"middle\" x=\"600.25\" y=\"-108.95\" font-family=\"Helvetica,sans-Serif\" font-size=\"14.00\">value = 0.106</text>\n",
       "</g>\n",
       "<!-- 13&#45;&gt;15 -->\n",
       "<g id=\"edge15\" class=\"edge\">\n",
       "<title>13&#45;&gt;15</title>\n",
       "<path fill=\"none\" stroke=\"black\" d=\"M600.25,-203.24C600.25,-192.69 600.25,-181.12 600.25,-170.41\"/>\n",
       "<polygon fill=\"black\" stroke=\"black\" points=\"603.75,-170.64 600.25,-160.64 596.75,-170.64 603.75,-170.64\"/>\n",
       "</g>\n",
       "<!-- 17 -->\n",
       "<g id=\"node18\" class=\"node\">\n",
       "<title>17</title>\n",
       "<path fill=\"#fefdfb\" stroke=\"black\" d=\"M844.5,-167.5C844.5,-167.5 710,-167.5 710,-167.5 704,-167.5 698,-161.5 698,-155.5 698,-155.5 698,-105.5 698,-105.5 698,-99.5 704,-93.5 710,-93.5 710,-93.5 844.5,-93.5 844.5,-93.5 850.5,-93.5 856.5,-99.5 856.5,-105.5 856.5,-105.5 856.5,-155.5 856.5,-155.5 856.5,-161.5 850.5,-167.5 844.5,-167.5\"/>\n",
       "<text text-anchor=\"middle\" x=\"777.25\" y=\"-150.2\" font-family=\"Helvetica,sans-Serif\" font-size=\"14.00\">X &lt;= 0.517</text>\n",
       "<text text-anchor=\"middle\" x=\"777.25\" y=\"-133.7\" font-family=\"Helvetica,sans-Serif\" font-size=\"14.00\">squared_error = 0.009</text>\n",
       "<text text-anchor=\"middle\" x=\"777.25\" y=\"-117.2\" font-family=\"Helvetica,sans-Serif\" font-size=\"14.00\">samples = 25</text>\n",
       "<text text-anchor=\"middle\" x=\"777.25\" y=\"-100.7\" font-family=\"Helvetica,sans-Serif\" font-size=\"14.00\">value = &#45;0.001</text>\n",
       "</g>\n",
       "<!-- 16&#45;&gt;17 -->\n",
       "<g id=\"edge17\" class=\"edge\">\n",
       "<title>16&#45;&gt;17</title>\n",
       "<path fill=\"none\" stroke=\"black\" d=\"M777.25,-203.24C777.25,-195.4 777.25,-187 777.25,-178.82\"/>\n",
       "<polygon fill=\"black\" stroke=\"black\" points=\"780.75,-178.85 777.25,-168.85 773.75,-178.85 780.75,-178.85\"/>\n",
       "</g>\n",
       "<!-- 20 -->\n",
       "<g id=\"node21\" class=\"node\">\n",
       "<title>20</title>\n",
       "<path fill=\"#fef9f5\" stroke=\"black\" d=\"M1021.5,-159.25C1021.5,-159.25 887,-159.25 887,-159.25 881,-159.25 875,-153.25 875,-147.25 875,-147.25 875,-113.75 875,-113.75 875,-107.75 881,-101.75 887,-101.75 887,-101.75 1021.5,-101.75 1021.5,-101.75 1027.5,-101.75 1033.5,-107.75 1033.5,-113.75 1033.5,-113.75 1033.5,-147.25 1033.5,-147.25 1033.5,-153.25 1027.5,-159.25 1021.5,-159.25\"/>\n",
       "<text text-anchor=\"middle\" x=\"954.25\" y=\"-141.95\" font-family=\"Helvetica,sans-Serif\" font-size=\"14.00\">squared_error = 0.005</text>\n",
       "<text text-anchor=\"middle\" x=\"954.25\" y=\"-125.45\" font-family=\"Helvetica,sans-Serif\" font-size=\"14.00\">samples = 10</text>\n",
       "<text text-anchor=\"middle\" x=\"954.25\" y=\"-108.95\" font-family=\"Helvetica,sans-Serif\" font-size=\"14.00\">value = 0.028</text>\n",
       "</g>\n",
       "<!-- 16&#45;&gt;20 -->\n",
       "<g id=\"edge20\" class=\"edge\">\n",
       "<title>16&#45;&gt;20</title>\n",
       "<path fill=\"none\" stroke=\"black\" d=\"M836.68,-203.24C856.8,-190.96 879.16,-177.32 898.94,-165.25\"/>\n",
       "<polygon fill=\"black\" stroke=\"black\" points=\"900.41,-167.84 907.13,-159.64 896.77,-161.86 900.41,-167.84\"/>\n",
       "</g>\n",
       "<!-- 18 -->\n",
       "<g id=\"node19\" class=\"node\">\n",
       "<title>18</title>\n",
       "<path fill=\"#fefbf9\" stroke=\"black\" d=\"M755.5,-57.5C755.5,-57.5 621,-57.5 621,-57.5 615,-57.5 609,-51.5 609,-45.5 609,-45.5 609,-12 609,-12 609,-6 615,0 621,0 621,0 755.5,0 755.5,0 761.5,0 767.5,-6 767.5,-12 767.5,-12 767.5,-45.5 767.5,-45.5 767.5,-51.5 761.5,-57.5 755.5,-57.5\"/>\n",
       "<text text-anchor=\"middle\" x=\"688.25\" y=\"-40.2\" font-family=\"Helvetica,sans-Serif\" font-size=\"14.00\">squared_error = 0.009</text>\n",
       "<text text-anchor=\"middle\" x=\"688.25\" y=\"-23.7\" font-family=\"Helvetica,sans-Serif\" font-size=\"14.00\">samples = 15</text>\n",
       "<text text-anchor=\"middle\" x=\"688.25\" y=\"-7.2\" font-family=\"Helvetica,sans-Serif\" font-size=\"14.00\">value = 0.011</text>\n",
       "</g>\n",
       "<!-- 17&#45;&gt;18 -->\n",
       "<g id=\"edge18\" class=\"edge\">\n",
       "<title>17&#45;&gt;18</title>\n",
       "<path fill=\"none\" stroke=\"black\" d=\"M744.87,-93.21C736.88,-84.25 728.32,-74.66 720.34,-65.72\"/>\n",
       "<polygon fill=\"black\" stroke=\"black\" points=\"723.48,-63.86 714.21,-58.73 718.26,-68.52 723.48,-63.86\"/>\n",
       "</g>\n",
       "<!-- 19 -->\n",
       "<g id=\"node20\" class=\"node\">\n",
       "<title>19</title>\n",
       "<path fill=\"#ffffff\" stroke=\"black\" d=\"M932.5,-57.5C932.5,-57.5 798,-57.5 798,-57.5 792,-57.5 786,-51.5 786,-45.5 786,-45.5 786,-12 786,-12 786,-6 792,0 798,0 798,0 932.5,0 932.5,0 938.5,0 944.5,-6 944.5,-12 944.5,-12 944.5,-45.5 944.5,-45.5 944.5,-51.5 938.5,-57.5 932.5,-57.5\"/>\n",
       "<text text-anchor=\"middle\" x=\"865.25\" y=\"-40.2\" font-family=\"Helvetica,sans-Serif\" font-size=\"14.00\">squared_error = 0.008</text>\n",
       "<text text-anchor=\"middle\" x=\"865.25\" y=\"-23.7\" font-family=\"Helvetica,sans-Serif\" font-size=\"14.00\">samples = 10</text>\n",
       "<text text-anchor=\"middle\" x=\"865.25\" y=\"-7.2\" font-family=\"Helvetica,sans-Serif\" font-size=\"14.00\">value = &#45;0.02</text>\n",
       "</g>\n",
       "<!-- 17&#45;&gt;19 -->\n",
       "<g id=\"edge19\" class=\"edge\">\n",
       "<title>17&#45;&gt;19</title>\n",
       "<path fill=\"none\" stroke=\"black\" d=\"M809.27,-93.21C817.17,-84.25 825.63,-74.66 833.52,-65.72\"/>\n",
       "<polygon fill=\"black\" stroke=\"black\" points=\"835.58,-68.54 839.57,-58.73 830.33,-63.91 835.58,-68.54\"/>\n",
       "</g>\n",
       "<!-- 22 -->\n",
       "<g id=\"node23\" class=\"node\">\n",
       "<title>22</title>\n",
       "<path fill=\"#fae9dd\" stroke=\"black\" d=\"M1021.5,-269.25C1021.5,-269.25 887,-269.25 887,-269.25 881,-269.25 875,-263.25 875,-257.25 875,-257.25 875,-223.75 875,-223.75 875,-217.75 881,-211.75 887,-211.75 887,-211.75 1021.5,-211.75 1021.5,-211.75 1027.5,-211.75 1033.5,-217.75 1033.5,-223.75 1033.5,-223.75 1033.5,-257.25 1033.5,-257.25 1033.5,-263.25 1027.5,-269.25 1021.5,-269.25\"/>\n",
       "<text text-anchor=\"middle\" x=\"954.25\" y=\"-251.95\" font-family=\"Helvetica,sans-Serif\" font-size=\"14.00\">squared_error = 0.003</text>\n",
       "<text text-anchor=\"middle\" x=\"954.25\" y=\"-235.45\" font-family=\"Helvetica,sans-Serif\" font-size=\"14.00\">samples = 15</text>\n",
       "<text text-anchor=\"middle\" x=\"954.25\" y=\"-218.95\" font-family=\"Helvetica,sans-Serif\" font-size=\"14.00\">value = 0.147</text>\n",
       "</g>\n",
       "<!-- 21&#45;&gt;22 -->\n",
       "<g id=\"edge22\" class=\"edge\">\n",
       "<title>21&#45;&gt;22</title>\n",
       "<path fill=\"none\" stroke=\"black\" d=\"M954.25,-313.24C954.25,-302.69 954.25,-291.12 954.25,-280.41\"/>\n",
       "<polygon fill=\"black\" stroke=\"black\" points=\"957.75,-280.64 954.25,-270.64 950.75,-280.64 957.75,-280.64\"/>\n",
       "</g>\n",
       "<!-- 23 -->\n",
       "<g id=\"node24\" class=\"node\">\n",
       "<title>23</title>\n",
       "<path fill=\"#f8dfcd\" stroke=\"black\" d=\"M1198.5,-269.25C1198.5,-269.25 1064,-269.25 1064,-269.25 1058,-269.25 1052,-263.25 1052,-257.25 1052,-257.25 1052,-223.75 1052,-223.75 1052,-217.75 1058,-211.75 1064,-211.75 1064,-211.75 1198.5,-211.75 1198.5,-211.75 1204.5,-211.75 1210.5,-217.75 1210.5,-223.75 1210.5,-223.75 1210.5,-257.25 1210.5,-257.25 1210.5,-263.25 1204.5,-269.25 1198.5,-269.25\"/>\n",
       "<text text-anchor=\"middle\" x=\"1131.25\" y=\"-251.95\" font-family=\"Helvetica,sans-Serif\" font-size=\"14.00\">squared_error = 0.005</text>\n",
       "<text text-anchor=\"middle\" x=\"1131.25\" y=\"-235.45\" font-family=\"Helvetica,sans-Serif\" font-size=\"14.00\">samples = 12</text>\n",
       "<text text-anchor=\"middle\" x=\"1131.25\" y=\"-218.95\" font-family=\"Helvetica,sans-Serif\" font-size=\"14.00\">value = 0.223</text>\n",
       "</g>\n",
       "<!-- 21&#45;&gt;23 -->\n",
       "<g id=\"edge23\" class=\"edge\">\n",
       "<title>21&#45;&gt;23</title>\n",
       "<path fill=\"none\" stroke=\"black\" d=\"M1013.68,-313.24C1033.8,-300.96 1056.16,-287.32 1075.94,-275.25\"/>\n",
       "<polygon fill=\"black\" stroke=\"black\" points=\"1077.41,-277.84 1084.13,-269.64 1073.77,-271.86 1077.41,-277.84\"/>\n",
       "</g>\n",
       "<!-- 25 -->\n",
       "<g id=\"node26\" class=\"node\">\n",
       "<title>25</title>\n",
       "<path fill=\"#f1bd97\" stroke=\"black\" d=\"M1198.5,-497.5C1198.5,-497.5 1064,-497.5 1064,-497.5 1058,-497.5 1052,-491.5 1052,-485.5 1052,-485.5 1052,-435.5 1052,-435.5 1052,-429.5 1058,-423.5 1064,-423.5 1064,-423.5 1198.5,-423.5 1198.5,-423.5 1204.5,-423.5 1210.5,-429.5 1210.5,-435.5 1210.5,-435.5 1210.5,-485.5 1210.5,-485.5 1210.5,-491.5 1204.5,-497.5 1198.5,-497.5\"/>\n",
       "<text text-anchor=\"middle\" x=\"1131.25\" y=\"-480.2\" font-family=\"Helvetica,sans-Serif\" font-size=\"14.00\">X &lt;= 0.862</text>\n",
       "<text text-anchor=\"middle\" x=\"1131.25\" y=\"-463.7\" font-family=\"Helvetica,sans-Serif\" font-size=\"14.00\">squared_error = 0.012</text>\n",
       "<text text-anchor=\"middle\" x=\"1131.25\" y=\"-447.2\" font-family=\"Helvetica,sans-Serif\" font-size=\"14.00\">samples = 28</text>\n",
       "<text text-anchor=\"middle\" x=\"1131.25\" y=\"-430.7\" font-family=\"Helvetica,sans-Serif\" font-size=\"14.00\">value = 0.489</text>\n",
       "</g>\n",
       "<!-- 24&#45;&gt;25 -->\n",
       "<g id=\"edge25\" class=\"edge\">\n",
       "<title>24&#45;&gt;25</title>\n",
       "<path fill=\"none\" stroke=\"black\" d=\"M1131.25,-533.24C1131.25,-525.4 1131.25,-517 1131.25,-508.82\"/>\n",
       "<polygon fill=\"black\" stroke=\"black\" points=\"1134.75,-508.85 1131.25,-498.85 1127.75,-508.85 1134.75,-508.85\"/>\n",
       "</g>\n",
       "<!-- 28 -->\n",
       "<g id=\"node29\" class=\"node\">\n",
       "<title>28</title>\n",
       "<path fill=\"#e99355\" stroke=\"black\" d=\"M1366.38,-489.25C1366.38,-489.25 1240.12,-489.25 1240.12,-489.25 1234.12,-489.25 1228.12,-483.25 1228.12,-477.25 1228.12,-477.25 1228.12,-443.75 1228.12,-443.75 1228.12,-437.75 1234.12,-431.75 1240.12,-431.75 1240.12,-431.75 1366.38,-431.75 1366.38,-431.75 1372.38,-431.75 1378.38,-437.75 1378.38,-443.75 1378.38,-443.75 1378.38,-477.25 1378.38,-477.25 1378.38,-483.25 1372.38,-489.25 1366.38,-489.25\"/>\n",
       "<text text-anchor=\"middle\" x=\"1303.25\" y=\"-471.95\" font-family=\"Helvetica,sans-Serif\" font-size=\"14.00\">squared_error = 0.01</text>\n",
       "<text text-anchor=\"middle\" x=\"1303.25\" y=\"-455.45\" font-family=\"Helvetica,sans-Serif\" font-size=\"14.00\">samples = 18</text>\n",
       "<text text-anchor=\"middle\" x=\"1303.25\" y=\"-438.95\" font-family=\"Helvetica,sans-Serif\" font-size=\"14.00\">value = 0.811</text>\n",
       "</g>\n",
       "<!-- 24&#45;&gt;28 -->\n",
       "<g id=\"edge28\" class=\"edge\">\n",
       "<title>24&#45;&gt;28</title>\n",
       "<path fill=\"none\" stroke=\"black\" d=\"M1189,-533.24C1208.46,-521.02 1230.09,-507.44 1249.25,-495.41\"/>\n",
       "<polygon fill=\"black\" stroke=\"black\" points=\"1250.82,-497.92 1257.43,-489.64 1247.1,-492 1250.82,-497.92\"/>\n",
       "</g>\n",
       "<!-- 26 -->\n",
       "<g id=\"node27\" class=\"node\">\n",
       "<title>26</title>\n",
       "<path fill=\"#f3c6a5\" stroke=\"black\" d=\"M1198.5,-379.25C1198.5,-379.25 1064,-379.25 1064,-379.25 1058,-379.25 1052,-373.25 1052,-367.25 1052,-367.25 1052,-333.75 1052,-333.75 1052,-327.75 1058,-321.75 1064,-321.75 1064,-321.75 1198.5,-321.75 1198.5,-321.75 1204.5,-321.75 1210.5,-327.75 1210.5,-333.75 1210.5,-333.75 1210.5,-367.25 1210.5,-367.25 1210.5,-373.25 1204.5,-379.25 1198.5,-379.25\"/>\n",
       "<text text-anchor=\"middle\" x=\"1131.25\" y=\"-361.95\" font-family=\"Helvetica,sans-Serif\" font-size=\"14.00\">squared_error = 0.005</text>\n",
       "<text text-anchor=\"middle\" x=\"1131.25\" y=\"-345.45\" font-family=\"Helvetica,sans-Serif\" font-size=\"14.00\">samples = 16</text>\n",
       "<text text-anchor=\"middle\" x=\"1131.25\" y=\"-328.95\" font-family=\"Helvetica,sans-Serif\" font-size=\"14.00\">value = 0.42</text>\n",
       "</g>\n",
       "<!-- 25&#45;&gt;26 -->\n",
       "<g id=\"edge26\" class=\"edge\">\n",
       "<title>25&#45;&gt;26</title>\n",
       "<path fill=\"none\" stroke=\"black\" d=\"M1131.25,-423.24C1131.25,-412.69 1131.25,-401.12 1131.25,-390.41\"/>\n",
       "<polygon fill=\"black\" stroke=\"black\" points=\"1134.75,-390.64 1131.25,-380.64 1127.75,-390.64 1134.75,-390.64\"/>\n",
       "</g>\n",
       "<!-- 27 -->\n",
       "<g id=\"node28\" class=\"node\">\n",
       "<title>27</title>\n",
       "<path fill=\"#efb184\" stroke=\"black\" d=\"M1375.5,-379.25C1375.5,-379.25 1241,-379.25 1241,-379.25 1235,-379.25 1229,-373.25 1229,-367.25 1229,-367.25 1229,-333.75 1229,-333.75 1229,-327.75 1235,-321.75 1241,-321.75 1241,-321.75 1375.5,-321.75 1375.5,-321.75 1381.5,-321.75 1387.5,-327.75 1387.5,-333.75 1387.5,-333.75 1387.5,-367.25 1387.5,-367.25 1387.5,-373.25 1381.5,-379.25 1375.5,-379.25\"/>\n",
       "<text text-anchor=\"middle\" x=\"1308.25\" y=\"-361.95\" font-family=\"Helvetica,sans-Serif\" font-size=\"14.00\">squared_error = 0.006</text>\n",
       "<text text-anchor=\"middle\" x=\"1308.25\" y=\"-345.45\" font-family=\"Helvetica,sans-Serif\" font-size=\"14.00\">samples = 12</text>\n",
       "<text text-anchor=\"middle\" x=\"1308.25\" y=\"-328.95\" font-family=\"Helvetica,sans-Serif\" font-size=\"14.00\">value = 0.579</text>\n",
       "</g>\n",
       "<!-- 25&#45;&gt;27 -->\n",
       "<g id=\"edge27\" class=\"edge\">\n",
       "<title>25&#45;&gt;27</title>\n",
       "<path fill=\"none\" stroke=\"black\" d=\"M1190.68,-423.24C1210.8,-410.96 1233.16,-397.32 1252.94,-385.25\"/>\n",
       "<polygon fill=\"black\" stroke=\"black\" points=\"1254.41,-387.84 1261.13,-379.64 1250.77,-381.86 1254.41,-387.84\"/>\n",
       "</g>\n",
       "</g>\n",
       "</svg>\n"
      ],
      "text/plain": [
       "<graphviz.sources.Source at 0x1b97ebfb310>"
      ]
     },
     "execution_count": 42,
     "metadata": {},
     "output_type": "execute_result"
    }
   ],
   "source": [
    "#터미널(자식이 없는 노드 - leaf node)의 개수가 10이상이어야 한다는 제약\n",
    "#min_samples_leaf를 설정하게 되면 각 터미널의 depth가 일정하지 않을 수 있음\n",
    "tree_reg = DecisionTreeRegressor(min_samples_leaf=10, random_state=42)\n",
    "tree_reg.fit(X, y)\n",
    "\n",
    "#트리 시각화 파일 생성\n",
    "export_graphviz(\n",
    "    tree_reg,\n",
    "    out_file=\"decision_tree.dot\",\n",
    "    feature_names=[\"X\"],\n",
    "    class_names=[\"y\"],\n",
    "    rounded=True,\n",
    "    filled=True\n",
    ")\n",
    "\n",
    "#화면 출력\n",
    "with open('decision_tree.dot') as f:\n",
    "    dot_graph = f.read()\n",
    "src = Source(dot_graph)\n",
    "src"
   ]
  },
  {
   "cell_type": "markdown",
   "id": "73fb591e",
   "metadata": {},
   "source": [
    "## SVM을 이용한 회귀"
   ]
  },
  {
   "cell_type": "code",
   "execution_count": null,
   "id": "62aada2f",
   "metadata": {},
   "outputs": [],
   "source": [
    "np.random.seed(42)\n",
    "\n",
    "#m : 머신러닝에서는 데이터(행)의 개수\n",
    "#n : 행의 개수\n",
    "m = 50\n",
    "\n",
    "X = 2 * np.random.rand(m, 1)\n",
    "#ravel은 차원을 하나 줄이는 역할을 수행하는 함수\n",
    "#X 때문에 2차원 배열로 만들어지는 타겟은 1타원 배열이어야해서 차원을 수정\n",
    "#flatten이나 reshape를 이용해서 조절을 해도 됨\n",
    "y = (4 + 3 * X + np.random(m, 1)).flatten()\n",
    "print(y)\n",
    "\n"
   ]
  },
  {
   "cell_type": "code",
   "execution_count": null,
   "id": "13ef0a30",
   "metadata": {},
   "outputs": [],
   "source": [
    "#시드 고정 후 가우시안 분포를 따르는 데이터셋을 만듭니다.\n",
    "np.random.seed(42)\n",
    "m = 50\n",
    "X = 2 * np.random.rand(m,1)\n",
    "y = (4+3*X+np.random.randn(m,1)).ravel()\n",
    "X_train = X[:40]\n",
    "X_test = X[40:]\n",
    "y_train = y[:40]\n",
    "y_test = y[40:]\n",
    "\n",
    "# 모델 생성 과 훈련\n",
    "from sklearn.svm import LinearSVR\n",
    "# svm_reg = 마진이 큰 모형(epsilon=1.5)\n",
    "svm_reg = LinearSVR(epsilon=1.5, random_state=42)\n",
    "svm_reg.fit(X_train,y_train)\n"
   ]
  },
  {
   "cell_type": "code",
   "execution_count": null,
   "id": "ad68c567",
   "metadata": {},
   "outputs": [],
   "source": [
    "y_pred = svm_reg.predict(X_test)\n",
    "print(y_test)\n",
    "print(y_pred)\n",
    "mse = mean_squared_error(y_test, y_pred)\n",
    "rmse = np.sqrt(mse)\n",
    "print(rmse)\n"
   ]
  },
  {
   "cell_type": "code",
   "execution_count": 50,
   "id": "ee14ab6b",
   "metadata": {},
   "outputs": [],
   "source": [
    "#비선형 데이터 생성\n",
    "m = 100\n",
    "X = 2* np.random.rand(m,1) -1\n",
    "y = (0.2 + 0.1 * X + 0.5 * X**2 + np.random.randn(m,1) / 10).ravel()\n",
    "\n",
    "X_train = X[:80]\n",
    "X_test = X[80:]\n",
    "y_train = y[:80]\n",
    "y_test = y[80:]"
   ]
  },
  {
   "cell_type": "code",
   "execution_count": 51,
   "id": "d736c71f",
   "metadata": {},
   "outputs": [
    {
     "name": "stdout",
     "output_type": "stream",
     "text": [
      "0.39517418408997823\n"
     ]
    },
    {
     "name": "stderr",
     "output_type": "stream",
     "text": [
      "C:\\Users\\user\\AppData\\Local\\anaconda3\\lib\\site-packages\\sklearn\\svm\\_classes.py:32: FutureWarning: The default value of `dual` will change from `True` to `'auto'` in 1.5. Set the value of `dual` explicitly to suppress the warning.\n",
      "  warnings.warn(\n"
     ]
    },
    {
     "data": {
      "image/png": "[encoded data removed]",
      "text/plain": [
       "<Figure size 640x480 with 1 Axes>"
      ]
     },
     "metadata": {},
     "output_type": "display_data"
    }
   ],
   "source": [
    "from sklearn.svm import LinearSVR\n",
    "\n",
    "# 선형 SVM 적용 - 오차가 심함\n",
    "svm_reg = LinearSVR(epsilon=1.5, random_state=42)\n",
    "svm_reg.fit(X_train,y_train)\n",
    "\n",
    "# 예측 및 결과 비교\n",
    "y_pred = svm_reg.predict(X_test)\n",
    "mse = mean_squared_error(y_test, y_pred)\n",
    "rmse = np.sqrt(mse)\n",
    "print(rmse)\n",
    "\n",
    "\n",
    "plt.plot(y_test, \"b-\", linewidth=3, label=\"test_set\")\n",
    "plt.plot(y_pred, \"r--\", linewidth=3, label=\"predict_set\")\n",
    "plt.show()"
   ]
  },
  {
   "cell_type": "code",
   "execution_count": 52,
   "id": "8a3446f3",
   "metadata": {},
   "outputs": [
    {
     "name": "stdout",
     "output_type": "stream",
     "text": [
      "0.21136032163621837\n"
     ]
    },
    {
     "data": {
      "image/png": "[encoded data removed]",
      "text/plain": [
       "<Figure size 640x480 with 1 Axes>"
      ]
     },
     "metadata": {},
     "output_type": "display_data"
    }
   ],
   "source": [
    "# 비선형 SVM 적용 \n",
    "from sklearn.svm import SVR\n",
    "#샘플 데이터를 2차 방정식으로 만들었기 때문에 지금은 degree가 2인 경우가 가장 잘맞음\n",
    "#샘플 데이터르 알지 못한다면 degree는 하이퍼 파라미터 튜닝을 해서 구해야 함\n",
    "svm_poly_reg = SVR(kernel='poly', epsilon=0.1)\n",
    "svm_poly_reg.fit(X_train,y_train)\n",
    "\n",
    "# 예측 및 결과 비교\n",
    "y_pred = svm_poly_reg.predict(X_test)\n",
    "mse = mean_squared_error(y_test, y_pred)\n",
    "rmse = np.sqrt(mse)\n",
    "print(rmse)\n",
    "\n",
    "plt.plot(y_test, \"b-\", linewidth=3, label=\"test set\")\n",
    "plt.plot(y_pred, \"r--\", linewidth=2, label=\"predict set\")\n",
    "plt.legend(loc=\"upper right\", fontsize=14)\n",
    "plt.show()"
   ]
  }
 ],
 "metadata": {
  "kernelspec": {
   "display_name": "Python 3 (ipykernel)",
   "language": "python",
   "name": "python3"
  },
  "language_info": {
   "codemirror_mode": {
    "name": "ipython",
    "version": 3
   },
   "file_extension": ".py",
   "mimetype": "text/x-python",
   "name": "python",
   "nbconvert_exporter": "python",
   "pygments_lexer": "ipython3",
   "version": "3.10.9"
  }
 },
 "nbformat": 4,
 "nbformat_minor": 5
}
