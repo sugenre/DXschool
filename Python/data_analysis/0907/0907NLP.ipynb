{
 "cells": [
  {
   "cell_type": "markdown",
   "id": "afdc2b8d",
   "metadata": {},
   "source": [
    "# 자연어 처리 기본 개념"
   ]
  },
  {
   "cell_type": "markdown",
   "id": "2eddf5e7",
   "metadata": {},
   "source": [
    "## 공통 코드"
   ]
  },
  {
   "cell_type": "code",
   "execution_count": 1,
   "id": "c857a904",
   "metadata": {},
   "outputs": [],
   "source": [
    "# 파이썬 ≥3.5 필수\n",
    "import sys\n",
    "assert sys.version_info >= (3, 5)\n",
    "\n",
    "# 공통 모듈 임포트\n",
    "import numpy as np\n",
    "import pandas as pd\n",
    "import os\n",
    "\n",
    "# 깔끔한 그래프 출력을 위해\n",
    "%matplotlib inline\n",
    "import matplotlib as mpl\n",
    "import matplotlib.pyplot as plt\n",
    "mpl.rc('axes', labelsize=14)\n",
    "mpl.rc('xtick', labelsize=12)\n",
    "mpl.rc('ytick', labelsize=12)\n",
    "\n",
    "# 그림을 저장할 위치\n",
    "PROJECT_ROOT_DIR = \".\"\n",
    "CHAPTER_ID = \"classification\"\n",
    "IMAGES_PATH = os.path.join(PROJECT_ROOT_DIR, \"images\", CHAPTER_ID)\n",
    "#이미지를 저장할 디렉토리 생성\n",
    "os.makedirs(IMAGES_PATH, exist_ok=True)\n",
    "\n",
    "#이미지를 저장할 때 사용하기 위한 함수\n",
    "def save_fig(fig_id, tight_layout=True, fig_extension=\"png\", resolution=300):\n",
    "    path = os.path.join(IMAGES_PATH, fig_id + \".\" + fig_extension)\n",
    "    print(\"그림 저장:\", fig_id)\n",
    "    if tight_layout:\n",
    "        plt.tight_layout()\n",
    "    plt.savefig(path, format=fig_extension, dpi=resolution)\n",
    "    \n",
    "from matplotlib import font_manager, rc\n",
    "import platform\n",
    "\n",
    "#한글 출력을 위한 부분\n",
    "path = \"c:/Windows/Fonts/malgun.ttf\"\n",
    "if platform.system() == 'Darwin':\n",
    "    rc('font', family='AppleGothic')\n",
    "elif platform.system() == 'Windows':\n",
    "    font_name = font_manager.FontProperties(fname=path).get_name()\n",
    "    rc('font', family=font_name)\n",
    "\n",
    "#음수 출력을 위한 부분\n",
    "mpl.rcParams['axes.unicode_minus'] = False\n",
    "\n",
    "# Jupyter Notebook의 출력을 소수점 이하 3자리로 제한 \n",
    "%precision 3\n",
    "\n",
    "#그래픽 출력을 조금 더 고급화하기 위한 라이브러리\n",
    "import seaborn as sns\n",
    "\n",
    "#과학 기술 통계 라이브러리\n",
    "import scipy as sp\n",
    "from scipy import stats\n",
    "\n",
    "# 사이킷런 ≥0.20 필수: 0.20 에서 데이터 변환을 위한 Transformer 클래스가 추가됨\n",
    "import sklearn\n",
    "assert sklearn.__version__ >= \"0.20\"\n",
    "\n",
    "# 데이터를 분할할 때 동일한 분할을 만들기 위해서\n",
    "# 모델을 만드는 작업을 여러 번에 걸쳐서 하는 경우 시드가 변경이 되서 훈령용 데이터가\n",
    "# 자주 변경되면 결국 모든 데이터를 가지고 모델을 생성하는 결과\n",
    "# Overfit이 될 가능성이 높아짐\n",
    "np.random.seed(42)"
   ]
  },
  {
   "cell_type": "code",
   "execution_count": null,
   "id": "b808c2c7",
   "metadata": {},
   "outputs": [],
   "source": []
  },
  {
   "cell_type": "markdown",
   "id": "207320b4",
   "metadata": {},
   "source": [
    "## 텍스트 전처리"
   ]
  },
  {
   "cell_type": "markdown",
   "id": "a91798bb",
   "metadata": {},
   "source": [
    "### 토큰화 - 문장이나 단어 단위로 분리하는 것"
   ]
  },
  {
   "cell_type": "code",
   "execution_count": 2,
   "id": "58ae6d77",
   "metadata": {},
   "outputs": [
    {
     "name": "stderr",
     "output_type": "stream",
     "text": [
      "[nltk_data] Downloading package punkt to\n",
      "[nltk_data]     C:\\Users\\USER\\AppData\\Roaming\\nltk_data...\n",
      "[nltk_data]   Package punkt is already up-to-date!\n"
     ]
    },
    {
     "data": {
      "text/plain": [
       "True"
      ]
     },
     "execution_count": 2,
     "metadata": {},
     "output_type": "execute_result"
    }
   ],
   "source": [
    "#nltk 패키지의 punkt 서브 패키지 설치\n",
    "import nltk\n",
    "nltk.download('punkt')"
   ]
  },
  {
   "cell_type": "code",
   "execution_count": 3,
   "id": "1ad37495",
   "metadata": {},
   "outputs": [
    {
     "name": "stdout",
     "output_type": "stream",
     "text": [
      "['Hello World!', 'Steve Jobs.', '리처드 스톨만.', '데니스 리치히,']\n"
     ]
    }
   ],
   "source": [
    "#문장 토큰화\n",
    "text_sample = 'Hello World! Steve Jobs. 리처드 스톨만. 데니스 리치히,'\n",
    "from nltk import sent_tokenize\n",
    "sentences = sent_tokenize(text_sample)\n",
    "print(sentences)"
   ]
  },
  {
   "cell_type": "code",
   "execution_count": 4,
   "id": "37f0915d",
   "metadata": {},
   "outputs": [
    {
     "name": "stdout",
     "output_type": "stream",
     "text": [
      "['손으로', '코딩하고', '뇌로', '컴파일하며', '눈으로', '디버깅한다', '품질은', '양보다', '중요하다', '한', '번의', '홈런이', '두', '번의', '더블보다', '낫다', '.']\n"
     ]
    }
   ],
   "source": [
    "#단어 토큰화\n",
    "sentence = '손으로 코딩하고 뇌로 컴파일하며 눈으로 디버깅한다\\r\\n품질은 양보다 중요하다 한 번의 홈런이 두 번의 더블보다 낫다.'\n",
    "from nltk import word_tokenize\n",
    "words = word_tokenize(sentence)\n",
    "print(words)"
   ]
  },
  {
   "cell_type": "code",
   "execution_count": null,
   "id": "a8e85dbe",
   "metadata": {},
   "outputs": [],
   "source": []
  },
  {
   "cell_type": "markdown",
   "id": "e468d882",
   "metadata": {},
   "source": [
    "### 스톱 워드 제거"
   ]
  },
  {
   "cell_type": "code",
   "execution_count": 5,
   "id": "1c1c2e9b",
   "metadata": {},
   "outputs": [
    {
     "name": "stdout",
     "output_type": "stream",
     "text": [
      "불용어 개수: 179\n",
      "불용어: ['i', 'me', 'my', 'myself', 'we', 'our', 'ours', 'ourselves', 'you', \"you're\", \"you've\", \"you'll\", \"you'd\", 'your', 'yours', 'yourself', 'yourselves', 'he', 'him', 'his', 'himself', 'she', \"she's\", 'her', 'hers', 'herself', 'it', \"it's\", 'its', 'itself', 'they', 'them', 'their', 'theirs', 'themselves', 'what', 'which', 'who', 'whom', 'this', 'that', \"that'll\", 'these', 'those', 'am', 'is', 'are', 'was', 'were', 'be']\n",
      "불용어 개수: 180\n"
     ]
    },
    {
     "name": "stderr",
     "output_type": "stream",
     "text": [
      "[nltk_data] Downloading package stopwords to\n",
      "[nltk_data]     C:\\Users\\USER\\AppData\\Roaming\\nltk_data...\n",
      "[nltk_data]   Package stopwords is already up-to-date!\n"
     ]
    }
   ],
   "source": [
    "import nltk\n",
    "nltk.download('stopwords')\n",
    "\n",
    "print(\"불용어 개수:\", len(nltk.corpus.stopwords.words('english')))\n",
    "print(\"불용어:\", nltk.corpus.stopwords.words('english')[:50])\n",
    "stopwords = nltk.corpus.stopwords.words('english')\n",
    "#print(type(stopwords))\n",
    "stopwords.append('jobs')\n",
    "print(\"불용어 개수:\", len(stopwords))"
   ]
  },
  {
   "cell_type": "code",
   "execution_count": 6,
   "id": "e3a61883",
   "metadata": {},
   "outputs": [
    {
     "name": "stdout",
     "output_type": "stream",
     "text": [
      "[['Love', 'Hello', 'World', '!'], ['Steve', '.'], ['리처드', '스톨만', '.'], ['데니스', '리치히', ',']]\n"
     ]
    }
   ],
   "source": [
    "#문장 토큰화\n",
    "text_sample = 'I Love You Hello World! Steve Jobs. 리처드 스톨만. 데니스 리치히,'\n",
    "sentences = sent_tokenize(text_sample)\n",
    "wordtokens = [word_tokenize(sentence) for sentence in sentences]\n",
    "#print(wordtokens)\n",
    "\n",
    "#불용어를 제거한 단어들\n",
    "all_tokens = []\n",
    "\n",
    "for sentence in wordtokens:\n",
    "    filtered_words = []\n",
    "    for word in sentence:\n",
    "        #영문의 경우는 대소문자\n",
    "        lower_word = word.lower()\n",
    "        if lower_word not in stopwords:\n",
    "            filtered_words.append(word)\n",
    "    all_tokens.append(filtered_words)\n",
    "print(all_tokens)"
   ]
  },
  {
   "cell_type": "code",
   "execution_count": null,
   "id": "c8ff3444",
   "metadata": {},
   "outputs": [],
   "source": []
  },
  {
   "cell_type": "markdown",
   "id": "2eece266",
   "metadata": {},
   "source": [
    "### 단어의 어근 찾기"
   ]
  },
  {
   "cell_type": "code",
   "execution_count": 7,
   "id": "3680970c",
   "metadata": {},
   "outputs": [
    {
     "name": "stderr",
     "output_type": "stream",
     "text": [
      "[nltk_data] Downloading package wordnet to\n",
      "[nltk_data]     C:\\Users\\USER\\AppData\\Roaming\\nltk_data...\n"
     ]
    },
    {
     "name": "stdout",
     "output_type": "stream",
     "text": [
      "work work work\n",
      "amus amus amus\n",
      "happy happiest\n",
      "fant fanciest\n"
     ]
    },
    {
     "name": "stderr",
     "output_type": "stream",
     "text": [
      "[nltk_data]   Package wordnet is already up-to-date!\n"
     ]
    },
    {
     "name": "stdout",
     "output_type": "stream",
     "text": [
      "work work work\n",
      "amuse amuse amuse\n",
      "happy happy\n",
      "fancy fancy\n"
     ]
    }
   ],
   "source": [
    "from nltk.stem import LancasterStemmer\n",
    "stemmer = LancasterStemmer()\n",
    "\n",
    "print(stemmer.stem('working'), stemmer.stem('works'), stemmer.stem('worked'))\n",
    "print(stemmer.stem('amusing'), stemmer.stem('amuses'), stemmer.stem('amused'))\n",
    "print(stemmer.stem('happy'), stemmer.stem('happiest'))\n",
    "print(stemmer.stem('fancier'), stemmer.stem('fanciest'))\n",
    "\n",
    "from nltk.stem import WordNetLemmatizer\n",
    "import nltk\n",
    "nltk.download('wordnet')\n",
    "stemmer = WordNetLemmatizer()\n",
    "\n",
    "print(stemmer.lemmatize('working', 'v'), stemmer.lemmatize('works', 'v'), \n",
    "      stemmer.lemmatize('worked', 'v'))\n",
    "print(stemmer.lemmatize('amusing', 'v'), stemmer.lemmatize('amuses', 'v'), \n",
    "      stemmer.lemmatize('amused', 'v'))\n",
    "print(stemmer.lemmatize('happy', 'a'), stemmer.lemmatize('happiest', 'a'))\n",
    "print(stemmer.lemmatize('fancier', 'a'), stemmer.lemmatize('fanciest','a'))"
   ]
  },
  {
   "cell_type": "code",
   "execution_count": null,
   "id": "e2209996",
   "metadata": {},
   "outputs": [],
   "source": []
  },
  {
   "cell_type": "markdown",
   "id": "caa5088e",
   "metadata": {},
   "source": [
    "### COO 방식의 희소 행렬 표현"
   ]
  },
  {
   "cell_type": "code",
   "execution_count": 8,
   "id": "4ba664bb",
   "metadata": {},
   "outputs": [
    {
     "name": "stdout",
     "output_type": "stream",
     "text": [
      "  (0, 0)\t3\n",
      "  (0, 2)\t1\n",
      "  (1, 1)\t2\n"
     ]
    }
   ],
   "source": [
    "data = np.array([3, 1, 2])\n",
    "\n",
    "row_pos = np.array([0, 0, 1])\n",
    "col_pos = np.array([0, 2, 1])\n",
    "\n",
    "from scipy import sparse\n",
    "sparse_coo = sparse.coo_matrix((data,(row_pos, col_pos)))\n",
    "print(sparse_coo)"
   ]
  },
  {
   "cell_type": "markdown",
   "id": "42fd156c",
   "metadata": {},
   "source": [
    "### CSR 형식을 이용한 희소 행렬"
   ]
  },
  {
   "cell_type": "code",
   "execution_count": 9,
   "id": "39726f07",
   "metadata": {},
   "outputs": [
    {
     "name": "stdout",
     "output_type": "stream",
     "text": [
      "[[0 0 1 0 0 5]\n",
      " [1 4 0 3 2 5]\n",
      " [0 6 0 6 0 0]\n",
      " [2 0 0 0 0 0]\n",
      " [0 0 0 7 0 8]\n",
      " [1 0 0 0 0 0]]\n"
     ]
    }
   ],
   "source": [
    "dense_matrix = np.array([[0, 0, 1, 0, 0, 5], [1, 4, 0, 3, 2, 5],\n",
    "                         [0, 6, 0, 6, 0, 0], [2, 0, 0, 0, 0, 0],\n",
    "                         [0, 0, 0, 7, 0, 8], [1, 0, 0, 0, 0, 0]])\n",
    "data = np.array([1, 5, 1, 4, 3, 2, 5, 6, 6, 2, 7, 8, 1])\n",
    "row_pos = np.array([0, 0, 1, 1, 1, 1, 1, 2, 2, 3, 4, 4, 5])\n",
    "row_pos_index = np.array([0, 2, 7, 9, 10, 12, 13])\n",
    "col_pos = np.array([2, 5, 0, 1, 3, 4, 5, 1, 3, 0, 3, 5, 0])\n",
    "#밀집 행렬로 변환\n",
    "sparse_csr = sparse.csr_matrix((data, col_pos, row_pos_index))\n",
    "print(sparse_csr.toarray())"
   ]
  },
  {
   "cell_type": "code",
   "execution_count": null,
   "id": "ce89a9ec",
   "metadata": {},
   "outputs": [],
   "source": []
  },
  {
   "cell_type": "markdown",
   "id": "bf915879",
   "metadata": {},
   "source": [
    "### pytagcloud를 이용한 wordcloud"
   ]
  },
  {
   "cell_type": "code",
   "execution_count": 10,
   "id": "43108448",
   "metadata": {},
   "outputs": [
    {
     "name": "stdout",
     "output_type": "stream",
     "text": [
      "pygame 2.5.1 (SDL 2.28.2, Python 3.11.4)\n",
      "Hello from the pygame community. https://www.pygame.org/contribute.html\n",
      "[('SQL', 12), ('자바', 10), ('C++', 9), ('GO', 9), ('JavaScript', 9), ('파이썬', 8), ('코틀린', 8), ('C#', 7), ('러스트', 6), ('Scala', 4)]\n",
      "[{'color': (77, 143, 20), 'size': 68, 'tag': 'SQL'}, {'color': (173, 99, 109), 'size': 59, 'tag': '자바'}, {'color': (179, 84, 208), 'size': 54, 'tag': 'C++'}, {'color': (183, 122, 185), 'size': 54, 'tag': 'GO'}, {'color': (157, 45, 211), 'size': 54, 'tag': 'JavaScript'}, {'color': (176, 100, 70), 'size': 50, 'tag': '파이썬'}, {'color': (90, 86, 35), 'size': 50, 'tag': '코틀린'}, {'color': (210, 133, 131), 'size': 45, 'tag': 'C#'}, {'color': (69, 82, 95), 'size': 40, 'tag': '러스트'}, {'color': (214, 109, 17), 'size': 29, 'tag': 'Scala'}]\n"
     ]
    },
    {
     "data": {
      "image/png": "[encoded data removed]",
      "text/plain": [
       "<Figure size 640x480 with 1 Axes>"
      ]
     },
     "metadata": {},
     "output_type": "display_data"
    }
   ],
   "source": [
    "import pytagcloud\n",
    "import collections\n",
    "\n",
    "nouns = []\n",
    "\n",
    "nouns.extend(['파이썬' for t in range(8)])\n",
    "nouns.extend(['자바' for t in range(10)])\n",
    "nouns.extend(['C++' for t in range(9)])\n",
    "nouns.extend(['코틀린' for t in range(8)])\n",
    "nouns.extend(['GO' for t in range(9)])\n",
    "nouns.extend(['러스트' for t in range(6)])\n",
    "nouns.extend(['C#' for t in range(7)])\n",
    "nouns.extend(['JavaScript' for t in range(9)])\n",
    "nouns.extend(['Scala' for t in range(4)])\n",
    "nouns.extend(['SQL' for t in range(12)])\n",
    "\n",
    "#데이터 개수 세기 - list 에서 데이터 개수 세기\n",
    "count = collections.Counter(nouns)\n",
    "'''\n",
    "for x in count:\n",
    "    print(x, count[x])\n",
    "'''\n",
    "\n",
    "#가장 많이 등장한 것의 개수를 설정해서 가져오기\n",
    "tag = count.most_common(10)\n",
    "print(tag)\n",
    "\n",
    "#태그 목록 만들기\n",
    "taglist = pytagcloud.make_tags(tag, maxsize=50)\n",
    "print(taglist)\n",
    "\n",
    "#태그 클라우드 생성\n",
    "pytagcloud.create_tag_image(taglist, 'wordcloud.png', \n",
    "                           size=(900, 600), fontname=\"Korean\",\n",
    "                           rectangular=False)\n",
    "\n",
    "#화면 출력\n",
    "import matplotlib.pyplot\n",
    "import matplotlib.image\n",
    "img = matplotlib.image.imread('wordcloud.png')\n",
    "imgplot = matplotlib.pyplot.imshow(img)\n",
    "matplotlib.pyplot.show()"
   ]
  },
  {
   "cell_type": "markdown",
   "id": "004639fc",
   "metadata": {},
   "source": [
    "### wordcloud 패키지를 이용한 이미지 안에 워드클라우드 출력"
   ]
  },
  {
   "cell_type": "code",
   "execution_count": 11,
   "id": "1f521d5f",
   "metadata": {},
   "outputs": [
    {
     "data": {
      "image/png": "[encoded data removed]",
      "text/plain": [
       "<Figure size 800x800 with 1 Axes>"
      ]
     },
     "metadata": {},
     "output_type": "display_data"
    }
   ],
   "source": [
    "from PIL import Image\n",
    "\n",
    "mask = np.array(Image.open('./data/heart.png'))\n",
    "plt.figure(figsize=(8, 8))\n",
    "plt.imshow(mask, cmap=plt.cm.gray, interpolation='bilinear')\n",
    "plt.axis('off')\n",
    "plt.show()"
   ]
  },
  {
   "cell_type": "code",
   "execution_count": 12,
   "id": "5053db6a",
   "metadata": {},
   "outputs": [
    {
     "data": {
      "image/png": "[encoded data removed]",
      "text/plain": [
       "<Figure size 1200x1200 with 1 Axes>"
      ]
     },
     "metadata": {},
     "output_type": "display_data"
    }
   ],
   "source": [
    "#문자열 만들기\n",
    "text = ''\n",
    "\n",
    "for i in range(8):\n",
    "    text = text + 'Python '\n",
    "for i in range(11):\n",
    "    text = text + 'C '\n",
    "for i in range(7):\n",
    "    text = text + 'Java '\n",
    "for i in range(12):\n",
    "    text = text + 'Go '\n",
    "for i in range(11):\n",
    "    text = text + 'Kotlin '\n",
    "for i in range(4):\n",
    "    text = text + 'Swift '\n",
    "for i in range(9):\n",
    "    text = text + 'Ruby '\n",
    "for i in range(7):\n",
    "    text = text + 'C# '\n",
    "for i in range(7):\n",
    "    text = text + 'Solidity '\n",
    "for i in range(13):\n",
    "    text = text + 'JavaScript '\n",
    "#print(text)\n",
    "from wordcloud import WordCloud, STOPWORDS\n",
    "stopwords = set(STOPWORDS)\n",
    "stopwords.add('Solidity')\n",
    "\n",
    "wordcloud = WordCloud(background_color = 'white', max_words=2000,\n",
    "                     mask=mask, stopwords=stopwords)\n",
    "wordcloud = wordcloud.generate(text)\n",
    "#wordcloud.words_\n",
    "\n",
    "plt.figure(figsize=(12, 12))\n",
    "plt.imshow(wordcloud, interpolation='bilinear')\n",
    "plt.axis('off')\n",
    "plt.show()"
   ]
  },
  {
   "cell_type": "code",
   "execution_count": null,
   "id": "bd06fb3e",
   "metadata": {},
   "outputs": [],
   "source": []
  },
  {
   "cell_type": "markdown",
   "id": "eb17af24",
   "metadata": {},
   "source": [
    "### 동아일보에서 검색한 내용을 가지고 WordCloud 만들기"
   ]
  },
  {
   "cell_type": "code",
   "execution_count": 13,
   "id": "ed4248a6",
   "metadata": {},
   "outputs": [
    {
     "ename": "KeyboardInterrupt",
     "evalue": "Interrupted by user",
     "output_type": "error",
     "traceback": [
      "\u001b[1;31m---------------------------------------------------------------------------\u001b[0m",
      "\u001b[1;31mKeyboardInterrupt\u001b[0m                         Traceback (most recent call last)",
      "Cell \u001b[1;32mIn[13], line 8\u001b[0m\n\u001b[0;32m      5\u001b[0m \u001b[38;5;66;03m#HTML 파싱을 위한 패키지\u001b[39;00m\n\u001b[0;32m      6\u001b[0m \u001b[38;5;28;01mfrom\u001b[39;00m \u001b[38;5;21;01mbs4\u001b[39;00m \u001b[38;5;28;01mimport\u001b[39;00m BeautifulSoup\n\u001b[1;32m----> 8\u001b[0m keyword \u001b[38;5;241m=\u001b[39m \u001b[38;5;28minput\u001b[39m(\u001b[38;5;124m'\u001b[39m\u001b[38;5;124m검색어:\u001b[39m\u001b[38;5;124m'\u001b[39m)\n\u001b[0;32m      9\u001b[0m target_URL \u001b[38;5;241m=\u001b[39m \u001b[38;5;124m'\u001b[39m\u001b[38;5;124mhttps://www.donga.com/news/search?p=1&query=\u001b[39m\u001b[38;5;124m'\u001b[39m \u001b[38;5;241m+\u001b[39m quote(keyword) \u001b[38;5;241m+\u001b[39m \u001b[38;5;124m'\u001b[39m\u001b[38;5;124m&check_news=91&more=1&sorting=1&search_date=1&v1=&v2=\u001b[39m\u001b[38;5;124m'\u001b[39m\n\u001b[0;32m     10\u001b[0m source_code \u001b[38;5;241m=\u001b[39m requests\u001b[38;5;241m.\u001b[39mget(target_URL)\n",
      "File \u001b[1;32mC:\\ProgramData\\anaconda3\\Lib\\site-packages\\ipykernel\\kernelbase.py:1175\u001b[0m, in \u001b[0;36mKernel.raw_input\u001b[1;34m(self, prompt)\u001b[0m\n\u001b[0;32m   1171\u001b[0m \u001b[38;5;28;01mif\u001b[39;00m \u001b[38;5;129;01mnot\u001b[39;00m \u001b[38;5;28mself\u001b[39m\u001b[38;5;241m.\u001b[39m_allow_stdin:\n\u001b[0;32m   1172\u001b[0m     \u001b[38;5;28;01mraise\u001b[39;00m StdinNotImplementedError(\n\u001b[0;32m   1173\u001b[0m         \u001b[38;5;124m\"\u001b[39m\u001b[38;5;124mraw_input was called, but this frontend does not support input requests.\u001b[39m\u001b[38;5;124m\"\u001b[39m\n\u001b[0;32m   1174\u001b[0m     )\n\u001b[1;32m-> 1175\u001b[0m \u001b[38;5;28;01mreturn\u001b[39;00m \u001b[38;5;28mself\u001b[39m\u001b[38;5;241m.\u001b[39m_input_request(\n\u001b[0;32m   1176\u001b[0m     \u001b[38;5;28mstr\u001b[39m(prompt),\n\u001b[0;32m   1177\u001b[0m     \u001b[38;5;28mself\u001b[39m\u001b[38;5;241m.\u001b[39m_parent_ident[\u001b[38;5;124m\"\u001b[39m\u001b[38;5;124mshell\u001b[39m\u001b[38;5;124m\"\u001b[39m],\n\u001b[0;32m   1178\u001b[0m     \u001b[38;5;28mself\u001b[39m\u001b[38;5;241m.\u001b[39mget_parent(\u001b[38;5;124m\"\u001b[39m\u001b[38;5;124mshell\u001b[39m\u001b[38;5;124m\"\u001b[39m),\n\u001b[0;32m   1179\u001b[0m     password\u001b[38;5;241m=\u001b[39m\u001b[38;5;28;01mFalse\u001b[39;00m,\n\u001b[0;32m   1180\u001b[0m )\n",
      "File \u001b[1;32mC:\\ProgramData\\anaconda3\\Lib\\site-packages\\ipykernel\\kernelbase.py:1217\u001b[0m, in \u001b[0;36mKernel._input_request\u001b[1;34m(self, prompt, ident, parent, password)\u001b[0m\n\u001b[0;32m   1214\u001b[0m             \u001b[38;5;28;01mbreak\u001b[39;00m\n\u001b[0;32m   1215\u001b[0m \u001b[38;5;28;01mexcept\u001b[39;00m \u001b[38;5;167;01mKeyboardInterrupt\u001b[39;00m:\n\u001b[0;32m   1216\u001b[0m     \u001b[38;5;66;03m# re-raise KeyboardInterrupt, to truncate traceback\u001b[39;00m\n\u001b[1;32m-> 1217\u001b[0m     \u001b[38;5;28;01mraise\u001b[39;00m \u001b[38;5;167;01mKeyboardInterrupt\u001b[39;00m(\u001b[38;5;124m\"\u001b[39m\u001b[38;5;124mInterrupted by user\u001b[39m\u001b[38;5;124m\"\u001b[39m) \u001b[38;5;28;01mfrom\u001b[39;00m \u001b[38;5;28;01mNone\u001b[39;00m\n\u001b[0;32m   1218\u001b[0m \u001b[38;5;28;01mexcept\u001b[39;00m \u001b[38;5;167;01mException\u001b[39;00m:\n\u001b[0;32m   1219\u001b[0m     \u001b[38;5;28mself\u001b[39m\u001b[38;5;241m.\u001b[39mlog\u001b[38;5;241m.\u001b[39mwarning(\u001b[38;5;124m\"\u001b[39m\u001b[38;5;124mInvalid Message:\u001b[39m\u001b[38;5;124m\"\u001b[39m, exc_info\u001b[38;5;241m=\u001b[39m\u001b[38;5;28;01mTrue\u001b[39;00m)\n",
      "\u001b[1;31mKeyboardInterrupt\u001b[0m: Interrupted by user"
     ]
    }
   ],
   "source": [
    "#Web의 정적 컨텐츠를 다운로드 받기 위한 패키지\n",
    "import requests\n",
    "from urllib.parse import quote\n",
    "\n",
    "#HTML 파싱을 위한 패키지\n",
    "from bs4 import BeautifulSoup\n",
    "\n",
    "keyword = input('검색어:')\n",
    "target_URL = 'https://www.donga.com/news/search?p=1&query=' + quote(keyword) + '&check_news=91&more=1&sorting=1&search_date=1&v1=&v2='\n",
    "source_code = requests.get(target_URL)\n",
    "#print(source_code.text)\n",
    "\n",
    "#HTML 파싱 객체 생성\n",
    "bs = BeautifulSoup(source_code.text, 'html.parser')\n",
    "\n",
    "#파싱\n",
    "tags = bs.select('div.cntPage > span') #선택자는 중복이 가능하기 때문에 list로 리턴\n",
    "count = int(tags[0].getText()[0:-1].replace(',', ''))\n",
    "print('기사 건수:', count)"
   ]
  },
  {
   "cell_type": "code",
   "execution_count": null,
   "id": "6771cd6e",
   "metadata": {},
   "outputs": [],
   "source": [
    "#실제 크롤링 할 기사 건수 입력받기\n",
    "read_cnt = int(input(\"읽을 기사 건수:\"))\n",
    "if read_cnt > count:\n",
    "    read_cnt = count\n",
    "#읽을 페이지 개수 생성\n",
    "page_num = int(read_cnt / 15 + 0.95)\n",
    "print(page_num)"
   ]
  },
  {
   "cell_type": "code",
   "execution_count": null,
   "id": "32be2c5b",
   "metadata": {},
   "outputs": [],
   "source": [
    "#다운로드 받은 텍스트를 저장할 파일을 개방\n",
    "output_file = open(keyword + '.txt', 'w', encoding='utf8')\n",
    "\n",
    "for i in range(page_num):\n",
    "    current_p = 1 + i * 15\n",
    "    target_URL = 'https://www.donga.com/news/search?p=' + str(current_p) + '&query=' + quote(keyword) + '&check_news=1&more=1&sorting=1&search_date=1&v1=&v2='\n",
    "    #print(target_URL)\n",
    "    \n",
    "    #각 검색 페이지의 데이터를 읽어옵니다.\n",
    "    source_code = requests.get(target_URL)\n",
    "    #기사의 링크를 가져와야 합니다.\n",
    "    bs = BeautifulSoup(source_code.text, 'html.parser')\n",
    "    \n",
    "    links = bs.select('span.tit > a')\n",
    "    #print(links)\n",
    "    for link in links:\n",
    "        title_link = link['href']\n",
    "        #print(title_link)\n",
    "        #상세 기사 링크에 접속해서 html 가져오기\n",
    "        source_code = requests.get(title_link)\n",
    "        bs = BeautifulSoup(source_code.text, 'html.parser')\n",
    "        articles = bs.select('#article_txt')\n",
    "        if articles != None:\n",
    "            for article in articles:\n",
    "                #print(article.getText())\n",
    "                string_item = str(article.find_all(text=True))\n",
    "                output_file.write(string_item)\n",
    "                \n",
    "output_file.close()"
   ]
  },
  {
   "cell_type": "code",
   "execution_count": null,
   "id": "254230b6",
   "metadata": {},
   "outputs": [],
   "source": [
    "#한글 형태소 분석기를 활용해서 한글 텍스트를 추출\n",
    "from konlpy.tag import Twitter\n",
    "open_text_file = open(keyword + \".txt\", 'r', encoding='utf8')\n",
    "text = open_text_file.read()\n",
    "spliter = Twitter()\n",
    "nouns = spliter.nouns(text)\n",
    "open_text_file.close()\n",
    "print(nouns)"
   ]
  },
  {
   "cell_type": "code",
   "execution_count": null,
   "id": "11e66999",
   "metadata": {},
   "outputs": [],
   "source": [
    "#단어 개수 와 등장 횟수 확인\n",
    "import nltk\n",
    "ko = nltk.Text(nouns, name=keyword)\n",
    "print('전체 단어 개수:', len(ko.tokens))\n",
    "print('전체 단어 개수 - 중복 제거:', len(set(ko.tokens)))\n",
    "print(ko.vocab())\n",
    "plt.figure(figsize=(12, 6))\n",
    "ko.plot(50)\n",
    "plt.show()"
   ]
  },
  {
   "cell_type": "code",
   "execution_count": null,
   "id": "044e5518",
   "metadata": {},
   "outputs": [],
   "source": [
    "#불용어 제거\n",
    "stop_words = ['이미지', '공유', '것', '유관순', '등']\n",
    "ko_1 = [each_word for each_word in ko if each_word not in stop_words]\n",
    "ko_2 = [each_word for each_word in ko_1 if len(each_word) > 1]\n",
    "print(ko_2)"
   ]
  },
  {
   "cell_type": "code",
   "execution_count": null,
   "id": "1356e47d",
   "metadata": {},
   "outputs": [],
   "source": [
    "ko = nltk.Text(ko_2, name=keyword)\n",
    "plt.figure(figsize=(12, 6))\n",
    "ko.plot(50)\n",
    "plt.show()"
   ]
  },
  {
   "cell_type": "code",
   "execution_count": null,
   "id": "b2787b53",
   "metadata": {},
   "outputs": [],
   "source": [
    "data = ko.vocab().most_common(150)\n",
    "\n",
    "wordcloud = WordCloud(relative_scaling=0.5, font_path='./data/NanumBarunGothic.ttf',\n",
    "                     background_color='white').generate_from_frequencies(dict(data))\n",
    "plt.figure(figsize=(12, 6))\n",
    "plt.imshow(wordcloud)\n",
    "plt.axis('off')\n",
    "plt.show()"
   ]
  },
  {
   "cell_type": "code",
   "execution_count": null,
   "id": "4ac18ed1",
   "metadata": {},
   "outputs": [],
   "source": [
    "data = ko.vocab().most_common(150)\n",
    "mask = np.array(Image.open('./data/appleBar.png'))\n",
    "wordcloud = WordCloud(relative_scaling=0.5, font_path='./data/NanumBarunGothic.ttf',\n",
    "                     background_color='white', mask=mask).generate_from_frequencies(dict(data))\n",
    "plt.figure(figsize=(12, 6))\n",
    "plt.imshow(wordcloud)\n",
    "plt.axis('off')\n",
    "plt.show()"
   ]
  },
  {
   "cell_type": "code",
   "execution_count": null,
   "id": "88a8c89a",
   "metadata": {},
   "outputs": [],
   "source": []
  },
  {
   "cell_type": "markdown",
   "id": "34648aab",
   "metadata": {},
   "source": [
    "### 뉴스 그룹 분류"
   ]
  },
  {
   "cell_type": "markdown",
   "id": "3ee7a193",
   "metadata": {},
   "source": [
    "#### 데이터 가져오기"
   ]
  },
  {
   "cell_type": "code",
   "execution_count": null,
   "id": "5e5b1b88",
   "metadata": {},
   "outputs": [],
   "source": [
    "# 데이터 가져오기\n",
    "from sklearn.datasets import fetch_20newsgroups\n",
    "\n",
    "news_data = fetch_20newsgroups(subset='all', random_state=42)\n",
    "#sklearn에서는 datasets 서브 패키지를 이용해서 가져온 데이터는 dict\n",
    "#가져온 데이터의 key를 확인 \n",
    "print(news_data.keys())"
   ]
  },
  {
   "cell_type": "code",
   "execution_count": null,
   "id": "011aeaab",
   "metadata": {},
   "outputs": [],
   "source": [
    "#print(news_data.filenames)\n",
    "#print(news_data.target_names) #target의 클래스 이름\n",
    "#print(news_data.DESCR) #데이터에 대한 설명"
   ]
  },
  {
   "cell_type": "code",
   "execution_count": null,
   "id": "73e20e06",
   "metadata": {},
   "outputs": [],
   "source": [
    "#분포 확인\n",
    "print(pd.Series(news_data.target).value_counts().sort_index())"
   ]
  },
  {
   "cell_type": "code",
   "execution_count": null,
   "id": "3a719105",
   "metadata": {},
   "outputs": [],
   "source": [
    "print(news_data.target_names)"
   ]
  },
  {
   "cell_type": "code",
   "execution_count": null,
   "id": "9b3de4bf",
   "metadata": {},
   "outputs": [],
   "source": [
    "#데이터 확인\n",
    "print(news_data.data[0])"
   ]
  },
  {
   "cell_type": "code",
   "execution_count": null,
   "id": "138aab53",
   "metadata": {},
   "outputs": [],
   "source": [
    "#데이터 가져오기\n",
    "\n",
    "#headers 나 footers, quotes를 제거하고 훈련 데이터 가져오기\n",
    "train_news = fetch_20newsgroups(subset='train', \n",
    "                                remove=('headers', 'footers', 'quotes'),\n",
    "                               random_state=42)\n",
    "#훈련 데이터 생성\n",
    "X_train = train_news.data\n",
    "y_train = train_news.target #실제 데이터에서 이게 없으면 군집\n",
    "print(type(X_train)) #문자열의 list\n",
    "\n",
    "#headers 나 footers, quotes를 제거하고 훈련 데이터 가져오기\n",
    "test_news = fetch_20newsgroups(subset='test', \n",
    "                                remove=('headers', 'footers', 'quotes'),\n",
    "                               random_state=42)\n",
    "#훈련 데이터 생성\n",
    "X_test = test_news.data\n",
    "y_test = test_news.target #실제 데이터에서 이게 없으면 군집\n",
    "print(type(X_test)) #문자열의 list"
   ]
  },
  {
   "cell_type": "markdown",
   "id": "e67b5ae2",
   "metadata": {},
   "source": [
    "#### 피처 벡터화"
   ]
  },
  {
   "cell_type": "code",
   "execution_count": null,
   "id": "91e9c4df",
   "metadata": {},
   "outputs": [],
   "source": [
    "from sklearn.feature_extraction.text import CountVectorizer\n",
    "\n",
    "#단어가 등장한 개수 기반의 벡터화를 위한 인스턴스 생성\n",
    "cnt_vect = CountVectorizer()\n",
    "\n",
    "#벡터화\n",
    "cnt_vect.fit(X_train)\n",
    "X_train_cnt_vect = cnt_vect.transform(X_train)\n",
    "X_test_cnt_vect = cnt_vect.transform(X_test)"
   ]
  },
  {
   "cell_type": "markdown",
   "id": "1f2d6c46",
   "metadata": {},
   "source": [
    "### 로지스틱 회귀를 이용한 분류"
   ]
  },
  {
   "cell_type": "code",
   "execution_count": null,
   "id": "3afa5e67",
   "metadata": {},
   "outputs": [],
   "source": [
    "from sklearn.linear_model import LogisticRegression\n",
    "from sklearn.metrics import accuracy_score\n",
    "\n",
    "lr_clf = LogisticRegression(solver=\"lbfgs\", max_iter=1000)\n",
    "lr_clf.fit(X_train_cnt_vect, y_train)\n",
    "pred = lr_clf.predict(X_test_cnt_vect)\n",
    "\n",
    "print(\"정확도:\", accuracy_score(y_test, pred))"
   ]
  },
  {
   "cell_type": "markdown",
   "id": "43b7583f",
   "metadata": {},
   "source": [
    "### TD-IDF 이용"
   ]
  },
  {
   "cell_type": "code",
   "execution_count": null,
   "id": "67b38de9",
   "metadata": {},
   "outputs": [],
   "source": [
    "from sklearn.feature_extraction.text import TfidfVectorizer\n",
    "\n",
    "tfidf_vect = TfidfVectorizer()\n",
    "tfidf_vect.fit(X_train)\n",
    "X_train_tfidf_vect = tfidf_vect.transform(X_train)\n",
    "X_test_tfidf_vect = tfidf_vect.transform(X_test)\n",
    "\n",
    "lr_clf = LogisticRegression(solver=\"lbfgs\", max_iter=1000)\n",
    "lr_clf.fit(X_train_tfidf_vect, y_train)\n",
    "pred = lr_clf.predict(X_test_tfidf_vect)\n",
    "\n",
    "print(\"정확도:\", accuracy_score(y_test, pred))"
   ]
  },
  {
   "cell_type": "code",
   "execution_count": null,
   "id": "ee6c572a",
   "metadata": {},
   "outputs": [],
   "source": [
    "from sklearn.feature_extraction.text import TfidfVectorizer\n",
    "\n",
    "tfidf_vect = TfidfVectorizer(stop_words='english', ngram_range=(1, 2), max_df=300)\n",
    "tfidf_vect.fit(X_train)\n",
    "X_train_tfidf_vect = tfidf_vect.transform(X_train)\n",
    "X_test_tfidf_vect = tfidf_vect.transform(X_test)\n",
    "\n",
    "lr_clf = LogisticRegression(solver=\"lbfgs\", max_iter=1000)\n",
    "lr_clf.fit(X_train_tfidf_vect, y_train)\n",
    "pred = lr_clf.predict(X_test_tfidf_vect)\n",
    "\n",
    "print(\"정확도:\", accuracy_score(y_test, pred))"
   ]
  },
  {
   "cell_type": "code",
   "execution_count": null,
   "id": "c13772a0",
   "metadata": {},
   "outputs": [],
   "source": []
  },
  {
   "cell_type": "markdown",
   "id": "8edca1a6",
   "metadata": {},
   "source": [
    "## 감성 분석"
   ]
  },
  {
   "cell_type": "markdown",
   "id": "162a43b9",
   "metadata": {},
   "source": [
    "### 나이브 베이즈를 이용한 감성 분석"
   ]
  },
  {
   "cell_type": "code",
   "execution_count": null,
   "id": "16d1057e",
   "metadata": {},
   "outputs": [],
   "source": [
    "train = [('i like you', 'pos'), ('i do not like you', 'neg'),\n",
    "        ('i hate you', 'neg'), ('i do not hate you', 'pos'),\n",
    "        ('i love you', 'pos'), ('i do not love you', 'neg')]\n",
    "\n",
    "#등장한 모든 단어 찾기\n",
    "from nltk.tokenize import word_tokenize\n",
    "import nltk\n",
    "\n",
    "#단어 단위로 분할해서 등장한 단어 전부 추출\n",
    "all_words = set(word.lower() for sentence in train \n",
    "                for word in word_tokenize(sentence[0]))\n",
    "print(all_words)\n",
    "\n",
    "\n"
   ]
  },
  {
   "cell_type": "code",
   "execution_count": null,
   "id": "2b085311",
   "metadata": {},
   "outputs": [],
   "source": [
    "#분류기 만들기\n",
    "\n",
    "#단어 토큰화 - 각 문장에 단어의 포함 여부를 만들고 감성을 기록\n",
    "t = [({word:(word in word_tokenize(x[0])) for word in all_words}, x[1]) \n",
    "     for x in train]\n",
    "print(t)"
   ]
  },
  {
   "cell_type": "code",
   "execution_count": null,
   "id": "c55fe1b5",
   "metadata": {},
   "outputs": [],
   "source": [
    "#텍스트 분류를 위한 나이브베이즈 분류기를 이용해서 모델을 생성\n",
    "classifier = nltk.NaiveBayesClassifier.train(t)\n",
    "classifier.show_most_informative_features()"
   ]
  },
  {
   "cell_type": "code",
   "execution_count": null,
   "id": "6f7bec8f",
   "metadata": {},
   "outputs": [],
   "source": [
    "#예측\n",
    "\n",
    "test_sentence = 'i do not like jessica'\n",
    "\n",
    "test_sent_features = {word.lower():(word in word_tokenize(test_sentence.lower())) \n",
    "                     for word in all_words}\n",
    "print(test_sent_features)\n",
    "print(classifier.classify(test_sent_features))"
   ]
  },
  {
   "cell_type": "code",
   "execution_count": null,
   "id": "c26fff95",
   "metadata": {},
   "outputs": [],
   "source": []
  },
  {
   "cell_type": "markdown",
   "id": "6e285b4f",
   "metadata": {},
   "source": [
    "### 한글 감성 분석"
   ]
  },
  {
   "cell_type": "code",
   "execution_count": null,
   "id": "a47bbfe3",
   "metadata": {},
   "outputs": [],
   "source": [
    "train = [('나는 당신을 사랑합니다.', 'pos'), \n",
    "         ('나는 당신을 사랑하지 않아요', 'neg'),\n",
    "        ('나는 당신을 만나는 것이 지루합니다.', 'neg'), \n",
    "         ('나는 당신이 좋아요', 'pos'),\n",
    "        ('나는 노는 것이 좋습니다.', 'pos'), \n",
    "         ('나는 일을 하는 것이 즐겁습니다.', 'pos'),\n",
    "        ('맛있는 것을 먹으면 행복합니다.', 'pos'), \n",
    "         ('오늘은 서점에 갈 예정입니다.', 'pos'),\n",
    "        ('김태선을 만나는 것은 짜증나는 일입니다.', 'pos')]\n",
    "all_words = set(word.lower() for sentence in train for word in word_tokenize(sentence[0]))\n",
    "print(all_words)"
   ]
  },
  {
   "cell_type": "code",
   "execution_count": null,
   "id": "dd88ed23",
   "metadata": {},
   "outputs": [],
   "source": [
    "from konlpy.tag import Twitter\n",
    "twitter = Twitter()\n",
    "\n",
    "#문장 단위로 형태소 분석기에 넣어서 단어 와 품사를 /로 구분해서 추출해주는 함수\n",
    "def tokenize(doc):\n",
    "    return [\"/\".join(t) for t in twitter.pos(doc, norm=True, stem=True)]\n",
    "\n",
    "train_docs = [(tokenize(row[0]), row[1]) for row in train]\n",
    "\n",
    "print(train_docs)"
   ]
  },
  {
   "cell_type": "code",
   "execution_count": null,
   "id": "78656c53",
   "metadata": {},
   "outputs": [],
   "source": [
    "#단어만 추출하기\n",
    "tokens = [t for d in train_docs for t in d[0]]\n",
    "print(tokens)"
   ]
  },
  {
   "cell_type": "code",
   "execution_count": null,
   "id": "327ba810",
   "metadata": {},
   "outputs": [],
   "source": [
    "#분류기 만들기 - 문장에 단어의 존재 여부를 확인해주는 함수\n",
    "def term_exists(doc):\n",
    "    return {word: (word in set(doc)) for word in tokens}\n",
    "#모든 문장을 해석해서 단어의 존재 여부 와 감성을 가진 튜플의 list를 생성\n",
    "train_xy = [(term_exists(d), c) for d, c in train_docs]\n",
    "print(train_xy)"
   ]
  },
  {
   "cell_type": "code",
   "execution_count": null,
   "id": "78a4bc0a",
   "metadata": {},
   "outputs": [],
   "source": [
    "classifier = nltk.NaiveBayesClassifier.train(train_xy)\n",
    "classifier.show_most_informative_features()"
   ]
  },
  {
   "cell_type": "code",
   "execution_count": null,
   "id": "72bfb0b5",
   "metadata": {},
   "outputs": [],
   "source": [
    "test_sentence = [(\"나는 오늘 김태선을 만나서 일 애기를 해야 해\")]\n",
    "test_docs = twitter.pos(test_sentence[0])\n",
    "test_sent_features = {word:(word in tokens) for word in test_docs}\n",
    "print(classifier.classify(test_sent_features))"
   ]
  },
  {
   "cell_type": "code",
   "execution_count": null,
   "id": "8ba4115f",
   "metadata": {},
   "outputs": [],
   "source": []
  },
  {
   "cell_type": "markdown",
   "id": "d5b43387",
   "metadata": {},
   "source": [
    "### IMDB 데이터를 이용한 감성 분석"
   ]
  },
  {
   "cell_type": "code",
   "execution_count": null,
   "id": "c00b3e9a",
   "metadata": {},
   "outputs": [],
   "source": [
    "review_df = pd.read_csv('./data/imdb/labeledTrainData.tsv', header=0, \n",
    "                       sep='\\t', quoting=3)\n",
    "#id는 review를 구분하기 위한 데이터\n",
    "#sentiment 가 감성인데 1이면 긍정이고 2이면 부정\n",
    "#review 가 review 데이터\n",
    "print(review_df.head())"
   ]
  },
  {
   "cell_type": "code",
   "execution_count": null,
   "id": "00726c61",
   "metadata": {},
   "outputs": [],
   "source": [
    "#정규식을 이용해서 불필요한 데이터 제거\n",
    "import re\n",
    "\n",
    "review_df['review'] = review_df['review'].str.replace('<br />', ' ')\n",
    "review_df['review'] =  review_df['review'].apply(lambda x : re.sub('[^a-zA-Z]', ' ', x))\n",
    "print(review_df.head())"
   ]
  },
  {
   "cell_type": "code",
   "execution_count": null,
   "id": "d7f72e0d",
   "metadata": {},
   "outputs": [],
   "source": [
    "#훈련 데이터 와 테스트 데이터 분할\n",
    "from sklearn.model_selection import train_test_split\n",
    "\n",
    "class_df = review_df['sentiment']\n",
    "feature_df = review_df.drop(['id', 'sentiment'], axis=1, inplace=False)\n",
    "\n",
    "X_train, X_test, y_train, y_test = train_test_split(feature_df, class_df,\n",
    "                                                    test_size=0.3, random_state= 42)\n",
    "X_train.shape, X_test.shape\n"
   ]
  },
  {
   "cell_type": "code",
   "execution_count": null,
   "id": "c765c992",
   "metadata": {},
   "outputs": [],
   "source": [
    "#훈련 및 예측\n",
    "from sklearn.feature_extraction.text import CountVectorizer, TfidfVectorizer\n",
    "from sklearn.pipeline import Pipeline\n",
    "from sklearn.linear_model import LogisticRegression\n",
    "from sklearn.metrics import accuracy_score, roc_auc_score\n",
    "\n",
    "pipeline = Pipeline([\n",
    "    ('cnt_vect', CountVectorizer(stop_words='english', ngram_range=(1, 2))),\n",
    "    ('lr_clf', LogisticRegression(C=10))\n",
    "])\n",
    "\n",
    "pipeline.fit(X_train['review'], y_train)\n",
    "pred = pipeline.predict(X_test['review'])\n",
    "pred_probs = pipeline.predict_proba(X_test['review'])[:, 1]\n",
    "print('정확도:', accuracy_score(y_test, pred))\n",
    "print('ROC_AUC:', roc_auc_score(y_test, pred_probs))\n",
    "\n",
    "\n",
    "\n",
    "\n",
    "\n",
    "\n",
    "\n"
   ]
  },
  {
   "cell_type": "code",
   "execution_count": null,
   "id": "1a6c72b3",
   "metadata": {},
   "outputs": [],
   "source": [
    "pipeline = Pipeline([\n",
    "    ('cnt_vect', TfidfVectorizer(stop_words='english', ngram_range=(1, 2))),\n",
    "    ('lr_clf', LogisticRegression(C=10))\n",
    "])\n",
    "\n",
    "pipeline.fit(X_train['review'], y_train)\n",
    "pred = pipeline.predict(X_test['review'])\n",
    "pred_probs = pipeline.predict_proba(X_test['review'])[:, 1]\n",
    "print('정확도:', accuracy_score(y_test, pred))\n",
    "print('ROC_AUC:', roc_auc_score(y_test, pred_probs))\n"
   ]
  },
  {
   "cell_type": "code",
   "execution_count": null,
   "id": "68c79afa",
   "metadata": {},
   "outputs": [],
   "source": []
  },
  {
   "cell_type": "markdown",
   "id": "bbaf9ba2",
   "metadata": {},
   "source": [
    "### 네이버 식당 리뷰 데이터를 이용한 한글 지도 학습 기반의 감성 분석"
   ]
  },
  {
   "cell_type": "markdown",
   "id": "6e8926b5",
   "metadata": {},
   "source": [
    "#### 데이터 가져오기"
   ]
  },
  {
   "cell_type": "code",
   "execution_count": null,
   "id": "2ea21cfb",
   "metadata": {},
   "outputs": [],
   "source": [
    "df = pd.read_csv('./data/review_data.csv')\n",
    "print(df.head())"
   ]
  },
  {
   "cell_type": "code",
   "execution_count": null,
   "id": "243db93b",
   "metadata": {},
   "outputs": [],
   "source": [
    "import re\n",
    "\n",
    "#한글만 추출해주는 함수\n",
    "import re\n",
    "def text_cleaning(text):\n",
    "    hangul = re.compile('[^ ㄱ-ㅣ가-힣]')\n",
    "    result = hangul.sub('', text)\n",
    "    return result\n",
    "\n",
    "df['ko_text'] = df['review'].apply(lambda x : text_cleaning(x))\n",
    "del df['review']\n",
    "print(df.head())\n",
    "    "
   ]
  },
  {
   "cell_type": "markdown",
   "id": "dcd94a05",
   "metadata": {},
   "source": [
    "#### 형태소 분석"
   ]
  },
  {
   "cell_type": "code",
   "execution_count": null,
   "id": "f109f73d",
   "metadata": {},
   "outputs": [],
   "source": [
    "from konlpy.tag import Okt\n",
    "\n",
    "def get_pos(x):\n",
    "    tagger = Okt()\n",
    "    pos = tagger.pos(x)\n",
    "    pos = ['{}/{}'.format(word, tag) for word, tag in pos]\n",
    "    return pos\n",
    "#하나의 데이터로 확인\n",
    "result = get_pos(df['ko_text'][0])\n",
    "print(result)"
   ]
  },
  {
   "cell_type": "markdown",
   "id": "1a0becb8",
   "metadata": {},
   "source": [
    "#### 피처 벡터화"
   ]
  },
  {
   "cell_type": "code",
   "execution_count": null,
   "id": "f28e9c26",
   "metadata": {},
   "outputs": [],
   "source": [
    "from sklearn.feature_extraction.text import CountVectorizer\n",
    "\n",
    "index_vectorizer = CountVectorizer(tokenizer = lambda x:get_pos(x))\n",
    "X = index_vectorizer.fit_transform(df['ko_text'].tolist())\n",
    "print(X.shape)"
   ]
  },
  {
   "cell_type": "code",
   "execution_count": null,
   "id": "bbef64b2",
   "metadata": {},
   "outputs": [],
   "source": [
    "#### 피처 확인\n",
    "print(str(index_vectorizer.vocabulary_)[:100])\n",
    "print(df['ko_text'][0])\n",
    "print(X[0])"
   ]
  },
  {
   "cell_type": "code",
   "execution_count": null,
   "id": "5d619460",
   "metadata": {},
   "outputs": [],
   "source": [
    "from sklearn.feature_extraction.text import TfidfTransformer\n",
    "\n",
    "tfidf_vectorizer = TfidfTransformer()\n",
    "X = tfidf_vectorizer.fit_transform(X)\n",
    "print(X.shape)\n",
    "print(X[0])"
   ]
  },
  {
   "cell_type": "markdown",
   "id": "673b1d21",
   "metadata": {},
   "source": [
    "#### 학습용 데이터 와 훈련용 데이터를 생성"
   ]
  },
  {
   "cell_type": "code",
   "execution_count": null,
   "id": "7170e0dd",
   "metadata": {},
   "outputs": [],
   "source": [
    "from sklearn.model_selection import train_test_split\n",
    "\n",
    "y = df['y']\n",
    "X_train, X_test, y_train, y_test = train_test_split(X, y, \n",
    "                                                    test_size=0.3, random_state=42)\n",
    "print(X_train.shape)\n",
    "print(X_test.shape)"
   ]
  },
  {
   "cell_type": "markdown",
   "id": "0c4e353f",
   "metadata": {},
   "source": [
    "#### 모델 훈련 및 평가"
   ]
  },
  {
   "cell_type": "code",
   "execution_count": null,
   "id": "d518479c",
   "metadata": {},
   "outputs": [],
   "source": [
    "from sklearn.linear_model import LogisticRegression\n",
    "from sklearn.metrics import accuracy_score, precision_score, recall_score, f1_score\n",
    "\n",
    "lr = LogisticRegression(random_state=42)\n",
    "lr.fit(X_train, y_train)\n",
    "y_pred = lr.predict(X_test)\n",
    "y_pred_probability = lr.predict_proba(X_test)[:, 1]\n",
    "\n",
    "print(\"정확도:\", accuracy_score(y_test, y_pred))\n",
    "print(\"precision:\", precision_score(y_test, y_pred))\n",
    "print(\"recall:\", recall_score(y_test, y_pred))\n",
    "print(\"f1_score:\", f1_score(y_test, y_pred))"
   ]
  },
  {
   "cell_type": "code",
   "execution_count": null,
   "id": "66b554b0",
   "metadata": {},
   "outputs": [],
   "source": [
    "from sklearn.metrics import confusion_matrix\n",
    "\n",
    "conf_matrix = confusion_matrix(y_true=y_test, y_pred=y_pred)\n",
    "#전부 1로 예측\n",
    "print(conf_matrix)"
   ]
  },
  {
   "cell_type": "markdown",
   "id": "dbc7fe32",
   "metadata": {},
   "source": [
    "#### 타겟 분포 확인"
   ]
  },
  {
   "cell_type": "code",
   "execution_count": null,
   "id": "2ea8bd5a",
   "metadata": {},
   "outputs": [],
   "source": [
    "df['y'].value_counts()"
   ]
  },
  {
   "cell_type": "markdown",
   "id": "2e4eddfd",
   "metadata": {},
   "source": [
    "#### UnderSampling"
   ]
  },
  {
   "cell_type": "code",
   "execution_count": null,
   "id": "aa791612",
   "metadata": {},
   "outputs": [],
   "source": [
    "positive_random_idx = df[df['y'] == 1].sample(50, random_state=42).index.tolist()\n",
    "negative_random_idx = df[df['y'] == 0].sample(50, random_state=42).index.tolist()\n",
    "\n",
    "random_idx = positive_random_idx + negative_random_idx\n",
    "sample_X = X[random_idx, :]\n",
    "y = df['y'][random_idx]\n",
    "X_train, X_test, y_train, y_test = train_test_split(sample_X, y, test_size=0.1,\n",
    "                                                   random_state=42)\n",
    "\n",
    "lr = LogisticRegression(random_state=42)\n",
    "lr.fit(X_train, y_train)\n",
    "y_pred = lr.predict(X_test)\n",
    "y_pred_probability = lr.predict_proba(X_test)[:, 1]\n",
    "\n",
    "print(\"정확도:\", accuracy_score(y_test, y_pred))\n",
    "print(\"precision:\", precision_score(y_test, y_pred))\n",
    "print(\"recall:\", recall_score(y_test, y_pred))\n",
    "print(\"f1_score:\", f1_score(y_test, y_pred))\n",
    "\n",
    "conf_matrix = confusion_matrix(y_true=y_test, y_pred=y_pred)\n",
    "#전부 1로 예측\n",
    "print(conf_matrix)"
   ]
  },
  {
   "cell_type": "code",
   "execution_count": null,
   "id": "69e9eed1",
   "metadata": {},
   "outputs": [],
   "source": []
  },
  {
   "cell_type": "markdown",
   "id": "94e48735",
   "metadata": {},
   "source": [
    "## 토픽 모델링"
   ]
  },
  {
   "cell_type": "code",
   "execution_count": null,
   "id": "7e15002b",
   "metadata": {},
   "outputs": [],
   "source": [
    "from sklearn.datasets import fetch_20newsgroups\n",
    "from sklearn.decomposition import LatentDirichletAllocation\n",
    "\n",
    "#데이터를 가져올 카테고리 설정\n",
    "cats = ['rec.motorcycles', 'rec.sport.baseball', 'comp.graphics', 'comp.windows.x',\n",
    "       'talk.politics.mideast', 'soc.religion.christian', 'sci.electronics',\n",
    "       'sci.med']\n",
    "\n",
    "#카테고리에 해당하는 데이터만 가져오기\n",
    "news_df = fetch_20newsgroups(subset='all', remove=('headers', 'footers', 'quotes'),\n",
    "                            categories=cats, random_state=42)"
   ]
  },
  {
   "cell_type": "code",
   "execution_count": null,
   "id": "6ef557ad",
   "metadata": {},
   "outputs": [],
   "source": [
    "count_vect = CountVectorizer(max_df=0.95, max_features=1000, min_df=2,\n",
    "                            stop_words='english', ngram_range=(1, 2))\n",
    "feat_vect = count_vect.fit_transform(news_df.data)\n",
    "print(\"Count Vectorizer Shape:\", feat_vect.shape)"
   ]
  },
  {
   "cell_type": "code",
   "execution_count": null,
   "id": "194fc913",
   "metadata": {},
   "outputs": [],
   "source": [
    "#토픽 모델링\n",
    "lda = LatentDirichletAllocation(n_components=8, random_state=0)\n",
    "lda.fit(feat_vect)\n",
    "print(lda.components_.shape)"
   ]
  },
  {
   "cell_type": "code",
   "execution_count": null,
   "id": "1471c76f",
   "metadata": {},
   "outputs": [],
   "source": [
    "# 각 토픽에서 중요한 10개 단어를 추출\n",
    "def display_topics(model, feature_names, no_top_words):\n",
    "    for topic_index, topic in enumerate(model.components_):\n",
    "        print('Topic #', topic_index)\n",
    "        \n",
    "    topic_word_indexes = topic.argsort()[::-1]\n",
    "    top_indexes = topic_word_indexes[:no_top_words]\n",
    "    \n",
    "    #단어 찾아주는 작업\n",
    "    feature_concat = ' '.join([feature_names[i] for i in top_indexes])\n",
    "    \n",
    "    print(feature_concat)"
   ]
  },
  {
   "cell_type": "code",
   "execution_count": null,
   "id": "d7a2c29e",
   "metadata": {},
   "outputs": [],
   "source": [
    "# CountVectorizer객체내의 전체 word들의 명칭을 get_features_names( )를 통해 추출\n",
    "feature_names = count_vect.get_feature_names_out()\n",
    "\n",
    "# Topic별 가장 연관도가 높은 word를 15개만 추출\n",
    "display_topics(lda, feature_names, 15)"
   ]
  },
  {
   "cell_type": "code",
   "execution_count": null,
   "id": "a13eabbe",
   "metadata": {},
   "outputs": [],
   "source": []
  },
  {
   "cell_type": "markdown",
   "id": "26517861",
   "metadata": {},
   "source": [
    "## 문서 군집"
   ]
  },
  {
   "cell_type": "markdown",
   "id": "051b3742",
   "metadata": {},
   "source": [
    "### 디렉토리 내의 .data로 끝나는 파일을 모두 읽기"
   ]
  },
  {
   "cell_type": "code",
   "execution_count": 14,
   "id": "b562d9c9",
   "metadata": {},
   "outputs": [
    {
     "name": "stdout",
     "output_type": "stream",
     "text": [
      "['data\\\\OpinosisDataset1.0\\\\topics\\\\accuracy_garmin_nuvi_255W_gps.txt.data', 'data\\\\OpinosisDataset1.0\\\\topics\\\\bathroom_bestwestern_hotel_sfo.txt.data', 'data\\\\OpinosisDataset1.0\\\\topics\\\\battery-life_amazon_kindle.txt.data', 'data\\\\OpinosisDataset1.0\\\\topics\\\\battery-life_ipod_nano_8gb.txt.data', 'data\\\\OpinosisDataset1.0\\\\topics\\\\battery-life_netbook_1005ha.txt.data', 'data\\\\OpinosisDataset1.0\\\\topics\\\\buttons_amazon_kindle.txt.data', 'data\\\\OpinosisDataset1.0\\\\topics\\\\comfort_honda_accord_2008.txt.data', 'data\\\\OpinosisDataset1.0\\\\topics\\\\comfort_toyota_camry_2007.txt.data', 'data\\\\OpinosisDataset1.0\\\\topics\\\\directions_garmin_nuvi_255W_gps.txt.data', 'data\\\\OpinosisDataset1.0\\\\topics\\\\display_garmin_nuvi_255W_gps.txt.data', 'data\\\\OpinosisDataset1.0\\\\topics\\\\eyesight-issues_amazon_kindle.txt.data', 'data\\\\OpinosisDataset1.0\\\\topics\\\\features_windows7.txt.data', 'data\\\\OpinosisDataset1.0\\\\topics\\\\fonts_amazon_kindle.txt.data', 'data\\\\OpinosisDataset1.0\\\\topics\\\\food_holiday_inn_london.txt.data', 'data\\\\OpinosisDataset1.0\\\\topics\\\\food_swissotel_chicago.txt.data', 'data\\\\OpinosisDataset1.0\\\\topics\\\\free_bestwestern_hotel_sfo.txt.data', 'data\\\\OpinosisDataset1.0\\\\topics\\\\gas_mileage_toyota_camry_2007.txt.data', 'data\\\\OpinosisDataset1.0\\\\topics\\\\interior_honda_accord_2008.txt.data', 'data\\\\OpinosisDataset1.0\\\\topics\\\\interior_toyota_camry_2007.txt.data', 'data\\\\OpinosisDataset1.0\\\\topics\\\\keyboard_netbook_1005ha.txt.data', 'data\\\\OpinosisDataset1.0\\\\topics\\\\location_bestwestern_hotel_sfo.txt.data', 'data\\\\OpinosisDataset1.0\\\\topics\\\\location_holiday_inn_london.txt.data', 'data\\\\OpinosisDataset1.0\\\\topics\\\\mileage_honda_accord_2008.txt.data', 'data\\\\OpinosisDataset1.0\\\\topics\\\\navigation_amazon_kindle.txt.data', 'data\\\\OpinosisDataset1.0\\\\topics\\\\parking_bestwestern_hotel_sfo.txt.data', 'data\\\\OpinosisDataset1.0\\\\topics\\\\performance_honda_accord_2008.txt.data', 'data\\\\OpinosisDataset1.0\\\\topics\\\\performance_netbook_1005ha.txt.data', 'data\\\\OpinosisDataset1.0\\\\topics\\\\price_amazon_kindle.txt.data', 'data\\\\OpinosisDataset1.0\\\\topics\\\\price_holiday_inn_london.txt.data', 'data\\\\OpinosisDataset1.0\\\\topics\\\\quality_toyota_camry_2007.txt.data', 'data\\\\OpinosisDataset1.0\\\\topics\\\\rooms_bestwestern_hotel_sfo.txt.data', 'data\\\\OpinosisDataset1.0\\\\topics\\\\rooms_swissotel_chicago.txt.data', 'data\\\\OpinosisDataset1.0\\\\topics\\\\room_holiday_inn_london.txt.data', 'data\\\\OpinosisDataset1.0\\\\topics\\\\satellite_garmin_nuvi_255W_gps.txt.data', 'data\\\\OpinosisDataset1.0\\\\topics\\\\screen_garmin_nuvi_255W_gps.txt.data', 'data\\\\OpinosisDataset1.0\\\\topics\\\\screen_ipod_nano_8gb.txt.data', 'data\\\\OpinosisDataset1.0\\\\topics\\\\screen_netbook_1005ha.txt.data', 'data\\\\OpinosisDataset1.0\\\\topics\\\\seats_honda_accord_2008.txt.data', 'data\\\\OpinosisDataset1.0\\\\topics\\\\service_bestwestern_hotel_sfo.txt.data', 'data\\\\OpinosisDataset1.0\\\\topics\\\\service_holiday_inn_london.txt.data', 'data\\\\OpinosisDataset1.0\\\\topics\\\\service_swissotel_hotel_chicago.txt.data', 'data\\\\OpinosisDataset1.0\\\\topics\\\\size_asus_netbook_1005ha.txt.data', 'data\\\\OpinosisDataset1.0\\\\topics\\\\sound_ipod_nano_8gb.txt.data', 'data\\\\OpinosisDataset1.0\\\\topics\\\\speed_garmin_nuvi_255W_gps.txt.data', 'data\\\\OpinosisDataset1.0\\\\topics\\\\speed_windows7.txt.data', 'data\\\\OpinosisDataset1.0\\\\topics\\\\staff_bestwestern_hotel_sfo.txt.data', 'data\\\\OpinosisDataset1.0\\\\topics\\\\staff_swissotel_chicago.txt.data', 'data\\\\OpinosisDataset1.0\\\\topics\\\\transmission_toyota_camry_2007.txt.data', 'data\\\\OpinosisDataset1.0\\\\topics\\\\updates_garmin_nuvi_255W_gps.txt.data', 'data\\\\OpinosisDataset1.0\\\\topics\\\\video_ipod_nano_8gb.txt.data', 'data\\\\OpinosisDataset1.0\\\\topics\\\\voice_garmin_nuvi_255W_gps.txt.data']\n"
     ]
    }
   ],
   "source": [
    "import pandas as pd\n",
    "import glob, os\n",
    "\n",
    "#데이터 파일이 있는 디렉토리 경로를 생성\n",
    "path = \"data\\\\OpinosisDataset1.0\\\\topics\"\n",
    "\n",
    "#디렉토리 내의 .data로 끝나는 모든 파일의 이름을 가져오기\n",
    "all_files = glob.glob(os.path.join(path, \"*.data\"))\n",
    "print(all_files)"
   ]
  },
  {
   "cell_type": "code",
   "execution_count": 19,
   "id": "bfcb549e",
   "metadata": {},
   "outputs": [
    {
     "data": {
      "text/html": [
       "<div>\n",
       "<style scoped>\n",
       "    .dataframe tbody tr th:only-of-type {\n",
       "        vertical-align: middle;\n",
       "    }\n",
       "\n",
       "    .dataframe tbody tr th {\n",
       "        vertical-align: top;\n",
       "    }\n",
       "\n",
       "    .dataframe thead th {\n",
       "        text-align: right;\n",
       "    }\n",
       "</style>\n",
       "<table border=\"1\" class=\"dataframe\">\n",
       "  <thead>\n",
       "    <tr style=\"text-align: right;\">\n",
       "      <th></th>\n",
       "      <th>filename</th>\n",
       "      <th>opinion_text</th>\n",
       "    </tr>\n",
       "  </thead>\n",
       "  <tbody>\n",
       "    <tr>\n",
       "      <th>0</th>\n",
       "      <td>accuracy_garmin_nuvi_255W_gps</td>\n",
       "      <td>...</td>\n",
       "    </tr>\n",
       "    <tr>\n",
       "      <th>1</th>\n",
       "      <td>bathroom_bestwestern_hotel_sfo</td>\n",
       "      <td>...</td>\n",
       "    </tr>\n",
       "    <tr>\n",
       "      <th>2</th>\n",
       "      <td>battery-life_amazon_kindle</td>\n",
       "      <td>...</td>\n",
       "    </tr>\n",
       "    <tr>\n",
       "      <th>3</th>\n",
       "      <td>battery-life_ipod_nano_8gb</td>\n",
       "      <td>...</td>\n",
       "    </tr>\n",
       "    <tr>\n",
       "      <th>4</th>\n",
       "      <td>battery-life_netbook_1005ha</td>\n",
       "      <td>...</td>\n",
       "    </tr>\n",
       "  </tbody>\n",
       "</table>\n",
       "</div>"
      ],
      "text/plain": [
       "                         filename  \\\n",
       "0   accuracy_garmin_nuvi_255W_gps   \n",
       "1  bathroom_bestwestern_hotel_sfo   \n",
       "2      battery-life_amazon_kindle   \n",
       "3      battery-life_ipod_nano_8gb   \n",
       "4     battery-life_netbook_1005ha   \n",
       "\n",
       "                                        opinion_text  \n",
       "0                                                ...  \n",
       "1                                                ...  \n",
       "2                                                ...  \n",
       "3                                                ...  \n",
       "4                                                ...  "
      ]
     },
     "execution_count": 19,
     "metadata": {},
     "output_type": "execute_result"
    }
   ],
   "source": [
    "#파일의 이름 과 내용을 저장할 list\n",
    "filename_list = []\n",
    "opinion_text = []\n",
    "\n",
    "for file_ in all_files:\n",
    "    df = pd.read_table(file_, index_col = None, header=0, encoding=\"latin1\")\n",
    "    \n",
    "    #파일 이름만 추출\n",
    "    filename_ = file_.split('\\\\')[-1]\n",
    "    filename = filename_.split(\".\")[0]\n",
    "    \n",
    "    #파일명 과 내용을 list에 저장\n",
    "    filename_list.append(filename)\n",
    "    opinion_text.append(df.to_string())\n",
    "    \n",
    "#print(filename_list)    \n",
    "#print(opinion_text[0])\n",
    "\n",
    "#파일 이름 과 내용으로 DataFrame을 생성\n",
    "document_df = pd.DataFrame({'filename': filename_list, 'opinion_text':opinion_text})\n",
    "document_df.head()"
   ]
  },
  {
   "cell_type": "markdown",
   "id": "73d997cd",
   "metadata": {},
   "source": [
    "### 피처 벡터화"
   ]
  },
  {
   "cell_type": "code",
   "execution_count": 22,
   "id": "4072684f",
   "metadata": {},
   "outputs": [
    {
     "name": "stderr",
     "output_type": "stream",
     "text": [
      "C:\\ProgramData\\anaconda3\\Lib\\site-packages\\sklearn\\feature_extraction\\text.py:408: UserWarning: Your stop_words may be inconsistent with your preprocessing. Tokenizing the stop words generated tokens ['ha', 'le', 'u', 'wa'] not in stop_words.\n",
      "  warnings.warn(\n"
     ]
    },
    {
     "name": "stdout",
     "output_type": "stream",
     "text": [
      "  (0, 1465)\t0.023283541665665836\n",
      "  (0, 385)\t0.023283541665665836\n",
      "  (0, 1470)\t0.05108766228354363\n",
      "  (0, 2652)\t0.023283541665665836\n",
      "  (0, 1357)\t0.02182613746339447\n",
      "  (0, 723)\t0.023283541665665836\n",
      "  (0, 4367)\t0.02182613746339447\n",
      "  (0, 4593)\t0.01798716138533979\n",
      "  (0, 4273)\t0.02063535152550281\n",
      "  (0, 1468)\t0.019628556360506585\n",
      "  (0, 1804)\t0.019628556360506585\n",
      "  (0, 4040)\t0.023283541665665836\n",
      "  (0, 1467)\t0.015101445414252302\n",
      "  (0, 2469)\t0.023283541665665836\n",
      "  (0, 2173)\t0.02182613746339447\n",
      "  (0, 4191)\t0.02182613746339447\n",
      "  (0, 4196)\t0.019628556360506585\n",
      "  (0, 234)\t0.023283541665665836\n",
      "  (0, 4041)\t0.023283541665665836\n",
      "  (0, 4092)\t0.04127070305100562\n",
      "  (0, 1533)\t0.04365227492678894\n",
      "  (0, 1996)\t0.023283541665665836\n",
      "  (0, 158)\t0.02182613746339447\n",
      "  (0, 1164)\t0.023283541665665836\n",
      "  (0, 3130)\t0.02182613746339447\n",
      "  :\t:\n",
      "  (50, 2028)\t0.01659453509406821\n",
      "  (50, 2037)\t0.009111906180203912\n",
      "  (50, 1655)\t0.009761754136944606\n",
      "  (50, 1321)\t0.009452031092583052\n",
      "  (50, 3294)\t0.022126046792090945\n",
      "  (50, 3430)\t0.017333161159535555\n",
      "  (50, 3911)\t0.012364292655146337\n",
      "  (50, 1823)\t0.004981407956984028\n",
      "  (50, 17)\t0.005191386785643596\n",
      "  (50, 3100)\t0.006042182877162159\n",
      "  (50, 896)\t0.004880877068472303\n",
      "  (50, 4228)\t0.03887821689729189\n",
      "  (50, 1894)\t0.04914010869718211\n",
      "  (50, 4265)\t0.004504886421618933\n",
      "  (50, 2651)\t0.026404189389097856\n",
      "  (50, 3537)\t0.03406302085057687\n",
      "  (50, 555)\t0.011925603428065111\n",
      "  (50, 3952)\t0.007161504548169905\n",
      "  (50, 3565)\t0.005084853186647257\n",
      "  (50, 2737)\t0.007774771186628816\n",
      "  (50, 2421)\t0.007774771186628816\n",
      "  (50, 1396)\t0.004330773327433595\n",
      "  (50, 1353)\t0.0982595317876811\n",
      "  (50, 1803)\t0.06879615217605495\n",
      "  (50, 484)\t0.017602792926065237\n"
     ]
    }
   ],
   "source": [
    "from nltk.stem import WordNetLemmatizer\n",
    "import nltk\n",
    "import string\n",
    "\n",
    "#구두점 제거\n",
    "remove_punch_dict = dict((ord(punct), None) for punct in string.punctuation)\n",
    "#print(remove_punch_dict)\n",
    "lemmar = WordNetLemmatizer()\n",
    "\n",
    "#문장을 토큰화 한 후 어근을 찾아오는 함수\n",
    "def LemTokens(tokens):\n",
    "    return [lemmar.lemmatize(token) for token in tokens]\n",
    "\n",
    "def LemNormalize(text):\n",
    "    return LemTokens(nltk.word_tokenize(text.lower().translate(remove_punch_dict)))\n",
    "\n",
    "from sklearn.feature_extraction.text import TfidfVectorizer\n",
    "\n",
    "tfidf_vect = TfidfVectorizer(tokenizer=LemNormalize, stop_words='english',\n",
    "                              ngram_range=(1,2), min_df=0.05, max_df=0.85)\n",
    "feature_vect = tfidf_vect.fit_transform(document_df['opinion_text'])\n",
    "#문자에 어떤 단어가 얼마의 가중치를 가지고 있는지 희소 행렬로 생성\n",
    "print(feature_vect)"
   ]
  },
  {
   "cell_type": "markdown",
   "id": "5f9c4297",
   "metadata": {},
   "source": [
    "### 군집 알고리즘 수행"
   ]
  },
  {
   "cell_type": "code",
   "execution_count": 23,
   "id": "ce880db0",
   "metadata": {},
   "outputs": [
    {
     "name": "stderr",
     "output_type": "stream",
     "text": [
      "C:\\ProgramData\\anaconda3\\Lib\\site-packages\\sklearn\\cluster\\_kmeans.py:1412: FutureWarning: The default value of `n_init` will change from 10 to 'auto' in 1.4. Set the value of `n_init` explicitly to suppress the warning\n",
      "  super()._check_params_vs_input(X, default_n_init=10)\n"
     ]
    },
    {
     "data": {
      "text/html": [
       "<div>\n",
       "<style scoped>\n",
       "    .dataframe tbody tr th:only-of-type {\n",
       "        vertical-align: middle;\n",
       "    }\n",
       "\n",
       "    .dataframe tbody tr th {\n",
       "        vertical-align: top;\n",
       "    }\n",
       "\n",
       "    .dataframe thead th {\n",
       "        text-align: right;\n",
       "    }\n",
       "</style>\n",
       "<table border=\"1\" class=\"dataframe\">\n",
       "  <thead>\n",
       "    <tr style=\"text-align: right;\">\n",
       "      <th></th>\n",
       "      <th>filename</th>\n",
       "      <th>opinion_text</th>\n",
       "      <th>cluster_label</th>\n",
       "    </tr>\n",
       "  </thead>\n",
       "  <tbody>\n",
       "    <tr>\n",
       "      <th>0</th>\n",
       "      <td>accuracy_garmin_nuvi_255W_gps</td>\n",
       "      <td>...</td>\n",
       "      <td>4</td>\n",
       "    </tr>\n",
       "    <tr>\n",
       "      <th>1</th>\n",
       "      <td>bathroom_bestwestern_hotel_sfo</td>\n",
       "      <td>...</td>\n",
       "      <td>3</td>\n",
       "    </tr>\n",
       "    <tr>\n",
       "      <th>2</th>\n",
       "      <td>battery-life_amazon_kindle</td>\n",
       "      <td>...</td>\n",
       "      <td>1</td>\n",
       "    </tr>\n",
       "    <tr>\n",
       "      <th>3</th>\n",
       "      <td>battery-life_ipod_nano_8gb</td>\n",
       "      <td>...</td>\n",
       "      <td>1</td>\n",
       "    </tr>\n",
       "    <tr>\n",
       "      <th>4</th>\n",
       "      <td>battery-life_netbook_1005ha</td>\n",
       "      <td>...</td>\n",
       "      <td>1</td>\n",
       "    </tr>\n",
       "  </tbody>\n",
       "</table>\n",
       "</div>"
      ],
      "text/plain": [
       "                         filename  \\\n",
       "0   accuracy_garmin_nuvi_255W_gps   \n",
       "1  bathroom_bestwestern_hotel_sfo   \n",
       "2      battery-life_amazon_kindle   \n",
       "3      battery-life_ipod_nano_8gb   \n",
       "4     battery-life_netbook_1005ha   \n",
       "\n",
       "                                        opinion_text  cluster_label  \n",
       "0                                                ...              4  \n",
       "1                                                ...              3  \n",
       "2                                                ...              1  \n",
       "3                                                ...              1  \n",
       "4                                                ...              1  "
      ]
     },
     "execution_count": 23,
     "metadata": {},
     "output_type": "execute_result"
    }
   ],
   "source": [
    "from sklearn.cluster import KMeans\n",
    "\n",
    "#5개의 군집을 위한 인스턴스 생성\n",
    "km_cluster = KMeans(n_clusters = 5, max_iter=10000, random_state=0)\n",
    "#훈련\n",
    "km_cluster.fit(feature_vect)\n",
    "#각 데이터의 레이블을 저장\n",
    "cluster_label = km_cluster.labels_\n",
    "#각 군집의 중앙점을 저장\n",
    "cluster_centers = km_cluster.cluster_centers_\n",
    "\n",
    "document_df['cluster_label'] = cluster_label\n",
    "document_df.head()\n",
    "\n",
    "\n"
   ]
  },
  {
   "cell_type": "code",
   "execution_count": 25,
   "id": "b05693b4",
   "metadata": {},
   "outputs": [
    {
     "data": {
      "text/html": [
       "<div>\n",
       "<style scoped>\n",
       "    .dataframe tbody tr th:only-of-type {\n",
       "        vertical-align: middle;\n",
       "    }\n",
       "\n",
       "    .dataframe tbody tr th {\n",
       "        vertical-align: top;\n",
       "    }\n",
       "\n",
       "    .dataframe thead th {\n",
       "        text-align: right;\n",
       "    }\n",
       "</style>\n",
       "<table border=\"1\" class=\"dataframe\">\n",
       "  <thead>\n",
       "    <tr style=\"text-align: right;\">\n",
       "      <th></th>\n",
       "      <th>filename</th>\n",
       "      <th>opinion_text</th>\n",
       "      <th>cluster_label</th>\n",
       "    </tr>\n",
       "  </thead>\n",
       "  <tbody>\n",
       "    <tr>\n",
       "      <th>2</th>\n",
       "      <td>battery-life_amazon_kindle</td>\n",
       "      <td>...</td>\n",
       "      <td>1</td>\n",
       "    </tr>\n",
       "    <tr>\n",
       "      <th>3</th>\n",
       "      <td>battery-life_ipod_nano_8gb</td>\n",
       "      <td>...</td>\n",
       "      <td>1</td>\n",
       "    </tr>\n",
       "    <tr>\n",
       "      <th>4</th>\n",
       "      <td>battery-life_netbook_1005ha</td>\n",
       "      <td>...</td>\n",
       "      <td>1</td>\n",
       "    </tr>\n",
       "    <tr>\n",
       "      <th>19</th>\n",
       "      <td>keyboard_netbook_1005ha</td>\n",
       "      <td>...</td>\n",
       "      <td>1</td>\n",
       "    </tr>\n",
       "    <tr>\n",
       "      <th>26</th>\n",
       "      <td>performance_netbook_1005ha</td>\n",
       "      <td>...</td>\n",
       "      <td>1</td>\n",
       "    </tr>\n",
       "    <tr>\n",
       "      <th>35</th>\n",
       "      <td>screen_ipod_nano_8gb</td>\n",
       "      <td>...</td>\n",
       "      <td>1</td>\n",
       "    </tr>\n",
       "    <tr>\n",
       "      <th>36</th>\n",
       "      <td>screen_netbook_1005ha</td>\n",
       "      <td>...</td>\n",
       "      <td>1</td>\n",
       "    </tr>\n",
       "    <tr>\n",
       "      <th>41</th>\n",
       "      <td>size_asus_netbook_1005ha</td>\n",
       "      <td>...</td>\n",
       "      <td>1</td>\n",
       "    </tr>\n",
       "    <tr>\n",
       "      <th>42</th>\n",
       "      <td>sound_ipod_nano_8gb</td>\n",
       "      <td>headphone jack i got a clear case for it a...</td>\n",
       "      <td>1</td>\n",
       "    </tr>\n",
       "    <tr>\n",
       "      <th>44</th>\n",
       "      <td>speed_windows7</td>\n",
       "      <td>...</td>\n",
       "      <td>1</td>\n",
       "    </tr>\n",
       "    <tr>\n",
       "      <th>49</th>\n",
       "      <td>video_ipod_nano_8gb</td>\n",
       "      <td>...</td>\n",
       "      <td>1</td>\n",
       "    </tr>\n",
       "  </tbody>\n",
       "</table>\n",
       "</div>"
      ],
      "text/plain": [
       "                       filename  \\\n",
       "2    battery-life_amazon_kindle   \n",
       "3    battery-life_ipod_nano_8gb   \n",
       "4   battery-life_netbook_1005ha   \n",
       "19      keyboard_netbook_1005ha   \n",
       "26   performance_netbook_1005ha   \n",
       "35         screen_ipod_nano_8gb   \n",
       "36        screen_netbook_1005ha   \n",
       "41     size_asus_netbook_1005ha   \n",
       "42          sound_ipod_nano_8gb   \n",
       "44               speed_windows7   \n",
       "49          video_ipod_nano_8gb   \n",
       "\n",
       "                                         opinion_text  cluster_label  \n",
       "2                                                 ...              1  \n",
       "3                                                 ...              1  \n",
       "4                                                 ...              1  \n",
       "19                                                ...              1  \n",
       "26                                                ...              1  \n",
       "35                                                ...              1  \n",
       "36                                                ...              1  \n",
       "41                                                ...              1  \n",
       "42      headphone jack i got a clear case for it a...              1  \n",
       "44                                                ...              1  \n",
       "49                                                ...              1  "
      ]
     },
     "execution_count": 25,
     "metadata": {},
     "output_type": "execute_result"
    }
   ],
   "source": [
    "document_df[document_df['cluster_label'] == 1].sort_values(by='filename')"
   ]
  },
  {
   "cell_type": "code",
   "execution_count": 27,
   "id": "600b8860",
   "metadata": {},
   "outputs": [
    {
     "name": "stderr",
     "output_type": "stream",
     "text": [
      "C:\\ProgramData\\anaconda3\\Lib\\site-packages\\sklearn\\cluster\\_kmeans.py:1412: FutureWarning: The default value of `n_init` will change from 10 to 'auto' in 1.4. Set the value of `n_init` explicitly to suppress the warning\n",
      "  super()._check_params_vs_input(X, default_n_init=10)\n"
     ]
    },
    {
     "name": "stdout",
     "output_type": "stream",
     "text": [
      "[[0.    0.001 0.002 ... 0.    0.002 0.001]\n",
      " [0.    0.001 0.    ... 0.    0.    0.   ]\n",
      " [0.01  0.    0.    ... 0.007 0.    0.   ]]\n"
     ]
    }
   ],
   "source": [
    "#3개의 군집을 위한 인스턴스 생성\n",
    "km_cluster = KMeans(n_clusters = 3, max_iter=10000, random_state=0)\n",
    "#훈련\n",
    "km_cluster.fit(feature_vect)\n",
    "#각 데이터의 레이블을 저장\n",
    "cluster_label = km_cluster.labels_\n",
    "#각 군집의 중앙점을 저장\n",
    "cluster_centers = km_cluster.cluster_centers_\n",
    "\n",
    "document_df['cluster_label'] = cluster_label\n",
    "document_df.sort_values(by='cluster_label')\n",
    "\n",
    "#document_df.head()\n",
    "print(cluster_centers)"
   ]
  },
  {
   "cell_type": "markdown",
   "id": "868c67fd",
   "metadata": {},
   "source": [
    "### 군집을 이루게 만든 핵심 단어 출력"
   ]
  },
  {
   "cell_type": "code",
   "execution_count": 37,
   "id": "c0dea894",
   "metadata": {},
   "outputs": [],
   "source": [
    "#클러스터링 모델 과 데이터 그리고 피처 이름 그리고 클러스터 개수 와 추출할 핵심 단어\n",
    "#개수를 받아서 리턴하는 함수\n",
    "def get_cluster_details(cluster_model, cluster_data, feature_names, clusters_num,\n",
    "                       top_n_features=10):\n",
    "    cluster_details={}\n",
    "    \n",
    "    #군집 중심 과의 거리가 먼 단어 순으로 저장하기\n",
    "    centroid_feature_ordered_ind = cluster_model.cluster_centers_.argsort()[:, ::-1]\n",
    "    \n",
    "    for cluster_num in range(clusters_num):\n",
    "        cluster_details[cluster_num] = {}\n",
    "        cluster_details[cluster_num]['cluster'] = cluster_num\n",
    "        #중요 피처를 추출\n",
    "        top_feature_indexes = centroid_feature_ordered_ind[cluster_num, :top_n_features]\n",
    "        top_features = [feature_names[ind] for ind in top_feature_indexes]\n",
    "        #중앙점 과 의 거리 저장\n",
    "        top_feature_values = cluster_model.cluster_centers_[\n",
    "            cluster_num, top_feature_indexes].tolist()\n",
    "        \n",
    "        cluster_details[cluster_num]['top_features'] = top_features\n",
    "        cluster_details[cluster_num]['top_featuere_value'] = top_feature_values\n",
    "        filenames = cluster_data[cluster_data['cluster_label'] ==  cluster_num]['filename']\n",
    "        filenames = filenames.values.tolist()\n",
    "        cluster_details[cluster_num]['filenames'] = filenames\n",
    "    return cluster_details"
   ]
  },
  {
   "cell_type": "code",
   "execution_count": 38,
   "id": "9d19c2a8",
   "metadata": {},
   "outputs": [],
   "source": [
    "#클러스터 별 핵심 단어를 출력하는 함수\n",
    "def print_cluster_details(cluster_details):\n",
    "    for cluster_num, cluster_detail in cluster_details.items():\n",
    "        print(\"######\", cluster_num, \"#####\")\n",
    "        print(\"핵심 단어:\", cluster_detail['top_features'])\n",
    "        print(\"파일명:\", cluster_detail['filenames'])"
   ]
  },
  {
   "cell_type": "code",
   "execution_count": 39,
   "id": "18338224",
   "metadata": {},
   "outputs": [
    {
     "name": "stdout",
     "output_type": "stream",
     "text": [
      "###### 0 #####\n",
      "핵심 단어: ['room', 'hotel', 'service', 'staff', 'food', 'location', 'bathroom', 'clean', 'price', 'parking']\n",
      "파일명: ['bathroom_bestwestern_hotel_sfo', 'food_holiday_inn_london', 'food_swissotel_chicago', 'free_bestwestern_hotel_sfo', 'location_bestwestern_hotel_sfo', 'location_holiday_inn_london', 'parking_bestwestern_hotel_sfo', 'price_holiday_inn_london', 'rooms_bestwestern_hotel_sfo', 'rooms_swissotel_chicago', 'room_holiday_inn_london', 'service_bestwestern_hotel_sfo', 'service_holiday_inn_london', 'service_swissotel_hotel_chicago', 'staff_bestwestern_hotel_sfo', 'staff_swissotel_chicago']\n",
      "###### 1 #####\n",
      "핵심 단어: ['interior', 'seat', 'mileage', 'comfortable', 'gas', 'gas mileage', 'transmission', 'car', 'performance', 'quality']\n",
      "파일명: ['comfort_honda_accord_2008', 'comfort_toyota_camry_2007', 'gas_mileage_toyota_camry_2007', 'interior_honda_accord_2008', 'interior_toyota_camry_2007', 'mileage_honda_accord_2008', 'performance_honda_accord_2008', 'quality_toyota_camry_2007', 'seats_honda_accord_2008', 'transmission_toyota_camry_2007']\n",
      "###### 2 #####\n",
      "핵심 단어: ['screen', 'battery', 'keyboard', 'battery life', 'life', 'kindle', 'direction', 'video', 'size', 'voice']\n",
      "파일명: ['accuracy_garmin_nuvi_255W_gps', 'battery-life_amazon_kindle', 'battery-life_ipod_nano_8gb', 'battery-life_netbook_1005ha', 'buttons_amazon_kindle', 'directions_garmin_nuvi_255W_gps', 'display_garmin_nuvi_255W_gps', 'eyesight-issues_amazon_kindle', 'features_windows7', 'fonts_amazon_kindle', 'keyboard_netbook_1005ha', 'navigation_amazon_kindle', 'performance_netbook_1005ha', 'price_amazon_kindle', 'satellite_garmin_nuvi_255W_gps', 'screen_garmin_nuvi_255W_gps', 'screen_ipod_nano_8gb', 'screen_netbook_1005ha', 'size_asus_netbook_1005ha', 'sound_ipod_nano_8gb', 'speed_garmin_nuvi_255W_gps', 'speed_windows7', 'updates_garmin_nuvi_255W_gps', 'video_ipod_nano_8gb', 'voice_garmin_nuvi_255W_gps']\n"
     ]
    }
   ],
   "source": [
    "#피처 이름을 전부 가져오기\n",
    "feature_names = tfidf_vect.get_feature_names_out()\n",
    "#print(feature_names)\n",
    "cluster_details = get_cluster_details(cluster_model=km_cluster, \n",
    "                                     cluster_data = document_df,\n",
    "                                     feature_names = feature_names,\n",
    "                                     clusters_num=3,\n",
    "                                     top_n_features=10)\n",
    "print_cluster_details(cluster_details)"
   ]
  },
  {
   "cell_type": "code",
   "execution_count": null,
   "id": "edbfdb5f",
   "metadata": {},
   "outputs": [],
   "source": []
  },
  {
   "cell_type": "markdown",
   "id": "4995c56c",
   "metadata": {},
   "source": [
    "## 문장의 유사도 측정"
   ]
  },
  {
   "cell_type": "markdown",
   "id": "a88f8fe4",
   "metadata": {},
   "source": [
    "### 코사인 유사도를 구하는 알고리즘"
   ]
  },
  {
   "cell_type": "code",
   "execution_count": 40,
   "id": "8188f571",
   "metadata": {},
   "outputs": [],
   "source": [
    "def cos_similarity(v1, v2):\n",
    "    dot_product = np.dot(v1, v2)\n",
    "    l2_norm = (np.sqrt(sum(np.square(v1))) * np.sqrt(sum(np.square(v2))))\n",
    "    similarity = dot_product / l2_norm\n",
    "    \n",
    "    return similarity"
   ]
  },
  {
   "cell_type": "code",
   "execution_count": 46,
   "id": "3608bff7",
   "metadata": {},
   "outputs": [
    {
     "name": "stdout",
     "output_type": "stream",
     "text": [
      "  (0, 2)\t0.41556360057939173\n",
      "  (0, 13)\t0.41556360057939173\n",
      "  (0, 8)\t0.24543855687841593\n",
      "  (0, 0)\t0.41556360057939173\n",
      "  (0, 15)\t0.49087711375683185\n",
      "  (0, 14)\t0.24543855687841593\n",
      "  (0, 17)\t0.24543855687841593\n",
      "  (0, 6)\t0.24543855687841593\n",
      "=======================\n",
      "  (0, 16)\t0.39624495215024286\n",
      "  (0, 7)\t0.39624495215024286\n",
      "  (0, 12)\t0.39624495215024286\n",
      "  (0, 10)\t0.3013544995034864\n",
      "  (0, 8)\t0.2340286519091622\n",
      "  (0, 15)\t0.2340286519091622\n",
      "  (0, 14)\t0.2340286519091622\n",
      "  (0, 17)\t0.4680573038183244\n",
      "  (0, 6)\t0.2340286519091622\n",
      "=======================\n",
      "[[0.416 0.    0.416 0.    0.    0.    0.245 0.    0.245 0.    0.    0.\n",
      "  0.    0.416 0.245 0.491 0.    0.245]]\n",
      "=======================\n",
      "[[0.    0.    0.    0.    0.    0.    0.234 0.396 0.234 0.    0.301 0.\n",
      "  0.396 0.    0.234 0.234 0.396 0.468]]\n"
     ]
    }
   ],
   "source": [
    "doc_list = ['if you take the blue pill, the story ends',\n",
    "           'if you take the red pill, you stay in Wonderland',\n",
    "           'if you take the red pill, i show you how deep rabbit hole goes']\n",
    "\n",
    "tfidf_vect_simple = TfidfVectorizer()\n",
    "feature_vect_simple = tfidf_vect_simple.fit_transform(doc_list)\n",
    "#현재 결과는 희소 행렬이라서 거리 계산을 못함\n",
    "print(feature_vect_simple[0])\n",
    "print(\"=======================\")\n",
    "print(feature_vect_simple[1])\n",
    "\n",
    "#밀집 배열로 변환\n",
    "feature_vect_dense = feature_vect_simple.todense()\n",
    "print(\"=======================\")\n",
    "print(feature_vect_dense[0])\n",
    "print(\"=======================\")\n",
    "print(feature_vect_dense[1])\n",
    "\n",
    "\n",
    "\n"
   ]
  },
  {
   "cell_type": "code",
   "execution_count": 48,
   "id": "c0f5aec6",
   "metadata": {},
   "outputs": [
    {
     "name": "stdout",
     "output_type": "stream",
     "text": [
      "문장 1 과 문장 2의 유사도: 0.4020775821495014\n",
      "문장 1 과 문장 3의 유사도: 0.33151185783991466\n",
      "문장 3 과 문장 2의 유사도: 0.4361341528640473\n"
     ]
    }
   ],
   "source": [
    "#거리 계산을 위해서 1차원 배열로 변환\n",
    "vect1 = np.array(feature_vect_dense[0]).reshape(-1,)\n",
    "vect2 = np.array(feature_vect_dense[1]).reshape(-1,)\n",
    "vect3 = np.array(feature_vect_dense[2]).reshape(-1,)\n",
    "\n",
    "print(\"문장 1 과 문장 2의 유사도:\", cos_similarity(vect1, vect2))\n",
    "print(\"문장 1 과 문장 3의 유사도:\", cos_similarity(vect1, vect3))\n",
    "print(\"문장 3 과 문장 2의 유사도:\", cos_similarity(vect3, vect2))"
   ]
  },
  {
   "cell_type": "markdown",
   "id": "d7bb1015",
   "metadata": {},
   "source": [
    "### API를 활용한 코사인 유사도 구하기"
   ]
  },
  {
   "cell_type": "code",
   "execution_count": 49,
   "id": "a0bb8b22",
   "metadata": {},
   "outputs": [
    {
     "name": "stdout",
     "output_type": "stream",
     "text": [
      "[[1.    0.402 0.332]]\n"
     ]
    }
   ],
   "source": [
    "from sklearn.metrics.pairwise import cosine_similarity\n",
    "similarity_simple_pair = cosine_similarity(feature_vect_simple[0],\n",
    "                                          feature_vect_simple)\n",
    "print(similarity_simple_pair)"
   ]
  },
  {
   "cell_type": "markdown",
   "id": "fcb3550a",
   "metadata": {},
   "source": [
    "### 문서 군집의 코사인 유사도 확인"
   ]
  },
  {
   "cell_type": "code",
   "execution_count": 50,
   "id": "9aed3911",
   "metadata": {},
   "outputs": [
    {
     "name": "stdout",
     "output_type": "stream",
     "text": [
      "[[0.    0.001 0.002 ... 0.    0.002 0.001]\n",
      " [0.    0.001 0.    ... 0.    0.    0.   ]\n",
      " [0.01  0.    0.    ... 0.007 0.    0.   ]]\n"
     ]
    }
   ],
   "source": [
    "km_cluster = KMeans(n_clusters=3, max_iter=10000, random_state=0)\n",
    "km_cluster.fit(feature_vect)\n",
    "cluster_label = km_cluster.labels_\n",
    "#각 군집의 centroid\n",
    "cluster_centers = km_cluster.cluster_centers_\n",
    "document_df['cluster_label'] = cluster_label\n",
    "print(cluster_centers)"
   ]
  },
  {
   "cell_type": "code",
   "execution_count": 53,
   "id": "369b826a",
   "metadata": {},
   "outputs": [
    {
     "name": "stdout",
     "output_type": "stream",
     "text": [
      "1번 클러스터의 문서 인덱스: Int64Index([6, 7, 16, 17, 18, 22, 25, 29, 37, 47], dtype='int64')\n",
      "[[1.    0.84  0.157 0.33  0.26  0.165 0.276 0.181 0.655 0.062]]\n",
      "[[0.023 0.038 0.014 0.017 0.02  0.019 1.    0.84 ]]\n"
     ]
    }
   ],
   "source": [
    "#1번 클러스터의 문서들 간의 코사인 유사도 확인\n",
    "hotel_indexes = document_df[document_df['cluster_label'] == 1].index\n",
    "print(\"1번 클러스터의 문서 인덱스:\", hotel_indexes)\n",
    "\n",
    "#자신의 군집에 있는 문서 와의 코사인 유사도\n",
    "similartiry_pair = cosine_similarity(feature_vect[hotel_indexes[0]],\n",
    "                                    feature_vect[hotel_indexes])\n",
    "print(similartiry_pair)\n",
    "#0번 부터 7번까지 문서와 코사인 유사도\n",
    "similartiry_pair = cosine_similarity(feature_vect[hotel_indexes[0]],\n",
    "                                    feature_vect[[0, 1, 2, 3, 4, 5, 6, 7]])\n",
    "print(similartiry_pair)\n",
    "\n",
    "\n",
    "\n",
    "\n",
    "\n",
    "\n",
    "\n",
    "\n"
   ]
  },
  {
   "cell_type": "markdown",
   "id": "1095a6b6",
   "metadata": {},
   "source": [
    "### 한글 문서의 유사도 측정"
   ]
  },
  {
   "cell_type": "code",
   "execution_count": 57,
   "id": "41ba1a69",
   "metadata": {},
   "outputs": [
    {
     "name": "stdout",
     "output_type": "stream",
     "text": [
      "[['우리', '과일', '먹으러', '가자'], ['오늘', '은', '목요일', '입니다', '.'], ['나', '는', '공원', '에서', '산책', '하는', '것', '을', '싫어합니다', '.'], ['나', '는', '거리', '를', '걷는', '것', '을', '좋아합니다', '.'], ['걷는', '것', '이', '프로그래밍', '보다', '재미있습니다', '.']]\n"
     ]
    }
   ],
   "source": [
    "from sklearn.feature_extraction.text import CountVectorizer\n",
    "\n",
    "from konlpy.tag import Okt\n",
    "\n",
    "okt = Okt()\n",
    "vectorizer = CountVectorizer(min_df = 1)\n",
    "contents = ['우리 과일 먹으러 가자', \n",
    "            '오늘은 목요일입니다.',\n",
    "           '나는 공원에서 산책하는 것을 싫어합니다.',\n",
    "           '나는 거리를 걷는 것을 좋아합니다.',\n",
    "           '걷는 것이 프로그래밍보다 재미있습니다.']\n",
    "\n",
    "#한글 토큰화\n",
    "contents_tokens = [okt.morphs(row) for row in contents]\n",
    "print(contents_tokens)\n",
    "\n",
    "\n",
    "\n",
    "\n",
    "\n",
    "\n",
    "\n"
   ]
  },
  {
   "cell_type": "code",
   "execution_count": 58,
   "id": "7bf17846",
   "metadata": {},
   "outputs": [
    {
     "name": "stdout",
     "output_type": "stream",
     "text": [
      "[' 우리 과일 먹으러 가자', ' 오늘 은 목요일 입니다 .', ' 나 는 공원 에서 산책 하는 것 을 싫어합니다 .', ' 나 는 거리 를 걷는 것 을 좋아합니다 .', ' 걷는 것 이 프로그래밍 보다 재미있습니다 .']\n"
     ]
    }
   ],
   "source": [
    "#토큰화 된 결과를 가지고 다시 문장을 생성 - 피처 벡터화 때문\n",
    "contents_for_vectorize = []\n",
    "\n",
    "for content in contents_tokens:\n",
    "    sentence = ''\n",
    "    for word in content:\n",
    "        sentence = sentence + ' ' + word\n",
    "    contents_for_vectorize.append(sentence)\n",
    "    \n",
    "print(contents_for_vectorize)"
   ]
  },
  {
   "cell_type": "code",
   "execution_count": 59,
   "id": "c9597044",
   "metadata": {},
   "outputs": [
    {
     "name": "stdout",
     "output_type": "stream",
     "text": [
      "['가자' '거리' '걷는' '공원' '과일' '먹으러' '목요일' '보다' '산책' '싫어합니다' '에서' '오늘' '우리'\n",
      " '입니다' '재미있습니다' '좋아합니다' '프로그래밍' '하는']\n",
      "[[1 0 0 0 0]\n",
      " [0 0 0 1 0]\n",
      " [0 0 0 1 1]\n",
      " [0 0 1 0 0]\n",
      " [1 0 0 0 0]\n",
      " [1 0 0 0 0]\n",
      " [0 1 0 0 0]\n",
      " [0 0 0 0 1]\n",
      " [0 0 1 0 0]\n",
      " [0 0 1 0 0]\n",
      " [0 0 1 0 0]\n",
      " [0 1 0 0 0]\n",
      " [1 0 0 0 0]\n",
      " [0 1 0 0 0]\n",
      " [0 0 0 0 1]\n",
      " [0 0 0 1 0]\n",
      " [0 0 0 0 1]\n",
      " [0 0 1 0 0]]\n"
     ]
    }
   ],
   "source": [
    "#피처 벡터화\n",
    "X = vectorizer.fit_transform(contents_for_vectorize)\n",
    "#피처 확인\n",
    "print(vectorizer.get_feature_names_out())\n",
    "#문장의 피처 벡터화 된 후의 결과 확인\n",
    "print(X.toarray().transpose())"
   ]
  },
  {
   "cell_type": "code",
   "execution_count": 61,
   "id": "a1a3773b",
   "metadata": {},
   "outputs": [
    {
     "name": "stdout",
     "output_type": "stream",
     "text": [
      "[' 우리 과 이 먹으러 갖']\n"
     ]
    }
   ],
   "source": [
    "#유사도를 측정할 데이터 생성\n",
    "new_post = ['우리 과이 먹으러 갖']\n",
    "new_post_tokens = [okt.morphs(row) for row in new_post]\n",
    "\n",
    "new_post_for_vectorize = []\n",
    "\n",
    "for content in new_post_tokens:\n",
    "    sentence = ''\n",
    "    for word in content:\n",
    "        sentence = sentence + ' ' + word\n",
    "    new_post_for_vectorize.append(sentence)\n",
    "    \n",
    "print(new_post_for_vectorize)"
   ]
  },
  {
   "cell_type": "code",
   "execution_count": 62,
   "id": "0dfc28cc",
   "metadata": {},
   "outputs": [
    {
     "name": "stdout",
     "output_type": "stream",
     "text": [
      "  (0, 5)\t1\n",
      "  (0, 12)\t1\n",
      "[[0 0 0 0 0 1 0 0 0 0 0 0 1 0 0 0 0 0]]\n"
     ]
    }
   ],
   "source": [
    "#테스트 데이터의 피처 벡터화\n",
    "new_post_vec = vectorizer.transform(new_post_for_vectorize)\n",
    "print(new_post_vec)\n",
    "print(new_post_vec.toarray())"
   ]
  },
  {
   "cell_type": "code",
   "execution_count": 63,
   "id": "2933488a",
   "metadata": {},
   "outputs": [],
   "source": [
    "#거리 구해주는 함수\n",
    "import scipy as sp\n",
    "\n",
    "def dist_raw(v1, v2):\n",
    "    delta = v1 - v2\n",
    "    return sp.linalg.norm(delta.toarray())"
   ]
  },
  {
   "cell_type": "code",
   "execution_count": 66,
   "id": "38a3a214",
   "metadata": {},
   "outputs": [
    {
     "name": "stdout",
     "output_type": "stream",
     "text": [
      "0 번째 문장과의 거리: 1.4142135623730951   우리 과일 먹으러 가자\n",
      "1 번째 문장과의 거리: 2.23606797749979   오늘은 목요일입니다.\n",
      "2 번째 문장과의 거리: 2.6457513110645907   나는 공원에서 산책하는 것을 싫어합니다.\n",
      "3 번째 문장과의 거리: 2.23606797749979   나는 거리를 걷는 것을 좋아합니다.\n",
      "4 번째 문장과의 거리: 2.449489742783178   걷는 것이 프로그래밍보다 재미있습니다.\n"
     ]
    }
   ],
   "source": [
    "# 다른 문장들 과의 거리 계산\n",
    "best_doc = None\n",
    "best_dist = 65535\n",
    "best_i = None\n",
    "\n",
    "for i in range(0, 5):\n",
    "    post_vec = X.getrow(i)\n",
    "    d = dist_raw(post_vec, new_post_vec)\n",
    "    \n",
    "    print(i, \"번째 문장과의 거리:\", d, \" \", contents[i])\n",
    "    \n",
    "    if d < best_dist:\n",
    "        best_dist = d\n",
    "        best_i = i\n"
   ]
  },
  {
   "cell_type": "code",
   "execution_count": 67,
   "id": "310e99f8",
   "metadata": {},
   "outputs": [
    {
     "name": "stdout",
     "output_type": "stream",
     "text": [
      "우리 과일 먹으러 가자\n"
     ]
    }
   ],
   "source": [
    "print(contents[best_i])"
   ]
  },
  {
   "cell_type": "code",
   "execution_count": null,
   "id": "665c85a3",
   "metadata": {},
   "outputs": [],
   "source": []
  }
 ],
 "metadata": {
  "kernelspec": {
   "display_name": "Python 3 (ipykernel)",
   "language": "python",
   "name": "python3"
  },
  "language_info": {
   "codemirror_mode": {
    "name": "ipython",
    "version": 3
   },
   "file_extension": ".py",
   "mimetype": "text/x-python",
   "name": "python",
   "nbconvert_exporter": "python",
   "pygments_lexer": "ipython3",
   "version": "3.11.4"
  }
 },
 "nbformat": 4,
 "nbformat_minor": 5
}
