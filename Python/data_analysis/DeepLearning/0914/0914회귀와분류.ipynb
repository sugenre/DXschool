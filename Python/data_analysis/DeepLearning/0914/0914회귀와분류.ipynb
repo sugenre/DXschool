{
  "nbformat": 4,
  "nbformat_minor": 0,
  "metadata": {
    "colab": {
      "provenance": []
    },
    "kernelspec": {
      "name": "python3",
      "display_name": "Python 3"
    },
    "language_info": {
      "name": "python"
    }
  },
  "cells": [
    {
      "cell_type": "code",
      "execution_count": null,
      "metadata": {
        "id": "KQlFnLb1nx6D"
      },
      "outputs": [],
      "source": [
        "# 파이썬 ≥3.5 필수\n",
        "import sys\n",
        "assert sys.version_info >= (3, 5)\n",
        "\n",
        "# 사이킷런 ≥0.20 필수\n",
        "import sklearn\n",
        "assert sklearn.__version__ >= \"0.20\"\n",
        "\n",
        "# 공통 모듈 임포트\n",
        "import numpy as np\n",
        "import os\n",
        "\n",
        "# 노트북 실행 결과를 동일하게 유지하기 위해\n",
        "np.random.seed(42)\n",
        "\n",
        "# 깔끔한 그래프 출력을 위해\n",
        "%matplotlib inline\n",
        "import matplotlib as mpl\n",
        "import matplotlib.pyplot as plt\n",
        "mpl.rc('axes', labelsize=14)\n",
        "mpl.rc('xtick', labelsize=12)\n",
        "mpl.rc('ytick', labelsize=12)\n",
        "\n",
        "# 그림을 저장할 위치\n",
        "PROJECT_ROOT_DIR = \".\"\n",
        "CHAPTER_ID = \"tensorflow\"\n",
        "IMAGES_PATH = os.path.join(PROJECT_ROOT_DIR, \"images\", CHAPTER_ID)\n",
        "os.makedirs(IMAGES_PATH, exist_ok=True)\n",
        "\n",
        "def save_fig(fig_id, tight_layout=True, fig_extension=\"png\", resolution=300):\n",
        "    path = os.path.join(IMAGES_PATH, fig_id + \".\" + fig_extension)\n",
        "    print(\"그림 저장:\", fig_id)\n",
        "    if tight_layout:\n",
        "        plt.tight_layout()\n",
        "    plt.savefig(path, format=fig_extension, dpi=resolution)\n",
        "\n",
        "import warnings\n",
        "warnings.filterwarnings(action='ignore')"
      ]
    },
    {
      "cell_type": "code",
      "source": [
        "import tensorflow as tf\n",
        "from tensorflow import keras\n",
        "print(tf.__version__)"
      ],
      "metadata": {
        "colab": {
          "base_uri": "https://localhost:8080/"
        },
        "id": "XWTKH05oq8Cl",
        "outputId": "c560afd0-e01c-41df-854f-193b0ad5cb53"
      },
      "execution_count": 2,
      "outputs": [
        {
          "output_type": "stream",
          "name": "stdout",
          "text": [
            "2.13.0\n"
          ]
        }
      ]
    },
    {
      "cell_type": "code",
      "source": [
        "#입력 차원이 1개인 단순 선형 회귀\n",
        "\n",
        "X = np.arange(1, 6)\n",
        "y = 3 * X + 2\n",
        "\n",
        "#모델 만들기\n",
        "model = tf.keras.Sequential([\n",
        "    tf.keras.layers.Dense(1, input_shape=[1])\n",
        "])"
      ],
      "metadata": {
        "id": "u1w4h5NEuaMa"
      },
      "execution_count": 3,
      "outputs": []
    },
    {
      "cell_type": "code",
      "source": [
        "#모델의 구조 확인\n",
        "model.summary()"
      ],
      "metadata": {
        "colab": {
          "base_uri": "https://localhost:8080/"
        },
        "id": "iR7b9CWou-58",
        "outputId": "110f7b77-7eca-4f82-9d83-c19a7efa1a26"
      },
      "execution_count": 4,
      "outputs": [
        {
          "output_type": "stream",
          "name": "stdout",
          "text": [
            "Model: \"sequential\"\n",
            "_________________________________________________________________\n",
            " Layer (type)                Output Shape              Param #   \n",
            "=================================================================\n",
            " dense (Dense)               (None, 1)                 2         \n",
            "                                                                 \n",
            "=================================================================\n",
            "Total params: 2 (8.00 Byte)\n",
            "Trainable params: 2 (8.00 Byte)\n",
            "Non-trainable params: 0 (0.00 Byte)\n",
            "_________________________________________________________________\n"
          ]
        }
      ]
    },
    {
      "cell_type": "code",
      "source": [
        "#컴파일\n",
        "model.compile(optimizer='sgd', loss='mean_squared_error',\n",
        "             metrics=['mean_squared_error', 'mean_absolute_error'])\n",
        "\n",
        "#축약해서 작성\n",
        "model.compile(optimizer='sgd', loss='mse', metrics=['mse', 'mae'])\n",
        "\n",
        "#매개변수를 인스턴스 나 함수 또는 변수로 설정\n",
        "model.compile(optimizer = tf.keras.optimizers.SGD(learning_rate=0.005),\n",
        "              loss = tf.keras.losses.MeanSquaredError(),\n",
        "              metrics = [tf.keras.losses.MeanSquaredError(),\n",
        "                         tf.keras.losses.MeanAbsoluteError()])"
      ],
      "metadata": {
        "id": "SKAN4YfovTrx"
      },
      "execution_count": 9,
      "outputs": []
    },
    {
      "cell_type": "code",
      "source": [
        "#훈련\n",
        "#verbose = 0을 추가하면 훈련 과정의 내용이 출력되지 않습니다.\n",
        "history = model.fit(X, y, epochs=2000)"
      ],
      "metadata": {
        "id": "DVIgasBiD_t9"
      },
      "execution_count": 11,
      "outputs": []
    },
    {
      "cell_type": "code",
      "source": [
        "#훈련 과정에서 발생하는 손실 값 과 평가 지표 시각화\n",
        "plt.plot(history.history['loss'], label='loss')\n",
        "plt.plot(history.history['mean_squared_error'], label='mean_squared_error')\n",
        "plt.xlim(-1, 200)\n",
        "plt.title(\"Loss\")\n",
        "plt.legend()\n",
        "plt.show()"
      ],
      "metadata": {
        "colab": {
          "base_uri": "https://localhost:8080/",
          "height": 510
        },
        "id": "8dyNA-vpFU6U",
        "outputId": "c13e6d90-c031-41f9-b982-c6a555fb83dd"
      },
      "execution_count": 16,
      "outputs": [
        {
          "output_type": "stream",
          "name": "stdout",
          "text": [
            "loss\n",
            "mean_squared_error\n",
            "mean_absolute_error\n"
          ]
        },
        {
          "output_type": "display_data",
          "data": {
            "text/plain": [
              "<Figure size 640x480 with 1 Axes>"
            ],
            "image/png": "[encoded data removed]"
          },
          "metadata": {}
        }
      ]
    },
    {
      "cell_type": "code",
      "source": [
        "#검증\n",
        "model.evaluate(X, y)"
      ],
      "metadata": {
        "colab": {
          "base_uri": "https://localhost:8080/"
        },
        "id": "yo1EoN3dGhvc",
        "outputId": "75d4f74c-b0e5-4ff0-c0d0-893ab623e695"
      },
      "execution_count": 17,
      "outputs": [
        {
          "output_type": "stream",
          "name": "stdout",
          "text": [
            "1/1 [==============================] - 0s 120ms/step - loss: 1.4382e-07 - mean_squared_error: 1.4382e-07 - mean_absolute_error: 3.2530e-04\n"
          ]
        },
        {
          "output_type": "execute_result",
          "data": {
            "text/plain": [
              "[1.4381971880084166e-07, 1.4381971880084166e-07, 0.00032529831514693797]"
            ]
          },
          "metadata": {},
          "execution_count": 17
        }
      ]
    },
    {
      "cell_type": "code",
      "source": [
        "#예측\n",
        "model.predict([10])"
      ],
      "metadata": {
        "colab": {
          "base_uri": "https://localhost:8080/"
        },
        "id": "PBb0eWIOG6fq",
        "outputId": "70c17e07-6dee-48ec-e3ed-e9752b45a017"
      },
      "execution_count": 18,
      "outputs": [
        {
          "output_type": "stream",
          "name": "stdout",
          "text": [
            "1/1 [==============================] - 0s 77ms/step\n"
          ]
        },
        {
          "output_type": "execute_result",
          "data": {
            "text/plain": [
              "array([[32.001568]], dtype=float32)"
            ]
          },
          "metadata": {},
          "execution_count": 18
        }
      ]
    },
    {
      "cell_type": "markdown",
      "source": [],
      "metadata": {
        "id": "ArwaKoy9IZft"
      }
    },
    {
      "cell_type": "markdown",
      "source": [
        "## 화이트 와 레드 와인 이항 분류"
      ],
      "metadata": {
        "id": "QOm2yYFPIZnT"
      }
    },
    {
      "cell_type": "markdown",
      "source": [
        "### 데이터 가져오기"
      ],
      "metadata": {
        "id": "2lKaa_nrIcVl"
      }
    },
    {
      "cell_type": "code",
      "source": [
        "import pandas as pd\n",
        "white = pd.read_csv('http://archive.ics.uci.edu/ml/machine-learning-databases/wine-quality/winequality-white.csv', sep=\";\")\n",
        "red = pd.read_csv('http://archive.ics.uci.edu/ml/machine-learning-databases/wine-quality/winequality-red.csv', sep=\";\")\n",
        "print(white.head())\n",
        "print(red.head())\n",
        "\n",
        "\n"
      ],
      "metadata": {
        "colab": {
          "base_uri": "https://localhost:8080/"
        },
        "id": "QHQdNFCyIfUq",
        "outputId": "92149c23-fb07-4924-cc87-11bf1447e7ee"
      },
      "execution_count": 26,
      "outputs": [
        {
          "output_type": "stream",
          "name": "stdout",
          "text": [
            "   fixed acidity  volatile acidity  citric acid  ...  sulphates  alcohol  quality\n",
            "0            7.0              0.27         0.36  ...       0.45      8.8        6\n",
            "1            6.3              0.30         0.34  ...       0.49      9.5        6\n",
            "2            8.1              0.28         0.40  ...       0.44     10.1        6\n",
            "3            7.2              0.23         0.32  ...       0.40      9.9        6\n",
            "4            7.2              0.23         0.32  ...       0.40      9.9        6\n",
            "\n",
            "[5 rows x 12 columns]\n",
            "   fixed acidity  volatile acidity  citric acid  ...  sulphates  alcohol  quality\n",
            "0            7.4              0.70         0.00  ...       0.56      9.4        5\n",
            "1            7.8              0.88         0.00  ...       0.68      9.8        5\n",
            "2            7.8              0.76         0.04  ...       0.65      9.8        5\n",
            "3           11.2              0.28         0.56  ...       0.58      9.8        6\n",
            "4            7.4              0.70         0.00  ...       0.56      9.4        5\n",
            "\n",
            "[5 rows x 12 columns]\n"
          ]
        }
      ]
    },
    {
      "cell_type": "code",
      "source": [],
      "metadata": {
        "id": "01rwEwMtKnFJ"
      },
      "execution_count": null,
      "outputs": []
    },
    {
      "cell_type": "code",
      "source": [
        "#타겟 만들기\n",
        "red['type'] = 0\n",
        "white['type'] = 1\n",
        "\n",
        "#2개의 데이터를 세로 방향으로 합치기\n",
        "wine = pd.concat([red, white])\n",
        "print(wine.describe())"
      ],
      "metadata": {
        "colab": {
          "base_uri": "https://localhost:8080/"
        },
        "id": "dfOoaBLvKoss",
        "outputId": "b27ffe50-b2a9-4a5e-f636-1d3ae6918181"
      },
      "execution_count": 27,
      "outputs": [
        {
          "output_type": "stream",
          "name": "stdout",
          "text": [
            "       fixed acidity  volatile acidity  ...      quality         type\n",
            "count    6497.000000       6497.000000  ...  6497.000000  6497.000000\n",
            "mean        7.215307          0.339666  ...     5.818378     0.753886\n",
            "std         1.296434          0.164636  ...     0.873255     0.430779\n",
            "min         3.800000          0.080000  ...     3.000000     0.000000\n",
            "25%         6.400000          0.230000  ...     5.000000     1.000000\n",
            "50%         7.000000          0.290000  ...     6.000000     1.000000\n",
            "75%         7.700000          0.400000  ...     6.000000     1.000000\n",
            "max        15.900000          1.580000  ...     9.000000     1.000000\n",
            "\n",
            "[8 rows x 13 columns]\n"
          ]
        }
      ]
    },
    {
      "cell_type": "code",
      "source": [
        "# 타겟 분포 확인\n",
        "plt.hist(wine['type'])\n",
        "plt.show()\n",
        "#3배 정도 차이가 나는데 이 정도는 괜찮음"
      ],
      "metadata": {
        "colab": {
          "base_uri": "https://localhost:8080/",
          "height": 434
        },
        "id": "lq8hX2BiLmPm",
        "outputId": "7212e2c7-e05c-4af6-83dd-29bde33cd57f"
      },
      "execution_count": 28,
      "outputs": [
        {
          "output_type": "display_data",
          "data": {
            "text/plain": [
              "<Figure size 640x480 with 1 Axes>"
            ],
            "image/png": "[encoded data removed]"
          },
          "metadata": {}
        }
      ]
    },
    {
      "cell_type": "code",
      "source": [
        "#데이터 정규화\n",
        "#sklearn 의 MinMaxScaler를 이용한 것 과 동일\n",
        "wine_norm = (wine - wine.min()) / (wine.max() - wine.min())\n",
        "print(wine_norm.head())\n",
        "print(wine_norm.describe())"
      ],
      "metadata": {
        "colab": {
          "base_uri": "https://localhost:8080/"
        },
        "id": "ck9ouLr2MVDe",
        "outputId": "d28e50bd-562c-4083-f975-10e565c6a672"
      },
      "execution_count": 29,
      "outputs": [
        {
          "output_type": "stream",
          "name": "stdout",
          "text": [
            "   fixed acidity  volatile acidity  citric acid  ...   alcohol   quality  type\n",
            "0       0.297521          0.413333     0.000000  ...  0.202899  0.333333   0.0\n",
            "1       0.330579          0.533333     0.000000  ...  0.260870  0.333333   0.0\n",
            "2       0.330579          0.453333     0.024096  ...  0.260870  0.333333   0.0\n",
            "3       0.611570          0.133333     0.337349  ...  0.260870  0.500000   0.0\n",
            "4       0.297521          0.413333     0.000000  ...  0.202899  0.333333   0.0\n",
            "\n",
            "[5 rows x 13 columns]\n",
            "       fixed acidity  volatile acidity  ...      quality         type\n",
            "count    6497.000000       6497.000000  ...  6497.000000  6497.000000\n",
            "mean        0.282257          0.173111  ...     0.469730     0.753886\n",
            "std         0.107143          0.109758  ...     0.145543     0.430779\n",
            "min         0.000000          0.000000  ...     0.000000     0.000000\n",
            "25%         0.214876          0.100000  ...     0.333333     1.000000\n",
            "50%         0.264463          0.140000  ...     0.500000     1.000000\n",
            "75%         0.322314          0.213333  ...     0.500000     1.000000\n",
            "max         1.000000          1.000000  ...     1.000000     1.000000\n",
            "\n",
            "[8 rows x 13 columns]\n"
          ]
        }
      ]
    },
    {
      "cell_type": "code",
      "source": [
        "#데이터 샘플링\n",
        "wine_shuffle = wine_norm.sample(frac=1) #데이터를 섞어서 리턴 - frac은 데이터의 비율\n",
        "print(wine_shuffle.head())"
      ],
      "metadata": {
        "colab": {
          "base_uri": "https://localhost:8080/"
        },
        "id": "MCWVrwaDNHgH",
        "outputId": "e913afb2-6844-45cb-8e6e-4ea3952304f9"
      },
      "execution_count": 30,
      "outputs": [
        {
          "output_type": "stream",
          "name": "stdout",
          "text": [
            "      fixed acidity  volatile acidity  citric acid  ...   alcohol   quality  type\n",
            "1504       0.264463          0.060000     0.445783  ...  0.608696  0.833333   1.0\n",
            "1419       0.322314          0.373333     0.126506  ...  0.275362  0.333333   0.0\n",
            "3162       0.247934          0.206667     0.204819  ...  0.579710  0.666667   1.0\n",
            "3091       0.206612          0.133333     0.283133  ...  0.217391  0.500000   1.0\n",
            "2433       0.297521          0.180000     0.120482  ...  0.130435  0.500000   1.0\n",
            "\n",
            "[5 rows x 13 columns]\n"
          ]
        }
      ]
    },
    {
      "cell_type": "code",
      "source": [
        "#pandas의 DataFrame을 numpy 배열로 변환\n",
        "wine_np = wine_shuffle.to_numpy()\n",
        "print(wine_np[:5])"
      ],
      "metadata": {
        "colab": {
          "base_uri": "https://localhost:8080/"
        },
        "id": "kKZ2eyZbNqkc",
        "outputId": "a487d774-81e3-4b44-a787-006f411ff57f"
      },
      "execution_count": 34,
      "outputs": [
        {
          "output_type": "stream",
          "name": "stdout",
          "text": [
            "[[0.26446281 0.06       0.44578313 0.18711656 0.05980066 0.07986111\n",
            "  0.2764977  0.13668787 0.41860465 0.08988764 0.60869565 0.83333333\n",
            "  1.        ]\n",
            " [0.32231405 0.37333333 0.12650602 0.02453988 0.11295681 0.10763889\n",
            "  0.29262673 0.16367843 0.42635659 0.12921348 0.27536232 0.33333333\n",
            "  0.        ]\n",
            " [0.24793388 0.20666667 0.20481928 0.10429448 0.01827243 0.12847222\n",
            "  0.29262673 0.09658762 0.35658915 0.12359551 0.57971014 0.66666667\n",
            "  1.        ]\n",
            " [0.20661157 0.13333333 0.28313253 0.16257669 0.05149502 0.20833333\n",
            "  0.4078341  0.1698477  0.31007752 0.16292135 0.2173913  0.5\n",
            "  1.        ]\n",
            " [0.29752066 0.18       0.12048193 0.20398773 0.07475083 0.21527778\n",
            "  0.51382488 0.22691344 0.30232558 0.15730337 0.13043478 0.5\n",
            "  1.        ]]\n"
          ]
        }
      ]
    },
    {
      "cell_type": "code",
      "source": [
        "#훈련에 사용할 데이터로 생성\n",
        "train_idx = int(len(wine_np) * 0.8)\n",
        "\n",
        "#train_idx 기준으로 행 단위로 분할해서 train 과 test로 분할하고\n",
        "#맨 마지막 열을 기준으로 열 단위로 분할해서 feature 와 target으로 분리\n",
        "train_X, train_Y = wine_np[:train_idx, :-1], wine_np[:train_idx:, -1]\n",
        "test_X, test_Y = wine_np[train_idx:, :-1], wine_np[train_idx:,-1]\n",
        "\n",
        "#레드 와 화이트로 분류할 것이라서 타겟을 원핫 인코딩 수행\n",
        "train_Y = tf.keras.utils.to_categorical(train_Y, num_classes=2)\n",
        "test_Y = tf.keras.utils.to_categorical(test_Y, num_classes=2)\n",
        "print(train_X.shape, test_X.shape)\n",
        "print(train_Y.shape, test_Y.shape)"
      ],
      "metadata": {
        "colab": {
          "base_uri": "https://localhost:8080/"
        },
        "id": "XISjDwFVPF0b",
        "outputId": "710ae83b-faa6-477b-de0b-da218d5da398"
      },
      "execution_count": 36,
      "outputs": [
        {
          "output_type": "stream",
          "name": "stdout",
          "text": [
            "(5197, 12) (1300, 12)\n",
            "(5197, 2) (1300, 2)\n"
          ]
        }
      ]
    },
    {
      "cell_type": "code",
      "source": [
        "#분류 모델\n",
        "#이항 분류이고 피처의 개수가 12개입니다.\n",
        "#첫번째 입력 층의 input_shape는 무조건 (12, )\n",
        "#맨 마지막 출력 층의 units은 클래스 개수이므로 2 그리고 다항 분류이므로 activation은 softmax\n",
        "#중간 층들의 units는 마음대로 설정 가능하지만 activation은 존재하는 이름을 사용해야 합니다.\n",
        "model = tf.keras.Sequential(\n",
        "    [tf.keras.layers.Dense(units=256, activation='relu', input_shape=(12, )),\n",
        "     tf.keras.layers.Dense(units=128, activation='relu'),\n",
        "     tf.keras.layers.Dense(units=64, activation='relu'),\n",
        "     tf.keras.layers.Dense(units=32, activation='relu'),\n",
        "     tf.keras.layers.Dense(units=16, activation='relu'),\n",
        "     tf.keras.layers.Dense(units=2, activation='softmax')]\n",
        ")\n",
        "#최적화 함수는 Adam이고 학습률은 0.03\n",
        "#손실 함수는 카테고리 크로스 엔트로피\n",
        "#평가 지표는 정확도\n",
        "model.compile(optimizer=tf.keras.optimizers.Adam(lr=0.03),\n",
        "              loss='categorical_crossentropy', metrics=['accuracy'])\n",
        "\n",
        "#구조 확인\n",
        "model.summary()\n",
        "\n",
        "#훈련\n",
        "history = model.fit(train_X, train_Y, epochs=25)\n",
        "\n",
        "\n",
        "\n",
        "\n",
        "\n",
        "\n",
        "\n",
        "\n"
      ],
      "metadata": {
        "colab": {
          "base_uri": "https://localhost:8080/"
        },
        "id": "oWGwmQg3VZj0",
        "outputId": "aba6b791-6d1e-487c-fdb6-790d337ba8b8"
      },
      "execution_count": 40,
      "outputs": [
        {
          "output_type": "stream",
          "name": "stderr",
          "text": [
            "WARNING:absl:`lr` is deprecated in Keras optimizer, please use `learning_rate` or use the legacy optimizer, e.g.,tf.keras.optimizers.legacy.Adam.\n"
          ]
        },
        {
          "output_type": "stream",
          "name": "stdout",
          "text": [
            "Model: \"sequential_4\"\n",
            "_________________________________________________________________\n",
            " Layer (type)                Output Shape              Param #   \n",
            "=================================================================\n",
            " dense_15 (Dense)            (None, 256)               3328      \n",
            "                                                                 \n",
            " dense_16 (Dense)            (None, 128)               32896     \n",
            "                                                                 \n",
            " dense_17 (Dense)            (None, 64)                8256      \n",
            "                                                                 \n",
            " dense_18 (Dense)            (None, 32)                2080      \n",
            "                                                                 \n",
            " dense_19 (Dense)            (None, 16)                528       \n",
            "                                                                 \n",
            " dense_20 (Dense)            (None, 2)                 34        \n",
            "                                                                 \n",
            "=================================================================\n",
            "Total params: 47122 (184.07 KB)\n",
            "Trainable params: 47122 (184.07 KB)\n",
            "Non-trainable params: 0 (0.00 Byte)\n",
            "_________________________________________________________________\n",
            "Epoch 1/25\n",
            "163/163 [==============================] - 1s 2ms/step - loss: 0.1579 - accuracy: 0.9359\n",
            "Epoch 2/25\n",
            "163/163 [==============================] - 0s 2ms/step - loss: 0.0449 - accuracy: 0.9873\n",
            "Epoch 3/25\n",
            "163/163 [==============================] - 0s 1ms/step - loss: 0.0377 - accuracy: 0.9894\n",
            "Epoch 4/25\n",
            "163/163 [==============================] - 0s 2ms/step - loss: 0.0344 - accuracy: 0.9913\n",
            "Epoch 5/25\n",
            "163/163 [==============================] - 0s 2ms/step - loss: 0.0355 - accuracy: 0.9906\n",
            "Epoch 6/25\n",
            "163/163 [==============================] - 0s 1ms/step - loss: 0.0284 - accuracy: 0.9937\n",
            "Epoch 7/25\n",
            "163/163 [==============================] - 0s 2ms/step - loss: 0.0312 - accuracy: 0.9931\n",
            "Epoch 8/25\n",
            "163/163 [==============================] - 0s 2ms/step - loss: 0.0278 - accuracy: 0.9937\n",
            "Epoch 9/25\n",
            "163/163 [==============================] - 0s 2ms/step - loss: 0.0300 - accuracy: 0.9931\n",
            "Epoch 10/25\n",
            "163/163 [==============================] - 0s 2ms/step - loss: 0.0237 - accuracy: 0.9940\n",
            "Epoch 11/25\n",
            "163/163 [==============================] - 0s 2ms/step - loss: 0.0235 - accuracy: 0.9950\n",
            "Epoch 12/25\n",
            "163/163 [==============================] - 0s 1ms/step - loss: 0.0258 - accuracy: 0.9944\n",
            "Epoch 13/25\n",
            "163/163 [==============================] - 0s 2ms/step - loss: 0.0243 - accuracy: 0.9946\n",
            "Epoch 14/25\n",
            "163/163 [==============================] - 0s 2ms/step - loss: 0.0221 - accuracy: 0.9956\n",
            "Epoch 15/25\n",
            "163/163 [==============================] - 0s 1ms/step - loss: 0.0246 - accuracy: 0.9940\n",
            "Epoch 16/25\n",
            "163/163 [==============================] - 0s 2ms/step - loss: 0.0327 - accuracy: 0.9911\n",
            "Epoch 17/25\n",
            "163/163 [==============================] - 0s 2ms/step - loss: 0.0217 - accuracy: 0.9956\n",
            "Epoch 18/25\n",
            "163/163 [==============================] - 0s 1ms/step - loss: 0.0212 - accuracy: 0.9946\n",
            "Epoch 19/25\n",
            "163/163 [==============================] - 0s 2ms/step - loss: 0.0211 - accuracy: 0.9963\n",
            "Epoch 20/25\n",
            "163/163 [==============================] - 0s 2ms/step - loss: 0.0195 - accuracy: 0.9958\n",
            "Epoch 21/25\n",
            "163/163 [==============================] - 0s 2ms/step - loss: 0.0209 - accuracy: 0.9954\n",
            "Epoch 22/25\n",
            "163/163 [==============================] - 0s 2ms/step - loss: 0.0176 - accuracy: 0.9958\n",
            "Epoch 23/25\n",
            "163/163 [==============================] - 0s 2ms/step - loss: 0.0202 - accuracy: 0.9954\n",
            "Epoch 24/25\n",
            "163/163 [==============================] - 0s 2ms/step - loss: 0.0182 - accuracy: 0.9965\n",
            "Epoch 25/25\n",
            "163/163 [==============================] - 0s 2ms/step - loss: 0.0189 - accuracy: 0.9960\n"
          ]
        }
      ]
    },
    {
      "cell_type": "code",
      "source": [],
      "metadata": {
        "id": "7qjH5LcUc3he"
      },
      "execution_count": null,
      "outputs": []
    },
    {
      "cell_type": "code",
      "source": [
        "#훈련\n",
        "#validation_split을 설정하면 그 비율만큼을 검증 데이터로 사용해서 검증을 수행\n",
        "#batch_size는 데이터를 분할해서 학습을 수행\n",
        "history = model.fit(train_X, train_Y, epochs=25, validation_split=0.25,\n",
        "                    batch_size=64)\n"
      ],
      "metadata": {
        "colab": {
          "base_uri": "https://localhost:8080/"
        },
        "id": "yjNXfjUWcscU",
        "outputId": "af9b9f8e-b307-44f3-b600-8bec9e2f75d2"
      },
      "execution_count": 42,
      "outputs": [
        {
          "output_type": "stream",
          "name": "stdout",
          "text": [
            "Epoch 1/25\n",
            "61/61 [==============================] - 0s 3ms/step - loss: 0.0076 - accuracy: 0.9985 - val_loss: 0.0171 - val_accuracy: 0.9969\n",
            "Epoch 2/25\n",
            "61/61 [==============================] - 0s 3ms/step - loss: 0.0066 - accuracy: 0.9990 - val_loss: 0.0180 - val_accuracy: 0.9962\n",
            "Epoch 3/25\n",
            "61/61 [==============================] - 0s 3ms/step - loss: 0.0066 - accuracy: 0.9987 - val_loss: 0.0184 - val_accuracy: 0.9954\n",
            "Epoch 4/25\n",
            "61/61 [==============================] - 0s 3ms/step - loss: 0.0060 - accuracy: 0.9990 - val_loss: 0.0178 - val_accuracy: 0.9969\n",
            "Epoch 5/25\n",
            "61/61 [==============================] - 0s 4ms/step - loss: 0.0054 - accuracy: 0.9987 - val_loss: 0.0172 - val_accuracy: 0.9954\n",
            "Epoch 6/25\n",
            "61/61 [==============================] - 0s 4ms/step - loss: 0.0050 - accuracy: 0.9990 - val_loss: 0.0231 - val_accuracy: 0.9962\n",
            "Epoch 7/25\n",
            "61/61 [==============================] - 0s 3ms/step - loss: 0.0057 - accuracy: 0.9987 - val_loss: 0.0164 - val_accuracy: 0.9969\n",
            "Epoch 8/25\n",
            "61/61 [==============================] - 0s 4ms/step - loss: 0.0050 - accuracy: 0.9992 - val_loss: 0.0178 - val_accuracy: 0.9962\n",
            "Epoch 9/25\n",
            "61/61 [==============================] - 0s 4ms/step - loss: 0.0053 - accuracy: 0.9992 - val_loss: 0.0194 - val_accuracy: 0.9954\n",
            "Epoch 10/25\n",
            "61/61 [==============================] - 0s 4ms/step - loss: 0.0060 - accuracy: 0.9985 - val_loss: 0.0349 - val_accuracy: 0.9938\n",
            "Epoch 11/25\n",
            "61/61 [==============================] - 0s 3ms/step - loss: 0.0108 - accuracy: 0.9972 - val_loss: 0.0196 - val_accuracy: 0.9962\n",
            "Epoch 12/25\n",
            "61/61 [==============================] - 0s 4ms/step - loss: 0.0070 - accuracy: 0.9987 - val_loss: 0.0220 - val_accuracy: 0.9962\n",
            "Epoch 13/25\n",
            "61/61 [==============================] - 0s 4ms/step - loss: 0.0072 - accuracy: 0.9985 - val_loss: 0.0180 - val_accuracy: 0.9954\n",
            "Epoch 14/25\n",
            "61/61 [==============================] - 0s 4ms/step - loss: 0.0042 - accuracy: 0.9995 - val_loss: 0.0244 - val_accuracy: 0.9962\n",
            "Epoch 15/25\n",
            "61/61 [==============================] - 0s 4ms/step - loss: 0.0046 - accuracy: 0.9992 - val_loss: 0.0226 - val_accuracy: 0.9962\n",
            "Epoch 16/25\n",
            "61/61 [==============================] - 0s 4ms/step - loss: 0.0064 - accuracy: 0.9979 - val_loss: 0.0257 - val_accuracy: 0.9962\n",
            "Epoch 17/25\n",
            "61/61 [==============================] - 0s 4ms/step - loss: 0.0108 - accuracy: 0.9964 - val_loss: 0.0206 - val_accuracy: 0.9962\n",
            "Epoch 18/25\n",
            "61/61 [==============================] - 0s 4ms/step - loss: 0.0077 - accuracy: 0.9979 - val_loss: 0.0179 - val_accuracy: 0.9962\n",
            "Epoch 19/25\n",
            "61/61 [==============================] - 0s 4ms/step - loss: 0.0052 - accuracy: 0.9992 - val_loss: 0.0163 - val_accuracy: 0.9962\n",
            "Epoch 20/25\n",
            "61/61 [==============================] - 0s 3ms/step - loss: 0.0037 - accuracy: 0.9992 - val_loss: 0.0227 - val_accuracy: 0.9962\n",
            "Epoch 21/25\n",
            "61/61 [==============================] - 0s 3ms/step - loss: 0.0045 - accuracy: 0.9992 - val_loss: 0.0216 - val_accuracy: 0.9962\n",
            "Epoch 22/25\n",
            "61/61 [==============================] - 0s 3ms/step - loss: 0.0034 - accuracy: 0.9995 - val_loss: 0.0170 - val_accuracy: 0.9969\n",
            "Epoch 23/25\n",
            "61/61 [==============================] - 0s 3ms/step - loss: 0.0031 - accuracy: 0.9995 - val_loss: 0.0216 - val_accuracy: 0.9962\n",
            "Epoch 24/25\n",
            "61/61 [==============================] - 0s 3ms/step - loss: 0.0043 - accuracy: 0.9990 - val_loss: 0.0350 - val_accuracy: 0.9962\n",
            "Epoch 25/25\n",
            "61/61 [==============================] - 0s 3ms/step - loss: 0.0245 - accuracy: 0.9933 - val_loss: 0.0380 - val_accuracy: 0.9969\n"
          ]
        }
      ]
    },
    {
      "cell_type": "code",
      "source": [
        "#평가\n",
        "model.evaluate(test_X, test_Y)"
      ],
      "metadata": {
        "colab": {
          "base_uri": "https://localhost:8080/"
        },
        "id": "K54rQfDZeRl7",
        "outputId": "1ada4b98-3ae5-46d4-efd8-349288300754"
      },
      "execution_count": 43,
      "outputs": [
        {
          "output_type": "stream",
          "name": "stdout",
          "text": [
            "41/41 [==============================] - 0s 1ms/step - loss: 0.0496 - accuracy: 0.9938\n"
          ]
        },
        {
          "output_type": "execute_result",
          "data": {
            "text/plain": [
              "[0.04959750175476074, 0.9938461780548096]"
            ]
          },
          "metadata": {},
          "execution_count": 43
        }
      ]
    },
    {
      "cell_type": "code",
      "source": [],
      "metadata": {
        "id": "H2mMXxeFjCQU"
      },
      "execution_count": null,
      "outputs": []
    },
    {
      "cell_type": "code",
      "source": [
        "## 품질을 3가지로 나누어서 분류"
      ],
      "metadata": {
        "id": "22eNww0-jCZD"
      },
      "execution_count": null,
      "outputs": []
    },
    {
      "cell_type": "code",
      "source": [
        "print(wine['quality'].describe())\n",
        "print(wine['quality'].value_counts())\n",
        "#3~5를 0, 6을 1 7~9 를 2로 그룹화"
      ],
      "metadata": {
        "colab": {
          "base_uri": "https://localhost:8080/"
        },
        "id": "thqKTlpDjG9U",
        "outputId": "7c0f8927-d832-4d32-9066-d53b13c48cd0"
      },
      "execution_count": 44,
      "outputs": [
        {
          "output_type": "stream",
          "name": "stdout",
          "text": [
            "count    6497.000000\n",
            "mean        5.818378\n",
            "std         0.873255\n",
            "min         3.000000\n",
            "25%         5.000000\n",
            "50%         6.000000\n",
            "75%         6.000000\n",
            "max         9.000000\n",
            "Name: quality, dtype: float64\n",
            "6    2836\n",
            "5    2138\n",
            "7    1079\n",
            "4     216\n",
            "8     193\n",
            "3      30\n",
            "9       5\n",
            "Name: quality, dtype: int64\n"
          ]
        }
      ]
    },
    {
      "cell_type": "code",
      "source": [
        "#타겟 생성\n",
        "wine.loc[wine['quality'] <= 5, 'new_quality'] = 0\n",
        "wine.loc[wine['quality'] == 6, 'new_quality'] = 1\n",
        "wine.loc[wine['quality'] >= 7, 'new_quality'] = 2\n",
        "print(wine.head())"
      ],
      "metadata": {
        "colab": {
          "base_uri": "https://localhost:8080/"
        },
        "id": "lr_ZQjabjv8B",
        "outputId": "54bc0f38-7e5f-40cb-f033-4402143602ce"
      },
      "execution_count": 46,
      "outputs": [
        {
          "output_type": "stream",
          "name": "stdout",
          "text": [
            "   fixed acidity  volatile acidity  citric acid  ...  quality  type  new_quality\n",
            "0            7.4              0.70         0.00  ...        5     0          0.0\n",
            "1            7.8              0.88         0.00  ...        5     0          0.0\n",
            "2            7.8              0.76         0.04  ...        5     0          0.0\n",
            "3           11.2              0.28         0.56  ...        6     0          1.0\n",
            "4            7.4              0.70         0.00  ...        5     0          0.0\n",
            "\n",
            "[5 rows x 14 columns]\n"
          ]
        }
      ]
    },
    {
      "cell_type": "code",
      "source": [
        "#피처 정규화\n",
        "#del wine['quality']\n",
        "del wine['type']\n",
        "wine_backup = wine.copy() #복제본 생성\n",
        "\n",
        "#타겟을 제외한 부분을 정규화\n",
        "wine_norm = (wine - wine.min()) / (wine.max() - wine.min())\n",
        "wine_norm['new_quality'] = wine_backup['new_quality']\n",
        "print(wine_norm.head())"
      ],
      "metadata": {
        "colab": {
          "base_uri": "https://localhost:8080/"
        },
        "id": "-yJ_A4sXkwFi",
        "outputId": "5fb7deeb-b5d8-4bdb-822c-a15d0379dfbd"
      },
      "execution_count": 56,
      "outputs": [
        {
          "output_type": "stream",
          "name": "stdout",
          "text": [
            "   fixed acidity  volatile acidity  ...   alcohol  new_quality\n",
            "0       0.297521          0.413333  ...  0.202899          0.0\n",
            "1       0.330579          0.533333  ...  0.260870          0.0\n",
            "2       0.330579          0.453333  ...  0.260870          0.0\n",
            "3       0.611570          0.133333  ...  0.260870          1.0\n",
            "4       0.297521          0.413333  ...  0.202899          0.0\n",
            "\n",
            "[5 rows x 12 columns]\n"
          ]
        }
      ]
    },
    {
      "cell_type": "code",
      "source": [
        "#훈련 데이터 와 테스트 데이터를 분할\n",
        "wine_shuffle = wine_norm.sample(frac=1)\n",
        "wine_np = wine_shuffle.to_numpy()\n",
        "train_idx = int(len(wine_np) * 0.8)\n",
        "train_X, train_Y = wine_np[:train_idx, :-1], wine_np[:train_idx, -1]\n",
        "test_X, test_Y = wine_np[train_idx:, :-1], wine_np[train_idx:, -1]\n",
        "#타겟을 원핫인코딩 하기\n",
        "train_Y = tf.keras.utils.to_categorical(train_Y, num_classes=3)\n",
        "test_Y = tf.keras.utils.to_categorical(test_Y, num_classes=3)"
      ],
      "metadata": {
        "id": "7S4xJJsxlmZ0"
      },
      "execution_count": 57,
      "outputs": []
    },
    {
      "cell_type": "code",
      "source": [
        "#모델 만들기\n",
        "model = tf.keras.Sequential([\n",
        "    tf.keras.layers.Dense(units=2048, activation='relu', input_shape = (11, )),\n",
        "    tf.keras.layers.Dense(units=1024, activation='relu'),\n",
        "    tf.keras.layers.Dense(units=512, activation='relu'),\n",
        "    tf.keras.layers.Dense(units=256, activation='relu'),\n",
        "    tf.keras.layers.Dense(units=256, activation='relu'),\n",
        "    tf.keras.layers.Dense(units=128, activation='relu'),\n",
        "    tf.keras.layers.Dense(units=128, activation='relu'),\n",
        "    tf.keras.layers.Dense(units=64, activation='relu'),\n",
        "    tf.keras.layers.Dense(units=32, activation='relu'),\n",
        "    tf.keras.layers.Dense(units=16, activation='relu'),\n",
        "    tf.keras.layers.Dense(units=8, activation='relu'),\n",
        "    tf.keras.layers.Dense(units=3, activation='softmax')\n",
        "])\n",
        "model.compile(optimizer=tf.keras.optimizers.Adam(lr = 0.005),\n",
        "              loss='categorical_crossentropy', metrics=['accuracy'])\n",
        "history = model.fit(train_X, train_Y, epochs=200, batch_size=32, validation_split=0.25)\n",
        "model.evaluate(test_X, test_Y)\n",
        "\n",
        "\n",
        "\n",
        "\n",
        "\n"
      ],
      "metadata": {
        "colab": {
          "base_uri": "https://localhost:8080/"
        },
        "id": "yShMBrkmm3zZ",
        "outputId": "f7c921b1-027f-4069-e461-b2d61f9cc867"
      },
      "execution_count": 67,
      "outputs": [
        {
          "output_type": "stream",
          "name": "stderr",
          "text": [
            "WARNING:absl:`lr` is deprecated in Keras optimizer, please use `learning_rate` or use the legacy optimizer, e.g.,tf.keras.optimizers.legacy.Adam.\n"
          ]
        },
        {
          "output_type": "stream",
          "name": "stdout",
          "text": [
            "Epoch 1/200\n",
            "122/122 [==============================] - 6s 33ms/step - loss: 0.9864 - accuracy: 0.4935 - val_loss: 0.9303 - val_accuracy: 0.5200\n",
            "Epoch 2/200\n",
            "122/122 [==============================] - 4s 31ms/step - loss: 0.9382 - accuracy: 0.5422 - val_loss: 0.9074 - val_accuracy: 0.5738\n",
            "Epoch 3/200\n",
            "122/122 [==============================] - 4s 35ms/step - loss: 0.9751 - accuracy: 0.5089 - val_loss: 0.9093 - val_accuracy: 0.5769\n",
            "Epoch 4/200\n",
            "122/122 [==============================] - 4s 31ms/step - loss: 0.9227 - accuracy: 0.5291 - val_loss: 0.8896 - val_accuracy: 0.5269\n",
            "Epoch 5/200\n",
            "122/122 [==============================] - 4s 31ms/step - loss: 0.8868 - accuracy: 0.5607 - val_loss: 0.8926 - val_accuracy: 0.5508\n",
            "Epoch 6/200\n",
            "122/122 [==============================] - 4s 34ms/step - loss: 0.8748 - accuracy: 0.5684 - val_loss: 0.8597 - val_accuracy: 0.5854\n",
            "Epoch 7/200\n",
            "122/122 [==============================] - 4s 30ms/step - loss: 0.8788 - accuracy: 0.5591 - val_loss: 0.9094 - val_accuracy: 0.5615\n",
            "Epoch 8/200\n",
            "122/122 [==============================] - 4s 29ms/step - loss: 0.8700 - accuracy: 0.5766 - val_loss: 0.8408 - val_accuracy: 0.5800\n",
            "Epoch 9/200\n",
            "122/122 [==============================] - 4s 33ms/step - loss: 0.8566 - accuracy: 0.5784 - val_loss: 0.8443 - val_accuracy: 0.5731\n",
            "Epoch 10/200\n",
            "122/122 [==============================] - 4s 30ms/step - loss: 0.8573 - accuracy: 0.5787 - val_loss: 0.8331 - val_accuracy: 0.5854\n",
            "Epoch 11/200\n",
            "122/122 [==============================] - 4s 30ms/step - loss: 0.8482 - accuracy: 0.5799 - val_loss: 0.8563 - val_accuracy: 0.5723\n",
            "Epoch 12/200\n",
            "122/122 [==============================] - 4s 35ms/step - loss: 0.8528 - accuracy: 0.5815 - val_loss: 0.8424 - val_accuracy: 0.5908\n",
            "Epoch 13/200\n",
            "122/122 [==============================] - 3s 28ms/step - loss: 0.8457 - accuracy: 0.5840 - val_loss: 0.8250 - val_accuracy: 0.5846\n",
            "Epoch 14/200\n",
            "122/122 [==============================] - 4s 30ms/step - loss: 0.8459 - accuracy: 0.5810 - val_loss: 0.8407 - val_accuracy: 0.6015\n",
            "Epoch 15/200\n",
            "122/122 [==============================] - 4s 36ms/step - loss: 0.8511 - accuracy: 0.5830 - val_loss: 0.8342 - val_accuracy: 0.5846\n",
            "Epoch 16/200\n",
            "122/122 [==============================] - 4s 30ms/step - loss: 0.8430 - accuracy: 0.5851 - val_loss: 0.8299 - val_accuracy: 0.5931\n",
            "Epoch 17/200\n",
            "122/122 [==============================] - 3s 29ms/step - loss: 0.8400 - accuracy: 0.5920 - val_loss: 0.8301 - val_accuracy: 0.5931\n",
            "Epoch 18/200\n",
            "122/122 [==============================] - 4s 34ms/step - loss: 0.8265 - accuracy: 0.5897 - val_loss: 0.8155 - val_accuracy: 0.6054\n",
            "Epoch 19/200\n",
            "122/122 [==============================] - 4s 33ms/step - loss: 0.8397 - accuracy: 0.5923 - val_loss: 0.8574 - val_accuracy: 0.5815\n",
            "Epoch 20/200\n",
            "122/122 [==============================] - 4s 31ms/step - loss: 0.8241 - accuracy: 0.5976 - val_loss: 0.8464 - val_accuracy: 0.5923\n",
            "Epoch 21/200\n",
            "122/122 [==============================] - 4s 31ms/step - loss: 0.8338 - accuracy: 0.5856 - val_loss: 0.8284 - val_accuracy: 0.5954\n",
            "Epoch 22/200\n",
            "122/122 [==============================] - 4s 33ms/step - loss: 0.8184 - accuracy: 0.5938 - val_loss: 0.8635 - val_accuracy: 0.5900\n",
            "Epoch 23/200\n",
            "122/122 [==============================] - 4s 31ms/step - loss: 0.8170 - accuracy: 0.5923 - val_loss: 0.8323 - val_accuracy: 0.5900\n",
            "Epoch 24/200\n",
            "122/122 [==============================] - 4s 34ms/step - loss: 0.8164 - accuracy: 0.5989 - val_loss: 0.8069 - val_accuracy: 0.6131\n",
            "Epoch 25/200\n",
            "122/122 [==============================] - 4s 33ms/step - loss: 0.8053 - accuracy: 0.6061 - val_loss: 0.8170 - val_accuracy: 0.6100\n",
            "Epoch 26/200\n",
            "122/122 [==============================] - 4s 31ms/step - loss: 0.8168 - accuracy: 0.6025 - val_loss: 0.7977 - val_accuracy: 0.6146\n",
            "Epoch 27/200\n",
            "122/122 [==============================] - 4s 34ms/step - loss: 0.8121 - accuracy: 0.5994 - val_loss: 0.7962 - val_accuracy: 0.6123\n",
            "Epoch 28/200\n",
            "122/122 [==============================] - 4s 31ms/step - loss: 0.7974 - accuracy: 0.6061 - val_loss: 0.8112 - val_accuracy: 0.6185\n",
            "Epoch 29/200\n",
            "122/122 [==============================] - 4s 30ms/step - loss: 0.8056 - accuracy: 0.5997 - val_loss: 0.8282 - val_accuracy: 0.5931\n",
            "Epoch 30/200\n",
            "122/122 [==============================] - 4s 32ms/step - loss: 0.8028 - accuracy: 0.6092 - val_loss: 0.8051 - val_accuracy: 0.6185\n",
            "Epoch 31/200\n",
            "122/122 [==============================] - 4s 33ms/step - loss: 0.7906 - accuracy: 0.6087 - val_loss: 0.8310 - val_accuracy: 0.5969\n",
            "Epoch 32/200\n",
            "122/122 [==============================] - 4s 29ms/step - loss: 0.8000 - accuracy: 0.6028 - val_loss: 0.8043 - val_accuracy: 0.6062\n",
            "Epoch 33/200\n",
            "122/122 [==============================] - 4s 30ms/step - loss: 0.7867 - accuracy: 0.6159 - val_loss: 0.8135 - val_accuracy: 0.6131\n",
            "Epoch 34/200\n",
            "122/122 [==============================] - 4s 36ms/step - loss: 0.7894 - accuracy: 0.6118 - val_loss: 0.8041 - val_accuracy: 0.6023\n",
            "Epoch 35/200\n",
            "122/122 [==============================] - 4s 31ms/step - loss: 0.7854 - accuracy: 0.6184 - val_loss: 0.8229 - val_accuracy: 0.6085\n",
            "Epoch 36/200\n",
            "122/122 [==============================] - 4s 33ms/step - loss: 0.7855 - accuracy: 0.6123 - val_loss: 0.8043 - val_accuracy: 0.6208\n",
            "Epoch 37/200\n",
            "122/122 [==============================] - 4s 34ms/step - loss: 0.7990 - accuracy: 0.6035 - val_loss: 0.8192 - val_accuracy: 0.6192\n",
            "Epoch 38/200\n",
            "122/122 [==============================] - 4s 30ms/step - loss: 0.7856 - accuracy: 0.6182 - val_loss: 0.8072 - val_accuracy: 0.6177\n",
            "Epoch 39/200\n",
            "122/122 [==============================] - 4s 31ms/step - loss: 0.7803 - accuracy: 0.6146 - val_loss: 0.8050 - val_accuracy: 0.6238\n",
            "Epoch 40/200\n",
            "122/122 [==============================] - 4s 35ms/step - loss: 0.7760 - accuracy: 0.6184 - val_loss: 0.8044 - val_accuracy: 0.6069\n",
            "Epoch 41/200\n",
            "122/122 [==============================] - 4s 29ms/step - loss: 0.7780 - accuracy: 0.6238 - val_loss: 0.7994 - val_accuracy: 0.6200\n",
            "Epoch 42/200\n",
            "122/122 [==============================] - 4s 31ms/step - loss: 0.7711 - accuracy: 0.6200 - val_loss: 0.8120 - val_accuracy: 0.6077\n",
            "Epoch 43/200\n",
            "122/122 [==============================] - 4s 35ms/step - loss: 0.7713 - accuracy: 0.6192 - val_loss: 0.8367 - val_accuracy: 0.6123\n",
            "Epoch 44/200\n",
            "122/122 [==============================] - 4s 30ms/step - loss: 0.7654 - accuracy: 0.6287 - val_loss: 0.8205 - val_accuracy: 0.6123\n",
            "Epoch 45/200\n",
            "122/122 [==============================] - 4s 32ms/step - loss: 0.7609 - accuracy: 0.6302 - val_loss: 0.8120 - val_accuracy: 0.6238\n",
            "Epoch 46/200\n",
            "122/122 [==============================] - 4s 34ms/step - loss: 0.7612 - accuracy: 0.6264 - val_loss: 0.8120 - val_accuracy: 0.6223\n",
            "Epoch 47/200\n",
            "122/122 [==============================] - 4s 30ms/step - loss: 0.7596 - accuracy: 0.6289 - val_loss: 0.8089 - val_accuracy: 0.6254\n",
            "Epoch 48/200\n",
            "122/122 [==============================] - 4s 30ms/step - loss: 0.7506 - accuracy: 0.6333 - val_loss: 0.8083 - val_accuracy: 0.6269\n",
            "Epoch 49/200\n",
            "122/122 [==============================] - 4s 35ms/step - loss: 0.7448 - accuracy: 0.6336 - val_loss: 0.8354 - val_accuracy: 0.6123\n",
            "Epoch 50/200\n",
            "122/122 [==============================] - 4s 29ms/step - loss: 0.7464 - accuracy: 0.6338 - val_loss: 0.8185 - val_accuracy: 0.6131\n",
            "Epoch 51/200\n",
            "122/122 [==============================] - 4s 31ms/step - loss: 0.7511 - accuracy: 0.6338 - val_loss: 0.8148 - val_accuracy: 0.6177\n",
            "Epoch 52/200\n",
            "122/122 [==============================] - 4s 35ms/step - loss: 0.7393 - accuracy: 0.6387 - val_loss: 0.8342 - val_accuracy: 0.6231\n",
            "Epoch 53/200\n",
            "122/122 [==============================] - 4s 30ms/step - loss: 0.7348 - accuracy: 0.6323 - val_loss: 0.8561 - val_accuracy: 0.6162\n",
            "Epoch 54/200\n",
            "122/122 [==============================] - 4s 30ms/step - loss: 0.7389 - accuracy: 0.6459 - val_loss: 0.8101 - val_accuracy: 0.6123\n",
            "Epoch 55/200\n",
            "122/122 [==============================] - 4s 34ms/step - loss: 0.7394 - accuracy: 0.6377 - val_loss: 0.8041 - val_accuracy: 0.6146\n",
            "Epoch 56/200\n",
            "122/122 [==============================] - 4s 31ms/step - loss: 0.7279 - accuracy: 0.6397 - val_loss: 0.8013 - val_accuracy: 0.6177\n",
            "Epoch 57/200\n",
            "122/122 [==============================] - 4s 30ms/step - loss: 0.7217 - accuracy: 0.6477 - val_loss: 0.8180 - val_accuracy: 0.6215\n",
            "Epoch 58/200\n",
            "122/122 [==============================] - 4s 37ms/step - loss: 0.7207 - accuracy: 0.6502 - val_loss: 0.8512 - val_accuracy: 0.6100\n",
            "Epoch 59/200\n",
            "122/122 [==============================] - 4s 29ms/step - loss: 0.7222 - accuracy: 0.6531 - val_loss: 0.8145 - val_accuracy: 0.6131\n",
            "Epoch 60/200\n",
            "122/122 [==============================] - 4s 30ms/step - loss: 0.7107 - accuracy: 0.6585 - val_loss: 0.8204 - val_accuracy: 0.6054\n",
            "Epoch 61/200\n",
            "122/122 [==============================] - 4s 36ms/step - loss: 0.7066 - accuracy: 0.6662 - val_loss: 0.9018 - val_accuracy: 0.6162\n",
            "Epoch 62/200\n",
            "122/122 [==============================] - 4s 32ms/step - loss: 0.7066 - accuracy: 0.6536 - val_loss: 0.8466 - val_accuracy: 0.6038\n",
            "Epoch 63/200\n",
            "122/122 [==============================] - 4s 32ms/step - loss: 0.6916 - accuracy: 0.6654 - val_loss: 0.8852 - val_accuracy: 0.6138\n",
            "Epoch 64/200\n",
            "122/122 [==============================] - 4s 35ms/step - loss: 0.6932 - accuracy: 0.6633 - val_loss: 0.8740 - val_accuracy: 0.6100\n",
            "Epoch 65/200\n",
            "122/122 [==============================] - 4s 30ms/step - loss: 0.6781 - accuracy: 0.6713 - val_loss: 0.8803 - val_accuracy: 0.6208\n",
            "Epoch 66/200\n",
            "122/122 [==============================] - 4s 30ms/step - loss: 0.6978 - accuracy: 0.6626 - val_loss: 0.8637 - val_accuracy: 0.6077\n",
            "Epoch 67/200\n",
            "122/122 [==============================] - 4s 36ms/step - loss: 0.6926 - accuracy: 0.6687 - val_loss: 0.8698 - val_accuracy: 0.6215\n",
            "Epoch 68/200\n",
            "122/122 [==============================] - 4s 30ms/step - loss: 0.6755 - accuracy: 0.6785 - val_loss: 0.8525 - val_accuracy: 0.6185\n",
            "Epoch 69/200\n",
            "122/122 [==============================] - 4s 30ms/step - loss: 0.6675 - accuracy: 0.6746 - val_loss: 0.8740 - val_accuracy: 0.6131\n",
            "Epoch 70/200\n",
            "122/122 [==============================] - 4s 34ms/step - loss: 0.6630 - accuracy: 0.6821 - val_loss: 0.8475 - val_accuracy: 0.5969\n",
            "Epoch 71/200\n",
            "122/122 [==============================] - 4s 29ms/step - loss: 0.6635 - accuracy: 0.6859 - val_loss: 0.8912 - val_accuracy: 0.6262\n",
            "Epoch 72/200\n",
            "122/122 [==============================] - 4s 31ms/step - loss: 0.6623 - accuracy: 0.6859 - val_loss: 0.8867 - val_accuracy: 0.6231\n",
            "Epoch 73/200\n",
            "122/122 [==============================] - 4s 35ms/step - loss: 0.6508 - accuracy: 0.6918 - val_loss: 0.9461 - val_accuracy: 0.6231\n",
            "Epoch 74/200\n",
            "122/122 [==============================] - 4s 31ms/step - loss: 0.6410 - accuracy: 0.6903 - val_loss: 0.8905 - val_accuracy: 0.6231\n",
            "Epoch 75/200\n",
            "122/122 [==============================] - 4s 30ms/step - loss: 0.6344 - accuracy: 0.7018 - val_loss: 0.9327 - val_accuracy: 0.6300\n",
            "Epoch 76/200\n",
            "122/122 [==============================] - 4s 36ms/step - loss: 0.6272 - accuracy: 0.6939 - val_loss: 1.0420 - val_accuracy: 0.6062\n",
            "Epoch 77/200\n",
            "122/122 [==============================] - 4s 30ms/step - loss: 0.6454 - accuracy: 0.6867 - val_loss: 0.8706 - val_accuracy: 0.6146\n",
            "Epoch 78/200\n",
            "122/122 [==============================] - 4s 31ms/step - loss: 0.6441 - accuracy: 0.7075 - val_loss: 0.9466 - val_accuracy: 0.6238\n",
            "Epoch 79/200\n",
            "122/122 [==============================] - 4s 35ms/step - loss: 0.6161 - accuracy: 0.7113 - val_loss: 0.9368 - val_accuracy: 0.6269\n",
            "Epoch 80/200\n",
            "122/122 [==============================] - 4s 30ms/step - loss: 0.6103 - accuracy: 0.7098 - val_loss: 0.9684 - val_accuracy: 0.6138\n",
            "Epoch 81/200\n",
            "122/122 [==============================] - 4s 31ms/step - loss: 0.6179 - accuracy: 0.7095 - val_loss: 0.9909 - val_accuracy: 0.6169\n",
            "Epoch 82/200\n",
            "122/122 [==============================] - 4s 36ms/step - loss: 0.6179 - accuracy: 0.7108 - val_loss: 0.9876 - val_accuracy: 0.6292\n",
            "Epoch 83/200\n",
            "122/122 [==============================] - 4s 31ms/step - loss: 0.5951 - accuracy: 0.7188 - val_loss: 1.0513 - val_accuracy: 0.6200\n",
            "Epoch 84/200\n",
            "122/122 [==============================] - 4s 31ms/step - loss: 0.6328 - accuracy: 0.7041 - val_loss: 0.9642 - val_accuracy: 0.6077\n",
            "Epoch 85/200\n",
            "122/122 [==============================] - 4s 36ms/step - loss: 0.6380 - accuracy: 0.7021 - val_loss: 0.9097 - val_accuracy: 0.6200\n",
            "Epoch 86/200\n",
            "122/122 [==============================] - 4s 31ms/step - loss: 0.5894 - accuracy: 0.7206 - val_loss: 1.0004 - val_accuracy: 0.6238\n",
            "Epoch 87/200\n",
            "122/122 [==============================] - 4s 30ms/step - loss: 0.5843 - accuracy: 0.7300 - val_loss: 1.0251 - val_accuracy: 0.6377\n",
            "Epoch 88/200\n",
            "122/122 [==============================] - 4s 35ms/step - loss: 0.5697 - accuracy: 0.7416 - val_loss: 1.0126 - val_accuracy: 0.6208\n",
            "Epoch 89/200\n",
            "122/122 [==============================] - 4s 31ms/step - loss: 0.5644 - accuracy: 0.7403 - val_loss: 0.9656 - val_accuracy: 0.6231\n",
            "Epoch 90/200\n",
            "122/122 [==============================] - 4s 33ms/step - loss: 0.5541 - accuracy: 0.7460 - val_loss: 1.0215 - val_accuracy: 0.6123\n",
            "Epoch 91/200\n",
            "122/122 [==============================] - 4s 36ms/step - loss: 0.6180 - accuracy: 0.7154 - val_loss: 0.9882 - val_accuracy: 0.6162\n",
            "Epoch 92/200\n",
            "122/122 [==============================] - 4s 31ms/step - loss: 0.5608 - accuracy: 0.7501 - val_loss: 1.0149 - val_accuracy: 0.6269\n",
            "Epoch 93/200\n",
            "122/122 [==============================] - 4s 31ms/step - loss: 0.5935 - accuracy: 0.7313 - val_loss: 1.0298 - val_accuracy: 0.6185\n",
            "Epoch 94/200\n",
            "122/122 [==============================] - 4s 36ms/step - loss: 0.5563 - accuracy: 0.7419 - val_loss: 1.1336 - val_accuracy: 0.6123\n",
            "Epoch 95/200\n",
            "122/122 [==============================] - 4s 31ms/step - loss: 0.5061 - accuracy: 0.7773 - val_loss: 1.1993 - val_accuracy: 0.6208\n",
            "Epoch 96/200\n",
            "122/122 [==============================] - 4s 31ms/step - loss: 0.5058 - accuracy: 0.7649 - val_loss: 1.2713 - val_accuracy: 0.6162\n",
            "Epoch 97/200\n",
            "122/122 [==============================] - 4s 36ms/step - loss: 0.4922 - accuracy: 0.7780 - val_loss: 1.2515 - val_accuracy: 0.6338\n",
            "Epoch 98/200\n",
            "122/122 [==============================] - 4s 32ms/step - loss: 0.5333 - accuracy: 0.7667 - val_loss: 1.0549 - val_accuracy: 0.6446\n",
            "Epoch 99/200\n",
            "122/122 [==============================] - 4s 31ms/step - loss: 0.4918 - accuracy: 0.7827 - val_loss: 1.1671 - val_accuracy: 0.6031\n",
            "Epoch 100/200\n",
            "122/122 [==============================] - 4s 36ms/step - loss: 0.5126 - accuracy: 0.7734 - val_loss: 1.1399 - val_accuracy: 0.6431\n",
            "Epoch 101/200\n",
            "122/122 [==============================] - 4s 30ms/step - loss: 0.4928 - accuracy: 0.7850 - val_loss: 1.0830 - val_accuracy: 0.6162\n",
            "Epoch 102/200\n",
            "122/122 [==============================] - 4s 31ms/step - loss: 0.4885 - accuracy: 0.7832 - val_loss: 1.1231 - val_accuracy: 0.6154\n",
            "Epoch 103/200\n",
            "122/122 [==============================] - 4s 36ms/step - loss: 0.4493 - accuracy: 0.8070 - val_loss: 1.3214 - val_accuracy: 0.6200\n",
            "Epoch 104/200\n",
            "122/122 [==============================] - 4s 29ms/step - loss: 0.4307 - accuracy: 0.8140 - val_loss: 1.3900 - val_accuracy: 0.6292\n",
            "Epoch 105/200\n",
            "122/122 [==============================] - 4s 29ms/step - loss: 0.4284 - accuracy: 0.8109 - val_loss: 1.3243 - val_accuracy: 0.6169\n",
            "Epoch 106/200\n",
            "122/122 [==============================] - 4s 36ms/step - loss: 0.4426 - accuracy: 0.8078 - val_loss: 1.3662 - val_accuracy: 0.6123\n",
            "Epoch 107/200\n",
            "122/122 [==============================] - 4s 29ms/step - loss: 0.4275 - accuracy: 0.8129 - val_loss: 1.2764 - val_accuracy: 0.6523\n",
            "Epoch 108/200\n",
            "122/122 [==============================] - 4s 31ms/step - loss: 0.4298 - accuracy: 0.8168 - val_loss: 1.3857 - val_accuracy: 0.6146\n",
            "Epoch 109/200\n",
            "122/122 [==============================] - 4s 36ms/step - loss: 0.4138 - accuracy: 0.8281 - val_loss: 1.4027 - val_accuracy: 0.6423\n",
            "Epoch 110/200\n",
            "122/122 [==============================] - 4s 31ms/step - loss: 0.3715 - accuracy: 0.8435 - val_loss: 1.3545 - val_accuracy: 0.6400\n",
            "Epoch 111/200\n",
            "122/122 [==============================] - 4s 30ms/step - loss: 0.3823 - accuracy: 0.8386 - val_loss: 1.4282 - val_accuracy: 0.6223\n",
            "Epoch 112/200\n",
            "122/122 [==============================] - 4s 36ms/step - loss: 0.4077 - accuracy: 0.8276 - val_loss: 1.5950 - val_accuracy: 0.6038\n",
            "Epoch 113/200\n",
            "122/122 [==============================] - 4s 30ms/step - loss: 0.4007 - accuracy: 0.8317 - val_loss: 1.2556 - val_accuracy: 0.6454\n",
            "Epoch 114/200\n",
            "122/122 [==============================] - 4s 30ms/step - loss: 0.3534 - accuracy: 0.8530 - val_loss: 1.6002 - val_accuracy: 0.6277\n",
            "Epoch 115/200\n",
            "122/122 [==============================] - 4s 36ms/step - loss: 0.3472 - accuracy: 0.8537 - val_loss: 1.4592 - val_accuracy: 0.6462\n",
            "Epoch 116/200\n",
            "122/122 [==============================] - 4s 30ms/step - loss: 0.3430 - accuracy: 0.8584 - val_loss: 1.4088 - val_accuracy: 0.6415\n",
            "Epoch 117/200\n",
            "122/122 [==============================] - 4s 29ms/step - loss: 0.3715 - accuracy: 0.8471 - val_loss: 1.2149 - val_accuracy: 0.6408\n",
            "Epoch 118/200\n",
            "122/122 [==============================] - 4s 35ms/step - loss: 0.3505 - accuracy: 0.8489 - val_loss: 1.4490 - val_accuracy: 0.6323\n",
            "Epoch 119/200\n",
            "122/122 [==============================] - 4s 31ms/step - loss: 0.3145 - accuracy: 0.8740 - val_loss: 1.7985 - val_accuracy: 0.6469\n",
            "Epoch 120/200\n",
            "122/122 [==============================] - 4s 31ms/step - loss: 0.3492 - accuracy: 0.8499 - val_loss: 1.3655 - val_accuracy: 0.6269\n",
            "Epoch 121/200\n",
            "122/122 [==============================] - 4s 35ms/step - loss: 0.3447 - accuracy: 0.8499 - val_loss: 1.7749 - val_accuracy: 0.6531\n",
            "Epoch 122/200\n",
            "122/122 [==============================] - 4s 32ms/step - loss: 0.3302 - accuracy: 0.8609 - val_loss: 1.6867 - val_accuracy: 0.6554\n",
            "Epoch 123/200\n",
            "122/122 [==============================] - 4s 30ms/step - loss: 0.2861 - accuracy: 0.8850 - val_loss: 1.3941 - val_accuracy: 0.6485\n",
            "Epoch 124/200\n",
            "122/122 [==============================] - 4s 36ms/step - loss: 0.2780 - accuracy: 0.8871 - val_loss: 1.7882 - val_accuracy: 0.6462\n",
            "Epoch 125/200\n",
            "122/122 [==============================] - 4s 31ms/step - loss: 0.2764 - accuracy: 0.8850 - val_loss: 1.7876 - val_accuracy: 0.6354\n",
            "Epoch 126/200\n",
            "122/122 [==============================] - 4s 30ms/step - loss: 0.2847 - accuracy: 0.8820 - val_loss: 2.0035 - val_accuracy: 0.6377\n",
            "Epoch 127/200\n",
            "122/122 [==============================] - 4s 35ms/step - loss: 0.2699 - accuracy: 0.8861 - val_loss: 1.7669 - val_accuracy: 0.6438\n",
            "Epoch 128/200\n",
            "122/122 [==============================] - 4s 30ms/step - loss: 0.2830 - accuracy: 0.8866 - val_loss: 1.5758 - val_accuracy: 0.6377\n",
            "Epoch 129/200\n",
            "122/122 [==============================] - 4s 31ms/step - loss: 0.2608 - accuracy: 0.8866 - val_loss: 1.8264 - val_accuracy: 0.6531\n",
            "Epoch 130/200\n",
            "122/122 [==============================] - 4s 35ms/step - loss: 0.2769 - accuracy: 0.8873 - val_loss: 1.5685 - val_accuracy: 0.6369\n",
            "Epoch 131/200\n",
            "122/122 [==============================] - 4s 31ms/step - loss: 0.2751 - accuracy: 0.8886 - val_loss: 1.5718 - val_accuracy: 0.6562\n",
            "Epoch 132/200\n",
            "122/122 [==============================] - 4s 31ms/step - loss: 0.2414 - accuracy: 0.9012 - val_loss: 1.7704 - val_accuracy: 0.6769\n",
            "Epoch 133/200\n",
            "122/122 [==============================] - 4s 36ms/step - loss: 0.2248 - accuracy: 0.9117 - val_loss: 1.6097 - val_accuracy: 0.6362\n",
            "Epoch 134/200\n",
            "122/122 [==============================] - 4s 32ms/step - loss: 0.2993 - accuracy: 0.8891 - val_loss: 1.9158 - val_accuracy: 0.6585\n",
            "Epoch 135/200\n",
            "122/122 [==============================] - 4s 31ms/step - loss: 0.2152 - accuracy: 0.9099 - val_loss: 1.9537 - val_accuracy: 0.6646\n",
            "Epoch 136/200\n",
            "122/122 [==============================] - 4s 35ms/step - loss: 0.2322 - accuracy: 0.9092 - val_loss: 2.1541 - val_accuracy: 0.6423\n",
            "Epoch 137/200\n",
            "122/122 [==============================] - 4s 30ms/step - loss: 0.2126 - accuracy: 0.9089 - val_loss: 2.3545 - val_accuracy: 0.6469\n",
            "Epoch 138/200\n",
            "122/122 [==============================] - 4s 32ms/step - loss: 0.2297 - accuracy: 0.9120 - val_loss: 1.6036 - val_accuracy: 0.6562\n",
            "Epoch 139/200\n",
            "122/122 [==============================] - 4s 36ms/step - loss: 0.1898 - accuracy: 0.9240 - val_loss: 2.1165 - val_accuracy: 0.6577\n",
            "Epoch 140/200\n",
            "122/122 [==============================] - 4s 31ms/step - loss: 0.2213 - accuracy: 0.9140 - val_loss: 1.7797 - val_accuracy: 0.6408\n",
            "Epoch 141/200\n",
            "122/122 [==============================] - 4s 29ms/step - loss: 0.2154 - accuracy: 0.9210 - val_loss: 1.7321 - val_accuracy: 0.6477\n",
            "Epoch 142/200\n",
            "122/122 [==============================] - 4s 35ms/step - loss: 0.1939 - accuracy: 0.9192 - val_loss: 2.2383 - val_accuracy: 0.6385\n",
            "Epoch 143/200\n",
            "122/122 [==============================] - 4s 31ms/step - loss: 0.1958 - accuracy: 0.9184 - val_loss: 2.2976 - val_accuracy: 0.6554\n",
            "Epoch 144/200\n",
            "122/122 [==============================] - 4s 32ms/step - loss: 0.1718 - accuracy: 0.9323 - val_loss: 2.1192 - val_accuracy: 0.6577\n",
            "Epoch 145/200\n",
            "122/122 [==============================] - 5s 37ms/step - loss: 0.2362 - accuracy: 0.9104 - val_loss: 2.0923 - val_accuracy: 0.6569\n",
            "Epoch 146/200\n",
            "122/122 [==============================] - 4s 30ms/step - loss: 0.1794 - accuracy: 0.9261 - val_loss: 2.0612 - val_accuracy: 0.6746\n",
            "Epoch 147/200\n",
            "122/122 [==============================] - 4s 30ms/step - loss: 0.1737 - accuracy: 0.9310 - val_loss: 2.1225 - val_accuracy: 0.6515\n",
            "Epoch 148/200\n",
            "122/122 [==============================] - 4s 36ms/step - loss: 0.2165 - accuracy: 0.9215 - val_loss: 1.6567 - val_accuracy: 0.6600\n",
            "Epoch 149/200\n",
            "122/122 [==============================] - 4s 30ms/step - loss: 0.1815 - accuracy: 0.9251 - val_loss: 1.9861 - val_accuracy: 0.6592\n",
            "Epoch 150/200\n",
            "122/122 [==============================] - 4s 31ms/step - loss: 0.1594 - accuracy: 0.9369 - val_loss: 2.2786 - val_accuracy: 0.6715\n",
            "Epoch 151/200\n",
            "122/122 [==============================] - 4s 36ms/step - loss: 0.1617 - accuracy: 0.9407 - val_loss: 2.0656 - val_accuracy: 0.6600\n",
            "Epoch 152/200\n",
            "122/122 [==============================] - 4s 32ms/step - loss: 0.1406 - accuracy: 0.9461 - val_loss: 2.4660 - val_accuracy: 0.6677\n",
            "Epoch 153/200\n",
            "122/122 [==============================] - 4s 30ms/step - loss: 0.1564 - accuracy: 0.9389 - val_loss: 2.2947 - val_accuracy: 0.6615\n",
            "Epoch 154/200\n",
            "122/122 [==============================] - 4s 35ms/step - loss: 0.1671 - accuracy: 0.9376 - val_loss: 2.2782 - val_accuracy: 0.6415\n",
            "Epoch 155/200\n",
            "122/122 [==============================] - 4s 30ms/step - loss: 0.1616 - accuracy: 0.9389 - val_loss: 2.0691 - val_accuracy: 0.6585\n",
            "Epoch 156/200\n",
            "122/122 [==============================] - 4s 29ms/step - loss: 0.1862 - accuracy: 0.9289 - val_loss: 2.6512 - val_accuracy: 0.6454\n",
            "Epoch 157/200\n",
            "122/122 [==============================] - 4s 33ms/step - loss: 0.1409 - accuracy: 0.9487 - val_loss: 2.5000 - val_accuracy: 0.6546\n",
            "Epoch 158/200\n",
            "122/122 [==============================] - 4s 31ms/step - loss: 0.1842 - accuracy: 0.9292 - val_loss: 2.5293 - val_accuracy: 0.6323\n",
            "Epoch 159/200\n",
            "122/122 [==============================] - 4s 30ms/step - loss: 0.1583 - accuracy: 0.9371 - val_loss: 2.2124 - val_accuracy: 0.6515\n",
            "Epoch 160/200\n",
            "122/122 [==============================] - 4s 32ms/step - loss: 0.1399 - accuracy: 0.9461 - val_loss: 2.2406 - val_accuracy: 0.6523\n",
            "Epoch 161/200\n",
            "122/122 [==============================] - 4s 32ms/step - loss: 0.1290 - accuracy: 0.9515 - val_loss: 2.1706 - val_accuracy: 0.6515\n",
            "Epoch 162/200\n",
            "122/122 [==============================] - 4s 30ms/step - loss: 0.1303 - accuracy: 0.9479 - val_loss: 2.2259 - val_accuracy: 0.6692\n",
            "Epoch 163/200\n",
            "122/122 [==============================] - 4s 29ms/step - loss: 0.1343 - accuracy: 0.9518 - val_loss: 2.2499 - val_accuracy: 0.6554\n",
            "Epoch 164/200\n",
            "122/122 [==============================] - 4s 34ms/step - loss: 0.1309 - accuracy: 0.9500 - val_loss: 2.6061 - val_accuracy: 0.6662\n",
            "Epoch 165/200\n",
            "122/122 [==============================] - 4s 30ms/step - loss: 0.1225 - accuracy: 0.9525 - val_loss: 2.3411 - val_accuracy: 0.6546\n",
            "Epoch 166/200\n",
            "122/122 [==============================] - 4s 30ms/step - loss: 0.1371 - accuracy: 0.9502 - val_loss: 2.1345 - val_accuracy: 0.6392\n",
            "Epoch 167/200\n",
            "122/122 [==============================] - 4s 35ms/step - loss: 0.1217 - accuracy: 0.9561 - val_loss: 2.1062 - val_accuracy: 0.6454\n",
            "Epoch 168/200\n",
            "122/122 [==============================] - 4s 30ms/step - loss: 0.1195 - accuracy: 0.9546 - val_loss: 2.4346 - val_accuracy: 0.6462\n",
            "Epoch 169/200\n",
            "122/122 [==============================] - 4s 29ms/step - loss: 0.1602 - accuracy: 0.9453 - val_loss: 2.3354 - val_accuracy: 0.6292\n",
            "Epoch 170/200\n",
            "122/122 [==============================] - 4s 34ms/step - loss: 0.1315 - accuracy: 0.9551 - val_loss: 2.4481 - val_accuracy: 0.6562\n",
            "Epoch 171/200\n",
            "122/122 [==============================] - 4s 29ms/step - loss: 0.1573 - accuracy: 0.9456 - val_loss: 2.0506 - val_accuracy: 0.6669\n",
            "Epoch 172/200\n",
            "122/122 [==============================] - 4s 29ms/step - loss: 0.1100 - accuracy: 0.9623 - val_loss: 2.2721 - val_accuracy: 0.6631\n",
            "Epoch 173/200\n",
            "122/122 [==============================] - 4s 34ms/step - loss: 0.1324 - accuracy: 0.9502 - val_loss: 2.2135 - val_accuracy: 0.6600\n",
            "Epoch 174/200\n",
            "122/122 [==============================] - 4s 30ms/step - loss: 0.0830 - accuracy: 0.9679 - val_loss: 2.5317 - val_accuracy: 0.6638\n",
            "Epoch 175/200\n",
            "122/122 [==============================] - 4s 29ms/step - loss: 0.1081 - accuracy: 0.9582 - val_loss: 2.4338 - val_accuracy: 0.6562\n",
            "Epoch 176/200\n",
            "122/122 [==============================] - 4s 35ms/step - loss: 0.1338 - accuracy: 0.9548 - val_loss: 2.1931 - val_accuracy: 0.6623\n",
            "Epoch 177/200\n",
            "122/122 [==============================] - 4s 31ms/step - loss: 0.1096 - accuracy: 0.9602 - val_loss: 2.9722 - val_accuracy: 0.6546\n",
            "Epoch 178/200\n",
            "122/122 [==============================] - 4s 31ms/step - loss: 0.1175 - accuracy: 0.9577 - val_loss: 2.2372 - val_accuracy: 0.6492\n",
            "Epoch 179/200\n",
            "122/122 [==============================] - 4s 36ms/step - loss: 0.1412 - accuracy: 0.9520 - val_loss: 1.7808 - val_accuracy: 0.6377\n",
            "Epoch 180/200\n",
            "122/122 [==============================] - 4s 30ms/step - loss: 0.1038 - accuracy: 0.9592 - val_loss: 2.5160 - val_accuracy: 0.6592\n",
            "Epoch 181/200\n",
            "122/122 [==============================] - 4s 31ms/step - loss: 0.1047 - accuracy: 0.9628 - val_loss: 2.5429 - val_accuracy: 0.6600\n",
            "Epoch 182/200\n",
            "122/122 [==============================] - 4s 35ms/step - loss: 0.1112 - accuracy: 0.9648 - val_loss: 2.4607 - val_accuracy: 0.6654\n",
            "Epoch 183/200\n",
            "122/122 [==============================] - 4s 30ms/step - loss: 0.0981 - accuracy: 0.9648 - val_loss: 2.7038 - val_accuracy: 0.6623\n",
            "Epoch 184/200\n",
            "122/122 [==============================] - 4s 31ms/step - loss: 0.1222 - accuracy: 0.9548 - val_loss: 1.8403 - val_accuracy: 0.6669\n",
            "Epoch 185/200\n",
            "122/122 [==============================] - 4s 36ms/step - loss: 0.0958 - accuracy: 0.9682 - val_loss: 2.2806 - val_accuracy: 0.6777\n",
            "Epoch 186/200\n",
            "122/122 [==============================] - 4s 31ms/step - loss: 0.1286 - accuracy: 0.9538 - val_loss: 2.5796 - val_accuracy: 0.6623\n",
            "Epoch 187/200\n",
            "122/122 [==============================] - 4s 32ms/step - loss: 0.1285 - accuracy: 0.9523 - val_loss: 2.3655 - val_accuracy: 0.6569\n",
            "Epoch 188/200\n",
            "122/122 [==============================] - 4s 36ms/step - loss: 0.1433 - accuracy: 0.9536 - val_loss: 1.8949 - val_accuracy: 0.6623\n",
            "Epoch 189/200\n",
            "122/122 [==============================] - 4s 31ms/step - loss: 0.0885 - accuracy: 0.9682 - val_loss: 2.6877 - val_accuracy: 0.6646\n",
            "Epoch 190/200\n",
            "122/122 [==============================] - 4s 32ms/step - loss: 0.1073 - accuracy: 0.9618 - val_loss: 2.2978 - val_accuracy: 0.6538\n",
            "Epoch 191/200\n",
            "122/122 [==============================] - 5s 37ms/step - loss: 0.0978 - accuracy: 0.9654 - val_loss: 2.2003 - val_accuracy: 0.6577\n",
            "Epoch 192/200\n",
            "122/122 [==============================] - 4s 31ms/step - loss: 0.0944 - accuracy: 0.9618 - val_loss: 2.7740 - val_accuracy: 0.6700\n",
            "Epoch 193/200\n",
            "122/122 [==============================] - 4s 31ms/step - loss: 0.0849 - accuracy: 0.9690 - val_loss: 2.2857 - val_accuracy: 0.6638\n",
            "Epoch 194/200\n",
            "122/122 [==============================] - 4s 36ms/step - loss: 0.1027 - accuracy: 0.9636 - val_loss: 2.3743 - val_accuracy: 0.6569\n",
            "Epoch 195/200\n",
            "122/122 [==============================] - 4s 31ms/step - loss: 0.1040 - accuracy: 0.9613 - val_loss: 2.5800 - val_accuracy: 0.6569\n",
            "Epoch 196/200\n",
            "122/122 [==============================] - 4s 29ms/step - loss: 0.0996 - accuracy: 0.9674 - val_loss: 2.0242 - val_accuracy: 0.6715\n",
            "Epoch 197/200\n",
            "122/122 [==============================] - 4s 33ms/step - loss: 0.1100 - accuracy: 0.9615 - val_loss: 2.6024 - val_accuracy: 0.6592\n",
            "Epoch 198/200\n",
            "122/122 [==============================] - 4s 30ms/step - loss: 0.0864 - accuracy: 0.9687 - val_loss: 2.2176 - val_accuracy: 0.6615\n",
            "Epoch 199/200\n",
            "122/122 [==============================] - 4s 32ms/step - loss: 0.0830 - accuracy: 0.9707 - val_loss: 2.0213 - val_accuracy: 0.6754\n",
            "Epoch 200/200\n",
            "122/122 [==============================] - 5s 37ms/step - loss: 0.1189 - accuracy: 0.9602 - val_loss: 1.9367 - val_accuracy: 0.6500\n",
            "41/41 [==============================] - 0s 6ms/step - loss: 1.9829 - accuracy: 0.6731\n"
          ]
        },
        {
          "output_type": "execute_result",
          "data": {
            "text/plain": [
              "[1.9828886985778809, 0.6730769276618958]"
            ]
          },
          "metadata": {},
          "execution_count": 67
        }
      ]
    },
    {
      "cell_type": "markdown",
      "source": [],
      "metadata": {
        "id": "hcje6ICBjFaf"
      }
    }
  ]
}