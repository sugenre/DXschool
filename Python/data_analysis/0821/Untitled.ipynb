{
 "cells": [
  {
   "cell_type": "code",
   "execution_count": 3,
   "id": "1602fab5",
   "metadata": {},
   "outputs": [],
   "source": [
    "import numpy as np\n",
    "import pandas as pd\n",
    "#시각화 패키지\n",
    "import matplotlib.pyplot as plt\n",
    "\n",
    "#시각화를 할 때 한굴 출력을 위해서 import\n",
    "import platform\n",
    "from matplotlib import font_manager,rc\n"
   ]
  },
  {
   "cell_type": "code",
   "execution_count": 4,
   "id": "39e892eb",
   "metadata": {},
   "outputs": [
    {
     "name": "stdout",
     "output_type": "stream",
     "text": [
      "         Date  Close  Start   High    Low  Volume\n",
      "0  2018-07-02  10100  10850  10900  10000  137977\n",
      "1  2018-06-29  10700  10550  10900   9990  170253\n",
      "2  2018-06-28  10400  10900  10950  10150  155769\n",
      "3  2018-06-27  10900  10800  11050  10500  133548\n",
      "4  2018-06-26  10800  10900  11000  10700   63039\n",
      "<class 'pandas.core.frame.DataFrame'>\n",
      "RangeIndex: 20 entries, 0 to 19\n",
      "Data columns (total 6 columns):\n",
      " #   Column  Non-Null Count  Dtype \n",
      "---  ------  --------------  ----- \n",
      " 0   Date    20 non-null     object\n",
      " 1   Close   20 non-null     int64 \n",
      " 2   Start   20 non-null     int64 \n",
      " 3   High    20 non-null     int64 \n",
      " 4   Low     20 non-null     int64 \n",
      " 5   Volume  20 non-null     int64 \n",
      "dtypes: int64(5), object(1)\n",
      "memory usage: 1.1+ KB\n",
      "None\n"
     ]
    }
   ],
   "source": [
    "df = pd.read_csv('./data/stock-data.csv')\n",
    "print(df.head())\n",
    "print(df.info())"
   ]
  },
  {
   "cell_type": "code",
   "execution_count": 15,
   "id": "6b0b9ada",
   "metadata": {},
   "outputs": [
    {
     "name": "stdout",
     "output_type": "stream",
     "text": [
      "<class 'pandas.core.frame.DataFrame'>\n",
      "DatetimeIndex: 20 entries, 2018-07-02 to 2018-06-01\n",
      "Data columns (total 7 columns):\n",
      " #   Column   Non-Null Count  Dtype         \n",
      "---  ------   --------------  -----         \n",
      " 0   Date     20 non-null     object        \n",
      " 1   Close    20 non-null     int64         \n",
      " 2   Start    20 non-null     int64         \n",
      " 3   High     20 non-null     int64         \n",
      " 4   Low      20 non-null     int64         \n",
      " 5   Volume   20 non-null     int64         \n",
      " 6   NewDate  20 non-null     datetime64[ns]\n",
      "dtypes: datetime64[ns](1), int64(5), object(1)\n",
      "memory usage: 1.2+ KB\n",
      "None\n"
     ]
    }
   ],
   "source": [
    "#날짜 자료형으로 변경해서 새로운 필드로 저장\n",
    "df['NewDate'] = pd.to_datetime(df['Date']) \n",
    "print(df.info())  "
   ]
  },
  {
   "cell_type": "code",
   "execution_count": 16,
   "id": "35603d95",
   "metadata": {},
   "outputs": [
    {
     "name": "stdout",
     "output_type": "stream",
     "text": [
      "<bound method NDFrame.head of             Close  Start   High    Low  Volume\n",
      "NewDate                                       \n",
      "2018-07-02  10100  10850  10900  10000  137977\n",
      "2018-06-29  10700  10550  10900   9990  170253\n",
      "2018-06-28  10400  10900  10950  10150  155769\n",
      "2018-06-27  10900  10800  11050  10500  133548\n",
      "2018-06-26  10800  10900  11000  10700   63039\n",
      "2018-06-25  11150  11400  11450  11000   55519\n",
      "2018-06-22  11300  11250  11450  10750  134805\n",
      "2018-06-21  11200  11350  11750  11200  133002\n",
      "2018-06-20  11550  11200  11600  10900  308596\n",
      "2018-06-19  11300  11850  11950  11300  180656\n",
      "2018-06-18  12000  13400  13400  12000  309787\n",
      "2018-06-15  13400  13600  13600  12900  201376\n",
      "2018-06-14  13450  13200  13700  13150  347451\n",
      "2018-06-12  13200  12200  13300  12050  558148\n",
      "2018-06-11  11950  12000  12250  11950   62293\n",
      "2018-06-08  11950  11950  12200  11800   59258\n",
      "2018-06-07  11950  12200  12300  11900   49088\n",
      "2018-06-05  12150  11800  12250  11800   42485\n",
      "2018-06-04  11900  11900  12200  11700   25171\n",
      "2018-06-01  11900  11800  12100  11750   32062>\n"
     ]
    }
   ],
   "source": [
    "#새로 만들어진 날짜 컬럼을 인덱스로 지정하고기존의 날짜 컬럼 삭제\n",
    "df.set_index('NewDate', inplace=True)\n",
    "df.drop('Date', axis=1, inplace=True)\n",
    "print(df.head)"
   ]
  },
  {
   "cell_type": "code",
   "execution_count": 20,
   "id": "94115583",
   "metadata": {},
   "outputs": [
    {
     "name": "stdout",
     "output_type": "stream",
     "text": [
      "[Timestamp('2005-04-03 23:35:00'), '04-09-2009 09:09 TM']\n",
      "<class 'pandas.core.frame.DataFrame'>\n",
      "RangeIndex: 2 entries, 0 to 1\n",
      "Data columns (total 1 columns):\n",
      " #   Column  Non-Null Count  Dtype \n",
      "---  ------  --------------  ----- \n",
      " 0   0       2 non-null      object\n",
      "dtypes: object(1)\n",
      "memory usage: 144.0+ bytes\n",
      "None\n"
     ]
    }
   ],
   "source": [
    "#천번째 데이터는 날짜로 변경 가능한 데이터이고\n",
    "#두번째 데이터는 날짜로 변경 불가능한 데이터\n",
    "date_strings = np.array([\n",
    "    '03-04-2005 11:35 PM','04-09-2009 09:09 TM'])\n",
    "\n",
    "#예외 발생\n",
    "#print([pd.to_datetime(date, format='%d-%m- %l:%m:%p') for date in date_strings])\n",
    "#예외가 발생하면 문자열 그대로 저장\n",
    "#list는 2개의 데이터 자료형이 달라도 문제가 없지만 \n",
    "#array나 DataFeame으로 벼노환해서 사용하는 경우에는 문제가 발생할 수도 있음\n",
    "#이 방법은 권장하지 않음\n",
    "print([pd.to_datetime(date, format='%d-%m-%Y %I:%M %p', errors='ignore') for date\n",
    "in date_strings])\n",
    "print(pd.DataFrame([pd.to_datetime(date, format='%d-%m-%Y %I:%M %p', errors='ignore') for date\n",
    "in date_strings]).info())\n",
    "\n",
    "\n",
    "#변환이 안되는 경우는 NaT로 설정(결측치로)\n",
    "print(pd.DataFrame([pd.to_datetime(date, format='%d-%m-%Y %I:%M %p', errors='coerce') for date\n",
    "in date_strings]).info())\n",
    "\n",
    "print([pd.to_datetime(date, format='%d-%m-%Y %I:%M %p', errors='raise') for date\n",
    "in date_strings])\n"
   ]
  },
  {
   "cell_type": "code",
   "execution_count": null,
   "id": "8e48c93e",
   "metadata": {},
   "outputs": [],
   "source": []
  },
  {
   "cell_type": "code",
   "execution_count": null,
   "id": "a3bad158",
   "metadata": {},
   "outputs": [],
   "source": []
  },
  {
   "cell_type": "code",
   "execution_count": null,
   "id": "5cf1986c",
   "metadata": {},
   "outputs": [],
   "source": []
  }
 ],
 "metadata": {
  "kernelspec": {
   "display_name": "Python 3 (ipykernel)",
   "language": "python",
   "name": "python3"
  },
  "language_info": {
   "codemirror_mode": {
    "name": "ipython",
    "version": 3
   },
   "file_extension": ".py",
   "mimetype": "text/x-python",
   "name": "python",
   "nbconvert_exporter": "python",
   "pygments_lexer": "ipython3",
   "version": "3.10.9"
  }
 },
 "nbformat": 4,
 "nbformat_minor": 5
}
