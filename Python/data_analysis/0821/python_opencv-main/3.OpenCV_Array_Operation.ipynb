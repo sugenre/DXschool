{
 "cells": [
  {
   "cell_type": "markdown",
   "id": "72c3125a",
   "metadata": {},
   "source": [
    "# 배열 연산"
   ]
  },
  {
   "cell_type": "markdown",
   "id": "4efc636f",
   "metadata": {},
   "source": [
    "## 배열 처리"
   ]
  },
  {
   "cell_type": "markdown",
   "id": "c9ebab0f",
   "metadata": {},
   "source": [
    "### 이미지 크기 변경"
   ]
  },
  {
   "cell_type": "code",
   "execution_count": null,
   "id": "779887db",
   "metadata": {},
   "outputs": [],
   "source": [
    "import cv2\n",
    "##import numpy as np\n",
    "\n",
    "img = cv2.imread('./data/lena.jpg', cv2.IMREAD_GRAYSCALE)\n",
    "print('img.shape=', img.shape)\n",
    "\n",
    "##img = img.reshape(img.shape[0]*img.shape[1])\n",
    "img = img.flatten()\n",
    "print('img.shape=', img.shape)\n",
    "\n",
    "img = img.reshape(-1, 512, 512)\n",
    "print('img.shape=', img.shape)\n",
    "\n",
    "cv2.imshow('img', img[0])\n",
    "cv2.waitKey()\n",
    "cv2.destroyAllWindows()"
   ]
  },
  {
   "cell_type": "code",
   "execution_count": null,
   "id": "525fbc95",
   "metadata": {},
   "outputs": [],
   "source": [
    "import cv2\n",
    "import numpy as np\n",
    "from matplotlib import pyplot as plt\n",
    "\n",
    "# 흑백 이미지로 로드\n",
    "image = cv2.imread(\"./data/plane_256x256.jpg\", cv2.IMREAD_GRAYSCALE)\n",
    "\n",
    "# 이미지 크기를 64x64 픽셀로 변경\n",
    "image_64x64 = cv2.resize(image, (64, 64))\n",
    "\n",
    "# 이미지를 출력\n",
    "plt.imshow(image_64x64, cmap=\"gray\"), plt.axis(\"off\")\n",
    "plt.show()"
   ]
  },
  {
   "cell_type": "code",
   "execution_count": null,
   "id": "1a50dfaf",
   "metadata": {},
   "outputs": [],
   "source": []
  },
  {
   "cell_type": "markdown",
   "id": "bb1789ae",
   "metadata": {},
   "source": [
    "### 화소 접근"
   ]
  },
  {
   "cell_type": "code",
   "execution_count": null,
   "id": "3877ede4",
   "metadata": {},
   "outputs": [],
   "source": [
    "import cv2\n",
    "##import numpy as np\n",
    "\n",
    "img = cv2.imread('./data/lena.jpg', cv2.IMREAD_GRAYSCALE)\n",
    "img[100, 200] = 0  # 화소값(밝기,그레이스케일) 변경\n",
    "print(img[100:110, 200:210]) # ROI 접근\n",
    "\n",
    "##for y in range(100, 400):\n",
    "##    for x in range(200, 300):\n",
    "##        img[y, x] = 0\n",
    "\n",
    "img[100:400, 200:300] = 0    # ROI 접근\n",
    "\n",
    "cv2.imshow('img', img)\n",
    "cv2.waitKey()\n",
    "cv2.destroyAllWindows()"
   ]
  },
  {
   "cell_type": "code",
   "execution_count": null,
   "id": "c2887adb",
   "metadata": {},
   "outputs": [],
   "source": [
    "import cv2\n",
    "\n",
    "##import numpy as np\n",
    "\n",
    "img = cv2.imread('./data/lena.jpg')  # cv2.IMREAD_COLOR\n",
    "img[100, 200] = [255, 0, 0]  # 컬러(BGR) 변경\n",
    "print(img[100, 200:210])  # ROI 접근\n",
    "\n",
    "##for y in range(100, 400):\n",
    "##    for x in range(200, 300):\n",
    "##        img[y, x] = [255, 0, 0]    # 파랑색(blue)으로 변경\n",
    "\n",
    "img[100:400, 200:300] = [255, 0, 0]  # ROI 접근\n",
    "\n",
    "cv2.imshow('img', img)\n",
    "cv2.waitKey()\n",
    "cv2.destroyAllWindows()"
   ]
  },
  {
   "cell_type": "code",
   "execution_count": null,
   "id": "762bfa0b",
   "metadata": {},
   "outputs": [],
   "source": []
  },
  {
   "cell_type": "markdown",
   "id": "17bb2678",
   "metadata": {},
   "source": [
    "### 채널 접근"
   ]
  },
  {
   "cell_type": "code",
   "execution_count": null,
   "id": "aa0fa074",
   "metadata": {},
   "outputs": [],
   "source": [
    "import cv2\n",
    "##import numpy as np\n",
    "\n",
    "img = cv2.imread('./data/lena.jpg') # cv2.IMREAD_COLOR\n",
    "\n",
    "##for y in range(100, 400):\n",
    "##    for x in range(200, 300):\n",
    "##        img[y, x, 0] = 255      # B-채널을 255로 변경\n",
    "        \n",
    "img[100:400, 200:300, 0] = 255  # B-채널을 255로 변경\n",
    "img[100:400, 300:400, 1] = 255  # G-채널을 255로 변경\n",
    "img[100:400, 400:500, 2] = 255  # R-채널을 255로 변경\n",
    "\n",
    "cv2.imshow('img', img)\n",
    "cv2.waitKey()\n",
    "cv2.destroyAllWindows()"
   ]
  },
  {
   "cell_type": "code",
   "execution_count": null,
   "id": "eb09a300",
   "metadata": {},
   "outputs": [],
   "source": []
  },
  {
   "cell_type": "markdown",
   "id": "5d86effe",
   "metadata": {},
   "source": [
    "### 이미지 자르기"
   ]
  },
  {
   "cell_type": "code",
   "execution_count": null,
   "id": "8a7d29c8",
   "metadata": {},
   "outputs": [],
   "source": [
    "import cv2\n",
    "import numpy as np\n",
    "from matplotlib import pyplot as plt\n",
    "\n",
    "image = cv2.imread(\"./data/plane_256x256.jpg\", cv2.IMREAD_GRAYSCALE)\n",
    "# 행과 열의 절반을 선택\n",
    "image_cropped = image[:128,:128]\n",
    "\n",
    "plt.imshow(image_cropped, cmap=\"gray\"), plt.axis(\"off\")\n",
    "plt.show()\n"
   ]
  },
  {
   "cell_type": "code",
   "execution_count": null,
   "id": "0dc232fa",
   "metadata": {},
   "outputs": [],
   "source": []
  },
  {
   "cell_type": "markdown",
   "id": "ea48b5cb",
   "metadata": {},
   "source": [
    "### 블록 평균 영상"
   ]
  },
  {
   "cell_type": "code",
   "execution_count": null,
   "id": "19876d5a",
   "metadata": {},
   "outputs": [],
   "source": [
    "import cv2\n",
    "import numpy as np\n",
    "\n",
    "src = cv2.imread('./data/lena.jpg', cv2.IMREAD_GRAYSCALE)\n",
    "dst = np.zeros(src.shape, dtype=src.dtype)\n",
    "\n",
    "N = 4  # 8, 32, 64\n",
    "height, width = src.shape  # 그레이스케일 영상\n",
    "##height, width,_ = src.shape # 컬러영상\n",
    "\n",
    "h = height // N\n",
    "w = width // N\n",
    "for i in range(N):\n",
    "    for j in range(N):\n",
    "        y = i * h\n",
    "        x = j * w\n",
    "        roi = src[y:y + h, x:x + w]\n",
    "        dst[y:y + h, x:x + w] = cv2.mean(roi)[0]  # 그레이스케일 영상\n",
    "##        dst[y:y+h, x:x+w] = cv2.mean(roi)[0:3] # 컬러영상\n",
    "\n",
    "cv2.imshow('dst', dst)\n",
    "cv2.waitKey()\n",
    "cv2.destroyAllWindows()"
   ]
  },
  {
   "cell_type": "code",
   "execution_count": null,
   "id": "b09e51c6",
   "metadata": {},
   "outputs": [],
   "source": []
  },
  {
   "cell_type": "markdown",
   "id": "04ed991e",
   "metadata": {},
   "source": [
    "### ROI 영역 지정"
   ]
  },
  {
   "cell_type": "code",
   "execution_count": null,
   "id": "80c48aed",
   "metadata": {},
   "outputs": [],
   "source": [
    "import cv2\n",
    " \n",
    "src = cv2.imread('./data/lena.jpg', cv2.IMREAD_GRAYSCALE)\n",
    "roi = cv2.selectROI(src)\n",
    "print('roi =', roi)\n",
    "\n",
    "img = src[roi[1]:roi[1]+roi[3],\n",
    "               roi[0]:roi[0]+roi[2]]\n",
    "\n",
    "cv2.imshow('Img', img)\n",
    "cv2.waitKey()\n",
    "cv2.destroyAllWindows()\n"
   ]
  },
  {
   "cell_type": "code",
   "execution_count": null,
   "id": "71b93cdc",
   "metadata": {},
   "outputs": [],
   "source": [
    "import cv2\n",
    " \n",
    "src = cv2.imread('./data/lena.jpg', cv2.IMREAD_GRAYSCALE)\n",
    "rects = cv2.selectROIs('src', src, False, True)\n",
    "print('rects =', rects)\n",
    "\n",
    "for r in rects:\n",
    "    cv2.rectangle(src, (r[0], r[1]), (r[0]+r[2], r[1]+r[3]), 255)    \n",
    "##    img = src[r[1]:r[1]+r[3], r[0]:r[0]+r[2]]\n",
    "##    cv2.imshow('Img', img)\n",
    "##    cv2.waitKey()\n",
    "\n",
    "cv2.imshow('src', src)\n",
    "cv2.waitKey()    \n",
    "cv2.destroyAllWindows()"
   ]
  },
  {
   "cell_type": "code",
   "execution_count": null,
   "id": "808bfa0e",
   "metadata": {},
   "outputs": [],
   "source": []
  },
  {
   "cell_type": "markdown",
   "id": "65e2f970",
   "metadata": {},
   "source": [
    "### 영상 복사"
   ]
  },
  {
   "cell_type": "code",
   "execution_count": null,
   "id": "934fc900",
   "metadata": {},
   "outputs": [],
   "source": [
    "import cv2\n",
    "src = cv2.imread('./data/lena.jpg', cv2.IMREAD_GRAYSCALE)\n",
    "\n",
    "##dst = src          #참조\n",
    "dst = src.copy()     #복사 \n",
    "dst[100:400, 200:300] = 0\n",
    "\n",
    "cv2.imshow('src', src)\n",
    "cv2.imshow('dst', dst)\n",
    "cv2.waitKey()    \n",
    "cv2.destroyAllWindows()"
   ]
  },
  {
   "cell_type": "code",
   "execution_count": null,
   "id": "fcd0fd70",
   "metadata": {},
   "outputs": [],
   "source": [
    "import cv2\n",
    "import numpy as np\n",
    " \n",
    "src = cv2.imread('./data/lena.jpg', cv2.IMREAD_GRAYSCALE)\n",
    "shape = src.shape[0], src.shape[1], 3\n",
    "dst = np.zeros(shape, dtype=np.uint8)\n",
    "\n",
    "dst[:,:,0] = src      # B-채널 \n",
    "##dst[:,:,1] = src    # G-채널 \n",
    "##dst[:,:,2] = src    # R-채널 \n",
    "\n",
    "dst[100:400, 200:300, :] = [255, 255, 255]\n",
    "\n",
    "cv2.imshow('src', src)\n",
    "cv2.imshow('dst', dst)\n",
    "cv2.waitKey()    \n",
    "cv2.destroyAllWindows()"
   ]
  },
  {
   "cell_type": "code",
   "execution_count": null,
   "id": "56c86c30",
   "metadata": {},
   "outputs": [],
   "source": []
  },
  {
   "cell_type": "markdown",
   "id": "a295ce94",
   "metadata": {},
   "source": [
    "### 채널 분리"
   ]
  },
  {
   "cell_type": "code",
   "execution_count": null,
   "id": "085a2142",
   "metadata": {},
   "outputs": [],
   "source": [
    "import cv2\n",
    "src = cv2.imread('./data/lena.jpg')\n",
    "\n",
    "dst = cv2.split(src) \n",
    "print(type(dst))\n",
    "print(type(dst[0])) # type(dst[1]), type(dst[2])\n",
    "\n",
    "cv2.imshow('blue',  dst[0])\n",
    "cv2.imshow('green', dst[1])\n",
    "cv2.imshow('red',   dst[2])\n",
    "cv2.waitKey()    \n",
    "cv2.destroyAllWindows()"
   ]
  },
  {
   "cell_type": "code",
   "execution_count": null,
   "id": "878ed445",
   "metadata": {},
   "outputs": [],
   "source": []
  },
  {
   "cell_type": "markdown",
   "id": "0562df9a",
   "metadata": {},
   "source": [
    "### 채널 병합"
   ]
  },
  {
   "cell_type": "code",
   "execution_count": null,
   "id": "d8739a6a",
   "metadata": {},
   "outputs": [],
   "source": [
    "import cv2\n",
    "src = cv2.imread('./data/lena.jpg')\n",
    "\n",
    "b, g, r = cv2.split(src)\n",
    "dst = cv2.merge([b, g, r]) # cv2.merge([r, g, b])\n",
    "\n",
    "print(type(dst))\n",
    "print(dst.shape)\n",
    "cv2.imshow('dst',  dst)\n",
    "cv2.waitKey()    \n",
    "cv2.destroyAllWindows()"
   ]
  },
  {
   "cell_type": "code",
   "execution_count": null,
   "id": "9674ba0b",
   "metadata": {},
   "outputs": [],
   "source": []
  },
  {
   "cell_type": "markdown",
   "id": "7c995d2d",
   "metadata": {},
   "source": [
    "### 컬러 변환"
   ]
  },
  {
   "cell_type": "code",
   "execution_count": null,
   "id": "3fcbc36d",
   "metadata": {},
   "outputs": [],
   "source": [
    "import cv2\n",
    "src = cv2.imread('./data/lena.jpg')\n",
    "\n",
    "gray   = cv2.cvtColor(src, cv2.COLOR_BGR2GRAY)\n",
    "yCrCv = cv2.cvtColor(src, cv2.COLOR_BGR2YCrCb)\n",
    "hsv    = cv2.cvtColor(src, cv2.COLOR_BGR2HSV)\n",
    "\n",
    "cv2.imshow('gray',  gray)\n",
    "cv2.imshow('yCrCv', yCrCv)\n",
    "cv2.imshow('hsv',   hsv)\n",
    "\n",
    "cv2.waitKey()    \n",
    "cv2.destroyAllWindows()"
   ]
  },
  {
   "cell_type": "code",
   "execution_count": null,
   "id": "4105c6f8",
   "metadata": {},
   "outputs": [],
   "source": []
  },
  {
   "cell_type": "markdown",
   "id": "e312d3a4",
   "metadata": {},
   "source": [
    "### 회전"
   ]
  },
  {
   "cell_type": "code",
   "execution_count": 1,
   "id": "49afd28b",
   "metadata": {},
   "outputs": [
    {
     "name": "stdout",
     "output_type": "stream",
     "text": [
      "split_bgr 행렬 형태  (3, 2, 4)\n",
      "merge_bgr 행렬 형태 (2, 4, 3)\n",
      "[ch0] = \n",
      "[[10 10 10 10]\n",
      " [10 10 10 10]]\n",
      "[ch1] = \n",
      "[[20 20 20 20]\n",
      " [20 20 20 20]]\n",
      "[ch2] = \n",
      "[[30 30 30 30]\n",
      " [30 30 30 30]]\n",
      "[merge_bgr] = \n",
      " [[[10 20 30]\n",
      "  [10 20 30]\n",
      "  [10 20 30]\n",
      "  [10 20 30]]\n",
      "\n",
      " [[10 20 30]\n",
      "  [10 20 30]\n",
      "  [10 20 30]\n",
      "  [10 20 30]]]\n",
      "\n",
      "[split_bgr[0]] =\n",
      "[[10 10 10 10]\n",
      " [10 10 10 10]] \n",
      "[split_bgr[1]] =\n",
      "[[20 20 20 20]\n",
      " [20 20 20 20]] \n",
      "[split_bgr[2]] =\n",
      "[[30 30 30 30]\n",
      " [30 30 30 30]] \n"
     ]
    }
   ],
   "source": [
    "import numpy as np\n",
    "import cv2\n",
    "\n",
    "# numpy array이용해 단일 채널 3개 생성\n",
    "ch0 = np.zeros((2, 4), np.uint8) + 10           # 0원소 행렬 선언 후 10 더하기\n",
    "ch1 = np.ones((2, 4), np.uint8) * 20            # 1원소 행렬 선언 후 20 곱하기\n",
    "ch2 = np.zeros((2, 4), np.uint8); ch2[:] = 30   # 0원소 행렬 선언 후 행렬원소값 30 지정\n",
    "\n",
    "list_bgr = [ch0, ch1, ch2]                      # 단일 채널들을 모아 리스트 구성\n",
    "merge_bgr = cv2.merge(list_bgr)                 # 채널 합성\n",
    "split_bgr = cv2.split(merge_bgr)                # 채널 분리: 컬러영상--> 3채널 분리\n",
    "\n",
    "print('split_bgr 행렬 형태 ', np.array(split_bgr).shape)\n",
    "print('merge_bgr 행렬 형태', merge_bgr.shape)\n",
    "\n",
    "print(\"[ch0] = \\n%s\" % ch0)                     # 단일 채널 원소 출력\n",
    "print(\"[ch1] = \\n%s\" % ch1)\n",
    "print(\"[ch2] = \\n%s\" % ch2)\n",
    "print(\"[merge_bgr] = \\n %s\\n\" % merge_bgr)       # 다중 채널 원소 출력\n",
    "\n",
    "print(\"[split_bgr[0]] =\\n%s \" % split_bgr[0])\n",
    "print(\"[split_bgr[1]] =\\n%s \" % split_bgr[1])\n",
    "print(\"[split_bgr[2]] =\\n%s \" % split_bgr[2])"
   ]
  },
  {
   "cell_type": "code",
   "execution_count": null,
   "id": "fed83fe2",
   "metadata": {},
   "outputs": [],
   "source": [
    "import cv2\n",
    "\n",
    "image = cv2.imread(\"./data/flip_test.jpg\", cv2.IMREAD_COLOR)\n",
    "if image is None: raise Exception(\"영상 파일 읽기 오류 발생\") # 예외 처리\n",
    "\n",
    "x_axis = cv2.flip(image, 0)                 # x축 기준 상하 뒤집기\n",
    "y_axis = cv2.flip(image, 1)                 # y축 기준 좌우 뒤집기\n",
    "xy_axis = cv2.flip(image, -1)\n",
    "rep_image   = cv2.repeat(image, 1, 2)       # 반복 복사\n",
    "trans_image = cv2.transpose(image)          # 행렬 전치\n",
    "\n",
    "## 각 행렬을 영상으로 표시\n",
    "titles = ['image', 'x_axis', 'y_axis','xy_axis','rep_image','trans_image']\n",
    "for title in titles:\n",
    "    cv2.imshow(title, eval(title))\n",
    "cv2.waitKey(0)"
   ]
  },
  {
   "cell_type": "code",
   "execution_count": null,
   "id": "65d81ebb",
   "metadata": {},
   "outputs": [],
   "source": [
    "import cv2\n",
    "src = cv2.imread('./data/lena.jpg')\n",
    "\n",
    "dst1 = cv2.rotate(src, cv2.ROTATE_90_CLOCKWISE)\n",
    "dst2 = cv2.rotate(src, cv2.ROTATE_90_COUNTERCLOCKWISE)\n",
    "\n",
    "cv2.imshow('dst1',  dst1)\n",
    "cv2.imshow('dst2',  dst2)\n",
    "cv2.waitKey()    \n",
    "cv2.destroyAllWindows()\n"
   ]
  },
  {
   "cell_type": "code",
   "execution_count": null,
   "id": "eda178d7",
   "metadata": {},
   "outputs": [],
   "source": [
    "import cv2\n",
    "src = cv2.imread('./data/lena.jpg')\n",
    "\n",
    "rows, cols, channels = src.shape\n",
    "M1 = cv2.getRotationMatrix2D( (rows/2, cols/2),  45, 0.5 )\n",
    "M2 = cv2.getRotationMatrix2D( (rows/2, cols/2), -45, 1.0 )\n",
    "\n",
    "dst1 = cv2.warpAffine( src, M1, (rows, cols))\n",
    "dst2 = cv2.warpAffine( src, M2, (rows, cols))\n",
    "\n",
    "cv2.imshow('dst1',  dst1)\n",
    "cv2.imshow('dst2',  dst2)\n",
    "cv2.waitKey()    \n",
    "cv2.destroyAllWindows()"
   ]
  },
  {
   "cell_type": "code",
   "execution_count": null,
   "id": "1cad35a8",
   "metadata": {},
   "outputs": [],
   "source": []
  },
  {
   "cell_type": "markdown",
   "id": "aa13de2d",
   "metadata": {},
   "source": [
    "## 배열 연산"
   ]
  },
  {
   "cell_type": "markdown",
   "id": "fa953d42",
   "metadata": {},
   "source": [
    "### 산술 연산"
   ]
  },
  {
   "cell_type": "code",
   "execution_count": null,
   "id": "e01125f1",
   "metadata": {},
   "outputs": [],
   "source": [
    "import cv2\n",
    "import numpy as np\n",
    "\n",
    "src1 = cv2.imread('./data/lena.jpg', cv2.IMREAD_GRAYSCALE)\n",
    "src2 = np.zeros(shape=(512,512), dtype=np.uint8) + 100\n",
    "\n",
    "dst1 = src1 + src2\n",
    "dst2 = cv2.add(src1, src2)\n",
    "#dst2 = cv2.add(src1, src2, dtype = cv2.CV_8U)\n",
    "\n",
    "cv2.imshow('dst1',  dst1)\n",
    "cv2.imshow('dst2',  dst2)\n",
    "cv2.waitKey()    \n",
    "cv2.destroyAllWindows()"
   ]
  },
  {
   "cell_type": "code",
   "execution_count": null,
   "id": "906432b7",
   "metadata": {},
   "outputs": [],
   "source": []
  },
  {
   "cell_type": "markdown",
   "id": "597bbb65",
   "metadata": {},
   "source": [
    "### 비트 연산"
   ]
  },
  {
   "cell_type": "code",
   "execution_count": null,
   "id": "1d608ac5",
   "metadata": {},
   "outputs": [],
   "source": [
    "import numpy as np, cv2\n",
    "\n",
    "image1 = np.zeros((300, 300), np.uint8)     \t\t# 300행, 300열 검은색 영상 생성\n",
    "image2 = image1.copy()\n",
    "\n",
    "h, w = image1.shape[:2]\n",
    "cx,cy  = w//2, h//2\n",
    "cv2.circle(image1, (cx,cy), 100, 255, -1)      \t\t# 중심에 원 그리기\n",
    "cv2.rectangle(image2, (0,0, cx, h), 255, -1)\n",
    "\n",
    "image3 = cv2.bitwise_or(image1, image2)     \t# 원소 간 논리합\n",
    "image4 = cv2.bitwise_and(image1, image2)    \t# 원소 간 논리곱\n",
    "image5 = cv2.bitwise_xor(image1, image2)    \t# 원소 간 배타적 논리합\n",
    "image6 = cv2.bitwise_not(image1)            \t# 행렬 반전\n",
    "\n",
    "cv2.imshow(\"image1\", image1);\t\t\tcv2.imshow(\"image2\", image2)\n",
    "cv2.imshow(\"bitwise_or\", image3);\t\tcv2.imshow(\"bitwise_and\", image4)\n",
    "cv2.imshow(\"bitwise_xor\", image5);\tcv2.imshow(\"bitwise_not\", image6)\n",
    "cv2.waitKey(0)"
   ]
  },
  {
   "cell_type": "code",
   "execution_count": null,
   "id": "0c057718",
   "metadata": {},
   "outputs": [],
   "source": [
    "#비트 연산\n",
    "#OpenCV-Python Tutorials 참조\n",
    "import cv2\n",
    "import numpy as np\n",
    "\n",
    "src1 = cv2.imread('./data/lena.jpg')\n",
    "src2 = cv2.imread('./data/opencv_logo.png')\n",
    "cv2.imshow('src2',  src2)\n",
    "\n",
    "#1\n",
    "rows,cols,channels = src2.shape\n",
    "roi = src1[0:rows, 0:cols]\n",
    "\n",
    "#2\n",
    "gray = cv2.cvtColor(src2,cv2.COLOR_BGR2GRAY)\n",
    "ret, mask = cv2.threshold(gray, 160, 255, cv2.THRESH_BINARY)\n",
    "mask_inv = cv2.bitwise_not(mask)\n",
    "cv2.imshow('mask',  mask)\n",
    "cv2.imshow('mask_inv',  mask_inv)\n",
    "\n",
    "#3\n",
    "src1_bg = cv2.bitwise_and(roi, roi, mask = mask)\n",
    "cv2.imshow('src1_bg',  src1_bg)\n",
    "\n",
    "#4\n",
    "src2_fg = cv2.bitwise_and(src2, src2, mask = mask_inv)\n",
    "cv2.imshow('src2_fg',  src2_fg)\n",
    "\n",
    "#5\n",
    "##dst = cv2.add(src1_bg, src2_fg)\n",
    "dst = cv2.bitwise_or(src1_bg, src2_fg)\n",
    "cv2.imshow('dst',  dst)\n",
    "\n",
    "#6\n",
    "src1[0:rows, 0:cols] = dst\n",
    "\n",
    "cv2.imshow('result',src1)\n",
    "cv2.waitKey(0)\n",
    "cv2.destroyAllWindows()"
   ]
  },
  {
   "cell_type": "code",
   "execution_count": null,
   "id": "650c0515",
   "metadata": {},
   "outputs": [],
   "source": []
  },
  {
   "cell_type": "markdown",
   "id": "ca850d2e",
   "metadata": {},
   "source": [
    "### 절대값 연산"
   ]
  },
  {
   "cell_type": "code",
   "execution_count": null,
   "id": "050c03bd",
   "metadata": {},
   "outputs": [],
   "source": [
    "import numpy as np, cv2\n",
    "\n",
    "image1 = cv2.imread(\"./data/abs_test1.jpg\", cv2.IMREAD_GRAYSCALE) # 명암도 영상 읽기\n",
    "image2 = cv2.imread(\"./data/abs_test2.jpg\", cv2.IMREAD_GRAYSCALE)\n",
    "if image1 is None or image2 is None: raise Exception(\"영상 파일 읽기 오류 발생\")\n",
    "\n",
    "dif_img1 = cv2.subtract(image1, image2)                     # 차분 연산\n",
    "dif_img2 = cv2.subtract(np.int16(image1), np.int16(image2)) # 음수 보전 위해\n",
    "abs_dif1 = np.absolute(dif_img2).astype('uint8')\n",
    "abs_dif2 = cv2.absdiff(image1, image2)              # 차분 절댓값 계산\n",
    "\n",
    "x, y, w, h = 100, 100, 7, 3\n",
    "print(\"[dif_img1(roi) uint8] = \\n%s\\n\" % dif_img1[y:y+h, x:x+w])\n",
    "print(\"[dif_img2(roi) int16]  = \\n%s\\n\"  % dif_img2[y:y+h, x:x+w])\n",
    "print(\"[abs_dif1(roi)] = \\n%s\\n\" % abs_dif1[y:y+h, x:x+w])\n",
    "print(\"[abs_dif2(roi)] = \\n%s\\n\" % abs_dif2[y:y+h, x:x+w])\n",
    "\n",
    "titles = ['image1', 'image2', 'dif_img1', 'abs_dif1','abs_dif2']\n",
    "for title in titles:\n",
    "    cv2.imshow(title, eval(title))\n",
    "cv2.waitKey(0)\n"
   ]
  },
  {
   "cell_type": "code",
   "execution_count": null,
   "id": "2f74135e",
   "metadata": {},
   "outputs": [],
   "source": []
  },
  {
   "cell_type": "markdown",
   "id": "81d5321c",
   "metadata": {},
   "source": [
    "## 수학 및 통계 함수"
   ]
  },
  {
   "cell_type": "markdown",
   "id": "9bf0dcb9",
   "metadata": {},
   "source": [
    "### 최대값과 최소값을 이용한 화질 개선"
   ]
  },
  {
   "cell_type": "code",
   "execution_count": null,
   "id": "c587e428",
   "metadata": {},
   "outputs": [],
   "source": [
    "import numpy as np, cv2\n",
    "\n",
    "image = cv2.imread(\"./data/minMax.jpg\", cv2.IMREAD_GRAYSCALE)\n",
    "if image is None: raise Exception(\"영상 파일 읽기 오류 발생\")\n",
    "\n",
    "(min_val, max_val, _, _) = cv2.minMaxLoc(image)  # 최솟값과 최댓값 가져오기\n",
    "\n",
    "ratio = 255/(max_val - min_val)\n",
    "dst = np.round((image - min_val) * ratio).astype('uint8')\n",
    "(min_dst, max_dst, _, _) = cv2.minMaxLoc(dst)\n",
    "\n",
    "print(\"원본 영상 최솟값= %d , 최댓값= %d\" % (min_val, max_val))\n",
    "print(\"수정 영상 최솟값= %d , 최댓값= %d\" % (min_dst, max_dst))\n",
    "cv2.imshow(\"image\", image)\n",
    "cv2.imshow(\"dst\"  , dst)\n",
    "cv2.waitKey(0)"
   ]
  },
  {
   "cell_type": "code",
   "execution_count": null,
   "id": "9db53107",
   "metadata": {},
   "outputs": [],
   "source": []
  },
  {
   "cell_type": "markdown",
   "id": "71226ebd",
   "metadata": {},
   "source": [
    "### 영상 정규화"
   ]
  },
  {
   "cell_type": "code",
   "execution_count": null,
   "id": "64fda1f7",
   "metadata": {},
   "outputs": [],
   "source": [
    "import cv2\n",
    "import numpy as np\n",
    "\n",
    "src = cv2.imread('./data/lena.jpg', cv2.IMREAD_GRAYSCALE)\n",
    "\n",
    "minVal, maxVal, minLoc, maxLoc = cv2.minMaxLoc(src)\n",
    "print('src:', minVal, maxVal, minLoc, maxLoc)\n",
    "\n",
    "dst = cv2.normalize(src, None, 100, 200, cv2.NORM_MINMAX)\n",
    "minVal, maxVal, minLoc, maxLoc = cv2.minMaxLoc(dst)\n",
    "print('dst:', minVal, maxVal, minLoc, maxLoc)\n",
    "\n",
    "cv2.imshow('dst',  dst)\n",
    "cv2.waitKey()    \n",
    "cv2.destroyAllWindows()\n"
   ]
  },
  {
   "cell_type": "code",
   "execution_count": null,
   "id": "b18b5b8a",
   "metadata": {},
   "outputs": [],
   "source": []
  },
  {
   "cell_type": "markdown",
   "id": "94a7c5c7",
   "metadata": {},
   "source": [
    "### 2차원 균등 분포 난수 좌표\n"
   ]
  },
  {
   "cell_type": "code",
   "execution_count": null,
   "id": "cbb7123c",
   "metadata": {},
   "outputs": [],
   "source": [
    "import cv2\n",
    "import numpy as np\n",
    "import time\n",
    "\n",
    "dst = np.full((512,512,3), (255, 255, 255), dtype= np.uint8)\n",
    "nPoints = 100\n",
    "pts = np.zeros((1, nPoints, 2), dtype=np.uint16)\n",
    "\n",
    "cv2.setRNGSeed(int(time.time()))\n",
    "cv2.randu(pts, (0, 0), (512, 512))\n",
    "            \n",
    "# draw points\n",
    "for k in range(nPoints):\n",
    "    x, y = pts[0, k][:] # pts[0, k, :]\n",
    "    cv2.circle(dst,(x,y),radius=5,color=(0,0,255),thickness=-1)\n",
    "    \n",
    "cv2.imshow('dst',  dst)\n",
    "cv2.waitKey()    \n",
    "cv2.destroyAllWindows()"
   ]
  },
  {
   "cell_type": "code",
   "execution_count": null,
   "id": "0032e7ce",
   "metadata": {},
   "outputs": [],
   "source": []
  },
  {
   "cell_type": "markdown",
   "id": "bc17adc3",
   "metadata": {},
   "source": [
    "### 2차원 정규 분포 난수 좌표"
   ]
  },
  {
   "cell_type": "code",
   "execution_count": null,
   "id": "9499576e",
   "metadata": {},
   "outputs": [],
   "source": [
    "import cv2\n",
    "import numpy as np\n",
    "import time\n",
    "\n",
    "dst = np.full((512,512,3), (255, 255, 255), dtype= np.uint8)\n",
    "nPoints = 100\n",
    "pts = np.zeros((1, nPoints, 2), dtype=np.uint16)\n",
    "\n",
    "cv2.setRNGSeed(int(time.time()))\n",
    "cv2.randn(pts, mean=(256, 256), stddev=(50, 50))\n",
    "            \n",
    "# draw points\n",
    "for k in range(nPoints):\n",
    "    x, y = pts[0][k, :] # pts[0, k, :]\n",
    "    cv2.circle(dst,(x,y),radius=5,color=(0,0,255),thickness=-1)\n",
    "    \n",
    "cv2.imshow('dst', dst)                \n",
    "cv2.waitKey()    \n",
    "cv2.destroyAllWindows()"
   ]
  },
  {
   "cell_type": "code",
   "execution_count": null,
   "id": "f7ae94a3",
   "metadata": {},
   "outputs": [],
   "source": []
  },
  {
   "cell_type": "markdown",
   "id": "4254d751",
   "metadata": {},
   "source": [
    "### 마할라노비스 거리"
   ]
  },
  {
   "cell_type": "code",
   "execution_count": null,
   "id": "f1f833ea",
   "metadata": {},
   "outputs": [],
   "source": [
    "import cv2\n",
    "import numpy as np\n",
    "X = np.array([[0, 0,  0,100,100,150, -100,-150],\n",
    "              [0,50,-50,  0, 30,100,  -20,-100]], dtype=np.float64)\n",
    "X = X.transpose() # X = X.T\n",
    "\n",
    "cov, mean = cv2.calcCovarMatrix(X, mean=None, \n",
    "                               flags = cv2.COVAR_NORMAL + cv2.COVAR_ROWS)\n",
    "print('mean=', mean)\n",
    "print('cov=', cov)\n",
    "\n",
    "ret, icov = cv2.invert(cov)\n",
    "print('icov=',icov)\n",
    "\n",
    "v1 = np.array([[0],[0]] , dtype=np.float64)\n",
    "v2 = np.array([[0],[50]], dtype=np.float64)\n",
    "\n",
    "dist = cv2.Mahalanobis(v1, v2, icov)\n",
    "print('dist = ', dist)\n",
    "                \n",
    "cv2.waitKey()    \n",
    "cv2.destroyAllWindows()\n"
   ]
  },
  {
   "cell_type": "code",
   "execution_count": null,
   "id": "4f7b2f6a",
   "metadata": {},
   "outputs": [],
   "source": []
  },
  {
   "cell_type": "markdown",
   "id": "d1866650",
   "metadata": {},
   "source": [
    "### 행렬 축소"
   ]
  },
  {
   "cell_type": "code",
   "execution_count": 3,
   "id": "e37224f6",
   "metadata": {},
   "outputs": [
    {
     "name": "stdout",
     "output_type": "stream",
     "text": [
      "[m1] = \n",
      "[[46. 77. 37.  6.  0.]\n",
      " [38. 71. 41.  5. 85.]\n",
      " [85. 74. 80. 75. 21.]]\n",
      "\n",
      "[m_reduce_sum] = [169. 222. 158.  86. 106.]\n",
      "[m_reduce_avg] = [33.2 48.  67. ]\n",
      "[m_reduce_max] = [85. 77. 80. 75. 85.]\n",
      "[m_reduce_min] = [ 0.  5. 21.]\n"
     ]
    }
   ],
   "source": [
    "import numpy as np, cv2\n",
    "\n",
    "m = np.random.rand(3,5) * 1000//10\n",
    "\n",
    "reduce_sum = cv2.reduce(m, dim=0, rtype=cv2.REDUCE_SUM) # 0 - 열방향 축소\n",
    "reduce_avg = cv2.reduce(m, dim=1, rtype=cv2.REDUCE_AVG) # 1 - 행방향 축소\n",
    "reduce_max = cv2.reduce(m, dim=0, rtype=cv2.REDUCE_MAX)\n",
    "reduce_min = cv2.reduce(m, dim=1, rtype=cv2.REDUCE_MIN)\n",
    "\n",
    "print(\"[m1] = \\n%s\\n\" %m)\n",
    "print(\"[m_reduce_sum] =\", reduce_sum.flatten())\n",
    "print(\"[m_reduce_avg] =\", reduce_avg.flatten())\n",
    "print(\"[m_reduce_max] =\", reduce_max.flatten())\n",
    "print(\"[m_reduce_min] =\", reduce_min.flatten())"
   ]
  },
  {
   "cell_type": "code",
   "execution_count": null,
   "id": "65240c48",
   "metadata": {},
   "outputs": [],
   "source": []
  },
  {
   "cell_type": "markdown",
   "id": "f02d4406",
   "metadata": {},
   "source": [
    "### PCA 투영 및 역투영"
   ]
  },
  {
   "cell_type": "code",
   "execution_count": null,
   "id": "f6554d35",
   "metadata": {},
   "outputs": [],
   "source": [
    "import cv2\n",
    "import numpy as np\n",
    "\n",
    "X = np.array([[0, 0,  0,100,100,150, -100,-150],\n",
    "                 [0,50,-50,  0, 30,100,  -20,-100]], dtype=np.float64)\n",
    "X = X.transpose() # X = X.T\n",
    "\n",
    "##mean = cv2.reduce(X, 0, cv2.REDUCE_AVG)\n",
    "##print('mean = ', mean)\n",
    "\n",
    "mean, eVects = cv2.PCACompute(X, mean=None)\n",
    "print('mean = ', mean)\n",
    "print('eVects = ', eVects)\n",
    "\n",
    "Y =cv2.PCAProject(X, mean, eVects)\n",
    "print('Y = ', Y)\n",
    "\n",
    "X2 =cv2.PCABackProject(Y, mean, eVects)\n",
    "print('X2 = ', X2)\n",
    "print(np.allclose(X, X2))\n",
    "cv2.waitKey()    \n",
    "cv2.destroyAllWindows()"
   ]
  },
  {
   "cell_type": "code",
   "execution_count": null,
   "id": "993b0d40",
   "metadata": {},
   "outputs": [],
   "source": []
  },
  {
   "cell_type": "markdown",
   "id": "b810e738",
   "metadata": {},
   "source": [
    "### 사각형 크기 정렬"
   ]
  },
  {
   "cell_type": "code",
   "execution_count": 2,
   "id": "8598d4dc",
   "metadata": {},
   "outputs": [
    {
     "name": "stdout",
     "output_type": "stream",
     "text": [
      "----------------------------------------------\n",
      "사각형 원소\t\t랜덤 사각형 정보\t\t  크기\n",
      "----------------------------------------------\n",
      "rects[0] = [(100,108) from (238,190)] 45220\n",
      "rects[1] = [( 65, 79) from (300,123)] 36900\n",
      "rects[2] = [(162, 86) from ( 43,187)]  8041\n",
      "rects[3] = [( 68,115) from (195,280)] 54600\n",
      "rects[4] = [(126, 43) from (188,188)] 35344\n",
      "\n",
      "----------------------------------------------\n",
      "사각형 원소\t\t랜덤 사각형 정보\t\t  크기\n",
      "----------------------------------------------\n",
      "rects[0] = [(162, 86) from ( 43,187)]  8041\n",
      "rects[1] = [(126, 43) from (188,188)] 35344\n",
      "rects[2] = [( 65, 79) from (300,123)] 36900\n",
      "rects[3] = [(100,108) from (238,190)] 45220\n",
      "rects[4] = [( 68,115) from (195,280)] 54600\n",
      "\n"
     ]
    }
   ],
   "source": [
    "import numpy as np, cv2\n",
    "\n",
    "def print_rects(rects):\n",
    "    print(\"-\" * 46)                             \t# 라인 출력\n",
    "    print(\"사각형 원소\\t\\t랜덤 사각형 정보\\t\\t  크기\")\n",
    "    print(\"-\" * 46)\n",
    "    for i, (x,y, w,h, a) in enumerate(rects):\t\t# 저장 데이터 출력\n",
    "         print(\"rects[%i] = [(%3d,%3d) from (%3d,%3d)] %5d\" %(i, x, y, w, h, a))\n",
    "    print()\n",
    "\n",
    "rands = np.zeros((5, 5), np.uint16)        \t\t    # 5행 4열 행렬 생성\n",
    "starts = cv2.randn(rands[:, :2 ], 100, 50)     \t\t# 0~4행까지 시작좌표 랜덤 생성\n",
    "ends = cv2.randn(rands[:, 2:-1], 300, 50)       \t\t# 5~9행까지 종료좌표 랜덤 생성\n",
    "\n",
    "sizes = cv2.absdiff(starts, ends)\t\t\t\t\t# 시작좌표와 종료좌표간 차분 절대값\n",
    "areas = sizes[:, 0] * sizes[:, 1]\n",
    "rects = rands.copy()\n",
    "rects[:, 2:-1] = sizes\n",
    "rects[:,-1] = areas\n",
    "\n",
    "idx = cv2.sortIdx(areas, cv2.SORT_EVERY_COLUMN).flatten()\n",
    "# idx = np.argsort(areas, axis=0)\n",
    "\n",
    "print_rects(rects)\n",
    "print_rects(rects[idx.astype('int')])\n",
    "\n",
    "## 리스트 생성 방식\n",
    "# rects = [\"[(%3d,%3d) from (%3d,%3d)]\" %(p[0], p[1], s[0], s[1])\n",
    "#          for p, s in zip(starts, sizes)]\t\t\t\t# 시작좌표와 크기로 리스트 생성\n",
    "# areas = [s[0]*s[1] for s in sizes]\t\t\t\t\t# 넓이 계산 및 리스트에 저장\n",
    "#\n",
    "# # 정렬 후, 정렬 원소의 원본 좌표 반환\n",
    "# sort_idx = cv2.sortIdx(np.array(areas), cv2.SORT_EVERY_COLUMN)\n",
    "# sort_idx = map(int , sort_idx)\n",
    "#\n",
    "# print(\"-\" * 46)                             \t# 라인 출력\n",
    "# print(\"사각형 원소\\t\\t랜덤 사각형 정보\\t  크기\")\n",
    "# print(\"-\" * 46)\n",
    "# for i, rect, area in zip(range(5), rects, areas):\t\t# 저장 데이터 출력\n",
    "#     print(\"rects[\"+ str(i) + \"] =\", rect, area)\n",
    "#\n",
    "# print()\n",
    "# print(\"-\" * 46)\n",
    "# print(\"사각형 원소\\t\\t정렬 사각형 정보\\t  크기\")\n",
    "# print(\"-\" * 46)\n",
    "# for idx in sort_idx:\t\t\t\t\t\t\t\t\t# 정렬 데이터 출력\n",
    "#     print(\"rects[\" + str(idx) + \"] =\", rects[idx], areas[idx])\n",
    "\n",
    "\n"
   ]
  },
  {
   "cell_type": "code",
   "execution_count": null,
   "id": "d1d7b1e2",
   "metadata": {},
   "outputs": [],
   "source": []
  },
  {
   "cell_type": "markdown",
   "id": "5a5fe126",
   "metadata": {},
   "source": [
    "### 연립 방정식 풀이"
   ]
  },
  {
   "cell_type": "code",
   "execution_count": 4,
   "id": "8ebcfbf2",
   "metadata": {},
   "outputs": [
    {
     "name": "stdout",
     "output_type": "stream",
     "text": [
      "[inv] = \n",
      "[[ 0.15079366 -0.02380952 -0.0952381 ]\n",
      " [ 0.06746032  0.22619048 -0.0952381 ]\n",
      " [ 0.09126984  0.01190476  0.04761905]]\n",
      "\n",
      "[dst1] = [2.5238097 2.0238097 4.7380953]\n",
      "[dst2] = [2.5238097 2.0238097 4.7380953]\n",
      "[dst3] = [2.5238094 2.0238094 4.7380953]\n"
     ]
    }
   ],
   "source": [
    "import numpy as np, cv2\n",
    "\n",
    "data = [ 3, 0, 6, -3, 4, 2, -5,-1, 9]\t\t\t\t    # 1차원 리스트 생성\n",
    "m1 = np.array(data, np.float32).reshape(3,3)\n",
    "m2 = np.array([36, 10, 28], np.float32)\n",
    "\n",
    "ret, inv = cv2.invert(m1, cv2.DECOMP_LU)                # 역행렬 계산\n",
    "if ret:\n",
    "    dst1 = inv.dot(m2)                                  # numpy 제공 행렬곱 함수\n",
    "    dst2 = cv2.gemm(inv, m2, 1, None, 1)                # OpenC 제공 행렬곱 함수\n",
    "    ret, dst3 = cv2.solve(m1, m2, cv2.DECOMP_LU)        # 연립방정식 풀이\n",
    "\n",
    "    print(\"[inv] = \\n%s\\n\" % inv)\n",
    "    print(\"[dst1] =\", dst1.flatten())                   # 다행 1열 행렬을 한행에 표시\n",
    "    print(\"[dst2] =\", dst2.flatten())                   # 행렬을 벡터로 변환\n",
    "    print(\"[dst3] =\", dst3.flatten())                   # 행렬을 벡터로 변환\n",
    "else:\n",
    "    print(\"역행렬이 존재하지 않습니다.\")"
   ]
  },
  {
   "cell_type": "code",
   "execution_count": null,
   "id": "bccd8cf6",
   "metadata": {},
   "outputs": [],
   "source": []
  }
 ],
 "metadata": {
  "kernelspec": {
   "display_name": "Python 3 (ipykernel)",
   "language": "python",
   "name": "python3"
  },
  "language_info": {
   "codemirror_mode": {
    "name": "ipython",
    "version": 3
   },
   "file_extension": ".py",
   "mimetype": "text/x-python",
   "name": "python",
   "nbconvert_exporter": "python",
   "pygments_lexer": "ipython3",
   "version": "3.9.7"
  }
 },
 "nbformat": 4,
 "nbformat_minor": 5
}
