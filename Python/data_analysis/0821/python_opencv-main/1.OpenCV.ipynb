{
 "cells": [
  {
   "cell_type": "markdown",
   "id": "a8a9ec0b",
   "metadata": {},
   "source": [
    "# Open CV"
   ]
  },
  {
   "cell_type": "markdown",
   "id": "74948081",
   "metadata": {},
   "source": [
    "## Open CV 설치 확인"
   ]
  },
  {
   "cell_type": "code",
   "execution_count": 1,
   "id": "c3ac2b08",
   "metadata": {},
   "outputs": [
    {
     "data": {
      "text/plain": [
       "'4.5.5'"
      ]
     },
     "execution_count": 1,
     "metadata": {},
     "output_type": "execute_result"
    }
   ],
   "source": [
    "import cv2\n",
    "cv2.__version__"
   ]
  },
  {
   "cell_type": "code",
   "execution_count": null,
   "id": "576a908b",
   "metadata": {},
   "outputs": [],
   "source": []
  }
 ],
 "metadata": {
  "kernelspec": {
   "display_name": "Python 3 (ipykernel)",
   "language": "python",
   "name": "python3"
  },
  "language_info": {
   "codemirror_mode": {
    "name": "ipython",
    "version": 3
   },
   "file_extension": ".py",
   "mimetype": "text/x-python",
   "name": "python",
   "nbconvert_exporter": "python",
   "pygments_lexer": "ipython3",
   "version": "3.9.7"
  }
 },
 "nbformat": 4,
 "nbformat_minor": 5
}
