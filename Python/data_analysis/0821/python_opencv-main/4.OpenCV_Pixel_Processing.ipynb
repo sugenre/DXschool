{
 "cells": [
  {
   "cell_type": "markdown",
   "id": "3ad27dc4",
   "metadata": {},
   "source": [
    "# 화소 처리"
   ]
  },
  {
   "cell_type": "markdown",
   "id": "30d873d0",
   "metadata": {},
   "source": [
    "## 화소의 접근"
   ]
  },
  {
   "cell_type": "markdown",
   "id": "b3700ad4",
   "metadata": {},
   "source": [
    "### 행렬 원소의 접근 - 모든 원소를 순회하여 원소값을 2배로 변경"
   ]
  },
  {
   "cell_type": "code",
   "execution_count": null,
   "id": "6e35fea2",
   "metadata": {},
   "outputs": [],
   "source": [
    "import numpy as np\n",
    "\n",
    "def mat_access1(mat):\n",
    "    for i in range(mat.shape[0]):\n",
    "        for j in range(mat.shape[1]):\n",
    "            k = mat[i, j]  # 원소 접근 - mat1[i][j] 방식도 가능\n",
    "            mat[i, j] = k * 2  # 원소 할당\n",
    "\n",
    "def mat_access2(mat):\n",
    "    for i in range(mat.shape[0]):\n",
    "        for j in range(mat.shape[1]):\n",
    "            k = mat.item(i, j)  # 원소 접근\n",
    "            mat.itemset((i, j), k * 2)  # 원소 할당\n",
    "\n",
    "mat1 = np.arange(10).reshape(2, 5)\n",
    "mat2 = np.arange(10).reshape(2, 5)\n",
    "\n",
    "print(\"원소 처리 전: \\n%s\\n\" % mat1)\n",
    "mat_access1(mat1)\n",
    "print(\"원소 처리 후: \\n%s\\n\" % mat1)\n",
    "\n",
    "print(\"원소 처리 전: \\n%s\\n\" % mat2)\n",
    "mat_access2(mat2)\n",
    "print(\"원소 처리 후: \\n%s\" % mat2)"
   ]
  },
  {
   "cell_type": "markdown",
   "id": "b86a10bc",
   "metadata": {},
   "source": [
    "### Mat:ptr()을 통한 행렬 원소 접근"
   ]
  },
  {
   "cell_type": "code",
   "execution_count": null,
   "id": "397b984b",
   "metadata": {},
   "outputs": [],
   "source": [
    "import numpy as np, cv2, time\n",
    "\n",
    "def pixel_access1(image):\n",
    "    image1 = np.zeros(image.shape[:2], image.dtype)\n",
    "    for i in range(image.shape[0]):\n",
    "        for j in range(image.shape[1]):\n",
    "            pixel = image[i,j]                  # 화소 접근\n",
    "            image1[i, j] =  255 - pixel            # 화소 할당\n",
    "    return image1\n",
    "\n",
    "def pixel_access2(image):\n",
    "    image2 = np.zeros(image.shape[:2], image.dtype)\n",
    "    for i in range(image.shape[0]):\n",
    "        for j in range(image.shape[1]):\n",
    "            pixel = image.item(i, j)  # 화소 접근\n",
    "            image2.itemset((i, j),  255 - pixel)  # 화소 할당\n",
    "    return image2\n",
    "\n",
    "def pixel_access3(image):\n",
    "    lut = [255 - i for i in range(256)]  # 룩업테이블 생성\n",
    "    lut = np.array(lut, np.uint8)\n",
    "    image3 = lut[image]\n",
    "    return image3\n",
    "\n",
    "def pixel_access4(image):\n",
    "    image4 = cv2.subtract(255, image)\n",
    "    return image4\n",
    "\n",
    "def pixel_access5(image):\n",
    "    image5 = 255 - image\n",
    "    return image5\n",
    "\n",
    "image = cv2.imread(\"./data/bright.jpg\", cv2.IMREAD_GRAYSCALE)\n",
    "if image is None: raise Exception(\"영상 파일 읽기 오류 발생\")\n",
    "\n",
    "# 수행시간 체크\n",
    "def time_check(func, msg):\n",
    "    start_time = time.perf_counter()\n",
    "    ret_img = func(image)\n",
    "    elapsed = (time.perf_counter() - start_time) * 1000\n",
    "    print(msg, \"수행시간 : %.2f ms\" % elapsed)\n",
    "    return ret_img\n",
    "\n",
    "image1 = time_check(pixel_access1, \"[방법 1] 직접 접근 방식\")\n",
    "image2 = time_check(pixel_access2, \"[방법 2] item() 함수 방식\")\n",
    "image3 = time_check(pixel_access3, \"[방법 3] 룩업 테이블 방식\")\n",
    "image4 = time_check(pixel_access4, \"[방법 4] OpenCV 함수 방식\")\n",
    "image5 = time_check(pixel_access5, \"[방법 5] ndarray 연산 방식\")\n",
    "\n",
    "# 결과 영상 보기\n",
    "cv2.imshow(\"image  - original\", image)\n",
    "cv2.imshow(\"image1 - directly access to pixel\", image1)\n",
    "cv2.imshow(\"image2 - item()/itemset()\", image2)\n",
    "cv2.imshow(\"image3 - LUT\", image3)\n",
    "cv2.imshow(\"image4 - OpenCV\", image4)\n",
    "cv2.imshow(\"image5 - ndarray 방식\", image5)\n",
    "cv2.waitKey(0)"
   ]
  },
  {
   "cell_type": "code",
   "execution_count": null,
   "id": "ca24d489",
   "metadata": {},
   "outputs": [],
   "source": []
  },
  {
   "cell_type": "markdown",
   "id": "db1ac4a0",
   "metadata": {},
   "source": [
    "## 화소 밝기 전환"
   ]
  },
  {
   "cell_type": "markdown",
   "id": "519443d3",
   "metadata": {},
   "source": [
    "### 영상 화소값 확인"
   ]
  },
  {
   "cell_type": "code",
   "execution_count": null,
   "id": "94fca956",
   "metadata": {},
   "outputs": [],
   "source": [
    "import cv2\n",
    "\n",
    "image = cv2.imread(\"./data/pixel.jpg\", cv2.IMREAD_GRAYSCALE) # 영상 읽기\n",
    "if image is None: raise Exception(\"영상 파일 읽기 오류\")\n",
    "\n",
    "(x,y),(w,h) = (180, 37), (15, 10)                   # 좌표는 x, y\n",
    "roi_img = image[y:y+h, x:x+w]                   # 행렬 접근은 y, x\n",
    "\n",
    "#print(“[roi_img] =\\n”, roi_img) # 행렬 원소 바로 출력 가능\n",
    "\n",
    "print(\"[roi_img] =\")\n",
    "for row in roi_img:\n",
    "    for p in row:\n",
    "        print(\"%4d\" % p, end=\"\")       # 행렬 원 하나 출력\n",
    "    print()\n",
    "\n",
    "cv2.rectangle(image, (x,y, w,h), 255, 1)\n",
    "cv2.imshow(\"image\", image)\n",
    "cv2.waitKey(0)"
   ]
  },
  {
   "cell_type": "markdown",
   "id": "aa533be5",
   "metadata": {},
   "source": [
    "### 행렬의 가감 연산을 이용한 영상 밝기 변경"
   ]
  },
  {
   "cell_type": "code",
   "execution_count": null,
   "id": "a28bb78c",
   "metadata": {},
   "outputs": [],
   "source": [
    "import cv2\n",
    "\n",
    "image = cv2.imread(\"./data/bright.jpg\", cv2.IMREAD_GRAYSCALE)    # 영상 읽기\n",
    "if image is None: raise Exception(\"영상 파일 읽기 오류\")\n",
    "\n",
    "# OpenCV 함수 이용\n",
    "dst1 = cv2.add(image, 100)                  # 영상 밝게 saturation 방식\n",
    "dst2 = cv2.subtract(image, 100)             # 영상 어둡게\n",
    "\n",
    "# numpy array 이용\n",
    "dst3 = image + 100                          # 영상 밝게 modulo 방식\n",
    "dst4 = image - 100                          # 영상 어둡게\n",
    "\n",
    "cv2.imshow(\"original image\", image)\n",
    "cv2.imshow(\"dst1- bright: OpenCV\", dst1)\n",
    "cv2.imshow(\"dst2- dark: OpenCV\", dst2)\n",
    "cv2.imshow(\"dst3- bright: numpy\", dst3)\n",
    "cv2.imshow(\"dst4- dark: numpy\", dst4);\n",
    "cv2.waitKey(0)"
   ]
  },
  {
   "cell_type": "markdown",
   "id": "a093df16",
   "metadata": {},
   "source": [
    "## 행렬 합 과 곱 연산을 통한 영상 합성"
   ]
  },
  {
   "cell_type": "code",
   "execution_count": null,
   "id": "bc1161e0",
   "metadata": {},
   "outputs": [],
   "source": [
    "import numpy as np, cv2\n",
    "\n",
    "image1 = cv2.imread(\"./data/add1.jpg\", cv2.IMREAD_GRAYSCALE)   # 영상 읽기\n",
    "image2 = cv2.imread(\"./data/add2.jpg\", cv2.IMREAD_GRAYSCALE)\n",
    "if image1 is None or image2 is None: raise Exception(\"영상 파일 읽기 오류 발생\")\n",
    "\n",
    "# 영상 합성\n",
    "alpha, beta = 0.6, 0.7                                        # 곱샘 비율\n",
    "add_img1 = cv2.add(image1 , image2)                            # 두 영상 단순 더하기\n",
    "add_img2 = cv2.add(image1 * alpha , image2 * beta)             # 두영상 비율에 따른 더하기\n",
    "add_img2 = np.clip(add_img2, 0, 255).astype(\"uint8\")           # saturation 처리\n",
    "add_img3 = cv2.addWeighted(image1, alpha, image2, beta, 0)     # 두영상 비율에 따른 더하기\n",
    "\n",
    "titles = ['image1','image2','add_img1','add_img2','add_img3']\n",
    "for t in titles: cv2.imshow(t, eval(t))\n",
    "cv2.waitKey(0)\n"
   ]
  },
  {
   "cell_type": "markdown",
   "id": "5cfb368d",
   "metadata": {},
   "source": [
    "### 명암 대비 변경"
   ]
  },
  {
   "cell_type": "code",
   "execution_count": null,
   "id": "d147df04",
   "metadata": {},
   "outputs": [],
   "source": [
    "import numpy as np, cv2\n",
    "\n",
    "image = cv2.imread(\"./data/contrast.jpg\", cv2.IMREAD_GRAYSCALE)  # 영상 읽기\n",
    "if image is None: raise Exception(\"영상 파일 읽기 오류 발생\")\n",
    "\n",
    "noimage = np.zeros(image.shape[:2], image.dtype)        # 더미 영상\n",
    "avg = cv2.mean(image)[0]/2.0                            # 영상 화소 평균의 절반\n",
    "\n",
    "dst1 = cv2.scaleAdd(image, 0.2, noimage) + 20               # 영상대비 감소\n",
    "dst2 = cv2.scaleAdd(image, 2.0, noimage)                # 영상대비 증가\n",
    "dst3 = cv2.addWeighted(image, 0.5, noimage, 0, avg)     # 명암대비 감소\n",
    "dst4 = cv2.addWeighted(image, 2.0, noimage, 0,-avg)     # 명암대비 증가\n",
    "\n",
    "# 영상 띄우기\n",
    "cv2.imshow(\"image\", image)\n",
    "cv2.imshow(\"dst1 - decrease contrast\", dst1)\n",
    "cv2.imshow(\"dst2 - increase contrast\", dst2)\n",
    "cv2.imshow(\"dst3 - decrease contrast using average\", dst3)\n",
    "cv2.imshow(\"dst4 - increase contrast using average\", dst4)\n",
    "\n",
    "cv2.imwrite(\"dst.jpg\",dst1)\n",
    "cv2.waitKey(0)"
   ]
  },
  {
   "cell_type": "code",
   "execution_count": null,
   "id": "181410e6",
   "metadata": {},
   "outputs": [],
   "source": []
  },
  {
   "cell_type": "markdown",
   "id": "c70e1590",
   "metadata": {},
   "source": [
    "## 임계 처리"
   ]
  },
  {
   "cell_type": "markdown",
   "id": "622329bf",
   "metadata": {},
   "source": [
    "### 임계값 영상"
   ]
  },
  {
   "cell_type": "code",
   "execution_count": null,
   "id": "e5ac16c4",
   "metadata": {},
   "outputs": [],
   "source": [
    "import cv2\n",
    "import numpy as np\n",
    "src = cv2.imread('./data/heart10.jpg', cv2.IMREAD_GRAYSCALE)\n",
    "cv2.imshow('src',  src)\n",
    "\n",
    "ret, dst = cv2.threshold(src, 120, 255, cv2.THRESH_BINARY)\n",
    "print('ret=', ret)\n",
    "cv2.imshow('dst',  dst)\n",
    "\n",
    "ret2, dst2 = cv2.threshold(src, 200, 255,\n",
    "                             cv2.THRESH_BINARY+cv2.THRESH_OTSU)\n",
    "print('ret2=', ret2)\n",
    "cv2.imshow('dst2',  dst2)\n",
    "\n",
    "cv2.waitKey()    \n",
    "cv2.destroyAllWindows()"
   ]
  },
  {
   "cell_type": "code",
   "execution_count": null,
   "id": "cdbe1d95",
   "metadata": {},
   "outputs": [],
   "source": [
    "import cv2\n",
    "import numpy as np\n",
    "src = cv2.imread('./data/srcThreshold.png', cv2.IMREAD_GRAYSCALE)\n",
    "cv2.imshow('src',  src)\n",
    "\n",
    "ret, dst = cv2.threshold(src, 0, 255,\n",
    "                             cv2.THRESH_BINARY+cv2.THRESH_OTSU)\n",
    "cv2.imshow('dst',  dst)\n",
    "\n",
    "dst2 = cv2.adaptiveThreshold(src, 255, cv2.ADAPTIVE_THRESH_MEAN_C,\n",
    "                            cv2.THRESH_BINARY, 51, 7)\n",
    "cv2.imshow('dst2',  dst2)\n",
    "\n",
    "dst3 = cv2.adaptiveThreshold(src, 255, cv2.ADAPTIVE_THRESH_GAUSSIAN_C,\n",
    "                            cv2.THRESH_BINARY, 51, 7)\n",
    "cv2.imshow('dst3',  dst3)\n",
    "\n",
    "cv2.waitKey()    \n",
    "cv2.destroyAllWindows()"
   ]
  },
  {
   "cell_type": "code",
   "execution_count": null,
   "id": "d1773ea7",
   "metadata": {},
   "outputs": [],
   "source": [
    "# 라이브러리를 임포트합니다.\n",
    "import cv2\n",
    "import numpy as np\n",
    "from matplotlib import pyplot as plt\n",
    "\n",
    "# 흑백 이미지로 로드합니다.\n",
    "image_grey = cv2.imread(\"./data/plane_256x256.jpg\", cv2.IMREAD_GRAYSCALE)\n",
    "\n",
    "# 적응적 임계처리를 적용합니다.\n",
    "max_output_value = 255\n",
    "neighborhood_size = 99\n",
    "subtract_from_mean = 10\n",
    "image_binarized = cv2.adaptiveThreshold(image_grey,\n",
    "                                        max_output_value,\n",
    "                                        cv2.ADAPTIVE_THRESH_GAUSSIAN_C,\n",
    "                                        cv2.THRESH_BINARY,\n",
    "                                        neighborhood_size,\n",
    "                                        subtract_from_mean)\n",
    "\n",
    "# 이미지를 출력합니다.\n",
    "plt.imshow(image_binarized, cmap=\"gray\"), plt.axis(\"off\")\n",
    "plt.show()"
   ]
  },
  {
   "cell_type": "code",
   "execution_count": null,
   "id": "48ff990b",
   "metadata": {},
   "outputs": [],
   "source": []
  },
  {
   "cell_type": "markdown",
   "id": "1ff88276",
   "metadata": {},
   "source": [
    "## histogram"
   ]
  },
  {
   "cell_type": "markdown",
   "id": "7a205b3b",
   "metadata": {},
   "source": [
    "### 직접 계산"
   ]
  },
  {
   "cell_type": "code",
   "execution_count": null,
   "id": "1f061ba0",
   "metadata": {},
   "outputs": [],
   "source": [
    "import numpy as np, cv2\n",
    "\n",
    "def calc_histo(image, hsize, ranges=[0, 256]):  # 행렬 원소의 1차원 히스토그램 계산\n",
    "    hist = np.zeros((hsize, 1), np.float32)  # 히스토그램 누적 행렬\n",
    "    gap = ranges[1] / hsize  # 계급 간격\n",
    "\n",
    "    for row in image:  # 2차원 행렬 순회 방식\n",
    "        for pix in row:\n",
    "            idx = int(pix / gap)\n",
    "            hist[idx] += 1\n",
    "    return hist\n",
    "\n",
    "image = cv2.imread(\"./data/pixel.jpg\", cv2.IMREAD_GRAYSCALE)  # 영상 읽기\n",
    "if image is None: raise Exception(\"영상 파일 읽기 오류 발생\")\n",
    "\n",
    "hsize, ranges = [16], [0, 256]  # 히스토그램 간격수, 값 범위\n",
    "hist = calc_histo(image, hsize[0], ranges)  # 사용자 정의 히스토그램 계산\n",
    "\n",
    "print(\"사용자 정의 함수: \\n\", hist.flatten())  # 행렬을 벡터로 변환하여 출력\n",
    "cv2.imshow(\"image\", image)\n",
    "cv2.waitKey(0)"
   ]
  },
  {
   "cell_type": "markdown",
   "id": "020a51bb",
   "metadata": {},
   "source": [
    "### opencv 함수를 이용한 histogram"
   ]
  },
  {
   "cell_type": "code",
   "execution_count": 1,
   "id": "67c9028b",
   "metadata": {},
   "outputs": [
    {
     "name": "stdout",
     "output_type": "stream",
     "text": [
      "hist1 =  [[9.]\n",
      " [3.]\n",
      " [2.]\n",
      " [2.]]\n",
      "hist2 =  [[4.]\n",
      " [5.]\n",
      " [0.]\n",
      " [3.]]\n"
     ]
    }
   ],
   "source": [
    "import cv2\n",
    "import numpy as np\n",
    "\n",
    "src = np.array([[0, 0, 0, 0],\n",
    "              [1, 1, 3, 5],\n",
    "              [6, 1, 1, 3],\n",
    "              [4, 3, 1, 7]\n",
    "              ], dtype=np.uint8)\n",
    "\n",
    "hist1 = cv2.calcHist(images=[src], channels=[0], mask=None,\n",
    "                    histSize=[4], ranges=[0, 8])\n",
    "print('hist1 = ', hist1)\n",
    "\n",
    "hist2 = cv2.calcHist(images=[src], channels=[0], mask=None,\n",
    "                    histSize=[4], ranges=[0, 4])\n",
    "print('hist2 = ', hist2)"
   ]
  },
  {
   "cell_type": "markdown",
   "id": "247454dd",
   "metadata": {},
   "source": [
    "### 흑백 이미지 히스토그램"
   ]
  },
  {
   "cell_type": "code",
   "execution_count": 3,
   "id": "dce39a0c",
   "metadata": {},
   "outputs": [
    {
     "data": {
      "image/png": "[encoded data removed]",
      "text/plain": [
       "<Figure size 432x288 with 1 Axes>"
      ]
     },
     "metadata": {
      "needs_background": "light"
     },
     "output_type": "display_data"
    },
    {
     "data": {
      "image/png": "[encoded data removed]",
      "text/plain": [
       "<Figure size 432x288 with 1 Axes>"
      ]
     },
     "metadata": {
      "needs_background": "light"
     },
     "output_type": "display_data"
    },
    {
     "data": {
      "image/png": "[encoded data removed]",
      "text/plain": [
       "<Figure size 432x288 with 1 Axes>"
      ]
     },
     "metadata": {
      "needs_background": "light"
     },
     "output_type": "display_data"
    }
   ],
   "source": [
    "import cv2\n",
    "import numpy as np\n",
    "from   matplotlib import pyplot as plt\n",
    "\n",
    "src = cv2.imread('./data/lena.jpg', cv2.IMREAD_GRAYSCALE)\n",
    "\n",
    "hist1 = cv2.calcHist(images=[src], channels=[0], mask=None,\n",
    "                    histSize=[32], ranges=[0, 256])\n",
    "\n",
    "hist2 = cv2.calcHist(images=[src], channels=[0], mask=None,\n",
    "                    histSize=[256], ranges=[0, 256])\n",
    "#1\n",
    "hist1 = hist1.flatten()\n",
    "hist2 = hist2.flatten()\n",
    "\n",
    "#2\n",
    "plt.title('hist1: binX = np.arange(32)')\n",
    "plt.plot(hist1, color='r')\n",
    "binX = np.arange(32)\n",
    "\n",
    "plt.bar(binX, hist1, width=1, color='b')\n",
    "plt.show()\n",
    "\n",
    "#3\n",
    "plt.title('hist1: binX = np.arange(32)*8')\n",
    "binX = np.arange(32)*8\n",
    "plt.plot(binX, hist1, color='r')\n",
    "plt.bar(binX, hist1, width=8, color='b')\n",
    "plt.show()\n",
    "\n",
    "#4\n",
    "plt.title('hist2: binX = np.arange(256)')\n",
    "plt.plot(hist2, color='r')\n",
    "binX = np.arange(256)\n",
    "plt.bar(binX, hist2, width=1, color='b')\n",
    "plt.show()\n"
   ]
  },
  {
   "cell_type": "markdown",
   "id": "4ffb4c16",
   "metadata": {},
   "source": [
    "### 컬러 이미지 히스토그램"
   ]
  },
  {
   "cell_type": "code",
   "execution_count": 4,
   "id": "d78fff96",
   "metadata": {},
   "outputs": [
    {
     "name": "stdout",
     "output_type": "stream",
     "text": [
      "[107 163 212]\n",
      "[1027.  217.  182.  146.  146.]\n"
     ]
    },
    {
     "data": {
      "image/png": "[encoded data removed]",
      "text/plain": [
       "<Figure size 432x288 with 1 Axes>"
      ]
     },
     "metadata": {
      "needs_background": "light"
     },
     "output_type": "display_data"
    }
   ],
   "source": [
    "import cv2\n",
    "import numpy as np\n",
    "from matplotlib import pyplot as plt\n",
    "import pandas as pd\n",
    "\n",
    "#이미지 파일을 로드\n",
    "image_bgr = cv2.imread(\"./data/plane_256x256.jpg\", cv2.IMREAD_COLOR)\n",
    "#RGB로 변환\n",
    "image_rgb = cv2.cvtColor(image_bgr, cv2.COLOR_BGR2RGB)\n",
    "\n",
    "# RGB 채널 값을 확인\n",
    "print(image_rgb[0,0])\n",
    "\n",
    "#특성값을 담을 리스트 생성\n",
    "features = []\n",
    "\n",
    "# 각 컬러 채널에 대한 Histogram을 계산합니다.\n",
    "colors = (\"r\",\"g\",\"b\")\n",
    "\n",
    "# 컬러 채널을 반복하면서 Histogram을 계산하고 리스트에 추가\n",
    "for i, channel in enumerate(colors):\n",
    "    histogram = cv2.calcHist([image_rgb], # 이미지\n",
    "                        [i], # 채널 인덱스\n",
    "                        None, # 마스크 없음\n",
    "                        [256], # Histogram 크기\n",
    "                        [0,256]) # 범위\n",
    "    features.extend(histogram)\n",
    "\n",
    "#샘플의 특성값으로 벡터를 생성\n",
    "observation = np.array(features).flatten()\n",
    "#다섯개의 특성을 출력\n",
    "print(observation[0:5])\n",
    "\n",
    "import cv2\n",
    "import numpy as np\n",
    "from   matplotlib import pyplot as plt\n",
    "\n",
    "src = cv2.imread('./data/lena.jpg')\n",
    "histColor = ('b', 'g', 'r')\n",
    "for i in range(3):\n",
    "    hist = cv2.calcHist(images=[src], channels=[i], mask=None,\n",
    "                    histSize=[256], ranges=[0, 256])\n",
    "    plt.plot(hist, color = histColor[i])\n",
    "plt.show()\n"
   ]
  },
  {
   "cell_type": "markdown",
   "id": "4d4ffe33",
   "metadata": {},
   "source": [
    "### 컬러 이미지 2채널 히스토그램 "
   ]
  },
  {
   "cell_type": "code",
   "execution_count": 5,
   "id": "12db574b",
   "metadata": {},
   "outputs": [
    {
     "data": {
      "image/png": "[encoded data removed]",
      "text/plain": [
       "<Figure size 432x288 with 1 Axes>"
      ]
     },
     "metadata": {
      "needs_background": "light"
     },
     "output_type": "display_data"
    },
    {
     "data": {
      "image/png": "[encoded data removed]",
      "text/plain": [
       "<Figure size 432x288 with 1 Axes>"
      ]
     },
     "metadata": {
      "needs_background": "light"
     },
     "output_type": "display_data"
    },
    {
     "data": {
      "image/png": "[encoded data removed]",
      "text/plain": [
       "<Figure size 432x288 with 1 Axes>"
      ]
     },
     "metadata": {
      "needs_background": "light"
     },
     "output_type": "display_data"
    }
   ],
   "source": [
    "# 컬러 이미지 2채널 Histogram\n",
    "import cv2\n",
    "from   matplotlib import pyplot as plt\n",
    "\n",
    "bgr = cv2.imread('./data/lena.jpg')\n",
    "##hsv    = cv2.cvtColor(src, cv2.COLOR_BGR2HSV)\n",
    "\n",
    "#1\n",
    "hist01 = cv2.calcHist([bgr], [0,1], None,\n",
    "\t[32, 32], [0, 256, 0, 256])\n",
    "##cv2.normalize(hist01, hist01, 0, 1, cv2.NORM_MINMAX)\n",
    "##fig = plt.figure()\n",
    "##fig.canvas.set_window_title('2D Histogram')\n",
    "\n",
    "plt.title('hist01')\n",
    "plt.ylim(0, 31)\n",
    "plt.imshow(hist01, interpolation = \"nearest\")\n",
    "plt.show()\n",
    "\n",
    "#2\n",
    "hist02 = cv2.calcHist([bgr], [0,2], None,\n",
    "\t[32, 32], [0, 256, 0, 256])\n",
    "plt.title('hist02')\n",
    "plt.ylim(0, 31)\n",
    "plt.imshow(hist02, interpolation = \"nearest\")\n",
    "plt.show()\n",
    "\n",
    "#3\n",
    "hist12 = cv2.calcHist([bgr], [1,2], None,\n",
    "\t[32, 32], [0, 256, 0, 256])\n",
    "plt.title('hist12')\n",
    "plt.ylim(0, 31)\n",
    "plt.imshow(hist02, interpolation = \"nearest\")\n",
    "plt.show()"
   ]
  },
  {
   "cell_type": "markdown",
   "id": "4e968171",
   "metadata": {},
   "source": [
    "### histogram stretching"
   ]
  },
  {
   "cell_type": "code",
   "execution_count": null,
   "id": "f0510064",
   "metadata": {},
   "outputs": [],
   "source": [
    "import numpy as np, cv2\n",
    "\n",
    "def draw_histo(hist, shape=(200, 256)):\n",
    "    hist_img = np.full( shape, 255, np.uint8)\n",
    "    cv2.normalize(hist, hist, 0, shape[0], cv2.NORM_MINMAX)\n",
    "    gap = hist_img.shape[1]/hist.shape[0]             # 한 계급 너비\n",
    "\n",
    "    for i, h in enumerate(hist):\n",
    "        x = int(round(i * gap))                         # 막대 사각형 시작 x 좌표\n",
    "        w = int(round(gap))\n",
    "        roi = (x, 0, w, int(h))\n",
    "        cv2.rectangle(hist_img, roi, 0, cv2.FILLED)\n",
    "    return cv2.flip(hist_img, 0)                        # 영상 상하 뒤집기 후 반환\n",
    "\n",
    "def search_value_idx(hist, bias = 0):\n",
    "    for i in range(hist.shape[0]):\n",
    "        idx = np.abs(bias - i)                     # 검색 위치 (처음 또는 마지막)\n",
    "        if hist[idx] > 0:  return idx                             # 위치 반환\n",
    "    return -1                                      # 대상 없으면 반환\n",
    "\n",
    "image = cv2.imread(\"./data/hist_stretch.jpg\", cv2.IMREAD_GRAYSCALE)   # 영상읽기\n",
    "if image is None: raise Exception(\"영상 파일 읽기 오류\")\n",
    "\n",
    "bsize, ranges = [64], [0,256]                        # 계급 개수 및 화소 범위\n",
    "hist = cv2.calcHist([image], [0], None, bsize, ranges)\n",
    "\n",
    "bin_width  = ranges[1]/bsize[0]                      # 계급 너비\n",
    "high = search_value_idx(hist, bsize[0] - 1) * bin_width\n",
    "low  = search_value_idx(hist, 0) * bin_width\n",
    "\n",
    "idx = np.arange(0, 256)\n",
    "idx = (idx - low) * 255/(high-low)\t# 수식 적용하여 인덱스 생성\n",
    "idx[0:int(low)] = 0\n",
    "idx[int(high+1):] = 255\n",
    "\n",
    "dst = cv2.LUT(image, idx.astype('uint8'))\n",
    "## 룩업 테이블 사용하지 않고 직접 구현\n",
    "# dst = np.zeros(image.shape, dtype=image.dtype)\n",
    "# for i in range(dst.shape[0]):\n",
    "#     for j in range(dst.shape[1]):\n",
    "#         dst[i,j] = idx[image[i,j]]\n",
    "\n",
    "hist_dst = cv2.calcHist([dst], [0], None, bsize, ranges)  # 결과 영상 히스토그램 재계산\n",
    "hist_img = draw_histo(hist, (200,360))          # 원본 영상 히스토그램 그리기\n",
    "hist_dst_img = draw_histo(hist_dst,(200,360))  # 결과 영상 히스토그램 그리기\n",
    "\n",
    "print(\"high_value = \", high)\n",
    "print(\"low_value = \" , low)\n",
    "cv2.imshow(\"image\", image);         cv2.imshow(\"hist_img\", hist_img)\n",
    "cv2.imshow(\"dst\", dst);             cv2.imshow(\"hist_dst_img\", hist_dst_img)\n",
    "cv2.waitKey(0)"
   ]
  },
  {
   "cell_type": "code",
   "execution_count": null,
   "id": "0609af7e",
   "metadata": {},
   "outputs": [],
   "source": []
  },
  {
   "cell_type": "markdown",
   "id": "20539217",
   "metadata": {},
   "source": [
    "### histogram 평활화"
   ]
  },
  {
   "cell_type": "code",
   "execution_count": null,
   "id": "fe951a3f",
   "metadata": {},
   "outputs": [],
   "source": [
    "import numpy as np, cv2\n",
    "\n",
    "def draw_histo(hist, shape=(200, 256)):\n",
    "    hist_img = np.full( shape, 255, np.uint8)\n",
    "    cv2.normalize(hist, hist, 0, shape[0], cv2.NORM_MINMAX)\n",
    "    gap = hist_img.shape[1]/hist.shape[0]             # 한 계급 너비\n",
    "\n",
    "    for i, h in enumerate(hist):\n",
    "        x = int(round(i * gap))                         # 막대 사각형 시작 x 좌표\n",
    "        w = int(round(gap))\n",
    "        roi = (x, 0, w, int(h))\n",
    "        cv2.rectangle(hist_img, roi, 0, cv2.FILLED)\n",
    "    return cv2.flip(hist_img, 0)                        # 영상 상하 뒤집기 후 반환\n",
    "\n",
    "image = cv2.imread(\"./data/equalize.jpg\", cv2.IMREAD_GRAYSCALE) # 영상 읽기\n",
    "if image is None: raise Exception(\"영상 파일 읽기 오류\")\n",
    "\n",
    "bins, ranges = [256], [0, 256]\n",
    "hist = cv2.calcHist([image], [0], None, bins, ranges)    # 히스토그램 계산\n",
    "\n",
    "# 히스토그램 누적합 계산\n",
    "accum_hist = np.zeros(hist.shape[:2], np.float32)\n",
    "accum_hist[0] = hist[0]\n",
    "for i in range(1, hist.shape[0]):\n",
    "    accum_hist[i] = accum_hist[i - 1] + hist[i]\n",
    "\n",
    "accum_hist = (accum_hist / sum(hist)) * 255                 # 누적합의 정규화\n",
    "dst1 = [[accum_hist[val] for val in row] for row in image] # 화소값 할당\n",
    "dst1 = np.array(dst1, np.uint8)\n",
    "\n",
    "# #numpy 함수 및 룩업 테이블 사용\n",
    "# accum_hist = np.cumsum(hist)                      # 누적합 계산\n",
    "# cv2.normalize(accum_hist, accum_hist, 0, 255, cv2.NORM_MINMAX)  # 정규화\n",
    "# dst1 = cv2.LUT(image, accum_hist.astype(\"uint8\"))  #룩업 테이블로 화소값할당\n",
    "\n",
    "dst2 = cv2.equalizeHist(image)                # OpenCV 히스토그램 평활화\n",
    "hist1 = cv2.calcHist([dst1], [0], None, bins, ranges)   # 히스토그램 계산\n",
    "hist2 = cv2.calcHist([dst2], [0], None, bins, ranges)   # 히스토그램 계산\n",
    "hist_img = draw_histo(hist)\n",
    "hist_img1 = draw_histo(hist1)\n",
    "hist_img2 = draw_histo(hist2)\n",
    "\n",
    "cv2.imshow(\"image\", image);             cv2.imshow(\"hist_img\", hist_img)\n",
    "cv2.imshow(\"dst1_User\", dst1);          cv2.imshow(\"User_hist\", hist_img1)\n",
    "cv2.imshow(\"dst2_OpenCV\", dst2);        cv2.imshow(\"OpenCV_hist\", hist_img2)\n",
    "cv2.waitKey(0)"
   ]
  },
  {
   "cell_type": "code",
   "execution_count": 6,
   "id": "2ee00fb3",
   "metadata": {},
   "outputs": [
    {
     "name": "stdout",
     "output_type": "stream",
     "text": [
      "dst = [[  0   0   0   0]\n",
      " [106 106 170 212]\n",
      " [234 106 106 170]\n",
      " [191 170 106 255]]\n"
     ]
    }
   ],
   "source": [
    "# 배열의 히스토그램\n",
    "import cv2\n",
    "import numpy as np\n",
    "\n",
    "src = np.array([[0, 0, 0, 0],\n",
    "                [1, 1, 3, 5],\n",
    "                [6, 1, 1, 3],\n",
    "                [4, 3, 1, 7]\n",
    "              ], dtype=np.uint8)\n",
    "\n",
    "dst = cv2.equalizeHist(src)\n",
    "print('dst =', dst)\n"
   ]
  },
  {
   "cell_type": "code",
   "execution_count": 7,
   "id": "99b786cd",
   "metadata": {},
   "outputs": [
    {
     "data": {
      "image/png": "[encoded data removed]",
      "text/plain": [
       "<Figure size 432x288 with 1 Axes>"
      ]
     },
     "metadata": {
      "needs_background": "light"
     },
     "output_type": "display_data"
    }
   ],
   "source": [
    "# 그레이스케일 영상의 Histogram Equalization\n",
    "import cv2\n",
    "import numpy as np\n",
    "from   matplotlib import pyplot as plt\n",
    "\n",
    "src = cv2.imread('./data/lena.jpg', cv2.IMREAD_GRAYSCALE)\n",
    "dst = cv2.equalizeHist(src)\n",
    "cv2.imshow('dst',  dst)\n",
    "cv2.waitKey()    \n",
    "cv2.destroyAllWindows()\n",
    "\n",
    "plt.title('Grayscale histogram of lena.jpg')\n",
    "\n",
    "hist1 = cv2.calcHist(images=[src], channels=[0], mask=None,\n",
    "                    histSize=[256], ranges=[0, 256])\n",
    "plt.plot(hist1, color='b', label='hist1 in src')\n",
    "\n",
    "hist2 = cv2.calcHist(images=[dst], channels=[0], mask=None,\n",
    "                    histSize=[256], ranges=[0, 256])\n",
    "plt.plot(hist2, color='r', alpha=0.7, label='hist2 in dst')\n",
    "plt.legend(loc='best')\n",
    "plt.show()"
   ]
  },
  {
   "cell_type": "code",
   "execution_count": null,
   "id": "6a3e294e",
   "metadata": {},
   "outputs": [],
   "source": []
  },
  {
   "cell_type": "markdown",
   "id": "8d514ae1",
   "metadata": {},
   "source": [
    "## Color Space Convert"
   ]
  },
  {
   "cell_type": "markdown",
   "id": "9dc76295",
   "metadata": {},
   "source": [
    "### BGR-CMY 변환"
   ]
  },
  {
   "cell_type": "code",
   "execution_count": null,
   "id": "c071c14e",
   "metadata": {},
   "outputs": [],
   "source": [
    "import numpy as np, cv2\n",
    "\n",
    "BGR_img = cv2.imread(\"./data/color_model.jpg\", cv2.IMREAD_COLOR)  # 컬러 영상 읽기\n",
    "if BGR_img is None: raise Exception(\"영상 파일 읽기 오류\")\n",
    "\n",
    "white = np.array([255, 255, 255], np.uint8)\n",
    "CMY_img = white - BGR_img\n",
    "Cyan, Magenta, Yellow = cv2.split(CMY_img)  # 채널 분리\n",
    "\n",
    "titles = ['BGR_img', 'CMY_img', 'Cyan', 'Magenta', 'Yellow']\n",
    "[cv2.imshow(t, eval(t)) for t in titles]\n",
    "cv2.waitKey(0)\n"
   ]
  },
  {
   "cell_type": "markdown",
   "id": "6cbe426e",
   "metadata": {},
   "source": [
    "### BGR-CMYK 변환"
   ]
  },
  {
   "cell_type": "code",
   "execution_count": null,
   "id": "1deec5a0",
   "metadata": {},
   "outputs": [],
   "source": [
    "import numpy as np, cv2\n",
    "\n",
    "BGR_img = cv2.imread(\"./data/color_model.jpg\", cv2.IMREAD_COLOR) # 컬러 영상 읽기\n",
    "if BGR_img is None: raise Exception(\"영상 파일 읽기 오류\")\n",
    "\n",
    "white = np.array([255, 255, 255], np.uint8)\n",
    "CMY_img = white - BGR_img\n",
    "CMY = cv2.split(CMY_img) # 채널 분리\n",
    "\n",
    "black = cv2.min(CMY[0], cv2.min(CMY[1], CMY[2])) # 원소 간의 최솟값 저장\n",
    "Yellow, Magenta, Cyan = CMY - black\n",
    "\n",
    "titles = ['black','Yellow','Magenta','Cyan']\n",
    "[cv2.imshow(t, eval(t)) for t in titles]\n",
    "cv2.waitKey(0)"
   ]
  },
  {
   "cell_type": "markdown",
   "id": "3c03ca89",
   "metadata": {},
   "source": [
    "### BGR-HSV 컬러 변환"
   ]
  },
  {
   "cell_type": "code",
   "execution_count": null,
   "id": "48e1fa0c",
   "metadata": {},
   "outputs": [],
   "source": [
    "import numpy as np, cv2, math\n",
    "\n",
    "def calc_hsi(bgr):\n",
    "    # B, G, R = bgr.astype(float)                           # float 형 변환\n",
    "    B, G, R = float(bgr[0]), float(bgr[1]), float(bgr[2])       # 속도면에 유리\n",
    "    bgr_sum = (R + G + B)\n",
    "    # 색상 계산\n",
    "    tmp1 = ((R - G) + (R - B)) * 0.5\n",
    "    tmp2 = math.sqrt((R - G) * (R - G) + (R - B) * (G - B))\n",
    "    angle = math.acos(tmp1 / tmp2) * (180 / np.pi) if tmp2 else 0\n",
    "\n",
    "    H = angle if B <= G else 360 - angle\n",
    "    S = 1.0 - 3 * min([R, G, B]) / bgr_sum if bgr_sum else 0\n",
    "    I = bgr_sum / 3                                                # 명도 계산\n",
    "    return (H/2, S*255, I)\n",
    "\n",
    "# BGR 컬러 -> HSI 컬러\n",
    "def bgr2hsi(image):\n",
    "    hsv = [[calc_hsi(pixel) for pixel in row] for row in image ]   # 2차원 배열 순회\n",
    "    return (np.array(hsv)).astype('uint8')\n",
    "\n",
    "BGR_img = cv2.imread(\"./data/color_space.jpg\", cv2.IMREAD_COLOR) # 컬러 영상 읽기\n",
    "if BGR_img is None: raise Exception(\"영상 파일 읽기 오류\")\n",
    "\n",
    "HSI_img = bgr2hsi(BGR_img)                  # BGR를 HSI로 변환\n",
    "HSV_img = cv2.cvtColor(BGR_img, cv2.COLOR_BGR2HSV) # OpenCV 함수\n",
    "Hue, Saturation, Intensity = cv2.split(HSI_img)                    # 채널 분리\n",
    "Hue2, Saturation2, Intensity2 = cv2.split(HSV_img) \t\t\t\t\t# 채널 분리\n",
    "\n",
    "titles = ['BGR_img','Hue','Saturation','Intensity']\n",
    "[cv2.imshow(t, eval(t)) for t in titles]\n",
    "[cv2.imshow('OpenCV_'+t, eval(t+'2')) for t in titles[1:]]\t# OpenCV 결과 영상 표시\n",
    "cv2.waitKey(0)"
   ]
  },
  {
   "cell_type": "markdown",
   "id": "01e62dc6",
   "metadata": {},
   "source": [
    "### 다양한 컬러 공간 변환"
   ]
  },
  {
   "cell_type": "code",
   "execution_count": null,
   "id": "c24ae638",
   "metadata": {},
   "outputs": [],
   "source": [
    "import cv2\n",
    "\n",
    "BGR_img = cv2.imread(\"./data/color_space.jpg\", cv2.IMREAD_COLOR)  # 컬러 영상 읽기\n",
    "if BGR_img is None: raise Exception(\"영상 파일 읽기 오류\")\n",
    "\n",
    "Gray_img = cv2.cvtColor(BGR_img, cv2.COLOR_BGR2GRAY)  # 명암도 영상 변환\n",
    "YCC_img = cv2.cvtColor(BGR_img, cv2.COLOR_BGR2YCrCb)  # YCbCr 컬러 공간 변환\n",
    "YUV_img = cv2.cvtColor(BGR_img, cv2.COLOR_BGR2YUV)  # YUV 컬러 공간 변환\n",
    "LAB_img = cv2.cvtColor(BGR_img, cv2.COLOR_BGR2LAB)  # La*b* 컬러 공간 변환\n",
    "\n",
    "YCC_ch = cv2.split(YCC_img)\n",
    "YUV_ch = cv2.split(YUV_img)\n",
    "Lab_ch = cv2.split(LAB_img)\n",
    "\n",
    "cv2.imshow(\"BGR_img\", BGR_img)\n",
    "cv2.imshow(\"Gray_img\", Gray_img)\n",
    "\n",
    "sp1, sp2, sp3 = ['Y', 'Cr', 'Cb'], ['Y', 'U', 'V'], ['L', 'A', 'B']\n",
    "for i in range(len(sp1)):\n",
    "    cv2.imshow(\"YCC_img[%d]-%s\" % (i, sp1[i]), YCC_ch[i])\n",
    "    cv2.imshow(\"YUV_img[%d]-%s\" % (i, sp2[i]), YUV_ch[i])\n",
    "    cv2.imshow(\"LAB_img[%d]-%s\" % (i, sp3[i]), Lab_ch[i])\n",
    "cv2.waitKey(0)"
   ]
  },
  {
   "cell_type": "markdown",
   "id": "8fc46990",
   "metadata": {},
   "source": [
    "### Hue 컬러 공간에서 특정 범위 내의 객체 검출"
   ]
  },
  {
   "cell_type": "code",
   "execution_count": null,
   "id": "95e9bf6f",
   "metadata": {},
   "outputs": [],
   "source": [
    "import numpy as np, cv2\n",
    "\n",
    "def onThreshold(value):\n",
    "    th[0] = cv2.getTrackbarPos(\"Hue_th1\", \"result\")\n",
    "    th[1] = cv2.getTrackbarPos(\"Hue_th2\", \"result\")\n",
    "\n",
    "    ##이진화 - 화소 직접 접근 방법\n",
    "    # result = np.zeros(hue.shape, np.uint8)\n",
    "    # for i in range(result.shape[0]):\n",
    "    #     for j in range(result.shape[1]):\n",
    "    #         if th[0] <= hue[i, j] < th[1] : result[i, j] = 255\n",
    "\n",
    "    ##이진화 - 넘파이 함수 활용 방식\n",
    "    # result = np.logical_and(hue < th[1], hue >= th[0])\n",
    "    # result = result.astype('uint8') *255\n",
    "\n",
    "    ## OpenCV 이진화 함수 이용 - 상위 값과 하위 값 제거\n",
    "    _, result = cv2.threshold(hue, th[1], 255, cv2.THRESH_TOZERO_INV)\n",
    "    cv2.threshold(result, th[0], 255, cv2.THRESH_BINARY, result)\n",
    "    cv2.imshow(\"result\", result)\n",
    "\n",
    "BGR_img = cv2.imread(\"./data/color_space.jpg\", cv2.IMREAD_COLOR) # 컬러 영상 읽기\n",
    "if BGR_img is None: raise Exception(\"영상 파일 읽기 오류\")\n",
    "\n",
    "HSV_img = cv2.cvtColor(BGR_img, cv2.COLOR_BGR2HSV) # 컬러 공간 변환\n",
    "hue = np.copy(HSV_img[:,:,0])                      # hue 행렬에 색상 채널 복사\n",
    "\n",
    "th = [50, 100]                                     # 트랙바로 선택할 범위 변수\n",
    "cv2.namedWindow(\"result\")\n",
    "cv2.createTrackbar(\"Hue_th1\", \"result\", th[0], 255, onThreshold)\n",
    "cv2.createTrackbar(\"Hue_th2\", \"result\", th[1], 255, onThreshold)\n",
    "onThreshold(th[0])                                 # 이진화 수행\n",
    "cv2.imshow(\"BGR_img\", BGR_img)\n",
    "cv2.waitKey(0)"
   ]
  },
  {
   "cell_type": "code",
   "execution_count": null,
   "id": "88a222f7",
   "metadata": {},
   "outputs": [],
   "source": []
  },
  {
   "cell_type": "markdown",
   "id": "6bfab0d3",
   "metadata": {},
   "source": [
    "## Histogram"
   ]
  },
  {
   "cell_type": "markdown",
   "id": "6df4eb52",
   "metadata": {},
   "source": [
    "### 컬러 영상의 Histogram"
   ]
  },
  {
   "cell_type": "code",
   "execution_count": null,
   "id": "ff3ef5fc",
   "metadata": {},
   "outputs": [],
   "source": [
    "import cv2\n",
    "import numpy as np\n",
    "\n",
    "src = cv2.imread('./data/lena.jpg')\n",
    "cv2.imshow('src',  src)\n",
    "\n",
    "#1\n",
    "hsv    = cv2.cvtColor(src, cv2.COLOR_BGR2HSV)\n",
    "h, s, v = cv2.split(hsv)\n",
    "\n",
    "v2 = cv2.equalizeHist(v)\n",
    "hsv2 = cv2.merge([h, s, v2])\n",
    "dst    = cv2.cvtColor(hsv2, cv2.COLOR_HSV2BGR)\n",
    "cv2.imshow('dst',  dst)\n",
    "\n",
    "#2\n",
    "yCrCv = cv2.cvtColor(src, cv2.COLOR_BGR2YCrCb)\n",
    "y, Cr, Cv = cv2.split(yCrCv)\n",
    "\n",
    "y2 = cv2.equalizeHist(y)\n",
    "yCrCv2 = cv2.merge([y2, Cr, Cv])\n",
    "dst2    = cv2.cvtColor(yCrCv2, cv2.COLOR_YCrCb2BGR)\n",
    "\n",
    "cv2.imshow('dst2',  dst2)\n",
    "cv2.waitKey()\n",
    "cv2.destroyAllWindows()"
   ]
  },
  {
   "cell_type": "markdown",
   "id": "72dad855",
   "metadata": {},
   "source": [
    "### Histogram 역투영"
   ]
  },
  {
   "cell_type": "code",
   "execution_count": 1,
   "id": "9045e339",
   "metadata": {},
   "outputs": [
    {
     "name": "stdout",
     "output_type": "stream",
     "text": [
      "hist =  [[9.]\n",
      " [3.]\n",
      " [2.]\n",
      " [2.]]\n",
      "backP =  [[9 9 9 9]\n",
      " [9 9 3 2]\n",
      " [2 9 9 3]\n",
      " [2 3 9 2]]\n"
     ]
    }
   ],
   "source": [
    "import cv2\n",
    "import numpy as np\n",
    "\n",
    "src = np.array([[0, 0, 0, 0],\n",
    "              [1, 1, 3, 5],\n",
    "              [6, 1, 1, 3],\n",
    "              [4, 3, 1, 7]\n",
    "              ], dtype=np.uint8)\n",
    "\n",
    "hist = cv2.calcHist(images=[src], channels=[0], mask=None,\n",
    "                    histSize=[4], ranges=[0, 8])\n",
    "print('hist = ', hist)\n",
    "\n",
    "backP = cv2.calcBackProject([src], [0], hist, [0, 8], scale=1)\n",
    "print('backP = ', backP)\n"
   ]
  },
  {
   "cell_type": "code",
   "execution_count": null,
   "id": "5ca9024c",
   "metadata": {},
   "outputs": [],
   "source": [
    "import cv2\n",
    "import numpy as np\n",
    "import matplotlib.pyplot as plt\n",
    "\n",
    "win_name = 'back_projection'\n",
    "img = cv2.imread('./data/fruits.jpg')\n",
    "hsv_img = cv2.cvtColor(img, cv2.COLOR_BGR2HSV)\n",
    "draw = img.copy()\n",
    "\n",
    "#--⑤ 역투영된 결과를 마스킹해서 결과를 출력하는 공통함수\n",
    "def masking(bp, win_name):\n",
    "    disc = cv2.getStructuringElement(cv2.MORPH_ELLIPSE,(5,5))\n",
    "    cv2.filter2D(bp,-1,disc,bp)\n",
    "    _, mask = cv2.threshold(bp, 1, 255, cv2.THRESH_BINARY)\n",
    "    result = cv2.bitwise_and(img, img, mask=mask)\n",
    "    cv2.imshow(win_name, result)\n",
    "\n",
    "\n",
    "# --⑥ 직접 구현한 역투영 함수\n",
    "def backProject_manual(hist_roi):\n",
    "    # --⑦ 전체 영상에 대한 H,S Histogram 계산\n",
    "    hist_img = cv2.calcHist([hsv_img], [0, 1], None, [180, 256], [0, 180, 0, 256])\n",
    "    # --⑧ 선택영역과 전체 영상에 대한 Histogram 그램 비율계산\n",
    "    hist_rate = hist_roi / (hist_img + 1)\n",
    "    # --⑨ 비율에 맞는 픽셀 값 매핑\n",
    "    h, s, v = cv2.split(hsv_img)\n",
    "    bp = hist_rate[h.ravel(), s.ravel()]\n",
    "    # 비율은 1을 넘어서는 안되기 때문에 1을 넘는 수는 1을 갖게 함\n",
    "    bp = np.minimum(bp, 1)\n",
    "    # 1차원 배열을 원래의 shape로 변환\n",
    "    bp = bp.reshape(hsv_img.shape[:2])\n",
    "    cv2.normalize(bp, bp, 0, 255, cv2.NORM_MINMAX)\n",
    "    bp = bp.astype(np.uint8)\n",
    "    # --⑩ 역 투영 결과로 마스킹해서 결과 출력\n",
    "    masking(bp, 'result_manual')\n",
    "\n",
    "# OpenCV API로 구현한 함수 ---⑪\n",
    "def backProject_cv(hist_roi):\n",
    "    # 역투영 함수 호출 ---⑫\n",
    "    bp = cv2.calcBackProject([hsv_img], [0, 1], hist_roi,  [0, 180, 0, 256], 1)\n",
    "    # 역 투영 결과로 마스킹해서 결과 출력 ---⑬\n",
    "    masking(bp,'result_cv')\n",
    "\n",
    "# ROI 선택 ---①\n",
    "(x,y,w,h) = cv2.selectROI(win_name, img, False)\n",
    "if w > 0 and h > 0:\n",
    "    roi = draw[y:y+h, x:x+w]\n",
    "    # 빨간 사각형으로 ROI 영역 표시\n",
    "    cv2.rectangle(draw, (x, y), (x+w, y+h), (0,0,255), 2)\n",
    "    #--② 선택한 ROI를 HSV 컬러 스페이스로 변경\n",
    "    hsv_roi = cv2.cvtColor(roi, cv2.COLOR_BGR2HSV)\n",
    "    #--③ H,S 채널에 대한 Histogram 계산\n",
    "    hist_roi = cv2.calcHist([hsv_roi],[0, 1], None, [180, 256], [0, 180, 0, 256] )\n",
    "    #--④ ROI의 Histogram을 매뉴얼 구현함수와 OpenCV 이용하는 함수에 각각 전달\n",
    "    backProject_manual(hist_roi)\n",
    "    backProject_cv(hist_roi)\n",
    "    \n",
    "cv2.imshow(win_name, draw)\n",
    "cv2.waitKey()\n",
    "cv2.destroyAllWindows()\n"
   ]
  },
  {
   "cell_type": "markdown",
   "id": "8325fade",
   "metadata": {},
   "source": [
    "### 이미지 대비 조절"
   ]
  },
  {
   "cell_type": "code",
   "execution_count": null,
   "id": "403281cb",
   "metadata": {},
   "outputs": [],
   "source": [
    "import cv2\n",
    "import numpy as np\n",
    "from matplotlib import pyplot as plt\n",
    "\n",
    "image = cv2.imread(\"./data/plane_256x256.jpg\", cv2.IMREAD_GRAYSCALE)\n",
    "\n",
    "# 이미지 대비를 향상\n",
    "image_enhanced = cv2.equalizeHist(image)\n",
    "\n",
    "plt.imshow(image_enhanced, cmap=\"gray\"), plt.axis(\"off\")\n",
    "plt.show()\n"
   ]
  },
  {
   "cell_type": "code",
   "execution_count": null,
   "id": "e485b607",
   "metadata": {},
   "outputs": [],
   "source": []
  },
  {
   "cell_type": "code",
   "execution_count": null,
   "id": "2da9ae25",
   "metadata": {},
   "outputs": [],
   "source": []
  }
 ],
 "metadata": {
  "kernelspec": {
   "display_name": "Python 3 (ipykernel)",
   "language": "python",
   "name": "python3"
  },
  "language_info": {
   "codemirror_mode": {
    "name": "ipython",
    "version": 3
   },
   "file_extension": ".py",
   "mimetype": "text/x-python",
   "name": "python",
   "nbconvert_exporter": "python",
   "pygments_lexer": "ipython3",
   "version": "3.9.7"
  }
 },
 "nbformat": 4,
 "nbformat_minor": 5
}
