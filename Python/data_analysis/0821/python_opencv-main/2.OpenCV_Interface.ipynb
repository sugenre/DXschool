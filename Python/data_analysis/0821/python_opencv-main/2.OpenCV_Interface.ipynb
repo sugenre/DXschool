{
 "cells": [
  {
   "cell_type": "markdown",
   "id": "bad44179",
   "metadata": {},
   "source": [
    "# OpenCV_Interface"
   ]
  },
  {
   "cell_type": "markdown",
   "id": "fe3dd6a3",
   "metadata": {},
   "source": [
    "## 윈도우 제어"
   ]
  },
  {
   "cell_type": "markdown",
   "id": "7c9ffbb2",
   "metadata": {},
   "source": [
    "### 윈도우 이동"
   ]
  },
  {
   "cell_type": "code",
   "execution_count": null,
   "id": "7908112d",
   "metadata": {},
   "outputs": [],
   "source": [
    "import numpy as np\n",
    "import cv2\n",
    "\n",
    "image = np.zeros((200, 400), np.uint8)\n",
    "image[:] = 200                                  # 흰색 바탕\n",
    "\n",
    "title1, title2 = 'Position1', 'Position2'\t\t# 윈도우 이름\n",
    "cv2.namedWindow(title1, cv2.WINDOW_AUTOSIZE)\n",
    "cv2.namedWindow(title2)\n",
    "cv2.moveWindow(title1, 150, 150)                # 윈도우 이동\n",
    "cv2.moveWindow(title2, 400, 50)\n",
    "\n",
    "cv2.imshow(title1, image)                       # 행렬 원소를 영상으로 표시\n",
    "cv2.imshow(title2, image)\n",
    "cv2.waitKey(0)                                  # 키 이벤트(key event) 대기\n",
    "cv2.destroyAllWindows()"
   ]
  },
  {
   "cell_type": "code",
   "execution_count": null,
   "id": "5c1af435",
   "metadata": {},
   "outputs": [],
   "source": []
  },
  {
   "cell_type": "markdown",
   "id": "094d8ebe",
   "metadata": {},
   "source": [
    "### 윈도우 크기 변경"
   ]
  },
  {
   "cell_type": "code",
   "execution_count": null,
   "id": "51608794",
   "metadata": {},
   "outputs": [],
   "source": [
    "import numpy as np\n",
    "import cv2\n",
    "\n",
    "image = np.zeros((200, 300), np.uint8)\n",
    "image.fill(255)                                 # 모든 원소에 255(흰색) 지정\n",
    "\n",
    "title1, title2 = 'AUTOSIZE', 'NORMAL'           # 윈도우 이름\n",
    "cv2.namedWindow(title1, cv2.WINDOW_AUTOSIZE)\n",
    "cv2.namedWindow(title2, cv2.WINDOW_NORMAL)\n",
    "\n",
    "cv2.imshow(title1, image)\n",
    "cv2.imshow(title2, image)\n",
    "cv2.resizeWindow(title1, 400, 300)\n",
    "cv2.resizeWindow(title2, 400, 300)\n",
    "cv2.waitKey(0)\n",
    "cv2.destroyAllWindows()                         # 열린 모든 윈도우 제거"
   ]
  },
  {
   "cell_type": "code",
   "execution_count": null,
   "id": "d5b45265",
   "metadata": {},
   "outputs": [],
   "source": []
  },
  {
   "cell_type": "markdown",
   "id": "1f9529db",
   "metadata": {},
   "source": [
    "## 이벤트 처리"
   ]
  },
  {
   "cell_type": "markdown",
   "id": "2e23a2c8",
   "metadata": {},
   "source": [
    "### 키보드 이벤트"
   ]
  },
  {
   "cell_type": "code",
   "execution_count": null,
   "id": "61ed82d6",
   "metadata": {},
   "outputs": [],
   "source": [
    "import numpy as np\n",
    "import cv2\n",
    "\n",
    "## switch case문을 사전(dictionary)으로 구현\n",
    "switch_case = {\n",
    "\tord('a'): \"a키 입력\",               \t\t# ord() 함수- 문자를 아스키코드로 변환\n",
    "  \tord('b'): \"b키 입력\",\n",
    "  0x41: \"A키 입력\",\n",
    "  int('0x42', 16): \"B키 입력\",          \t\t# 16진수인 0x42를 10진수로 변환하면 66임\n",
    "}\n",
    "\n",
    "image = np.ones((200, 300), np.float64)      \t# 화소값이 1인 행렬 생성\n",
    "cv2.namedWindow('Keyboard Event')\t\t\t# 윈도우 이름\n",
    "cv2.imshow('Keyboard Event', image)\n",
    "\n",
    "while True:\t\t\t\t\t\t\t\t\t# 무한 반복\n",
    "    key = cv2.waitKeyEx(100)          \t\t# 100ms 동안 키 이벤트 대기\n",
    "    if key == 27:\n",
    "        break                \t\t# ESC 키 누르면 종료\n",
    "    try:\n",
    "        result = switch_case[key]\n",
    "        print(result)\n",
    "    except KeyError:\n",
    "        result = -1\n",
    "\n",
    "cv2.destroyAllWindows()                 \t# 열린 모든 윈도우 제거"
   ]
  },
  {
   "cell_type": "code",
   "execution_count": null,
   "id": "7ce92e02",
   "metadata": {},
   "outputs": [],
   "source": []
  },
  {
   "cell_type": "markdown",
   "id": "3350039a",
   "metadata": {},
   "source": [
    "### 마우스 이벤트"
   ]
  },
  {
   "cell_type": "code",
   "execution_count": null,
   "id": "210e8ee0",
   "metadata": {},
   "outputs": [],
   "source": [
    "# 발생한 이벤트 종류 출력\n",
    "import numpy as np\n",
    "import cv2\n",
    "\n",
    "# 콜백 함수 : event값에 따른 마우스 버튼 종류 구분  \n",
    "def onMouse(event, x, y, flags, param):\n",
    "    if event == cv2.EVENT_LBUTTONDOWN:\n",
    "        print(\"마우스 왼쪽 버튼 누르기\")\n",
    "    elif event == cv2.EVENT_RBUTTONDOWN:\n",
    "        print(\"마우스 오른쪽 버튼 누르기\")\n",
    "    elif event == cv2.EVENT_RBUTTONUP:\n",
    "        print(\"마우스 오른쪽 버튼 떼기\")\n",
    "    elif event == cv2.EVENT_LBUTTONDBLCLK:\n",
    "        print(\"마우스 왼쪽 버튼 더블클릭\")\n",
    "\n",
    "image = np.full((200, 300), 255, np.uint8)          # 영상 생성\n",
    "\n",
    "title1, title2 = \"Mouse Event1\", \"Mouse Event2\"     # 윈도우 이름\n",
    "cv2.imshow(title1, image) # 영상 보기\n",
    "cv2.imshow(title2, image)\n",
    "\n",
    "cv2.setMouseCallback('Mouse Event1', onMouse)     \t# 마우스 콜백 함수\n",
    "cv2.waitKey(0)                                      # 키 이벤트 대기\n",
    "cv2.destroyAllWindows()                             # 열린 모든 윈도우 제거"
   ]
  },
  {
   "cell_type": "code",
   "execution_count": null,
   "id": "85d6f518",
   "metadata": {},
   "outputs": [],
   "source": [
    "# 원 그리기\n",
    "import numpy as np\n",
    "import cv2\n",
    "def onMouse(event, x, y, flags, param):\n",
    "##    global img\n",
    "    if event == cv2.EVENT_LBUTTONDOWN:\n",
    "        if flags & cv2.EVENT_FLAG_SHIFTKEY:\n",
    "            cv2.rectangle(param[0], (x-5, y-5), (x+5, y+5), (255, 0, 0))\n",
    "        else:\n",
    "            cv2.circle(param[0], (x, y), 5, (255, 0, 0), 3)\n",
    "    elif event == cv2.EVENT_RBUTTONDOWN:\n",
    "        cv2.circle(param[0], (x, y), 5, (0, 0, 255), 3)\n",
    "    elif event == cv2.EVENT_LBUTTONDBLCLK:\n",
    "        param[0] = np.zeros(param[0].shape, np.uint8) + 255\n",
    "    cv2.imshow(\"img\", param[0])\n",
    "img = np.zeros((512,512,3), np.uint8) + 255\n",
    "cv2.imshow('img', img)\n",
    "cv2.setMouseCallback('img', onMouse, [img])\n",
    "cv2.waitKey()\n",
    "cv2.destroyAllWindows()"
   ]
  },
  {
   "cell_type": "code",
   "execution_count": null,
   "id": "6f903645",
   "metadata": {},
   "outputs": [],
   "source": []
  },
  {
   "cell_type": "markdown",
   "id": "7b9894b5",
   "metadata": {},
   "source": [
    "### 트랙바 이벤트"
   ]
  },
  {
   "cell_type": "code",
   "execution_count": 1,
   "id": "d286f408",
   "metadata": {},
   "outputs": [
    {
     "name": "stdout",
     "output_type": "stream",
     "text": [
      "추가 화소값: 0\n",
      "추가 화소값: 0\n",
      "추가 화소값: 0\n",
      "추가 화소값: 0\n",
      "추가 화소값: 0\n",
      "추가 화소값: 1\n",
      "추가 화소값: 2\n",
      "추가 화소값: 2\n",
      "추가 화소값: 3\n",
      "추가 화소값: 1\n",
      "추가 화소값: 2\n",
      "추가 화소값: 1\n",
      "추가 화소값: 1\n",
      "추가 화소값: 0\n",
      "추가 화소값: 1\n",
      "추가 화소값: 1\n",
      "추가 화소값: 2\n",
      "추가 화소값: 2\n",
      "추가 화소값: 2\n",
      "추가 화소값: 2\n",
      "추가 화소값: 1\n",
      "추가 화소값: 0\n",
      "추가 화소값: 0\n",
      "추가 화소값: 0\n",
      "추가 화소값: 0\n",
      "추가 화소값: 0\n",
      "추가 화소값: 1\n",
      "추가 화소값: 1\n",
      "추가 화소값: 0\n",
      "추가 화소값: 1\n",
      "추가 화소값: 1\n",
      "추가 화소값: 0\n",
      "추가 화소값: 1\n",
      "추가 화소값: 1\n",
      "추가 화소값: 1\n",
      "추가 화소값: 1\n",
      "추가 화소값: 1\n",
      "추가 화소값: 0\n",
      "추가 화소값: 1\n",
      "추가 화소값: 0\n",
      "추가 화소값: 0\n",
      "추가 화소값: 0\n"
     ]
    }
   ],
   "source": [
    "import numpy as np\n",
    "import cv2\n",
    "\n",
    "def onChange(value):\t\t\t\t\t\t\t\t\t\t\t\t# 트랙바 콜백 함수\n",
    "    global image                        \t# 전역 변수 참조\n",
    "\n",
    "    add_value = value - int(image[0][0])        \t# 트랙바 값과 영상 화소값 차분\n",
    "    print(\"추가 화소값:\", add_value)\n",
    "    image = image + add_value            \t\t# 행렬과 스칼라 덧셈 수행\n",
    "    cv2.imshow(title, image)\n",
    "\n",
    "image = np.zeros((300, 500), np.uint8)           \t# 영상 생성\n",
    "\n",
    "title = 'Trackbar Event'\n",
    "cv2.imshow(title, image)\n",
    "\n",
    "cv2.createTrackbar(\"Brightness\", title, image[0][0], 255, onChange)\t# 트랙바 콜백 함수 등록\n",
    "cv2.waitKey(0)\n",
    "cv2.destroyAllWindows()"
   ]
  },
  {
   "cell_type": "code",
   "execution_count": null,
   "id": "809e9d94",
   "metadata": {},
   "outputs": [],
   "source": []
  },
  {
   "cell_type": "markdown",
   "id": "c6a4d8ed",
   "metadata": {},
   "source": [
    "## 도형 그리기"
   ]
  },
  {
   "cell_type": "markdown",
   "id": "bc355987",
   "metadata": {},
   "source": [
    "### 직선 및 사각형 그리기"
   ]
  },
  {
   "cell_type": "code",
   "execution_count": null,
   "id": "3cb9a71a",
   "metadata": {},
   "outputs": [],
   "source": [
    "import cv2\n",
    "import numpy as np\n",
    "\n",
    "# White 배경 생성\n",
    "img = np.zeros(shape=(512,512,3), dtype=np.uint8) + 255\n",
    "#img = np.ones((512,512,3), np.uint8) * 255\n",
    "#img = np.full((512,512,3), (255, 255, 255), dtype= np.uint8)\n",
    "#img = np.zeros((512,512, 3), np.uint8) # Black 배경\n",
    "pt1 = 100, 100\n",
    "pt2 = 400, 400\n",
    "cv2.rectangle(img, pt1, pt2, (0, 255, 0), 2)\n",
    "\n",
    "cv2.line(img, (0, 0), (500, 0), (255, 0, 0), 5)\n",
    "cv2.line(img, (0, 0), (0, 500), (0,0,255), 5)\n",
    "\n",
    "cv2.imshow('img', img)\n",
    "cv2.waitKey()\n",
    "cv2.destroyAllWindows()"
   ]
  },
  {
   "cell_type": "code",
   "execution_count": null,
   "id": "c740c9f2",
   "metadata": {},
   "outputs": [],
   "source": [
    "import cv2\n",
    "import numpy as np\n",
    "\n",
    "img = np.zeros(shape=(512,512,3), dtype=np.uint8) + 255\n",
    "\n",
    "x1, x2 = 100, 400\n",
    "y1, y2 = 100, 400\n",
    "cv2.rectangle(img, (x1, y1), (x2, y2), (0, 0, 255))\n",
    "\n",
    "pt1 = 120, 50\n",
    "pt2 = 300, 500\n",
    "cv2.line(img, pt1, pt2, (255,0,0), 2)\n",
    "\n",
    "imgRect = (x1, y1, x2-x1, y2-y1)\n",
    "retval, rpt1, rpt2 = cv2.clipLine(imgRect, pt1, pt2)\n",
    "if retval:\n",
    "    cv2.circle(img, rpt1, radius=5, color=(0, 255, 0), thickness=-1)\n",
    "    cv2.circle(img, rpt2, radius=5, color=(0, 255, 0), thickness=-1)\n",
    "\n",
    "cv2.imshow('img', img)\n",
    "cv2.waitKey()\n",
    "cv2.destroyAllWindows()"
   ]
  },
  {
   "cell_type": "code",
   "execution_count": null,
   "id": "da82d883",
   "metadata": {},
   "outputs": [],
   "source": []
  },
  {
   "cell_type": "markdown",
   "id": "2d208aa7",
   "metadata": {},
   "source": [
    "### 원 - 타원 그리기"
   ]
  },
  {
   "cell_type": "code",
   "execution_count": null,
   "id": "fa533070",
   "metadata": {},
   "outputs": [],
   "source": [
    "import cv2\n",
    "import numpy as np\n",
    "\n",
    "img = np.zeros(shape=(512,512,3), dtype=np.uint8) + 255\n",
    "cx = img.shape[0]//2\n",
    "cy = img.shape[1]//2\n",
    "\n",
    "for r in range(200, 0, -100):\n",
    "    cv2.circle(img, (cx, cy), r, color=(255, 0, 0))\n",
    "\n",
    "cv2.circle(img, (cx, cy), radius=50, color=(0, 0, 255), thickness=-1)\n",
    "\n",
    "cv2.imshow('img', img)\n",
    "cv2.waitKey()\n",
    "cv2.destroyAllWindows()"
   ]
  },
  {
   "cell_type": "code",
   "execution_count": null,
   "id": "86eb3b3a",
   "metadata": {},
   "outputs": [],
   "source": [
    "import cv2\n",
    "import numpy as np\n",
    "\n",
    "img = np.zeros(shape=(512,512,3), dtype=np.uint8) + 255\n",
    "ptCenter = img.shape[0]//2, img.shape[1]//2\n",
    "size = 200,100\n",
    "\n",
    "cv2.ellipse(img, ptCenter, size, 0, 0, 360, (255, 0, 0))\n",
    "cv2.ellipse(img, ptCenter, size, 45, 0, 360, (0, 0, 255))\n",
    "\n",
    "box = (ptCenter, size, 0)\n",
    "cv2.ellipse(img, box,  (255, 0, 0), 5)\n",
    "\n",
    "box = (ptCenter, size, 45)\n",
    "cv2.ellipse(img, box,  (0, 0, 255), 5)\n",
    "\n",
    "cv2.imshow('img', img)\n",
    "cv2.waitKey()\n",
    "cv2.destroyAllWindows()\n"
   ]
  },
  {
   "cell_type": "code",
   "execution_count": null,
   "id": "563b3fdb",
   "metadata": {},
   "outputs": [],
   "source": []
  },
  {
   "cell_type": "markdown",
   "id": "d70ef783",
   "metadata": {},
   "source": [
    "### 다각형 그리기"
   ]
  },
  {
   "cell_type": "code",
   "execution_count": null,
   "id": "1e8bd19f",
   "metadata": {},
   "outputs": [],
   "source": [
    "import cv2\n",
    "import numpy as np\n",
    "\n",
    "img = np.zeros(shape=(512,512,3), dtype=np.uint8) + 255\n",
    "\n",
    "pts1 = np.array([[100, 100], [200, 100], [200, 200], [100, 200]])\n",
    "pts2 = np.array([[300, 200], [400, 100], [400, 200]])\n",
    "\n",
    "cv2.polylines(img, [pts1, pts2], isClosed=True, color=(255, 0, 0))\n",
    "\n",
    "cv2.imshow('img', img)\n",
    "cv2.waitKey()\n",
    "cv2.destroyAllWindows()\n"
   ]
  },
  {
   "cell_type": "code",
   "execution_count": null,
   "id": "baa2a471",
   "metadata": {},
   "outputs": [],
   "source": [
    "import cv2\n",
    "import numpy as np\n",
    "\n",
    "img = np.zeros(shape=(512,512,3), dtype=np.uint8) + 255\n",
    "\n",
    "ptCenter = img.shape[0]//2, img.shape[1]//2\n",
    "size = 200,100\n",
    "\n",
    "cv2.ellipse(img, ptCenter, size, 0, 0, 360, (255, 0, 0))\n",
    "pts1 = cv2.ellipse2Poly(ptCenter, size,  0, 0, 360, delta=45)\n",
    "\n",
    "cv2.ellipse(img, ptCenter, size, 45, 0, 360, (255, 0, 0))\n",
    "pts2 = cv2.ellipse2Poly(ptCenter, size, 45, 0, 360, delta=45)\n",
    "\n",
    "cv2.polylines(img, [pts1, pts2], isClosed=True, color=(0, 0, 255))\n",
    "\n",
    "cv2.imshow('img', img)\n",
    "cv2.waitKey()\n",
    "cv2.destroyAllWindows()"
   ]
  },
  {
   "cell_type": "code",
   "execution_count": 1,
   "id": "f1dc567f",
   "metadata": {},
   "outputs": [],
   "source": [
    "import cv2\n",
    "import numpy as np\n",
    "\n",
    "img = np.zeros(shape=(512,512,3), dtype=np.uint8) + 255\n",
    "\n",
    "x, y = 256, 256\n",
    "size = 200\n",
    "\n",
    "for angle in range(0, 90, 10):\n",
    "    rect = ((256, 256), (size, size), angle)\n",
    "    box = cv2.boxPoints(rect).astype(np.int32)\n",
    "    r = np.random.randint(256)\n",
    "    g = np.random.randint(256)\n",
    "    b = np.random.randint(256)   \n",
    "    cv2.polylines(img, [box], True, (r, g, b), 2)\n",
    "    \n",
    "cv2.imshow('img', img)\n",
    "cv2.waitKey()\n",
    "cv2.destroyAllWindows()"
   ]
  },
  {
   "cell_type": "code",
   "execution_count": null,
   "id": "90bf3007",
   "metadata": {},
   "outputs": [],
   "source": [
    "import cv2\n",
    "import numpy as np\n",
    "\n",
    "img = np.zeros(shape=(512,512,3), dtype=np.uint8) + 255\n",
    "\n",
    "pts1 = np.array([[100, 100], [200, 100], [200, 200], [100, 200]])\n",
    "pts2 = np.array([[300, 200], [400, 100], [400, 200]])\n",
    "\n",
    "cv2.fillConvexPoly(img, pts1, color=(255, 0, 0))\n",
    "\n",
    "cv2.fillPoly(img, [pts2], color=(0, 0, 255))\n",
    "#cv2.fillPoly(img, [pts1, pts2], color=(0, 0, 255))\n",
    "\n",
    "cv2.imshow('img', img)\n",
    "cv2.waitKey()\n",
    "cv2.destroyAllWindows()"
   ]
  },
  {
   "cell_type": "code",
   "execution_count": null,
   "id": "64d10b9e",
   "metadata": {},
   "outputs": [],
   "source": []
  },
  {
   "cell_type": "markdown",
   "id": "9396a09f",
   "metadata": {},
   "source": [
    "### 문자열 출력"
   ]
  },
  {
   "cell_type": "code",
   "execution_count": null,
   "id": "0fed40e6",
   "metadata": {},
   "outputs": [],
   "source": [
    "import numpy as np\n",
    "import cv2\n",
    "\n",
    "img = np.zeros(shape=(512,512,3), dtype=np.uint8) + 255\n",
    "text = 'OpenCV Programming'\n",
    "org = (50,100)\n",
    "font = cv2.FONT_HERSHEY_SIMPLEX\n",
    "cv2.putText(img,text, org, font, 1, (255,0,0), 2)\n",
    "\n",
    "size, baseLine = cv2.getTextSize(text, font, 1, 2)\n",
    "#print('size=', size)\n",
    "#print('baseLine=', baseLine)\n",
    "cv2.rectangle(img, org, (org[0]+size[0], org[1]-size[1]), (0, 0, 255))\n",
    "cv2.circle(img, org, 3, (0, 255,0), 2)\n",
    "\n",
    "cv2.imshow('img', img)\n",
    "cv2.waitKey()\n",
    "cv2.destroyAllWindows()"
   ]
  },
  {
   "cell_type": "code",
   "execution_count": null,
   "id": "9fa91e13",
   "metadata": {},
   "outputs": [],
   "source": []
  },
  {
   "cell_type": "markdown",
   "id": "a64be358",
   "metadata": {},
   "source": [
    "## 영상 파일 입출력"
   ]
  },
  {
   "cell_type": "markdown",
   "id": "179106ba",
   "metadata": {},
   "source": [
    "### 영상 파일 읽기 - 흑백"
   ]
  },
  {
   "cell_type": "code",
   "execution_count": null,
   "id": "e05da3bb",
   "metadata": {},
   "outputs": [],
   "source": [
    "# 라이브러리를 임포트합니다.\n",
    "import cv2\n",
    "from matplotlib import pyplot as plt\n",
    "\n",
    "# 흑백 이미지로 로드\n",
    "image = cv2.imread(\"./data/plane.jpg\", cv2.IMREAD_GRAYSCALE)\n",
    "\n",
    "# 이미지를 출력\n",
    "plt.imshow(image, cmap=\"gray\")\n",
    "plt.axis(\"off\")\n",
    "plt.show()"
   ]
  },
  {
   "cell_type": "code",
   "execution_count": null,
   "id": "5f31050c",
   "metadata": {},
   "outputs": [],
   "source": [
    "#이미지 데이터 확인\n",
    "print(image.shape)\n",
    "#첫번째 픽셀 값 확인\n",
    "print(image[0,0])"
   ]
  },
  {
   "cell_type": "code",
   "execution_count": null,
   "id": "3c81f333",
   "metadata": {},
   "outputs": [],
   "source": []
  },
  {
   "cell_type": "markdown",
   "id": "d4dfbf41",
   "metadata": {},
   "source": [
    "### 영상 파일 읽기 - 컬러"
   ]
  },
  {
   "cell_type": "code",
   "execution_count": null,
   "id": "344b205e",
   "metadata": {},
   "outputs": [],
   "source": [
    "# 라이브러리를 임포트합니다.\n",
    "import cv2\n",
    "from matplotlib import pyplot as plt\n",
    "\n",
    "# 컬러로 이미지를 로드합니다.(BGR을 사용)\n",
    "image_bgr = cv2.imread(\"./data/plane.jpg\", cv2.IMREAD_COLOR)\n",
    "plt.imshow(image_bgr)\n",
    "plt.axis(\"off\")\n",
    "plt.show()\n",
    "# 픽셀을 확인합니다.\n",
    "image_bgr[0,0]\n"
   ]
  },
  {
   "cell_type": "code",
   "execution_count": null,
   "id": "fc99a955",
   "metadata": {},
   "outputs": [],
   "source": []
  },
  {
   "cell_type": "markdown",
   "id": "3f074446",
   "metadata": {},
   "source": [
    "### 영상 파일 저장"
   ]
  },
  {
   "cell_type": "code",
   "execution_count": null,
   "id": "6a0096c8",
   "metadata": {},
   "outputs": [],
   "source": [
    "import cv2\n",
    "\n",
    "# 흑백 이미지로 로드\n",
    "image = cv2.imread(\"./data/plane.jpg\", cv2.IMREAD_GRAYSCALE)\n",
    "\n",
    "# 이미지를 저장\n",
    "cv2.imwrite(\"./data/plane_new.jpg\", image)\n"
   ]
  },
  {
   "cell_type": "code",
   "execution_count": null,
   "id": "acdff955",
   "metadata": {},
   "outputs": [],
   "source": [
    "import cv2\n",
    "\n",
    "image = cv2.imread(\"data/read_color.jpg\", cv2.IMREAD_COLOR)\n",
    "if image is None: raise Exception(\"영상 파일 읽기 에러\")\n",
    "\n",
    "params_jpg = (cv2.IMWRITE_JPEG_QUALITY, 10)  # JPEG 화질 설정\n",
    "params_png = [cv2.IMWRITE_PNG_COMPRESSION, 9]  # PNG 압축 레벨 설정\n",
    "\n",
    "## 행렬을 영상 파일로 저장\n",
    "cv2.imwrite(\"data/write_test1.jpg\", image)  # 디폴트는 95\n",
    "cv2.imwrite(\"data/write_test2.jpg\", image, params_jpg)  # 지정 화질로 저장\n",
    "cv2.imwrite(\"data/write_test3.png\", image, params_png)\n",
    "cv2.imwrite(\"data/write_test4.bmp\", image)  # BMP 파일로 저장\n",
    "print(\"저장 완료\")"
   ]
  },
  {
   "cell_type": "code",
   "execution_count": null,
   "id": "52703c6b",
   "metadata": {},
   "outputs": [],
   "source": [
    "import numpy as np\n",
    "import cv2\n",
    "\n",
    "image8 = cv2.imread(\"data/read_color.jpg\", cv2.IMREAD_COLOR)\n",
    "if image8 is None: raise Exception(\"영상파일 읽기 에러\") \t# 영상 파일 예외처리\n",
    "\n",
    "image16 = np.uint16(image8 * (65535/255))       # 형변환 및 화소 스케일 조정\n",
    "image32 = np.float32(image8 * (1/255))\n",
    "\n",
    "# 화소값을 확인하기 위한 관심 영역(10,10 위치에서 2x3 크기) 출력\n",
    "print(\"image8 행렬의 일부\\n %s\\n\"  % image8[10:12, 10:13])\n",
    "print(\"image16 행렬의 일부\\n %s\\n\" % image16[10:12, 10:13])\n",
    "print(\"image32 행렬의 일부\\n %s\\n\" % image32[10:12, 10:13])\n",
    "\n",
    "cv2.imwrite(\"data/write_test_16.tif\", image16)\n",
    "cv2.imwrite(\"data/write_test_32.tif\", image32)\n",
    "\n",
    "cv2.imshow(\"image16\", image16)\n",
    "cv2.imshow(\"image32\", (image32*255).astype(\"uint8\"))\n",
    "cv2.waitKey(0)"
   ]
  },
  {
   "cell_type": "code",
   "execution_count": null,
   "id": "5a3f679f",
   "metadata": {},
   "outputs": [],
   "source": []
  },
  {
   "cell_type": "markdown",
   "id": "a7800b25",
   "metadata": {},
   "source": [
    "### 이미지 여백 조정"
   ]
  },
  {
   "cell_type": "code",
   "execution_count": null,
   "id": "97b7727c",
   "metadata": {},
   "outputs": [],
   "source": [
    "import cv2\n",
    "from   matplotlib import pyplot as plt\n",
    "\n",
    "imageFile = './data/lena.jpg'\n",
    "imgGray = cv2.imread(imageFile, cv2.IMREAD_GRAYSCALE)\n",
    "\n",
    "plt.figure(figsize=(6,6))\n",
    "plt.subplots_adjust(left=0, right=1, bottom=0, top=1)\n",
    "plt.imshow(imgGray, cmap = 'gray')\n",
    "##plt.axis('tight')\n",
    "plt.axis('off')\n",
    "plt.savefig('./data/0205.png')\n",
    "plt.show()"
   ]
  },
  {
   "cell_type": "code",
   "execution_count": null,
   "id": "9eef003a",
   "metadata": {},
   "outputs": [],
   "source": []
  },
  {
   "cell_type": "markdown",
   "id": "17999bb9",
   "metadata": {},
   "source": [
    "### 여러 이미지 나누어서 출력"
   ]
  },
  {
   "cell_type": "code",
   "execution_count": null,
   "id": "20cd2857",
   "metadata": {},
   "outputs": [],
   "source": [
    "import cv2\n",
    "from   matplotlib import pyplot as plt\n",
    "\n",
    "path = './data/'\n",
    "imgBGR1 = cv2.imread(path+'lena.jpg')\n",
    "imgBGR2 = cv2.imread(path+'apple.jpg')\n",
    "imgBGR3 = cv2.imread(path+'baboon.jpg')\n",
    "imgBGR4 = cv2.imread(path+'orange.jpg')\n",
    "\n",
    "# 컬러 변환: BGR -> RGB\n",
    "imgRGB1 = cv2.cvtColor(imgBGR1, cv2.COLOR_BGR2RGB)\n",
    "imgRGB2 = cv2.cvtColor(imgBGR2, cv2.COLOR_BGR2RGB)\n",
    "imgRGB3 = cv2.cvtColor(imgBGR3, cv2.COLOR_BGR2RGB)\n",
    "imgRGB4 = cv2.cvtColor(imgBGR4, cv2.COLOR_BGR2RGB)\n",
    "\n",
    "fig, ax = plt.subplots(2, 2, figsize=(10,10), sharey=True)\n",
    "fig.canvas.set_window_title('Sample Pictures')\n",
    "\n",
    "ax[0][0].axis('off')\n",
    "ax[0][0].imshow(imgRGB1, aspect = 'auto')\n",
    "\n",
    "ax[0][1].axis('off')\n",
    "ax[0][1].imshow(imgRGB2, aspect = 'auto')\n",
    "\n",
    "ax[1][0].axis(\"off\")\n",
    "ax[1][0].imshow(imgRGB3, aspect = \"auto\")\n",
    "\n",
    "ax[1][0].axis(\"off\")\n",
    "ax[1][1].imshow(imgRGB4, aspect = 'auto')\n",
    "\n",
    "plt.subplots_adjust(left=0, bottom=0, right=1, top=1,\n",
    "                    wspace=0.05, hspace=0.05)\n",
    "plt.savefig(\"./data/0206.png\", bbox_inches='tight')\n",
    "plt.show()\n"
   ]
  },
  {
   "cell_type": "code",
   "execution_count": null,
   "id": "639160c0",
   "metadata": {},
   "outputs": [],
   "source": []
  },
  {
   "cell_type": "markdown",
   "id": "c906a2dd",
   "metadata": {},
   "source": [
    "### 비디오 캡쳐"
   ]
  },
  {
   "cell_type": "code",
   "execution_count": null,
   "id": "79de253d",
   "metadata": {},
   "outputs": [],
   "source": [
    "import cv2\n",
    "\n",
    "def put_string(frame, text, pt, value, color=(120, 200, 90)):             # 문자열 출력 함수 - 그림자 효과\n",
    "    text += str(value)\n",
    "    shade = (pt[0] + 2, pt[1] + 2)\n",
    "    font = cv2.FONT_HERSHEY_SIMPLEX\n",
    "    cv2.putText(frame, text, shade, font, 0.7, (0, 0, 0), 2)  # 그림자 효과\n",
    "    cv2.putText(frame, text, pt, font, 0.7, (120, 200, 90), 2)  # 글자 적기\n",
    "\n",
    "capture = cv2.VideoCapture(0)  # 0번 카메라 연결\n",
    "if capture.isOpened() == False:\n",
    "    raise Exception(\"카메라 연결 안됨\")\n",
    "\n",
    "# 카메라 속성 획득 및 출력\n",
    "print(\"너비 %d\" % capture.get(cv2.CAP_PROP_FRAME_WIDTH))\n",
    "print(\"높이 %d\" % capture.get(cv2.CAP_PROP_FRAME_HEIGHT))\n",
    "print(\"노출 %d\" % capture.get(cv2.CAP_PROP_EXPOSURE))\n",
    "print(\"밝기 %d\" % capture.get(cv2.CAP_PROP_BRIGHTNESS))\n",
    "\n",
    "while True:  # 무한 반복\n",
    "    ret, frame = capture.read()  # 카메라 영상 받기\n",
    "    if not ret: break\n",
    "    if cv2.waitKey(30) >= 0: break\n",
    "\n",
    "    exposure = capture.get(cv2.CAP_PROP_EXPOSURE)\n",
    "    put_string(frame, \"EXPOS: \", (10, 40), exposure)\n",
    "    title = \"View Frame from Camera\"\n",
    "    cv2.imshow(title, frame)  # 윈도우에 영상 띄우기\n",
    "capture.release()\n"
   ]
  },
  {
   "cell_type": "code",
   "execution_count": null,
   "id": "bb3d169e",
   "metadata": {},
   "outputs": [],
   "source": []
  },
  {
   "cell_type": "markdown",
   "id": "708d3dc8",
   "metadata": {},
   "source": [
    "### 안드로이드 카메라 사용"
   ]
  },
  {
   "cell_type": "code",
   "execution_count": null,
   "id": "b37a623e",
   "metadata": {},
   "outputs": [],
   "source": [
    "import cv2\n",
    "cap = cv2.VideoCapture('http://172.30.31.171:4747/mjpegfeed') # droid cam\n",
    "##cap = cv2.VideoCapture('http://172.30.31.171:4747/mjpegfeed?640x480')\n",
    "##cap = cv2.VideoCapture('http://172.30.31.171:8080/video')  # IP Webcam\n",
    "\n",
    "frame_size = (int(cap.get(cv2.CAP_PROP_FRAME_WIDTH)),\n",
    "              int(cap.get(cv2.CAP_PROP_FRAME_HEIGHT)))\n",
    "print('frame_size =', frame_size)\n",
    "\n",
    "while True:   \n",
    "    retval, frame = cap.read() # 프레임 캡처\n",
    "    if not retval:\n",
    "        break\n",
    "\n",
    "    cv2.imshow('frame',frame)\n",
    "    \n",
    "    key = cv2.waitKey(25)\n",
    "    if key == 27: # Esc\n",
    "        break\n",
    "if cap.isOpened():\n",
    "    cap.release()\n",
    "cv2.destroyAllWindows()"
   ]
  },
  {
   "cell_type": "code",
   "execution_count": null,
   "id": "57831f2e",
   "metadata": {},
   "outputs": [],
   "source": []
  },
  {
   "cell_type": "markdown",
   "id": "af26d97a",
   "metadata": {},
   "source": [
    "### 유투브 영상 캡쳐"
   ]
  },
  {
   "cell_type": "code",
   "execution_count": null,
   "id": "95219903",
   "metadata": {},
   "outputs": [],
   "source": [
    "import cv2, pafy\n",
    "url = 'https://www.youtube.com/watch?v=u_Q7Dkl7AIk'\n",
    "video = pafy.new(url)\n",
    "print('title = ', video.title)\n",
    "print('video.rating = ', video.rating)\n",
    "print('video.duration = ', video.duration)\n",
    "\n",
    "best = video.getbest(preftype='mp4')     # 'mp4','3gp'\n",
    "print('best.resolution', best.resolution)\n",
    "\n",
    "cap=cv2.VideoCapture(best.url)\n",
    "while(True):\n",
    "        retval, frame = cap.read()\n",
    "        if not retval:\n",
    "                break\n",
    "        cv2.imshow('frame',frame)\n",
    "\n",
    "        gray = cv2.cvtColor(frame, cv2.COLOR_BGR2GRAY)\n",
    "        edges = cv2.Canny(gray,100,200)\n",
    "        cv2.imshow('edges',edges)\n",
    "\n",
    "        key = cv2.waitKey(25)\n",
    "        if key == 27: # Esc\n",
    "                break\n",
    "cv2.destroyAllWindows()"
   ]
  },
  {
   "cell_type": "code",
   "execution_count": null,
   "id": "3413fc67",
   "metadata": {},
   "outputs": [],
   "source": []
  },
  {
   "cell_type": "markdown",
   "id": "e3d4d2e3",
   "metadata": {},
   "source": [
    "### 비디오 녹화"
   ]
  },
  {
   "cell_type": "code",
   "execution_count": null,
   "id": "4c2fd0ca",
   "metadata": {},
   "outputs": [],
   "source": [
    "import cv2\n",
    "\n",
    "cap = cv2.VideoCapture(0) # 0번 카메라\n",
    "frame_size = (int(cap.get(cv2.CAP_PROP_FRAME_WIDTH)),\n",
    "              int(cap.get(cv2.CAP_PROP_FRAME_HEIGHT)))\n",
    "print('frame_size =', frame_size)\n",
    "\n",
    "#fourcc = cv2.VideoWriter_fourcc(*'DIVX')  # ('D', 'I', 'V', 'X')\n",
    "fourcc = cv2.VideoWriter_fourcc(*'XVID')\n",
    "\n",
    "out1 = cv2.VideoWriter('./data/record0.mp4',fourcc, 20.0, frame_size)\n",
    "out2 = cv2.VideoWriter('./data/record1.mp4',fourcc, 20.0, frame_size,isColor=False)\n",
    "\n",
    "while True:\n",
    "    retval, frame = cap.read()\n",
    "    if not retval:\n",
    "        break   \n",
    "    out1.write(frame)\n",
    "    \n",
    "    gray = cv2.cvtColor(frame, cv2.COLOR_BGR2GRAY)\n",
    "    out2.write(gray)        \n",
    "    cv2.imshow('frame',frame)\n",
    "    cv2.imshow('gray',gray)      \n",
    "    \n",
    "    key = cv2.waitKey(25)\n",
    "    if key == 27:\n",
    "        break\n",
    "cap.release()\n",
    "out1.release()\n",
    "out2.release()\n",
    "cv2.destroyAllWindows()\n"
   ]
  },
  {
   "cell_type": "code",
   "execution_count": null,
   "id": "af97c646",
   "metadata": {},
   "outputs": [],
   "source": []
  },
  {
   "cell_type": "markdown",
   "id": "696c9358",
   "metadata": {},
   "source": [
    "### matplotlib 활용"
   ]
  },
  {
   "cell_type": "code",
   "execution_count": null,
   "id": "22f20dad",
   "metadata": {},
   "outputs": [],
   "source": [
    "#이미지 출력\n",
    "import cv2\n",
    "import matplotlib.pyplot as plt\n",
    "\n",
    "image  = cv2.imread(\"./data/matplot.jpg\", cv2.IMREAD_COLOR)\n",
    "if image is None: raise Exception(\"영상 파일 읽기 에러\")\n",
    "\n",
    "rows, cols = image.shape[:2]\n",
    "rgb_img = cv2.cvtColor(image,cv2.COLOR_BGR2RGB)\n",
    "gray_img = cv2.cvtColor(image,cv2.COLOR_BGR2GRAY)\n",
    "\n",
    "fig = plt.figure(num=1, figsize=(3,4))\n",
    "plt.imshow(image ), plt.title('figure1- original(bgr)')\n",
    "plt.axis('off'), plt.tight_layout()\n",
    "\n",
    "fig = plt.figure(num=2, figsize=(6,4))\n",
    "plt.suptitle( 'figure2- pyplot image display')\n",
    "plt.subplot(1,2,1), plt.imshow(rgb_img)\n",
    "plt.axis([0,cols, rows,0]), plt.title('rgb color')\n",
    "plt.subplot(1,2,2), plt.imshow(gray_img, cmap='gray')\n",
    "plt.title('gray_img2')\n",
    "plt.show()"
   ]
  },
  {
   "cell_type": "code",
   "execution_count": null,
   "id": "00caac0f",
   "metadata": {},
   "outputs": [],
   "source": [
    "#이미지 보간\n",
    "import matplotlib.pyplot as plt\n",
    "import numpy as np\n",
    "\n",
    "methods = ['none', 'nearest', 'bilinear', 'bicubic', 'spline16', 'spline36' ]\n",
    "grid = np.random.rand(5, 5)\n",
    "\n",
    "fig, axs = plt.subplots(nrows=2, ncols=3, figsize=(8, 6))\n",
    "\n",
    "for ax, method in zip(axs.flat, methods):\n",
    "    ax.imshow(grid, interpolation=method, cmap='gray')\n",
    "    ax.set_title(method)\n",
    "plt.tight_layout(), plt.show()"
   ]
  },
  {
   "cell_type": "code",
   "execution_count": null,
   "id": "65ee25c8",
   "metadata": {},
   "outputs": [],
   "source": [
    "#동영상 출력\n",
    "import cv2\n",
    "import matplotlib.pyplot as plt\n",
    "import matplotlib.animation as animation\n",
    "\n",
    "\n",
    "class Video:\n",
    "    def __init__(self, device=0):\n",
    "        self.cap = cv2.VideoCapture(device)\n",
    "        self.retval, self.frame = self.cap.read()\n",
    "        self.im = plt.imshow(cv2.cvtColor(self.frame, cv2.COLOR_BGR2RGB))\n",
    "        print('start capture ...')\n",
    "\n",
    "    def updateFrame(self, k):\n",
    "        self.retval, self.frame = self.cap.read()\n",
    "        self.im.set_array(cv2.cvtColor(camera.frame, cv2.COLOR_BGR2RGB))\n",
    "    def close(self):\n",
    "        if self.cap.isOpened():\n",
    "            self.cap.release()\n",
    "        print('finish capture.')\n",
    "\n",
    "# 프로그램 시작\n",
    "fig = plt.figure()\n",
    "fig.canvas.set_window_title('Video Capture')\n",
    "plt.axis(\"off\")\n",
    "\n",
    "##camera = Video()\n",
    "camera = Video('./data/vtest.avi')\n",
    "ani = animation.FuncAnimation(fig, camera.updateFrame, interval=50)\n",
    "plt.show()\n",
    "camera.close()\n"
   ]
  }
 ],
 "metadata": {
  "kernelspec": {
   "display_name": "Python 3 (ipykernel)",
   "language": "python",
   "name": "python3"
  },
  "language_info": {
   "codemirror_mode": {
    "name": "ipython",
    "version": 3
   },
   "file_extension": ".py",
   "mimetype": "text/x-python",
   "name": "python",
   "nbconvert_exporter": "python",
   "pygments_lexer": "ipython3",
   "version": "3.9.7"
  }
 },
 "nbformat": 4,
 "nbformat_minor": 5
}
