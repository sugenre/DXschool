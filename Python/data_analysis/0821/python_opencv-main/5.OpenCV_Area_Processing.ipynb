{
 "cells": [
  {
   "cell_type": "markdown",
   "id": "1d55590d",
   "metadata": {},
   "source": [
    "# Area Processing"
   ]
  },
  {
   "cell_type": "markdown",
   "id": "c2ffb1ec",
   "metadata": {},
   "source": [
    "## Convolution"
   ]
  },
  {
   "cell_type": "markdown",
   "id": "deba7656",
   "metadata": {},
   "source": [
    "### blurring"
   ]
  },
  {
   "cell_type": "code",
   "execution_count": null,
   "id": "18fb3de5",
   "metadata": {},
   "outputs": [],
   "source": [
    "import numpy as np, cv2, time\n",
    "\n",
    "# 회선 수행 함수 - 행렬 처리 방식(속도 면에서 유리)\n",
    "def filter(image, mask):\n",
    "    rows, cols = image.shape[:2]\n",
    "    dst = np.zeros((rows, cols), np.float32)                 # 회선 결과 저장 행렬\n",
    "    xcenter, ycenter = mask.shape[1]//2, mask.shape[0]//2  # 마스크 중심 좌표\n",
    "\n",
    "    for i in range(ycenter, rows - ycenter):                  # 입력 행렬 반복 순회\n",
    "        for j in range(xcenter, cols - xcenter):\n",
    "            y1, y2 = i - ycenter, i + ycenter + 1               # 관심영역 높이 범위\n",
    "            x1, x2 = j - xcenter, j + xcenter + 1               # 관심영역 너비 범위\n",
    "            roi = image[y1:y2, x1:x2].astype(\"float32\")         # 관심영역 형변환\n",
    "\n",
    "            tmp = cv2.multiply(roi, mask)                       # 회선 적용 - OpenCV 곱셈\n",
    "            dst[i, j] = cv2.sumElems(tmp)[0]                    # 출력화소 저장\n",
    "    return dst                                                  # 자료형 변환하여 반환\n",
    "\n",
    "# 회선 수행 함수 - 화소 직접 근접\n",
    "def filter2(image, mask):\n",
    "    rows, cols = image.shape[:2]\n",
    "    dst = np.zeros((rows, cols), np.float32)                 # 회선 결과 저장 행렬\n",
    "    xcenter, ycenter = mask.shape[1]//2, mask.shape[0]//2  # 마스크 중심 좌표\n",
    "\n",
    "    for i in range(ycenter, rows - ycenter):                  # 입력 행렬 반복 순회\n",
    "        for j in range(xcenter, cols - xcenter):\n",
    "            sum = 0.0\n",
    "            for u in range(mask.shape[0]):                    # 마스크 원소 순회\n",
    "                for v in range(mask.shape[1]):\n",
    "                    y, x = i + u - ycenter , j + v - xcenter\n",
    "                    sum += image[y, x] * mask[u, v]           # 회선 수식\n",
    "            dst[i, j] = sum\n",
    "    return dst\n",
    "\n",
    "image = cv2.imread(\"./data/filter_blur.jpg\", cv2.IMREAD_GRAYSCALE)  # 영상 읽기\n",
    "if image is None: raise Exception(\"영상파일 읽기 오류\")\n",
    "\n",
    "# 블러링 마스크 원소 지정\n",
    "data = [1/9, 1/9, 1/9,\n",
    "        1/9, 1/9, 1/9,\n",
    "        1/9, 1/9, 1/9]\n",
    "mask = np.array(data, np.float32).reshape(3, 3)\n",
    "blur1 = filter(image, mask)                                    # 회선 수행 - 화소 직접 접근\n",
    "blur2 = filter2(image, mask)                                   # 회선 수행\n",
    "\n",
    "cv2.imshow(\"image\", image)\n",
    "cv2.imshow(\"blur1\", blur1.astype(\"uint8\"))\n",
    "cv2.imshow(\"blur2\", cv2.convertScaleAbs(blur1))\n",
    "cv2.waitKey(0)\n"
   ]
  },
  {
   "cell_type": "markdown",
   "id": "24b1d7de",
   "metadata": {},
   "source": [
    "### sharpening"
   ]
  },
  {
   "cell_type": "code",
   "execution_count": null,
   "id": "b5dad7ce",
   "metadata": {},
   "outputs": [],
   "source": [
    "import numpy as np, cv2, time\n",
    "\n",
    "# 회선 수행 함수 - 행렬 처리 방식(속도 면에서 유리)\n",
    "def filter(image, mask):\n",
    "    rows, cols = image.shape[:2]\n",
    "    dst = np.zeros((rows, cols), np.float32)                 # 회선 결과 저장 행렬\n",
    "    xcenter, ycenter = mask.shape[1]//2, mask.shape[0]//2  # 마스크 중심 좌표\n",
    "\n",
    "    for i in range(ycenter, rows - ycenter):                  # 입력 행렬 반복 순회\n",
    "        for j in range(xcenter, cols - xcenter):\n",
    "            y1, y2 = i - ycenter, i + ycenter + 1               # 관심영역 높이 범위\n",
    "            x1, x2 = j - xcenter, j + xcenter + 1               # 관심영역 너비 범위\n",
    "            roi = image[y1:y2, x1:x2].astype(\"float32\")         # 관심영역 형변환\n",
    "\n",
    "            tmp = cv2.multiply(roi, mask)                       # 회선 적용 - OpenCV 곱셈\n",
    "            dst[i, j] = cv2.sumElems(tmp)[0]                    # 출력화소 저장\n",
    "    return dst                                                  # 자료형 변환하여 반환\n",
    "\n",
    "# 회선 수행 함수 - 화소 직접 근접\n",
    "def filter2(image, mask):\n",
    "    rows, cols = image.shape[:2]\n",
    "    dst = np.zeros((rows, cols), np.float32)                 # 회선 결과 저장 행렬\n",
    "    xcenter, ycenter = mask.shape[1]//2, mask.shape[0]//2  # 마스크 중심 좌표\n",
    "\n",
    "    for i in range(ycenter, rows - ycenter):                  # 입력 행렬 반복 순회\n",
    "        for j in range(xcenter, cols - xcenter):\n",
    "            sum = 0.0\n",
    "            for u in range(mask.shape[0]):                    # 마스크 원소 순회\n",
    "                for v in range(mask.shape[1]):\n",
    "                    y, x = i + u - ycenter , j + v - xcenter\n",
    "                    sum += image[y, x] * mask[u, v]           # 회선 수식\n",
    "            dst[i, j] = sum\n",
    "    return dst\n",
    "\n",
    "\n",
    "image = cv2.imread(\"./data/filter_sharpen.jpg\", cv2.IMREAD_GRAYSCALE) # 영상 읽기\n",
    "if image is None: raise Exception(\"영상파일 읽기 오류\")\n",
    "\n",
    "# 샤프닝 마스크 원소 지정\n",
    "data1 = [0, -1, 0,\n",
    "        -1, 5, -1,\n",
    "         0, -1, 0]\n",
    "data2 = [[-1, -1, -1],\n",
    "         [-1, 9, -1],\n",
    "         [-1, -1, -1]]\n",
    "mask1 = np.array(data1, np.float32).reshape(3, 3)\n",
    "mask2 = np.array(data2, np.float32)\n",
    "\n",
    "sharpen1 = filter(image, mask1)                     # 회선 수행\n",
    "sharpen2 = filter(image, mask2)\n",
    "\n",
    "cv2.imshow(\"image\", image)\n",
    "cv2.imshow(\"sharpen1\", cv2.convertScaleAbs(sharpen1))  # 윈도우 표시 위한 형변환\n",
    "cv2.imshow(\"sharpen2\", cv2.convertScaleAbs(sharpen2))\n",
    "cv2.waitKey(0)"
   ]
  },
  {
   "cell_type": "code",
   "execution_count": null,
   "id": "bf9b46ec",
   "metadata": {},
   "outputs": [],
   "source": []
  },
  {
   "cell_type": "markdown",
   "id": "73dde6a1",
   "metadata": {},
   "source": [
    "## 선형 공간 필터링"
   ]
  },
  {
   "cell_type": "markdown",
   "id": "98a6da1b",
   "metadata": {},
   "source": [
    "### 이미지 흐리게 하기"
   ]
  },
  {
   "cell_type": "code",
   "execution_count": 1,
   "id": "2ed2439c",
   "metadata": {},
   "outputs": [
    {
     "name": "stdout",
     "output_type": "stream",
     "text": [
      "[[0.04 0.04 0.04 0.04 0.04]\n",
      " [0.04 0.04 0.04 0.04 0.04]\n",
      " [0.04 0.04 0.04 0.04 0.04]\n",
      " [0.04 0.04 0.04 0.04 0.04]\n",
      " [0.04 0.04 0.04 0.04 0.04]]\n"
     ]
    },
    {
     "data": {
      "image/png": "[encoded data removed]",
      "text/plain": [
       "<Figure size 432x288 with 1 Axes>"
      ]
     },
     "metadata": {},
     "output_type": "display_data"
    }
   ],
   "source": [
    "import cv2\n",
    "import numpy as np\n",
    "from matplotlib import pyplot as plt\n",
    "\n",
    "image = cv2.imread('./data/plane.jpg', cv2.IMREAD_GRAYSCALE)\n",
    "\n",
    "# 커널을 생성 - 전체 합이 1.0이 되도록 생성\n",
    "kernel = np.ones((5,5)) / 25.0\n",
    "# 커널을 확인\n",
    "print(kernel)\n",
    "\n",
    "# 커널을 적용\n",
    "image_kernel = cv2.filter2D(image, -1, kernel)\n",
    "\n",
    "plt.imshow(image_kernel, cmap=\"gray\")\n",
    "plt.xticks([])\n",
    "plt.yticks([])\n",
    "plt.show()"
   ]
  },
  {
   "cell_type": "markdown",
   "id": "090f150c",
   "metadata": {},
   "source": [
    "### 이미지 선명하게 하기"
   ]
  },
  {
   "cell_type": "code",
   "execution_count": 2,
   "id": "029f50f3",
   "metadata": {},
   "outputs": [
    {
     "data": {
      "image/png": "[encoded data removed]",
      "text/plain": [
       "<Figure size 432x288 with 1 Axes>"
      ]
     },
     "metadata": {
      "needs_background": "light"
     },
     "output_type": "display_data"
    }
   ],
   "source": [
    "import cv2\n",
    "import numpy as np\n",
    "from matplotlib import pyplot as plt\n",
    "\n",
    "# 흑백 이미지로 로드\n",
    "image = cv2.imread(\"./data/plane_256x256.jpg\", cv2.IMREAD_GRAYSCALE)\n",
    "\n",
    "# 커널 생성\n",
    "kernel = np.array([[0, -1, 0],\n",
    "                   [-1, 5,-1],\n",
    "                   [0, -1, 0]])\n",
    "\n",
    "# 커널을 적용해서 이미지를 선명하게 하기\n",
    "image_sharp = cv2.filter2D(image, -1, kernel)\n",
    "\n",
    "plt.imshow(image_sharp, cmap=\"gray\"), plt.axis(\"off\")\n",
    "plt.show()\n"
   ]
  },
  {
   "cell_type": "markdown",
   "id": "d7b8d9cc",
   "metadata": {},
   "source": [
    "### Roberts Mask"
   ]
  },
  {
   "cell_type": "code",
   "execution_count": null,
   "id": "ee501b2c",
   "metadata": {},
   "outputs": [],
   "source": [
    "def differential(image, data1, data2):\n",
    "    mask1 = np.array(data1, np.float32).reshape(3, 3)\n",
    "    mask2 = np.array(data2, np.float32).reshape(3, 3)\n",
    "\n",
    "    dst1 = filter(image, mask1)\n",
    "    dst2 = filter(image, mask2)\n",
    "    dst = cv2.magnitude(dst1, dst2)  # 회선 결과인 두 행렬의 크기 계산\n",
    "    dst1, dst2 = np.abs(dst1), np.abs(dst2)  # 회선 결과 행렬 양수 변경\n",
    "\n",
    "    dst = np.clip(dst, 0, 255).astype(\"uint8\")\n",
    "    dst1 = np.clip(dst1, 0, 255).astype(\"uint8\")\n",
    "    dst2 = np.clip(dst2, 0, 255).astype(\"uint8\")\n",
    "    return dst, dst1, dst2\n",
    "\n",
    "image = cv2.imread(\"./data/edge.jpg\", cv2.IMREAD_GRAYSCALE)\n",
    "if image is None: raise Exception(\"영상파일 읽기 오류\")\n",
    "\n",
    "data1 = [-1, 0, 0,\n",
    "         0, 1, 0,\n",
    "         0, 0, 0]\n",
    "data2 = [0, 0, -1,\n",
    "         0, 1, 0,\n",
    "         0, 0, 0]\n",
    "dst, dst1, dst2 = differential(image, data1, data2)  # 회선 수행 및 두 방향의 크기 계산\n",
    "\n",
    "cv2.imshow(\"image\", image)\n",
    "cv2.imshow(\"roberts edge\", dst)\n",
    "cv2.imshow(\"dst1\", dst1)\n",
    "cv2.imshow(\"dst2\", dst2)\n",
    "cv2.waitKey(0)"
   ]
  },
  {
   "cell_type": "markdown",
   "id": "f7b5f31a",
   "metadata": {},
   "source": [
    "### Prewitt Mask"
   ]
  },
  {
   "cell_type": "code",
   "execution_count": null,
   "id": "04bab6e2",
   "metadata": {},
   "outputs": [],
   "source": [
    "def differential(image, data1, data2):\n",
    "    mask1 = np.array(data1, np.float32).reshape(3, 3)\n",
    "    mask2 = np.array(data2, np.float32).reshape(3, 3)\n",
    "\n",
    "    dst1 = filter(image, mask1)                     # 사용자 정의 회선 함수\n",
    "    dst2 = filter(image, mask2)\n",
    "    dst = cv2.magnitude(dst1, dst2)                 # 회선 결과 두 행렬의 크기 계산\n",
    "\n",
    "    dst = cv2.convertScaleAbs(dst)                      # 윈도우 표시 위해 OpenCV 함수로 형변환 및 saturation 수행\n",
    "    dst1 = cv2.convertScaleAbs(dst1)\n",
    "    dst2 = cv2.convertScaleAbs(dst2)\n",
    "    return dst, dst1, dst2\n",
    "\n",
    "image = cv2.imread(\"./data/edge.jpg\", cv2.IMREAD_GRAYSCALE)\n",
    "if image is None: raise Exception(\"영상파일 읽기 오류\")\n",
    "\n",
    "data1 = [-1, 0, 1,                         # 프리윗 수직 마스크\n",
    "         -1, 0, 1,\n",
    "         -1, 0, 1]\n",
    "data2 = [-1,-1,-1,                         # 프리윗 수평 마스크\n",
    "          0, 0, 0,\n",
    "          1, 1, 1]\n",
    "dst, dst1, dst2 = differential(image, data1, data2)\n",
    "\n",
    "cv2.imshow(\"image\", image)\n",
    "cv2.imshow(\"prewitt edge\", dst)\n",
    "cv2.imshow(\"dst1 - vertical mask\", dst1)\n",
    "cv2.imshow(\"dst2 - horizontal mask\", dst2)\n",
    "cv2.waitKey(0)"
   ]
  },
  {
   "cell_type": "markdown",
   "id": "4170866e",
   "metadata": {},
   "source": [
    "### Sobel Mask"
   ]
  },
  {
   "cell_type": "code",
   "execution_count": null,
   "id": "011946a3",
   "metadata": {},
   "outputs": [],
   "source": [
    "import cv2\n",
    "import numpy as np\n",
    "\n",
    "src = cv2.imread('./data/rect.jpg', cv2.IMREAD_GRAYSCALE)\n",
    "#1\n",
    "gx = cv2.Sobel(src, cv2.CV_32F, 1, 0, ksize = 3)\n",
    "gy = cv2.Sobel(src, cv2.CV_32F, 0, 1, ksize = 3)\n",
    "\n",
    "#2\n",
    "dstX = cv2.sqrt(np.abs(gx))\n",
    "dstX = cv2.normalize(dstX, None, 0, 255, cv2.NORM_MINMAX, dtype=cv2.CV_8U)\n",
    "\n",
    "#3\n",
    "dstY = cv2.sqrt(np.abs(gy))\n",
    "dstY = cv2.normalize(dstY, None, 0, 255, cv2.NORM_MINMAX, dtype=cv2.CV_8U)\n",
    "\n",
    "#4\n",
    "mag   = cv2.magnitude(gx, gy)\n",
    "minVal, maxVal, minLoc, maxLoc = cv2.minMaxLoc(mag)\n",
    "print('mag:', minVal, maxVal, minLoc, maxLoc)\n",
    "\n",
    "dstM = cv2.normalize(mag, None, 0, 255, cv2.NORM_MINMAX, dtype=cv2.CV_8U)\n",
    "\n",
    "cv2.imshow('src',  src)\n",
    "cv2.imshow('dstX',  dstX)\n",
    "cv2.imshow('dstY',  dstY)\n",
    "cv2.imshow('dstM',  dstM)\n",
    "cv2.waitKey()\n",
    "cv2.destroyAllWindows()\n"
   ]
  },
  {
   "cell_type": "code",
   "execution_count": null,
   "id": "317636b6",
   "metadata": {},
   "outputs": [],
   "source": []
  },
  {
   "cell_type": "markdown",
   "id": "d3bf75fc",
   "metadata": {},
   "source": [
    "### 라플라시안 에지 검축"
   ]
  },
  {
   "cell_type": "code",
   "execution_count": null,
   "id": "efe578fb",
   "metadata": {},
   "outputs": [],
   "source": [
    "import cv2\n",
    "import numpy as np\n",
    "\n",
    "#1\n",
    "src = cv2.imread('./data/lena.jpg', cv2.IMREAD_GRAYSCALE)\n",
    "#src = cv2.imread('./data/9_F.jpg', cv2.IMREAD_GRAYSCALE)\n",
    "blur= cv2.GaussianBlur(src, ksize=(7, 7), sigmaX=0.0)\n",
    "cv2.imshow('src',  src)\n",
    "cv2.imshow('blur', blur)\n",
    "\n",
    "#2\n",
    "lap  = cv2.Laplacian(src, cv2.CV_32F)\n",
    "minVal, maxVal, minLoc, maxLoc = cv2.minMaxLoc(lap)\n",
    "print('lap:', minVal, maxVal, minLoc, maxLoc)\n",
    "dst = cv2.convertScaleAbs(lap)\n",
    "dst = cv2.normalize(dst, None, 0, 255, cv2.NORM_MINMAX)\n",
    "cv2.imshow('lap',  lap)\n",
    "cv2.imshow('dst',  dst)\n",
    "\n",
    "#3\n",
    "lap2 = cv2.Laplacian(blur, cv2.CV_32F)\n",
    "minVal, maxVal, minLoc, maxLoc = cv2.minMaxLoc(lap2)\n",
    "print('lap2:', minVal, maxVal, minLoc, maxLoc)\n",
    "dst2 = cv2.convertScaleAbs(lap2)\n",
    "dst2 = cv2.normalize(dst2, None, 0, 255, cv2.NORM_MINMAX)\n",
    "\n",
    "cv2.imshow('lap2',  lap2)\n",
    "cv2.imshow('dst2',  dst2)\n",
    "\n",
    "cv2.waitKey()\n",
    "cv2.destroyAllWindows()"
   ]
  },
  {
   "cell_type": "markdown",
   "id": "184f41b5",
   "metadata": {},
   "source": [
    "### Log & DoG"
   ]
  },
  {
   "cell_type": "code",
   "execution_count": null,
   "id": "187f01f1",
   "metadata": {},
   "outputs": [],
   "source": [
    "import numpy as np, cv2\n",
    "\n",
    "image = cv2.imread(\"./data/dog.jpg\", cv2.IMREAD_GRAYSCALE)\n",
    "if image is None: raise Exception(\"영상파일 읽기 오류\")\n",
    "\n",
    "gaus = cv2.GaussianBlur(image, (9,9), 0, 0)            # 가우시안 마스크 적용\n",
    "dst1 = cv2.Laplacian(gaus, cv2.CV_16S, 9)             # 라플라시안 수행\n",
    "\n",
    "gaus1 = cv2.GaussianBlur(image, (3, 3), 0)          # 가우사안 블러링\n",
    "gaus2 = cv2.GaussianBlur(image, (9, 9), 0)\n",
    "dst2 = gaus1 - gaus2          # DoG 수행\n",
    "\n",
    "cv2.imshow(\"image\", image)\n",
    "cv2.imshow(\"dst1 - LoG\", dst1.astype(\"uint8\"))\n",
    "cv2.imshow(\"dst2 - DoG\", dst2)\n",
    "cv2.waitKey(0)"
   ]
  },
  {
   "cell_type": "markdown",
   "id": "fbf58d61",
   "metadata": {},
   "source": [
    "### Kenny Edge"
   ]
  },
  {
   "cell_type": "code",
   "execution_count": null,
   "id": "d4243fc1",
   "metadata": {},
   "outputs": [],
   "source": [
    "import numpy as np, cv2\n",
    "\n",
    "def nonmax_suppression(sobel, direct):\n",
    "    rows, cols = sobel.shape[:2]\n",
    "    dst = np.zeros((rows, cols), np.float32)\n",
    "    for i in range(1, rows - 1):\n",
    "        for j in range(1, cols - 1):\n",
    "            # 행렬 처리를 통해 이웃 화소 가져오기\n",
    "            values = sobel[i-1:i+2, j-1:j+2].flatten()\n",
    "            first = [3, 0, 1, 2]\n",
    "            id = first[direct[i, j]]\n",
    "            v1, v2 = values[id], values[8-id]\n",
    "\n",
    "            ## if 문으로 이웃 화소 가져오기\n",
    "            # if direct[i, j] == 0: # 기울기 방향 0도\n",
    "            # v1, v2 = sobel[i, j–1], sobel[i, j+1]\n",
    "            # if direct[i, j] == 1: # 기울기 방향 45도\n",
    "            # v1, v2 = sobel[i–1, j–1], sobel[i+1, j+1]\n",
    "            # if direct[i, j] == 2: # 기울기 방향 90도\n",
    "            # v1, v2 = sobel[i–1, j], sobel[i+1, j]\n",
    "            # if direct[i, j] == 3 # 기울기 방향 135도\n",
    "            # v1, v2 = sobel[i+1, j–1], sobel[i–1, j+1]\n",
    "\n",
    "            dst[i, j] = sobel[i, j] if (v1 < sobel[i , j] > v2) else 0\n",
    "    return dst\n",
    "\n",
    "def trace(max_sobel, i, j, low):\n",
    "    h, w = max_sobel.shape\n",
    "    if (0 <= i < h and 0 <= j < w) == False: return  # 추적 화소 범위 확인\n",
    "    if pos_ck[i, j] == 0 and max_sobel[i, j] > low:\n",
    "        pos_ck[i, j] = 255\n",
    "        canny[i, j] = 255\n",
    "\n",
    "        trace(max_sobel, i - 1, j - 1, low)# 추적 함수 재귀 호출 - 8방향 추적\n",
    "        trace(max_sobel, i    , j - 1, low)\n",
    "        trace(max_sobel, i + 1, j - 1, low)\n",
    "        trace(max_sobel, i - 1, j    , low)\n",
    "        trace(max_sobel, i + 1, j    , low)\n",
    "        trace(max_sobel, i - 1, j + 1, low)\n",
    "        trace(max_sobel, i    , j + 1, low)\n",
    "        trace(max_sobel, i + 1, j + 1, low)\n",
    "\n",
    "def hysteresis_th(max_sobel, low, high):                # 이력 임계값 수행\n",
    "    rows, cols = max_sobel.shape[:2]\n",
    "    for i in range(1, rows - 1):  # 에지 영상 순회\n",
    "        for j in range(1, cols - 1):\n",
    "            if max_sobel[i, j] > high:  trace(max_sobel, i, j, low)  # 추적 시작\n",
    "\n",
    "image = cv2.imread(\"./data/canny.jpg\", cv2.IMREAD_GRAYSCALE)\n",
    "if image is None: raise Exception(\"영상 파일 읽기 오류\")\n",
    "\n",
    "pos_ck = np.zeros(image.shape[:2], np.uint8)\n",
    "canny = np.zeros(image.shape[:2], np.uint8)\n",
    "\n",
    "# 사용자 정의 캐니 에지\n",
    "gaus_img = cv2.GaussianBlur(image, (5, 5), 0.3)\n",
    "Gx = cv2.Sobel(np.float32(gaus_img), cv2.CV_32F, 1, 0, 3)  # x방향 마스크\n",
    "Gy = cv2.Sobel(np.float32(gaus_img), cv2.CV_32F, 0, 1, 3)  # y방향 마스크\n",
    "sobel = np.fabs(Gx) + np.fabs(Gy)  # 두 행렬 절댓값 덧셈\n",
    "# sobel = cv2.magnitude(Gx, Gy)                            # 두 행렬 벡터 크기\n",
    "\n",
    "directs = cv2.phase(Gx, Gy) / (np.pi / 4)\n",
    "directs = directs.astype(int) % 4\n",
    "max_sobel = nonmax_suppression(sobel, directs)   # 비최대치 억제\n",
    "hysteresis_th(max_sobel, 100, 150)          # 이력 임계값\n",
    "\n",
    "canny2 = cv2.Canny(image, 100, 150)                 # OpenCV 캐니 에지\n",
    "\n",
    "cv2.imshow(\"image\", image)\n",
    "cv2.imshow(\"canny\", canny)                 # 사용자 정의 캐니\n",
    "cv2.imshow(\"OpenCV_Canny\", canny2)           # OpenCV 캐니 에지\n",
    "cv2.waitKey(0)"
   ]
  },
  {
   "cell_type": "markdown",
   "id": "ac075b48",
   "metadata": {},
   "source": [
    "### 에지 검출"
   ]
  },
  {
   "cell_type": "code",
   "execution_count": 3,
   "id": "7e2971e6",
   "metadata": {},
   "outputs": [
    {
     "name": "stdout",
     "output_type": "stream",
     "text": [
      "kx= [[-1.]\n",
      " [ 0.]\n",
      " [ 1.]]\n",
      "ky= [[1.]\n",
      " [2.]\n",
      " [1.]]\n",
      "sobelX= [[-1.  0.  1.]\n",
      " [-2.  0.  2.]\n",
      " [-1.  0.  1.]]\n",
      "kx= [[1.]\n",
      " [2.]\n",
      " [1.]]\n",
      "ky= [[-1.]\n",
      " [ 0.]\n",
      " [ 1.]]\n",
      "sobelY= [[-1. -2. -1.]\n",
      " [ 0.  0.  0.]\n",
      " [ 1.  2.  1.]]\n"
     ]
    }
   ],
   "source": [
    "import cv2\n",
    "import numpy as np\n",
    "\n",
    "src = cv2.imread('./data/lena.jpg', cv2.IMREAD_GRAYSCALE)\n",
    "#src = cv2.imread('./data/9_F.jpg', cv2.IMREAD_GRAYSCALE)\n",
    "\n",
    "#1\n",
    "kx, ky = cv2.getDerivKernels(1, 0, ksize=3)\n",
    "sobelX = ky.dot(kx.T)\n",
    "print('kx=', kx)\n",
    "print('ky=', ky)\n",
    "print('sobelX=', sobelX)\n",
    "gx = cv2.filter2D(src, cv2.CV_32F, sobelX)\n",
    "##gx = cv2.sepFilter2D(src, cv2.CV_32F, kx, ky)\n",
    "\n",
    "#2\n",
    "kx, ky = cv2.getDerivKernels(0, 1, ksize=3)\n",
    "sobelY = ky.dot(kx.T)\n",
    "print('kx=', kx)\n",
    "print('ky=', ky)\n",
    "print('sobelY=', sobelY)\n",
    "gy = cv2.filter2D(src, cv2.CV_32F, sobelY)\n",
    "##gy = cv2.sepFilter2D(src, cv2.CV_32F, kx, ky)\n",
    "\n",
    "#3\n",
    "mag   = cv2.magnitude(gx, gy)\n",
    "ret, edge = cv2.threshold(mag, 100, 255, cv2.THRESH_BINARY)\n",
    "\n",
    "cv2.imshow('edge',  edge)\n",
    "cv2.waitKey()\n",
    "cv2.destroyAllWindows()"
   ]
  },
  {
   "cell_type": "code",
   "execution_count": null,
   "id": "6bac6b38",
   "metadata": {},
   "outputs": [],
   "source": []
  },
  {
   "cell_type": "markdown",
   "id": "317632c2",
   "metadata": {},
   "source": [
    "## 비선형 공간 필터링"
   ]
  },
  {
   "cell_type": "markdown",
   "id": "39c8ccc6",
   "metadata": {},
   "source": [
    "### 최솟값-최댓값 필터링"
   ]
  },
  {
   "cell_type": "code",
   "execution_count": null,
   "id": "742579df",
   "metadata": {},
   "outputs": [],
   "source": [
    "import numpy as np, cv2\n",
    "\n",
    "\n",
    "def minmax_filter(image, ksize, mode):\n",
    "    rows, cols = image.shape[:2]\n",
    "    dst = np.zeros((rows, cols), np.uint8)\n",
    "    center = ksize // 2  # 마스크 절반 크기\n",
    "\n",
    "    for i in range(center, rows - center):  # 입력 영상 순회\n",
    "        for j in range(center, cols - center):\n",
    "            # 마스크 영역 행렬 처리 방식\n",
    "            y1, y2 = i - center, i + center + 1  # 마스크 높이 범위\n",
    "            x1, x2 = j - center, j + center + 1  # 마스크 너비 범위\n",
    "            mask = image[y1:y2, x1:x2]  # 마스크 영역\n",
    "            dst[i, j] = cv2.minMaxLoc(mask)[mode]\n",
    "    return dst\n",
    "\n",
    "\n",
    "image = cv2.imread(\"./data/min_max.jpg\", cv2.IMREAD_GRAYSCALE)\n",
    "if image is None: raise Exception(\"영상파일 읽기 오류\")\n",
    "\n",
    "minfilter_img = minmax_filter(image, 3, 0)  # 3x3 마스크 최솟값 필터링\n",
    "maxfilter_img = minmax_filter(image, 3, 1)  # 3x3 마스크 최솟값 필터링\n",
    "\n",
    "cv2.imshow(\"image\", image)\n",
    "cv2.imshow(\"minfilter_img\", minfilter_img)\n",
    "cv2.imshow(\"maxfilter_img\", maxfilter_img)\n",
    "cv2.waitKey(0)"
   ]
  },
  {
   "cell_type": "markdown",
   "id": "eed4f5b1",
   "metadata": {},
   "source": [
    "### 평균값 필터링"
   ]
  },
  {
   "cell_type": "code",
   "execution_count": null,
   "id": "9f4fb672",
   "metadata": {},
   "outputs": [],
   "source": [
    "import numpy as np, cv2\n",
    "\n",
    "def average_filter(image, ksize):\n",
    "    rows, cols = image.shape[:2]\n",
    "    dst = np.zeros((rows, cols), np.uint8)\n",
    "    center = ksize // 2                                 # 마스크 절반 크기\n",
    "\n",
    "    for i in range(rows):           # 입력 영상 순회\n",
    "        for j in range(cols):\n",
    "            y1, y2 = i - center, i + center + 1        # 마스크 높이 범위\n",
    "            x1, x2 = j - center, j + center + 1        # 마스크 너비 범위\n",
    "            if y1 < 0 or y2 > rows or x1 < 0 or x2 > cols :\n",
    "                dst[i, j] = image[i, j]\n",
    "            else:\n",
    "                mask = image[y1:y2, x1:x2]                 # 범위 지정\n",
    "                dst[i, j] = cv2.mean(mask)[0]\n",
    "    return dst\n",
    "\n",
    "image = cv2.imread(\"./data/filter_avg.jpg\", cv2.IMREAD_GRAYSCALE)\n",
    "if image is None: raise Exception(\"영상파일 읽기 오류\")\n",
    "\n",
    "avg_img  = average_filter(image, 5)                    # 사용자 정의 평균값 필터 함수\n",
    "blur_img = cv2.blur(image, (5, 5), borderType=cv2.BORDER_CONSTANT) # OpenCV의 블러링 함수\n",
    "box_img  = cv2.boxFilter(image, ddepth=-1, ksize=(5, 5))   # OpenCV의 박스 필터 함수\n",
    "\n",
    "cv2.imshow(\"image\", image),\n",
    "cv2.imshow(\"avg_img\", avg_img)\n",
    "cv2.imshow(\"blur_img\", box_img)\n",
    "cv2.imshow(\"box_img\", box_img)\n",
    "cv2.waitKey(0)"
   ]
  },
  {
   "cell_type": "markdown",
   "id": "6aec9673",
   "metadata": {},
   "source": [
    "### 이미지 흐리게 하기"
   ]
  },
  {
   "cell_type": "code",
   "execution_count": null,
   "id": "7272cba5",
   "metadata": {},
   "outputs": [],
   "source": [
    "import cv2\n",
    "import numpy as np\n",
    "from matplotlib import pyplot as plt\n",
    "\n",
    "image = cv2.imread(\"./data/plane_256x256.jpg\", cv2.IMREAD_GRAYSCALE)\n",
    "\n",
    "# 이미지를 흐리게 하기\n",
    "image_blurry = cv2.blur(image, (5,5))\n",
    "\n",
    "# 이미지를 출력\n",
    "plt.imshow(image_blurry, cmap=\"gray\")\n",
    "plt.axis(\"off\")\n",
    "plt.show()"
   ]
  },
  {
   "cell_type": "code",
   "execution_count": null,
   "id": "96b3a4db",
   "metadata": {},
   "outputs": [],
   "source": [
    "# 이미지를 흐리게 \n",
    "image_very_hundred = cv2.blur(image, (100,100))\n",
    "\n",
    "# 이미지를 출력\n",
    "plt.imshow(image_very_hundred, cmap=\"gray\")\n",
    "plt.xticks([])\n",
    "plt.yticks([])\n",
    "plt.show()"
   ]
  },
  {
   "cell_type": "markdown",
   "id": "0a84e31f",
   "metadata": {},
   "source": [
    "### 중간값 필터링, 가우시안 필터링"
   ]
  },
  {
   "cell_type": "code",
   "execution_count": null,
   "id": "2f371ef5",
   "metadata": {},
   "outputs": [],
   "source": [
    "import cv2\n",
    "import numpy as np\n",
    "\n",
    "src = cv2.imread('./data/lena.jpg', cv2.IMREAD_GRAYSCALE)\n",
    "\n",
    "dst1= cv2.medianBlur(src, ksize = 7)\n",
    "dst2 = cv2.blur(src, ksize=(7, 7))\n",
    "dst3 = cv2.GaussianBlur(src, ksize=(7, 7), sigmaX=0.0)\n",
    "dst4 = cv2.GaussianBlur(src, ksize=(7, 7), sigmaX=10.0)\n",
    "\n",
    "cv2.imshow('dst1',  dst1)    \n",
    "cv2.imshow('dst2',  dst2)\n",
    "cv2.imshow('dst3',  dst3)\n",
    "cv2.imshow('dst4',  dst4)\n",
    "\n",
    "cv2.waitKey()    \n",
    "cv2.destroyAllWindows()\n"
   ]
  },
  {
   "cell_type": "code",
   "execution_count": null,
   "id": "51cbd923",
   "metadata": {},
   "outputs": [],
   "source": []
  },
  {
   "cell_type": "markdown",
   "id": "be94927d",
   "metadata": {},
   "source": [
    "### 모폴리지 연산"
   ]
  },
  {
   "cell_type": "code",
   "execution_count": null,
   "id": "d77aba1c",
   "metadata": {},
   "outputs": [],
   "source": [
    "#침식\n",
    "import numpy as np, cv2\n",
    "\n",
    "image = cv2.imread(\"./data/morph.jpg\", cv2.IMREAD_GRAYSCALE)\n",
    "if image is None: raise Exception(\"영상파일 읽기 오류\")\n",
    "\n",
    "data = [0, 1, 0,                                               # 마스크 선언 및 초기화\n",
    "        1, 1, 1,\n",
    "        0, 1, 0]\n",
    "mask = np.array(data, np.uint8).reshape(3, 3)\n",
    "th_img = cv2.threshold(image, 128, 255, cv2.THRESH_BINARY)[1]  # 영상 이진화\n",
    "dst = cv2.erode(th_img, mask)\n",
    "\n",
    "cv2.imshow(\"image\", image)\n",
    "cv2.imshow(\"binary image\", th_img)\n",
    "cv2.imshow(\"OpenCV erode\", dst)\n",
    "cv2.waitKey(0)"
   ]
  },
  {
   "cell_type": "code",
   "execution_count": null,
   "id": "b06d0a73",
   "metadata": {},
   "outputs": [],
   "source": [
    "#팽창\n",
    "import numpy as np, cv2\n",
    "\n",
    "image = cv2.imread(\"./data/morph.jpg\", cv2.IMREAD_GRAYSCALE)\n",
    "if image is None: raise Exception(\"영상파일 읽기 오류\")\n",
    "\n",
    "mask = np.array([[0, 1, 0],                         # 마스크 초기화\n",
    "                 [1, 1, 1],\n",
    "                 [0, 1, 0]]).astype(\"uint8\")\n",
    "th_img = cv2.threshold(image, 128, 255, cv2.THRESH_BINARY)[1]  # 영상 이진화                           # 사용자 정의 팽창 함수\n",
    "dst = cv2.dilate(th_img, mask)\n",
    "\n",
    "cv2.imshow(\"original image\", image)\n",
    "cv2.imshow(\"OpenCV dilate\", dst)\n",
    "cv2.waitKey(0)"
   ]
  },
  {
   "cell_type": "code",
   "execution_count": null,
   "id": "619771e1",
   "metadata": {},
   "outputs": [],
   "source": [
    "#열림 과 닫힘 연산\n",
    "import numpy as np, cv2\n",
    "\n",
    "image = cv2.imread(\"./data/morph.jpg\", cv2.IMREAD_GRAYSCALE)\n",
    "if image is None: raise Exception(\"영상파일 읽기 오류\")\n",
    "\n",
    "mask = np.array([[0, 1, 0],                 # 마스크 초기화\n",
    "                 [1, 1, 1],\n",
    "                 [0, 1, 0]]).astype(\"uint8\")\n",
    "th_img = cv2.threshold(image, 128, 255, cv2.THRESH_BINARY)[1]   # 영상 이진화\n",
    "\n",
    "dst1 = cv2.morphologyEx(th_img, cv2.MORPH_OPEN, mask)   # OpenCV의 열림 함수\n",
    "dst2 = cv2.morphologyEx(th_img, cv2.MORPH_CLOSE, mask, 1)  # OpenCV의 닫힘 함수\n",
    "\n",
    "cv2.imshow(\"Original Image\", image)\n",
    "cv2.imshow(\"OpenCV opening\", dst1)\n",
    "cv2.imshow(\"OpenCV closing\", dst2)\n",
    "cv2.waitKey(0)"
   ]
  },
  {
   "cell_type": "code",
   "execution_count": null,
   "id": "702c8acb",
   "metadata": {},
   "outputs": [],
   "source": [
    "#번포판 검출\n",
    "import numpy as np, cv2\n",
    "\n",
    "while True:\n",
    "    no = int(input(\"차량 영상 번호( 0:종료 ) : \"))  # 차량 번호 입력\n",
    "    if no == 0: break;\n",
    "\n",
    "    fname = \"./data/test_car/{0:02d}.jpg\".format(no)\n",
    "    image = cv2.imread(fname, cv2.IMREAD_COLOR)\n",
    "    if image is None:\n",
    "        print(str(no) + \"번 영상 파일이 없습니다.\")\n",
    "        continue\n",
    "\n",
    "    mask = np.ones((5, 17), np.uint8)  # 닫힘 연산 마스크\n",
    "    gray = cv2.cvtColor(image, cv2.COLOR_BGR2GRAY)  # 명암도 영상 변환\n",
    "    gray = cv2.blur(gray, (5, 5))  # 블러링\n",
    "    gray = cv2.Sobel(gray, cv2.CV_8U, 1, 0, 5)  # 소벨 에지 검출\n",
    "\n",
    "    # 이진화 및 닫힘 연산 수행\n",
    "    _, th_img = cv2.threshold(gray, 120, 255, cv2.THRESH_BINARY)\n",
    "    morph = cv2.morphologyEx(th_img, cv2.MORPH_CLOSE, mask, iterations=3)\n",
    "\n",
    "    cv2.imshow(\"image\", image)\n",
    "    cv2.imshow(\"binary image\", th_img)\n",
    "    cv2.imshow(\"opening\", morph)\n",
    "    cv2.waitKey()\n"
   ]
  },
  {
   "cell_type": "markdown",
   "id": "8cae259d",
   "metadata": {},
   "source": [
    "### 알파벳 매칭"
   ]
  },
  {
   "cell_type": "code",
   "execution_count": null,
   "id": "39970611",
   "metadata": {},
   "outputs": [],
   "source": [
    "import cv2\n",
    "import numpy as np\n",
    "\n",
    "src   = cv2.imread('./data/alphabet.bmp', cv2.IMREAD_GRAYSCALE)\n",
    "tmp_A   = cv2.imread('./data/A.bmp', cv2.IMREAD_GRAYSCALE)\n",
    "tmp_S   = cv2.imread('./data/S.bmp', cv2.IMREAD_GRAYSCALE)\n",
    "tmp_b   = cv2.imread('./data/b.bmp', cv2.IMREAD_GRAYSCALE)\n",
    "dst  = cv2.cvtColor(src, cv2.COLOR_GRAY2BGR)  # 출력 표시 영상\n",
    "\n",
    "#1\n",
    "R1 = cv2.matchTemplate(src, tmp_A, cv2.TM_SQDIFF_NORMED)\n",
    "minVal, _, minLoc, _ = cv2.minMaxLoc(R1)\n",
    "print('TM_SQDIFF_NORMED:', minVal, minLoc)\n",
    "\n",
    "w, h = tmp_A.shape[:2]\n",
    "cv2.rectangle(dst, minLoc, (minLoc[0]+h, minLoc[1]+w), (255, 0, 0), 2)\n",
    "\n",
    "#2\n",
    "R2 = cv2.matchTemplate(src, tmp_S, cv2.TM_CCORR_NORMED)\n",
    "_, maxVal, _, maxLoc = cv2.minMaxLoc(R2)\n",
    "print('TM_CCORR_NORMED:', maxVal, maxLoc)\n",
    "w, h = tmp_S.shape[:2]\n",
    "cv2.rectangle(dst, maxLoc, (maxLoc[0]+h, maxLoc[1]+w), (0, 255, 0), 2)\n",
    "\n",
    "#3\n",
    "R3 = cv2.matchTemplate(src, tmp_b, cv2.TM_CCOEFF_NORMED)\n",
    "_, maxVal, _, maxLoc = cv2.minMaxLoc(R3)\n",
    "print('TM_CCOEFF_NORMED:', maxVal, maxLoc)\n",
    "w, h = tmp_b.shape[:2]\n",
    "cv2.rectangle(dst, maxLoc, (maxLoc[0]+h, maxLoc[1]+w), (0, 0, 255), 2)\n",
    "\n",
    "cv2.imshow('dst',  dst)\n",
    "cv2.waitKey()\n",
    "cv2.destroyAllWindows()"
   ]
  }
 ],
 "metadata": {
  "kernelspec": {
   "display_name": "Python 3 (ipykernel)",
   "language": "python",
   "name": "python3"
  },
  "language_info": {
   "codemirror_mode": {
    "name": "ipython",
    "version": 3
   },
   "file_extension": ".py",
   "mimetype": "text/x-python",
   "name": "python",
   "nbconvert_exporter": "python",
   "pygments_lexer": "ipython3",
   "version": "3.9.7"
  }
 },
 "nbformat": 4,
 "nbformat_minor": 5
}
