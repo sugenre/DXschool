{
 "cells": [
  {
   "cell_type": "code",
   "execution_count": 3,
   "id": "eb23ad62",
   "metadata": {},
   "outputs": [],
   "source": [
    "# 파이썬 ≥3.5 필수\n",
    "import sys\n",
    "assert sys.version_info >= (3, 5)\n",
    "# 공통 모듈 임포트\n",
    "import numpy as np\n",
    "import pandas as pd\n",
    "import os\n",
    "# 깔끔한 그래프 출력을 위해 %matplotlib inline\n",
    "import matplotlib as mpl\n",
    "import matplotlib.pyplot as plt\n",
    "mpl.rc('axes', labelsize=14)\n",
    "mpl.rc('xtick', labelsize=12)\n",
    "mpl.rc('ytick', labelsize=12)\n",
    "\n",
    "# 그림을 저장할 위치\n",
    "PROJECT_ROOT_DIR = \".\"\n",
    "CHAPTER_ID = \"classification\"\n",
    "IMAGES_PATH = os.path.join(PROJECT_ROOT_DIR, \"images\", CHAPTER_ID)\n",
    "os.makedirs(IMAGES_PATH, exist_ok=True)\n",
    "def save_fig(fig_id, tight_layout=True, fig_extension=\"png\", resolution=300):\n",
    "    path = os.path.join(IMAGES_PATH, fig_id + \".\" + fig_extension)\n",
    "    print(\"그림 저장:\", fig_id)\n",
    "    if tight_layout:\n",
    "        plt.tight_layout()\n",
    "    plt.savefig(path, format=fig_extension, dpi=resolution)\n",
    "from matplotlib import font_manager, rc\n",
    "import platform\n",
    "path = \"c:/Windows/Fonts/malgun.ttf\"\n",
    "if platform.system() == 'Darwin':\n",
    "    rc('font', family='AppleGothic')\n",
    "elif platform.system() == 'Windows':\n",
    "    font_name = font_manager.FontProperties(fname=path).get_name()\n",
    "    rc('font', family=font_name)\n",
    "\n",
    "mpl.rcParams['axes.unicode_minus'] = False\n",
    "# Jupyter Notebook의 출력을 소수점 이하 3자리로 제한\n",
    "%precision 3\n",
    "\n",
    "# DataFrame의 출력을 소수점 이하 3자리로 제한\n",
    "# pd.set_option('precision', 3)\n",
    "import seaborn as sns\n",
    "#과학 기술 통계 라이브러리\n",
    "import scipy as sp\n",
    "from scipy import stats\n",
    "\n",
    "\n",
    "# 사이킷런 ≥0.20 필수\n",
    "import sklearn\n",
    "assert sklearn.__version__ >= \"0.20\"\n",
    "# 노트북 실행 결과를 동일하게 유지하기 위해\n",
    "np.random.seed(42)"
   ]
  },
  {
   "cell_type": "markdown",
   "id": "3b544ac4",
   "metadata": {},
   "source": [
    "## MNIST Date"
   ]
  },
  {
   "cell_type": "code",
   "execution_count": 5,
   "id": "a5f2d197",
   "metadata": {},
   "outputs": [
    {
     "name": "stdout",
     "output_type": "stream",
     "text": [
      "dict_keys(['data', 'target', 'frame', 'categories', 'feature_names', 'target_names', 'DESCR', 'details', 'url'])\n"
     ]
    }
   ],
   "source": [
    "#데이터 다운로드\n",
    "from sklearn.datasets import fetch_openml\n",
    "mnist = fetch_openml('mnist_784', version=1, as_frame=False)\n",
    "print(mnist.keys())"
   ]
  },
  {
   "cell_type": "code",
   "execution_count": 6,
   "id": "4ac5a66d",
   "metadata": {},
   "outputs": [
    {
     "data": {
      "text/plain": [
       "(70000, 784)"
      ]
     },
     "execution_count": 6,
     "metadata": {},
     "output_type": "execute_result"
    }
   ],
   "source": [
    "#피처 와 타겟 가져오기\n",
    "X, y = mnist[\"data\"], mnist[\"target\"]\n",
    "X.shape\n",
    "\n",
    "#데이터는 784 픽셀을 가진 흑백 이미지로 실제 크기는 28*28\n",
    "#각 픽셀은 0(흰색)부터 255(검은색)까지의 값"
   ]
  },
  {
   "cell_type": "code",
   "execution_count": 7,
   "id": "7694e8cd",
   "metadata": {},
   "outputs": [
    {
     "name": "stdout",
     "output_type": "stream",
     "text": [
      "그림 저장: some_digit_plot\n"
     ]
    },
    {
     "data": {
      "image/png": "[encoded data removed]",
      "text/plain": [
       "<Figure size 640x480 with 1 Axes>"
      ]
     },
     "metadata": {},
     "output_type": "display_data"
    }
   ],
   "source": [
    "#하나의 이미지 출력\n",
    "some_digit = X[0] # 이 이미지는 784 픽셀로 구성\n",
    "some_digit_image = some_digit.reshape(28, 28)#2차원 이미지로 변환\n",
    "plt.imshow(some_digit_image, cmap=mpl.cm.binary)\n",
    "plt.axis(\"off\")\n",
    "save_fig(\"some_digit_plot\")\n",
    "plt.show()"
   ]
  },
  {
   "cell_type": "code",
   "execution_count": 8,
   "id": "965de81e",
   "metadata": {},
   "outputs": [
    {
     "name": "stdout",
     "output_type": "stream",
     "text": [
      "5\n"
     ]
    }
   ],
   "source": [
    "#출력한 이미지와 레이블을 확인\n",
    "print(y[0])"
   ]
  },
  {
   "cell_type": "code",
   "execution_count": 20,
   "id": "a1ca40cf",
   "metadata": {},
   "outputs": [],
   "source": [
    "#여러 개의 이미지 데이터를 행 단위로 출력하는 함수\n",
    "#첫번째 매개변수(instance)는 출력할 이미지\n",
    "#두번째 매개변수(images_per_row)는 하나의 행에 출력할 이미지의 수 : 기본값은 10\n",
    "#세번째 매개변수는 옵션으로 딕셔너리를 설정\n",
    "\n",
    "#생략이 가능한 옵션을 많이 가지고 있으면 dict가 낫고 그렇지 않으면 class를 사용\n",
    "#여러 개의 옵션을 설정해야 하는 경우\n",
    "# 각 매개변수를 나열하는 경우 가독성을 떨어뜨림\n",
    "#이런 경우에는\n",
    "def plot_digits(instances, images_per_row=10, **options):\n",
    "    #이미지 크기를 변수로 생성\n",
    "    size = 28\n",
    "    #행에 출력할 이미지의 개수(열의 개수) 설정\n",
    "    images_per_row = min(len(instances), images_per_row)\n",
    "    #이미지 전체를 순회하면서 28 * 28로 설정\n",
    "    images = [instance.reshape(size,size) for instance in instances]\n",
    "    #행의 개수 구하기\n",
    "    n_rows = (len(instances) - 1) // images_per_row + 1\n",
    "    #이미지 들을 저장할 리스트\n",
    "    row_images = []\n",
    "    n_empty = n_rows * images_per_row - len(instances)\n",
    "    #0으로 가득채운 행렬을 만들어서 images 에 저장\n",
    "    images.append(np.zeros((size, size * n_empty)))\n",
    "\n",
    "    #행 단위로 순회하면서 이미지를 추가\n",
    "    for row in range(n_rows):\n",
    "        rimages = images[row * images_per_row : (row + 1) * images_per_row]\n",
    "        row_images.append(np.concatenate(rimages, axis=1))\n",
    "    image = np.concatenate(row_images, axis=0)\n",
    "    #이미지 출력\n",
    "    plt.imshow(image, cmap = mpl.cm.binary, **options)\n",
    "    plt.axis(\"off\")"
   ]
  },
  {
   "cell_type": "code",
   "execution_count": 21,
   "id": "84dc1ec6",
   "metadata": {},
   "outputs": [
    {
     "name": "stdout",
     "output_type": "stream",
     "text": [
      "<class 'str'>\n",
      "<class 'numpy.uint8'>\n"
     ]
    }
   ],
   "source": [
    "#타겟의 자료형 확인 : str\n",
    "print(type(y[0]))\n",
    "#범주형 데이터의 자료형은 정수를 권장\n",
    "#타겟의 자료형 변경\n",
    "#간혹 np.int로 변경하는 경우가 있는데 numpy 버전이 변경되면서 없어짐\n",
    "y = y.astype(np.uint8)\n",
    "print(type(y[0]))"
   ]
  },
  {
   "cell_type": "markdown",
   "id": "38b3a662",
   "metadata": {},
   "source": [
    "## 이진 분류를 위한 데이터 생성"
   ]
  },
  {
   "cell_type": "code",
   "execution_count": 22,
   "id": "046d07cd",
   "metadata": {},
   "outputs": [
    {
     "name": "stdout",
     "output_type": "stream",
     "text": [
      "[ True False False ...  True False False]\n",
      "[False False False ... False  True False]\n"
     ]
    }
   ],
   "source": [
    "#훈련 데이터와 테스트 데이터 분리\n",
    "X_train, X_test, y_train, y_test = X[:60000], X[60000:], y[:60000], y[60000:]\n",
    "\n",
    "#이진 분류는 True와 False로 분류\n",
    "#이진 분류의 경우는 Target이 bool\n",
    "y_train_5 = (y_train == 5)\n",
    "y_test_5 = (y_test == 5)\n",
    "\n",
    "print(y_train_5)\n",
    "print(y_test_5)"
   ]
  },
  {
   "cell_type": "markdown",
   "id": "0804f3b0",
   "metadata": {},
   "source": [
    "## 훈련 및 데이터 예측"
   ]
  },
  {
   "cell_type": "code",
   "execution_count": 23,
   "id": "bc8b5858",
   "metadata": {},
   "outputs": [
    {
     "data": {
      "text/plain": [
       "array([ True])"
      ]
     },
     "execution_count": 23,
     "metadata": {},
     "output_type": "execute_result"
    }
   ],
   "source": [
    "from sklearn.linear_model import SGDClassifier\n",
    "\n",
    "#훈련에 사용할 모델을 생성 - 하이퍼 파라미터를 설정\n",
    "#max_iter는 최대 반복 횟수\n",
    "#tol은 정밀도\n",
    "sgd_clf = SGDClassifier(max_iter=1000, tol=1e-3, random_state=42)\n",
    "\n",
    "#훈련\n",
    "sgd_clf.fit(X_train, y_train_5)\n",
    "\n",
    "#예측\n",
    "sgd_clf.predict([some_digit])"
   ]
  },
  {
   "cell_type": "markdown",
   "id": "440f8ab8",
   "metadata": {},
   "source": [
    "## k 겹 교차 검증을 이용한 정화도 측정"
   ]
  },
  {
   "cell_type": "code",
   "execution_count": 24,
   "id": "c9c6d2e0",
   "metadata": {},
   "outputs": [
    {
     "data": {
      "text/plain": [
       "array([0.95, 0.96, 0.96])"
      ]
     },
     "execution_count": 24,
     "metadata": {},
     "output_type": "execute_result"
    }
   ],
   "source": [
    "from sklearn.model_selection import cross_val_score\n",
    "#3번 교차 검증을 수행하는데 평가 지표는 정확도\n",
    "cross_val_score(sgd_clf, X_train, y_train_5, cv=3, scoring=\"accuracy\")"
   ]
  },
  {
   "cell_type": "code",
   "execution_count": 26,
   "id": "ed7dd30e",
   "metadata": {},
   "outputs": [
    {
     "data": {
      "text/plain": [
       "array([0.911, 0.909, 0.909])"
      ]
     },
     "execution_count": 26,
     "metadata": {},
     "output_type": "execute_result"
    }
   ],
   "source": [
    "#새로운 분류기를 가지고 훈련하고 교차 검증\n",
    "from sklearn.base import BaseEstimator\n",
    "\n",
    "class Never5Classifier(BaseEstimator):\n",
    "    def fit(self, X, y=None):\n",
    "        pass\n",
    "    def predict(self, X):\n",
    "        return np.zeros((len(X), 1), dtype=bool)\n",
    "#분류기 생성\n",
    "never_5_clf = Never5Classifier()\n",
    "#새로 만든 분류기의 정확도 확인\n",
    "cross_val_score(never_5_clf, X_train, y_train_5, cv=3, scoring=\"accuracy\")"
   ]
  },
  {
   "cell_type": "code",
   "execution_count": 27,
   "id": "d464bc6b",
   "metadata": {},
   "outputs": [
    {
     "data": {
      "text/plain": [
       "array([[53892,   687],\n",
       "       [ 1891,  3530]], dtype=int64)"
      ]
     },
     "execution_count": 27,
     "metadata": {},
     "output_type": "execute_result"
    }
   ],
   "source": [
    "## 오차 행렬(confusion matrix)\n",
    "from sklearn.model_selection import cross_val_predict\n",
    "from sklearn.metrics import confusion_matrix\n",
    "#확률적 경사 하강법 모델을 가지고 훈련한 후 값을 예측\n",
    "y_train_pred = cross_val_predict(sgd_clf, X_train, y_train_5, cv=3)\n",
    "#오차 행렬 출력\n",
    "confusion_matrix(y_train_5, y_train_pred)"
   ]
  },
  {
   "cell_type": "code",
   "execution_count": 31,
   "id": "bc015983",
   "metadata": {},
   "outputs": [
    {
     "name": "stdout",
     "output_type": "stream",
     "text": [
      "정확도: 0.9570333333333333\n",
      "정밀도 : 0.8370879772350012\n",
      "재현율 : 0.6511713705958311\n",
      "f1_score : 0.7325171197343846\n"
     ]
    }
   ],
   "source": [
    "#다른 평가 지표 계산\n",
    "from sklearn.metrics import accuracy_score, precision_score, recall_score, f1_score\n",
    "\n",
    "print(\"정확도:\", accuracy_score(y_train_5, y_train_pred))\n",
    "print(\"정밀도 :\",  precision_score(y_train_5, y_train_pred))\n",
    "print(\"재현율 :\", recall_score(y_train_5, y_train_pred))\n",
    "print(\"f1_score :\", f1_score(y_train_5, y_train_pred))"
   ]
  },
  {
   "cell_type": "code",
   "execution_count": 34,
   "id": "eed6dc01",
   "metadata": {},
   "outputs": [
    {
     "name": "stdout",
     "output_type": "stream",
     "text": [
      "[2164.22]\n",
      "[  1200.931 -26883.792 -33072.035 ...  13272.127  -7258.472 -16877.508]\n"
     ]
    }
   ],
   "source": [
    "#결정 임계값\n",
    "\n",
    "#자신의 점수를 출력\n",
    "y_scores = sgd_clf.decision_function([some_digit])\n",
    "print(y_scores)\n",
    "\n",
    "#전체 훈련 데이터의 점수를 출력\n",
    "y_scores = cross_val_predict(sgd_clf, X_train, y_train_5, cv=3,\n",
    "                             method=\"decision_function\")\n",
    "\n",
    "print(y_scores)"
   ]
  },
  {
   "cell_type": "code",
   "execution_count": 39,
   "id": "284e5fcb",
   "metadata": {
    "scrolled": false
   },
   "outputs": [
    {
     "data": {
      "image/png": "[encoded data removed]",
      "text/plain": [
       "<Figure size 800x400 with 1 Axes>"
      ]
     },
     "metadata": {},
     "output_type": "display_data"
    },
    {
     "data": {
      "image/png": "[encoded data removed]",
      "text/plain": [
       "<Figure size 640x480 with 1 Axes>"
      ]
     },
     "metadata": {},
     "output_type": "display_data"
    }
   ],
   "source": [
    "#정밀도와 재현율 트레이드 오프\n",
    "\n",
    "from sklearn.metrics import precision_recall_curve\n",
    "precisions, recalls, thresholds = precision_recall_curve(y_train_5, y_scores)\n",
    "\n",
    "#정밀도와 재현율 그래프를 그려주는 함수\n",
    "def plot_precision_recall_vs_threshold(precisions, recalls, thresholds):\n",
    "    plt.plot(thresholds, precisions[:-1], \"b--\", label=\"Precision\", linewidth=2)\n",
    "    plt.plot(thresholds, recalls[:-1], \"g-\", label=\"Recall\", linewidth=2)\n",
    "    \n",
    "    plt.legend(loc=\"center right\", fontsize=16) # Not shown in the book\n",
    "    plt.xlabel(\"Threshold\", fontsize=16) # Not shown\n",
    "    plt.grid(True) # Not shown\n",
    "    plt.axis([-50000, 50000, 0, 1]) # Not shown\n",
    "    \n",
    "plt.figure(figsize=(8,4))\n",
    "plot_precision_recall_vs_threshold(precisions, recalls, thresholds)\n",
    "plt.show()\n",
    "\n",
    "#정밀도와 재현율이 0.9가 되는 위치의 재현율 조회\n",
    "recall_90_precision = recalls[np.argmax(precisions >= 0.90)]\n",
    "threshold_90_precision = thresholds[np.argmax(precisions >= 0.90)]\n",
    "\n",
    "plt.plot([threshold_90_precision, threshold_90_precision], [0, 0.9], \"r\")\n",
    "plt.plot([-50000, threshold_90_precision], [0.9, 0.9], \"r:\")\n",
    "plt.plot([-50000, threshold_90_precision], \n",
    "         [recall_90_precision, recall_90_precision], \"r:\")\n",
    "plt.plot([threshold_90_precision], [0.9], \"ro\")\n",
    "plt.plot([threshold_90_precision], [recall_90_precision], \"ro\")\n",
    "\n",
    "plt.show()"
   ]
  },
  {
   "cell_type": "code",
   "execution_count": 42,
   "id": "94d2f4c0",
   "metadata": {},
   "outputs": [
    {
     "name": "stdout",
     "output_type": "stream",
     "text": [
      "0.9000345901072293\n",
      "0.4799852425751706\n"
     ]
    }
   ],
   "source": [
    "#정밀도가 0.9가 되는 지점을 이용해서 예측\n",
    "y_train_pred_90 = (y_scores >= threshold_90_precision)\n",
    "#정밀도\n",
    "print(precision_score(y_train_5, y_train_pred_90))\n",
    "#재현율\n",
    "print(recall_score(y_train_5, y_train_pred_90))"
   ]
  },
  {
   "cell_type": "markdown",
   "id": "4e7ca7e6",
   "metadata": {},
   "source": [
    "## ROC 곡선"
   ]
  },
  {
   "cell_type": "code",
   "execution_count": 43,
   "id": "13cfe5ce",
   "metadata": {},
   "outputs": [
    {
     "data": {
      "image/png": "[encoded data removed]",
      "text/plain": [
       "<Figure size 800x600 with 1 Axes>"
      ]
     },
     "metadata": {},
     "output_type": "display_data"
    }
   ],
   "source": [
    "from sklearn.metrics import roc_curve\n",
    "\n",
    "#그래프에 사용할 값 계산\n",
    "fpr, tpr, thresholds = roc_curve(y_train_5, y_scores)\n",
    "\n",
    "def plot_roc_curve(fpr, tpr, label=None):\n",
    "    plt.plot(fpr, tpr, linewidth=2, label=label)\n",
    "    plt.plot([0, 1], [0, 1], 'k--') # 대각 점선 - 완전 랜덤인 경우\n",
    "    plt.axis([0, 1, 0, 1])\n",
    "    plt.xlabel('False Positive Rate (Fall-Out)', fontsize=16)\n",
    "    plt.ylabel('True Positive Rate (Recall)', fontsize=16)\n",
    "    plt.grid(True)\n",
    "    \n",
    "plt.figure(figsize=(8, 6))\n",
    "plot_roc_curve(fpr, tpr)\n",
    "plt.show()"
   ]
  },
  {
   "cell_type": "code",
   "execution_count": 44,
   "id": "9053ca55",
   "metadata": {},
   "outputs": [
    {
     "name": "stdout",
     "output_type": "stream",
     "text": [
      "0.9604938554008616\n"
     ]
    }
   ],
   "source": [
    "# ROC 곡선의 면적\n",
    "from sklearn.metrics import roc_auc_score\n",
    "print(roc_auc_score(y_train_5, y_scores))"
   ]
  },
  {
   "cell_type": "markdown",
   "id": "c75661f6",
   "metadata": {},
   "source": [
    "## 이진 분류기를 이용한 다중 분류"
   ]
  },
  {
   "cell_type": "code",
   "execution_count": 45,
   "id": "e899f9d9",
   "metadata": {},
   "outputs": [
    {
     "name": "stdout",
     "output_type": "stream",
     "text": [
      "[5]\n",
      "[[ 2.816  7.092  3.83   0.794  5.889  9.297  1.799  8.104 -0.228  4.838]]\n"
     ]
    }
   ],
   "source": [
    "from sklearn.svm import SVC\n",
    "#이진 분류기\n",
    "svm_clf = SVC(gamma=\"auto\", random_state=42)\n",
    "#이진 분류기를 이용해서 0-9까지 10을 분류\n",
    "svm_clf.fit(X_train[:1000], y_train[:1000])\n",
    "print(svm_clf.predict([some_digit]))\n",
    "#결정 점수를 확인\n",
    "some_digit_scores = svm_clf.decision_function([some_digit])\n",
    "print(some_digit_scores)"
   ]
  },
  {
   "cell_type": "markdown",
   "id": "772ca497",
   "metadata": {},
   "source": [
    "## SGD를 이용한 다중 분류"
   ]
  },
  {
   "cell_type": "code",
   "execution_count": null,
   "id": "26869cf4",
   "metadata": {},
   "outputs": [],
   "source": []
  },
  {
   "cell_type": "code",
   "execution_count": null,
   "id": "6209e15e",
   "metadata": {},
   "outputs": [],
   "source": []
  },
  {
   "cell_type": "code",
   "execution_count": null,
   "id": "ef7677c5",
   "metadata": {},
   "outputs": [],
   "source": []
  }
 ],
 "metadata": {
  "kernelspec": {
   "display_name": "Python 3 (ipykernel)",
   "language": "python",
   "name": "python3"
  },
  "language_info": {
   "codemirror_mode": {
    "name": "ipython",
    "version": 3
   },
   "file_extension": ".py",
   "mimetype": "text/x-python",
   "name": "python",
   "nbconvert_exporter": "python",
   "pygments_lexer": "ipython3",
   "version": "3.10.9"
  }
 },
 "nbformat": 4,
 "nbformat_minor": 5
}
