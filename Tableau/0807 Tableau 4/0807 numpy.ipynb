{
 "cells": [
  {
   "cell_type": "code",
   "execution_count": 5,
   "id": "e24a5994",
   "metadata": {},
   "outputs": [],
   "source": [
    "import numpy as np\n",
    "import datetime"
   ]
  },
  {
   "cell_type": "code",
   "execution_count": 11,
   "id": "d0949f1e",
   "metadata": {},
   "outputs": [
    {
     "name": "stdout",
     "output_type": "stream",
     "text": [
      "시작 시간: 2023-08-07 15:25:17.591735\n",
      "종료 시간: 2023-08-07 15:25:17.665371\n"
     ]
    }
   ],
   "source": [
    "#list의 작업 시간\n",
    "li = range(1,1000000)\n",
    " \n",
    "#현재 시간 저장\n",
    "s = datetime.datetime.now()\n",
    "print(\"시작 시간:\", s)\n",
    "\n",
    "#모든 요소에 10을 곱해서 list를 수정\n",
    "for i in li:\n",
    "    i = i*10\n",
    "    \n",
    "#현재 시간 저장\n",
    "s = datetime.datetime.now()\n",
    "print(\"종료 시간:\", s)"
   ]
  },
  {
   "cell_type": "code",
   "execution_count": 13,
   "id": "9a2b2176",
   "metadata": {},
   "outputs": [
    {
     "name": "stdout",
     "output_type": "stream",
     "text": [
      "시작 시간: 2023-08-07 15:27:18.632442\n",
      "종료 시간: 2023-08-07 15:27:18.633442\n"
     ]
    }
   ],
   "source": [
    "ar = np.arange(1,1000000)\n",
    "s = datetime.datetime.now()\n",
    "print(\"시작 시간:\", s)\n",
    "ar = ar * 10\n",
    "s = datetime.datetime.now()\n",
    "print(\"종료 시간:\", s)"
   ]
  },
  {
   "cell_type": "code",
   "execution_count": null,
   "id": "28a0a957",
   "metadata": {},
   "outputs": [],
   "source": []
  },
  {
   "cell_type": "code",
   "execution_count": 15,
   "id": "5f8ea4e7",
   "metadata": {},
   "outputs": [
    {
     "name": "stdout",
     "output_type": "stream",
     "text": [
      "<class 'numpy.ndarray'>\n",
      "int32\n",
      "1\n",
      "(3,)\n"
     ]
    }
   ],
   "source": [
    "#배열의 정보 확인\n",
    "ar = np.array([1, 2, 3,])\n",
    "\n",
    "#ar의 자료형\n",
    "print(type(ar))\n",
    "\n",
    "#ar에 저장된 요소의 자료형\n",
    "print(ar.dtype) \n",
    "#일차원 배열\n",
    "print(ar.ndim)\n",
    "#3개의 행으로 구성\n",
    "print(ar.shape)"
   ]
  },
  {
   "cell_type": "code",
   "execution_count": 19,
   "id": "d0424596",
   "metadata": {},
   "outputs": [
    {
     "name": "stdout",
     "output_type": "stream",
     "text": [
      "2\n",
      "(2, 3)\n"
     ]
    }
   ],
   "source": [
    "ar = np.array([[1, 2, 3], [4, 5, 6]])\n",
    "print(ar. ndim) #2\n",
    "print(ar.shape) #2행 3열"
   ]
  },
  {
   "cell_type": "code",
   "execution_count": null,
   "id": "7a67a1d5",
   "metadata": {},
   "outputs": [],
   "source": []
  },
  {
   "cell_type": "code",
   "execution_count": 21,
   "id": "de5b45f7",
   "metadata": {
    "scrolled": true
   },
   "outputs": [
    {
     "name": "stdout",
     "output_type": "stream",
     "text": [
      "[ 1  3  5  7  9 11 13 15 17 19 21 23 25 27 29 31 33 35 37 39 41 43 45 47\n",
      " 49 51 53 55 57 59 61 63 65 67 69 71 73 75 77 79 81 83 85 87 89 91 93 95\n",
      " 97 99]\n",
      "[  1.  12.  23.  34.  45.  56.  67.  78.  89. 100.]\n"
     ]
    }
   ],
   "source": [
    "ar = np.arange(1, 100, 2)\n",
    "print(ar)\n",
    "ar = np.linspace(1, 100, num = 10) #num은 개수\n",
    "print(ar)"
   ]
  },
  {
   "cell_type": "code",
   "execution_count": null,
   "id": "c8849756",
   "metadata": {},
   "outputs": [],
   "source": []
  },
  {
   "cell_type": "code",
   "execution_count": 23,
   "id": "d499d205",
   "metadata": {},
   "outputs": [
    {
     "name": "stdout",
     "output_type": "stream",
     "text": [
      "[[1. 0. 0.]\n",
      " [0. 1. 0.]\n",
      " [0. 0. 1.]]\n",
      "[[0. 1. 0.]\n",
      " [0. 0. 1.]\n",
      " [0. 0. 0.]]\n",
      "[[0. 0. 0.]\n",
      " [1. 0. 0.]\n",
      " [0. 1. 0.]]\n"
     ]
    }
   ],
   "source": [
    "#eye - 대각선 방향으로 1을 채운 행렬\n",
    "#3X3 행렬을 생성하고 대각선 방향으로 1을 채움\n",
    "ar = np.eye(3)\n",
    "print(ar)\n",
    "#3X3 행렬을 생성하고 대각선 방향으로 1을 채우는데 기본에서 위로\n",
    "ar = np.eye(3, k = 1)\n",
    "print(ar)\n",
    "#3X3 행렬을 생성하고 대각선 방향으로 1을 채우는데 기본에서 아래로\n",
    "ar = np.eye(3, k = -1)\n",
    "print(ar)"
   ]
  },
  {
   "cell_type": "code",
   "execution_count": null,
   "id": "83f88b9c",
   "metadata": {},
   "outputs": [],
   "source": []
  },
  {
   "cell_type": "code",
   "execution_count": 27,
   "id": "a6ad8a07",
   "metadata": {},
   "outputs": [
    {
     "name": "stdout",
     "output_type": "stream",
     "text": [
      "[[1 2 3]\n",
      " [4 5 6]\n",
      " [7 8 9]]\n",
      "[1 5 9]\n",
      "[4 8]\n"
     ]
    }
   ],
   "source": [
    "ar = np.array([[1, 2, 3], [4, 5, 6], [7, 8, 9]])\n",
    "print(ar)\n",
    "\n",
    "#대각선 방향이므로 1, 5, 9\n",
    "br = np.diag(ar)\n",
    "print(br)\n",
    "\n",
    "#기본 대각선에서  하나 아래로 내려가므로 4,8\n",
    "cr = np.diag(ar, k=-1)\n",
    "print(cr)"
   ]
  },
  {
   "cell_type": "code",
   "execution_count": null,
   "id": "93d5b982",
   "metadata": {},
   "outputs": [],
   "source": []
  },
  {
   "cell_type": "code",
   "execution_count": 31,
   "id": "ecfff85a",
   "metadata": {},
   "outputs": [
    {
     "name": "stdout",
     "output_type": "stream",
     "text": [
      "['1' '2' '3']\n",
      "[1 2 3]\n",
      "['1' '2' '3']\n",
      "[1 2 3]\n"
     ]
    }
   ],
   "source": [
    "ar = np.array([1, 2, '3']) #문자열로 배열이 생성\n",
    "print(ar)\n",
    "\n",
    "#자료형을 지정해서 생성\n",
    "#정수로 배열이 생성 - 자료형 지정\n",
    "ar = np.array([1, 2, '3'], dtype=np.int32) \n",
    "print(ar)\n",
    "\n",
    "#문자열로 배열이 생성\n",
    "ar = np.array([1, 2, '3'])\n",
    "print(ar)\n",
    "\n",
    "#기존 배열의 자료형을 변경해서 생성              \n",
    "br = ar.astype(np.int32) \n",
    "print(br)"
   ]
  },
  {
   "cell_type": "code",
   "execution_count": null,
   "id": "fa09f8f5",
   "metadata": {},
   "outputs": [],
   "source": []
  },
  {
   "cell_type": "code",
   "execution_count": 33,
   "id": "2f466fd1",
   "metadata": {
    "scrolled": false
   },
   "outputs": [
    {
     "name": "stdout",
     "output_type": "stream",
     "text": [
      "[[1 2 3]\n",
      " [4 5 6]\n",
      " [7 8 9]]\n",
      "[1 2 3 4 5 6 7 8 9]\n"
     ]
    }
   ],
   "source": [
    "#3X3 행렬\n",
    "matrix = np.array([[1,2,3], [4,5,6], [7,8,9]])\n",
    "print(matrix)\n",
    "#1차원으로 변환\n",
    "ar = matrix.reshape(-1)\n",
    "print(ar)"
   ]
  },
  {
   "cell_type": "code",
   "execution_count": 35,
   "id": "46fee54e",
   "metadata": {
    "scrolled": true
   },
   "outputs": [
    {
     "name": "stdout",
     "output_type": "stream",
     "text": [
      "[[1 2 3]\n",
      " [4 5 6]\n",
      " [7 8 9]]\n",
      "[1 2 3 4 5 6 7 8 9]\n",
      "[[101   2   3]\n",
      " [  4   5   6]\n",
      " [  7   8   9]]\n",
      "[101   2   3   4   5   6   7   8   9]\n",
      "[[101   2   3]\n",
      " [  4   5   6]\n",
      " [  7   8   9]]\n"
     ]
    }
   ],
   "source": [
    "#3X3 행렬\n",
    "matrix = np.array([[1,2,3], [4,5,6], [7,8,9]])\n",
    "print(matrix)\n",
    "\n",
    "#1차원으로 변환 : 접근 방법을 변환한 것이라서 이전과 동일한 데이터\n",
    "ar = matrix.reshape(-1)\n",
    "print(ar)\n",
    "ar[0] = 101\n",
    "print(matrix)\n",
    "\n",
    "#복제를 해서 1차원으로 변경 - 원본과 다른 데이터를 생성\n",
    "br = matrix.flatten()\n",
    "print(br)\n",
    "br[0]=1\n",
    "print(matrix)"
   ]
  },
  {
   "cell_type": "code",
   "execution_count": null,
   "id": "2c40fc9c",
   "metadata": {},
   "outputs": [],
   "source": []
  },
  {
   "cell_type": "code",
   "execution_count": 40,
   "id": "357b09ba",
   "metadata": {},
   "outputs": [
    {
     "name": "stdout",
     "output_type": "stream",
     "text": [
      "[[1 2 3]\n",
      " [4 5 6]\n",
      " [7 8 9]]\n",
      "2\n",
      "[1 2 3]\n",
      "[1 4 7]\n",
      "[3 6 9]\n"
     ]
    }
   ],
   "source": [
    "matrix = np.array([[1,2,3], [4,5,6], [7,8,9]])\n",
    "#전체 출력\n",
    "print(matrix)\n",
    "\n",
    "#0번째 행에 1번째 열\n",
    "print(matrix[0][1])\n",
    "\n",
    "#0번째 열의 1번째 열\n",
    "#0번째 행을 선택할 때는 열 인덱스를제외\n",
    "print(matrix[0])\n",
    "\n",
    "#0번째 행에 1번째 열\n",
    "#0번째 열을 선택할 때는 행에 전체라고 설정을 해야 함\n",
    "#행렬 구조가 있을 때 행을 먼저 선택하고 \n",
    "#열을 선택하기 때문에 행은 생략할 수 없음\n",
    "print(matrix[:,0])\n",
    "\n",
    "#0번째 행부터 2번째 행 앞까지\n",
    "print(matrix[:,2])"
   ]
  },
  {
   "cell_type": "code",
   "execution_count": null,
   "id": "be4921cd",
   "metadata": {},
   "outputs": [],
   "source": []
  },
  {
   "cell_type": "code",
   "execution_count": 43,
   "id": "6e611535",
   "metadata": {},
   "outputs": [
    {
     "name": "stdout",
     "output_type": "stream",
     "text": [
      "[[1 2 3]\n",
      " [4 5 6]\n",
      " [7 8 9]]\n",
      "1\n",
      "1\n",
      "1004\n",
      "1\n"
     ]
    }
   ],
   "source": [
    "matrix = np.array([[1,2,3], [4,5,6], [7,8,9]])\n",
    "#전체 출력\n",
    "print(matrix)\n",
    "\n",
    "\n",
    "x = matrix[0][0]\n",
    "print(x)\n",
    "print(matrix[0][0])\n",
    "\n",
    "#현재는 둘다 1\n",
    "\n",
    "x = 1004\n",
    "print(x)\n",
    "\n",
    "#[행번호][열번호] 이렇게 접근하는 경우는 슬라이싱이라고 하고\n",
    "#[행번호, 열번호] 이렇게 접근하는 것이 인덱싱 \n",
    "#슬라이싱은 복제를 함\n",
    "#인덱싱은 참조를 복사함\n",
    "#참조를 복사하면 변경이 영향을 미침\n",
    "print(matrix[0][0])\n"
   ]
  },
  {
   "cell_type": "code",
   "execution_count": null,
   "id": "d4924b4d",
   "metadata": {},
   "outputs": [],
   "source": []
  },
  {
   "cell_type": "code",
   "execution_count": 44,
   "id": "7db08fdf",
   "metadata": {},
   "outputs": [
    {
     "name": "stdout",
     "output_type": "stream",
     "text": [
      "[[1 2 3]\n",
      " [4 5 6]\n",
      " [7 8 9]]\n",
      "[1 2 3]\n",
      "[1 2 3]\n",
      "[100   2   3]\n",
      "[100   2   3]\n",
      "[[100   2   3]\n",
      " [  4   5   6]\n",
      " [  7   8   9]]\n"
     ]
    }
   ],
   "source": [
    "matrix = np.array([[1,2,3], [4,5,6], [7,8,9]])\n",
    "#전체 출력\n",
    "print(matrix)\n",
    "\n",
    "#0번 행을 인덱싱\n",
    "ar = matrix[0]\n",
    "br = matrix[0, ]\n",
    "print(ar)\n",
    "print(br)\n",
    "\n",
    "#ar의 0번째 요소를 100으로 수정\n",
    "ar[0] = 100\n",
    "print(ar)\n",
    "print(br)\n",
    "print(matrix)"
   ]
  },
  {
   "cell_type": "code",
   "execution_count": null,
   "id": "c8813e13",
   "metadata": {},
   "outputs": [],
   "source": []
  },
  {
   "cell_type": "code",
   "execution_count": 46,
   "id": "9c8f818a",
   "metadata": {},
   "outputs": [
    {
     "name": "stdout",
     "output_type": "stream",
     "text": [
      "[[1 2 3]\n",
      " [4 5 6]\n",
      " [7 8 9]]\n",
      "[100   2   3]\n",
      "[100   2   3]\n",
      "[[1004    2    3]]\n",
      "[1 2 3]\n",
      "[[1 2 3]\n",
      " [4 5 6]\n",
      " [7 8 9]]\n"
     ]
    }
   ],
   "source": [
    "matrix = np.array([[1,2,3], [4,5,6], [7,8,9]])\n",
    "#전체 출력\n",
    "print(matrix)\n",
    "\n",
    "\n",
    "#list를 이용하는 인덱싱을 팬시 인덱싱이라고 함\n",
    "cr = matrix[[0]]\n",
    "#범위를 이용하는 형태를 슬라이싱이라고 함\n",
    "dr = matrix[0][:]\n",
    "#팬시 인덱싱과 슬라이싱은 복제를 함\n",
    "#복제된 데이터를 수정해도 원본에 영향을 주지 않음\n",
    "print(ar)\n",
    "print(br)\n",
    "\n",
    "cr[0, 0] = 1004\n",
    "print(cr)      #[1004, 2, 3]\n",
    "print(dr)      #[1, 2, 3]\n",
    "print(matrix)  #[[1, 2, 3] [4, 5, 6], [7, 8, 9]]"
   ]
  },
  {
   "cell_type": "code",
   "execution_count": null,
   "id": "91b3ee89",
   "metadata": {},
   "outputs": [],
   "source": []
  },
  {
   "cell_type": "code",
   "execution_count": 48,
   "id": "2d012fba",
   "metadata": {},
   "outputs": [
    {
     "name": "stdout",
     "output_type": "stream",
     "text": [
      "[5]\n",
      "[1 3 5 6 7 4]\n"
     ]
    }
   ],
   "source": [
    "ar = np.array([10, 2, 30, 3, 7 , 8 ])\n",
    "br = np.array([1, 3, 5, 6 ,7, 4])\n",
    "\n",
    "# 조건을 만족하는 ar을 찾아서 같은 위치에 있는 br의 값을 출력\n",
    "print(br[ar >= 30])\n",
    "\n",
    "\n",
    "# and나 or 은 true나 false를 반환함\n",
    "# &나 |는 배열 전체를 내보내고\n",
    "#numpy의 모든 함수는 pandas에서 가져다씀\n",
    "print(br[(ar >= 30) | (ar <= 10)])"
   ]
  },
  {
   "cell_type": "code",
   "execution_count": null,
   "id": "f985a5c0",
   "metadata": {},
   "outputs": [],
   "source": []
  }
 ],
 "metadata": {
  "kernelspec": {
   "display_name": "Python 3 (ipykernel)",
   "language": "python",
   "name": "python3"
  },
  "language_info": {
   "codemirror_mode": {
    "name": "ipython",
    "version": 3
   },
   "file_extension": ".py",
   "mimetype": "text/x-python",
   "name": "python",
   "nbconvert_exporter": "python",
   "pygments_lexer": "ipython3",
   "version": "3.10.9"
  }
 },
 "nbformat": 4,
 "nbformat_minor": 5
}
