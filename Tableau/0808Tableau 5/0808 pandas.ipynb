{
 "cells": [
  {
   "cell_type": "code",
   "execution_count": 27,
   "id": "25071a1d",
   "metadata": {},
   "outputs": [],
   "source": [
    "import numpy as np\n",
    "import pandas as pd"
   ]
  },
  {
   "cell_type": "code",
   "execution_count": 9,
   "id": "0652e4c2",
   "metadata": {},
   "outputs": [
    {
     "name": "stdout",
     "output_type": "stream",
     "text": [
      "0    10\n",
      "1    20\n",
      "2    30\n",
      "3    40\n",
      "dtype: int64\n",
      "one      10\n",
      "two      20\n",
      "three    30\n",
      "four     40\n",
      "dtype: int64\n",
      "태연       소녀시대\n",
      "수지     Miss A\n",
      "카리나       에스파\n",
      "dtype: object\n"
     ]
    }
   ],
   "source": [
    "#인덱스 없이 0,1,2,3으로 접근하도록 생성\n",
    "series1 = pd.Series([10,20,30,40])\n",
    "\n",
    "#인덱스와 함께 생성\n",
    "series2 = pd.Series([10,20,30,40], index=[\"one\", \"two\", \"three\", \"four\"])\n",
    "print(series1)\n",
    "print(series2)\n",
    "\n",
    "#dict를 이용해서 key는 index가 value는 vlaue가 되도록 설정\n",
    "series3 = pd.Series({\"태연\":\"소녀시대\", \"수지\":\"Miss A\", \"카리나\":\"에스파\"})\n",
    "print(series3)"
   ]
  },
  {
   "cell_type": "code",
   "execution_count": 11,
   "id": "79b14adb",
   "metadata": {},
   "outputs": [
    {
     "name": "stdout",
     "output_type": "stream",
     "text": [
      "소녀시대\n",
      "소녀시대\n",
      "태연      소녀시대\n",
      "수지    Miss A\n",
      "dtype: object\n",
      "태연       소녀시대\n",
      "수지     Miss A\n",
      "카리나       에스파\n",
      "dtype: object\n"
     ]
    }
   ],
   "source": [
    "#인덱싱\n",
    "#일련 번호를 가지고 접근\n",
    "print(series3[0])\n",
    "\n",
    "#인덱스를 가지고 접근\n",
    "print(series3[\"태연\"])\n",
    "\n",
    "#일련 번호는 종료 위치가 포함되지 않음\n",
    "print(series3[0:2])\n",
    "#인덱스는 종료 위치가 포함됨\n",
    "print(series3[\"태연\":\"카리나\"])"
   ]
  },
  {
   "cell_type": "code",
   "execution_count": 12,
   "id": "c95f9c0b",
   "metadata": {},
   "outputs": [
    {
     "name": "stdout",
     "output_type": "stream",
     "text": [
      "[10 20 30 40]\n",
      "0    110\n",
      "1    120\n",
      "2    130\n",
      "3    140\n",
      "dtype: int64\n",
      "100\n"
     ]
    }
   ],
   "source": [
    "#값들만 출력\n",
    "print(series1.values)\n",
    "\n",
    "#연산은 ndarray와 동일하게 수행되는데 values 속성의 멤버를 가지고 연산\n",
    "print(series1 + 100)\n",
    "print(np.sum(series1))"
   ]
  },
  {
   "cell_type": "code",
   "execution_count": 15,
   "id": "15f41bca",
   "metadata": {},
   "outputs": [
    {
     "name": "stdout",
     "output_type": "stream",
     "text": [
      "수지     132.0\n",
      "카리나     57.0\n",
      "태연       NaN\n",
      "dtype: float64\n"
     ]
    }
   ],
   "source": [
    "s1 = pd.Series(\n",
    "    {\"태연\":32, \"수지\":34, \"카리나\": 24})\n",
    "s2 = pd.Series(\n",
    "    {\"태연\":np.nan, \"카리나\":33, \"수지\":98})\n",
    "\n",
    "#nan과 연산을 하면 nan\n",
    "print(s1 + s2)"
   ]
  },
  {
   "cell_type": "code",
   "execution_count": null,
   "id": "dc72a0c9",
   "metadata": {},
   "outputs": [],
   "source": []
  },
  {
   "cell_type": "code",
   "execution_count": 16,
   "id": "c46bd248",
   "metadata": {},
   "outputs": [
    {
     "name": "stdout",
     "output_type": "stream",
     "text": [
      "   code name  price\n",
      "0     1   수박  30000\n",
      "1     2   키위  25000\n",
      "2     3   자두   1500\n",
      "3     4   참외   2000\n"
     ]
    }
   ],
   "source": [
    "items = {\n",
    "    'code':[1,2,3,4],\n",
    "    'name':['수박', '키위', '자두', '참외'],\n",
    "    'price':['30000', '25000', '1500', '2000']\n",
    "}\n",
    "\n",
    "df = pd.DataFrame(items)\n",
    "print(df)"
   ]
  },
  {
   "cell_type": "code",
   "execution_count": null,
   "id": "1f9cc2d7",
   "metadata": {},
   "outputs": [],
   "source": []
  },
  {
   "cell_type": "code",
   "execution_count": 18,
   "id": "45117214",
   "metadata": {},
   "outputs": [
    {
     "name": "stdout",
     "output_type": "stream",
     "text": [
      "RangeIndex(start=0, stop=4, step=1)\n",
      "Index(['code', 'name', 'price'], dtype='object')\n",
      "   코드  이름     가격\n",
      "1   1  수박  30000\n",
      "2   2  키위  25000\n",
      "3   3  자두   1500\n",
      "4   4  참외   2000\n"
     ]
    }
   ],
   "source": [
    "print(df.index)\n",
    "print(df.columns)\n",
    "df.index = range(1,5)\n",
    "df.columns = ['코드', '이름', '가격']\n",
    "print(df)"
   ]
  },
  {
   "cell_type": "code",
   "execution_count": 21,
   "id": "76570bcc",
   "metadata": {},
   "outputs": [
    {
     "name": "stdout",
     "output_type": "stream",
     "text": [
      "   코드  이름     가격\n",
      "1   1  수박  30000\n",
      "2   2  키위  25000\n",
      "3   3  자두   1500\n",
      "4   4  참외   2000\n",
      "<class 'numpy.ndarray'>\n",
      "<class 'pandas.core.frame.DataFrame'>\n",
      "RangeIndex: 4 entries, 1 to 4\n",
      "Data columns (total 3 columns):\n",
      " #   Column  Non-Null Count  Dtype \n",
      "---  ------  --------------  ----- \n",
      " 0   코드      4 non-null      int64 \n",
      " 1   이름      4 non-null      object\n",
      " 2   가격      4 non-null      object\n",
      "dtypes: int64(1), object(2)\n",
      "memory usage: 228.0+ bytes\n"
     ]
    }
   ],
   "source": [
    "#head나 tail 함수는 데이터가 제대로 불러져 왔는지 확인할 때 사용\n",
    "print(df.head())\n",
    "#이 데이터로 머신러닝을 하고자 하면 머신러닝은 numpy의 ndarray로만 가능\n",
    "print(type(df.values))\n",
    "#데이터 분석을 하기 전에 데이터를 가져왔으면 데이터에 대한 정보를 확인\n",
    "df.info()"
   ]
  },
  {
   "cell_type": "code",
   "execution_count": null,
   "id": "117e679b",
   "metadata": {},
   "outputs": [],
   "source": []
  },
  {
   "cell_type": "code",
   "execution_count": null,
   "id": "d5ec76d2",
   "metadata": {},
   "outputs": [],
   "source": []
  },
  {
   "cell_type": "code",
   "execution_count": 34,
   "id": "cce42664",
   "metadata": {},
   "outputs": [],
   "source": [
    "import numpy as np\n",
    "import pandas as pd"
   ]
  },
  {
   "cell_type": "code",
   "execution_count": 46,
   "id": "368c316f",
   "metadata": {},
   "outputs": [
    {
     "name": "stdout",
     "output_type": "stream",
     "text": [
      "   code  manufacture            name  price\n",
      "0     1        korea           apple   1500\n",
      "1     2        korea      watermelon  15000\n",
      "2     3        korea  oriental melon   1000\n",
      "3     4  philippines          banana    500\n",
      "4     5        korea           lemon   1500\n",
      "5     6        korea           mango    700\n"
     ]
    }
   ],
   "source": [
    "items = pd.read_csv('0808Tableau 5/data/item.csv')\n",
    "print(items)"
   ]
  },
  {
   "cell_type": "code",
   "execution_count": 54,
   "id": "2ef89a84",
   "metadata": {},
   "outputs": [
    {
     "name": "stdout",
     "output_type": "stream",
     "text": [
      "      제품명  개수     가격\n",
      "0   apple  10   1500\n",
      "1  banana   5  15000\n",
      "2   melon   7   1000\n",
      "3    kiwi  20    500\n",
      "4   mango  30   1500\n",
      "5  orange   4    700\n"
     ]
    }
   ],
   "source": [
    "goods = pd.read_csv('./data/good.csv', header=None, names=['제품명', '개수', '가격'])\n",
    "print(goods)"
   ]
  },
  {
   "cell_type": "code",
   "execution_count": 41,
   "id": "13ce33d2",
   "metadata": {},
   "outputs": [
    {
     "name": "stdout",
     "output_type": "stream",
     "text": [
      "<pandas.io.parsers.readers.TextFileReader object at 0x00000183781855D0>\n",
      "<class 'pandas.core.frame.DataFrame'>\n",
      "        0   1      2\n",
      "0   apple  10   1500\n",
      "1  banana   5  15000\n",
      "2   melon   7   1000\n",
      "\n",
      "<class 'pandas.core.frame.DataFrame'>\n",
      "        0   1     2\n",
      "3    kiwi  20   500\n",
      "4   mango  30  1500\n",
      "5  orange   4   700\n",
      "\n"
     ]
    }
   ],
   "source": [
    "goods = pd.read_csv('0808Tableau 5/data/good.csv', header=None, chunksize = 3)\n",
    "print(goods)\n",
    "\n",
    "for piece in goods:\n",
    "    print(type(piece))\n",
    "    print(piece)\n",
    "    print()"
   ]
  },
  {
   "cell_type": "code",
   "execution_count": 48,
   "id": "6f67db0e",
   "metadata": {},
   "outputs": [
    {
     "name": "stdout",
     "output_type": "stream",
     "text": [
      "          country continent  year  lifeExp       pop   gdpPercap\n",
      "0     Afghanistan      Asia  1952   28.801   8425333  779.445314\n",
      "1     Afghanistan      Asia  1957   30.332   9240934  820.853030\n",
      "2     Afghanistan      Asia  1962   31.997  10267083  853.100710\n",
      "3     Afghanistan      Asia  1967   34.020  11537966  836.197138\n",
      "4     Afghanistan      Asia  1972   36.088  13079460  739.981106\n",
      "...           ...       ...   ...      ...       ...         ...\n",
      "1699     Zimbabwe    Africa  1987   62.351   9216418  706.157306\n",
      "1700     Zimbabwe    Africa  1992   60.377  10704340  693.420786\n",
      "1701     Zimbabwe    Africa  1997   46.809  11404948  792.449960\n",
      "1702     Zimbabwe    Africa  2002   39.989  11926563  672.038623\n",
      "1703     Zimbabwe    Africa  2007   43.487  12311143  469.709298\n",
      "\n",
      "[1704 rows x 6 columns]\n"
     ]
    }
   ],
   "source": [
    "goods = pd.read_csv('0808Tableau 5/data/gapminder.tsv', sep = \"\\t\")\n",
    "print(goods)"
   ]
  },
  {
   "cell_type": "code",
   "execution_count": 57,
   "id": "271b341f",
   "metadata": {},
   "outputs": [
    {
     "name": "stderr",
     "output_type": "stream",
     "text": [
      "C:\\Users\\user\\AppData\\Local\\Temp\\ipykernel_27076\\2223419809.py:1: DtypeWarning: Columns (13) have mixed types. Specify dtype option on import or set low_memory=False.\n",
      "  data = pd.read_csv('./0808Tableau 5/year.csv', sep = \",\", encoding='cp949')\n"
     ]
    },
    {
     "name": "stdout",
     "output_type": "stream",
     "text": [
      "         자료생성년월                                             사업장명  사업자등록번호  \\\n",
      "0       2023-06                                        (주)니프코코리아   211814   \n",
      "1       2023-06                                          신일기업(주)   201810   \n",
      "2       2023-06                                         디에스디엘(주)   104811   \n",
      "3       2023-06                                           (주)헤럴드   104810   \n",
      "4       2023-06                                          연합뉴스(주)   102812   \n",
      "...         ...                                              ...      ...   \n",
      "539178  2023-06                (주)국도설비/일용/부산 사하구 다대동 리슈빌아파트 소방공사   314810   \n",
      "539179  2023-06                동우개발주식회사-(일용)2023년 군산시 도시가스 보조금사업   401814   \n",
      "539180  2023-06     에이치디씨랩스(주)(일용)아시아드 레이카운티 조경공사(시설물)MM23060003   120819   \n",
      "539181  2023-06  （주）삼화플랜/일용/22년노후공공임대주택그린리모델링공사2-2권역(경기2)중기계설비공사   210813   \n",
      "539182  2023-06  아이컴넷(주)-(일용)포스코필바라리튬솔루션 광석리튬 상업화 2공장 사무동 정보통신공사   720860   \n",
      "\n",
      "        사업장가입상태코드 1 등록 2 탈퇴   우편번호        사업장지번상세주소           사업장도로명상세주소  \\\n",
      "0                         1  31409     충청남도 아산시 둔포면  충청남도 아산시 둔포면 아산밸리남로   \n",
      "1                         1  04537   서울특별시 중구 충무로2가         서울특별시 중구 퇴계로   \n",
      "2                         1  04526  서울특별시 중구 남대문로4가        서울특별시 중구 세종대로   \n",
      "3                         1  04336    서울특별시 용산구 후암동      서울특별시 용산구 후암로4길   \n",
      "4                         1  03143    서울특별시 종로구 수송동      서울특별시 종로구 율곡로2길   \n",
      "...                     ...    ...              ...                  ...   \n",
      "539178                    1  49502    부산광역시 사하구 다대동   부산광역시 사하구 윤공단로17번길   \n",
      "539179                    1  54060     전라북도 군산시 대야면     전라북도 군산시 대야면 수림로   \n",
      "539180                    1  47500    부산광역시 연제구 거제동                        \n",
      "539181                    1  14044  경기도 안양시 동안구 비산동      경기도 안양시 동안구 달안로   \n",
      "539182                    1  57807     전라남도 광양시 금호동       전라남도 광양시 폭포사랑길   \n",
      "\n",
      "         고객법정동주소코드   고객행정동주소코드  법정동주소광역시도코드  ...  사업장형태구분코드 1 법인 2 개인  \\\n",
      "0       4420036032  4420036032           44  ...                    1   \n",
      "1       1114012500  1114055000           11  ...                    1   \n",
      "2       1114011700  1114054000           11  ...                    1   \n",
      "3       1117010100  1117051000           11  ...                    1   \n",
      "4       1111012400  1111061500           11  ...                    1   \n",
      "...            ...         ...          ...  ...                  ...   \n",
      "539178  2638010600  2638060100           26  ...                    1   \n",
      "539179  4513035021  4513035021           45  ...                    1   \n",
      "539180  2647010100  2647000000           26  ...                    1   \n",
      "539181  4117310100  4117354000           41  ...                    1   \n",
      "539182  4623011000  4623055000           46  ...                    1   \n",
      "\n",
      "        사업장업종코드              사업장업종코드명        적용일자 재등록일자 탈퇴일자 가입자수     당월고지금액  \\\n",
      "0        252901     포장용 플라스틱 성형용기 제조업  1988-01-01   NaN  NaN  588  280532240   \n",
      "1        381002                   NaN  1988-01-01   NaN  NaN   17    5727100   \n",
      "2        701201  비주거용 건물 임대업(점포  자기땅)  1988-01-01   NaN  NaN   16    4769120   \n",
      "3        221200       잡지 및 정기 간행물 발행업  1988-01-01   NaN  NaN  326  124637960   \n",
      "4        221200       잡지 및 정기 간행물 발행업  1988-01-01   NaN  NaN  856  396965300   \n",
      "...         ...                   ...         ...   ...  ...  ...        ...   \n",
      "539178   452104         배관 및 냉ㆍ난방 공사업  2023-06-01   NaN  NaN    4    1753200   \n",
      "539179   452109                수중 공사업  2023-05-15   NaN  NaN    6    2088900   \n",
      "539180   451300        산업 생산시설 종합 건설업  2023-05-24   NaN  NaN    5    1876760   \n",
      "539181   452124      건물용 기계ㆍ장비 설치 공사업  2023-03-15   NaN  NaN   10    2893940   \n",
      "539182   452104         배관 및 냉ㆍ난방 공사업  2023-03-10   NaN  NaN    3     807300   \n",
      "\n",
      "        신규취득자수  상실가입자수  \n",
      "0            1       2  \n",
      "1            0       0  \n",
      "2            0       1  \n",
      "3            8       6  \n",
      "4            9       7  \n",
      "...        ...     ...  \n",
      "539178       4       0  \n",
      "539179       6       0  \n",
      "539180       5       0  \n",
      "539181      10       0  \n",
      "539182       3       0  \n",
      "\n",
      "[539183 rows x 22 columns]\n"
     ]
    }
   ],
   "source": [
    "data = pd.read_csv('./0808Tableau 5/year.csv', sep = \",\", encoding='cp949')\n",
    "print(data)"
   ]
  },
  {
   "cell_type": "code",
   "execution_count": null,
   "id": "a4bf9678",
   "metadata": {},
   "outputs": [],
   "source": []
  },
  {
   "cell_type": "code",
   "execution_count": 58,
   "id": "9c0a2e9a",
   "metadata": {},
   "outputs": [
    {
     "name": "stdout",
     "output_type": "stream",
     "text": [
      "[[ 1  2  3]\n",
      " [ 4  5  6]\n",
      " [ 7  8  9]\n",
      " [10 11 12]\n",
      " [13 14 15]]\n",
      "[[ 1  4  7 10 13]\n",
      " [ 2  5  8 11 14]\n",
      " [ 3  6  9 12 15]]\n",
      "[[ 1  4  7 10 13]\n",
      " [ 2  5  8 11 14]\n",
      " [ 3  6  9 12 15]]\n"
     ]
    }
   ],
   "source": [
    "matrix = np.array(range(1,16)).reshape((5,3))\n",
    "print(matrix)\n",
    "\n",
    "\n",
    "#행과 열을 변경\n",
    "print(matrix.T)\n",
    "\n",
    "#행과 열을 변경\n",
    "print(np.transpose(matrix))"
   ]
  },
  {
   "cell_type": "code",
   "execution_count": null,
   "id": "98bed31b",
   "metadata": {},
   "outputs": [],
   "source": []
  }
 ],
 "metadata": {
  "kernelspec": {
   "display_name": "Python 3 (ipykernel)",
   "language": "python",
   "name": "python3"
  },
  "language_info": {
   "codemirror_mode": {
    "name": "ipython",
    "version": 3
   },
   "file_extension": ".py",
   "mimetype": "text/x-python",
   "name": "python",
   "nbconvert_exporter": "python",
   "pygments_lexer": "ipython3",
   "version": "3.10.9"
  }
 },
 "nbformat": 4,
 "nbformat_minor": 5
}
