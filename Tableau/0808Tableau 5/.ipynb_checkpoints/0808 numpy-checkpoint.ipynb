{
 "cells": [
  {
   "cell_type": "code",
   "execution_count": 2,
   "id": "fe88248a",
   "metadata": {},
   "outputs": [],
   "source": [
    "# numpy 모듈을 np라는 이름으로 가져오는 것\n",
    "import numpy as np"
   ]
  },
  {
   "cell_type": "code",
   "execution_count": 2,
   "id": "d95f0643",
   "metadata": {},
   "outputs": [
    {
     "name": "stdout",
     "output_type": "stream",
     "text": [
      "[1, 2, 3, 4, 5, 6, 7, 8, 9]\n",
      "[1 2 3 4 5 6 7 8 9]\n",
      "[[1 2 3]\n",
      " [4 5 6]\n",
      " [7 8 9]]\n"
     ]
    }
   ],
   "source": [
    "#일차원 배열과 이차원 배열 생성\n",
    "#일차원 list 생성\n",
    "li = list(range(1, 10))\n",
    "print(li)\n",
    "\n",
    "#list를 이용해서 ndarray 생성\n",
    "ar = np.array(li)\n",
    "print(ar)\n",
    "\n",
    "#일차원 배열을 생성한 후 행과 열의 개수를 3X3으로 변경한 것\n",
    "matrix = np.array(li).reshape((3,3))\n",
    "print(matrix)"
   ]
  },
  {
   "cell_type": "code",
   "execution_count": null,
   "id": "a75fead7",
   "metadata": {},
   "outputs": [],
   "source": []
  },
  {
   "cell_type": "code",
   "execution_count": 8,
   "id": "262ac88f",
   "metadata": {},
   "outputs": [
    {
     "name": "stdout",
     "output_type": "stream",
     "text": [
      "1\n",
      "1\n",
      "1\n",
      "[1 2 3]\n",
      "[1 4 7]\n",
      "[1 2 3]\n"
     ]
    }
   ],
   "source": [
    "#인덱싱 - 데이터 1개 가져오기\n",
    "data1 = ar[0]\n",
    "print(data1)\n",
    "\n",
    "#이차원 배열에서 데이터 1개 찾아오기\n",
    "data2 = matrix[0,0]\n",
    "data3 = matrix[0][0]\n",
    "print(data2)\n",
    "print(data3)\n",
    "\n",
    "#이차원 배열에서 행 하나 찾아오기\n",
    "row = matrix[0,:] #matrix[0][:], matrix[0]과 똑같음\n",
    "print(row)\n",
    "\n",
    "#이차원 배열에서 열 하나 찾아오기\n",
    "column =matrix[:,0]\n",
    "print(column)\n",
    "\n",
    "column =matrix[:][0]\n",
    "print(column)"
   ]
  },
  {
   "cell_type": "code",
   "execution_count": null,
   "id": "90859162",
   "metadata": {},
   "outputs": [],
   "source": []
  },
  {
   "cell_type": "code",
   "execution_count": 9,
   "id": "dc6822a7",
   "metadata": {},
   "outputs": [
    {
     "name": "stdout",
     "output_type": "stream",
     "text": [
      "10\n",
      "[100, 2, 3]\n"
     ]
    }
   ],
   "source": [
    "#일반 인덱싱한 데이터는 파이썬의 기본 데이터와 동일하게 동작을 함\n",
    "#파이썬의 scala data는 일반적으로 imnutable\n",
    "#scala data는 다른 변수에 대입할 때 값을 복사해서 대입\n",
    "a = 10\n",
    "b = a  #실제로 b=10\n",
    "b = 20\n",
    "print(a)\n",
    "\n",
    "\n",
    "#1개의 데이터를 인덱싱할 때랑 변수가 많을 때랑 다름\n",
    "#파이썬의 vector data는 다른 변수에 대입할 때 참조를 복사해서 대입\n",
    "ax = [1,2,3]\n",
    "bx = ax #bx는 [1,2,3]의 참조(똑같다는 것)\n",
    "bx[0] = 100\n",
    "print(ax)"
   ]
  },
  {
   "cell_type": "code",
   "execution_count": 11,
   "id": "cf4dd135",
   "metadata": {},
   "outputs": [
    {
     "name": "stdout",
     "output_type": "stream",
     "text": [
      "[1004    2    3]\n",
      "[[1004    2    3]\n",
      " [   4    5    6]\n",
      " [   7    8    9]]\n"
     ]
    }
   ],
   "source": [
    "#row는 scala data가 아니고 vector data\n",
    "#vector 데이터를 다른 곳에 대입하면 참조가 복사됨\n",
    "#복사본을 수정하면 원본도 영향을 받음\n",
    "row[0] = 1004\n",
    "print(row)\n",
    "print(matrix)"
   ]
  },
  {
   "cell_type": "code",
   "execution_count": null,
   "id": "dca5bf76",
   "metadata": {},
   "outputs": [],
   "source": []
  },
  {
   "cell_type": "code",
   "execution_count": 12,
   "id": "d426bd29",
   "metadata": {},
   "outputs": [
    {
     "name": "stdout",
     "output_type": "stream",
     "text": [
      "[1, 2, 3]\n",
      "[[100, 2, 3], [4, 5, 6]]\n",
      "[[100, 2, 3], [4, 5, 6]]\n",
      "[[100, 2, 3], [4, 5, 6]]\n"
     ]
    }
   ],
   "source": [
    "#파이썬에서의 데이터 복제\n",
    "#copy 모듈의 copy와 deepcopy 함수 이용\n",
    "#얕은 복사는 한 번은 복제를 하지만 재귀적으로 수행하지 않음\n",
    "#깊은 복사는 재귀적으로 복제를 수행\n",
    "\n",
    "import copy\n",
    "li = [1,2,3]\n",
    "#얕은 복사\n",
    "c = li.copy()\n",
    "#일차원 list의 경우는 원본에 영향을 주지 않음\n",
    "c[0] =100\n",
    "print(li)\n",
    "\n",
    "m = [[1,2,3], [4,5,6]]\n",
    "# 얕은 복사는 이차원 배열의 경우 원본에 영향을 줌\n",
    "c = m.copy()\n",
    "c[0][0] = 100\n",
    "print(m)\n",
    "\n",
    "\n",
    "#copt.deepcopy는 재귀적으로 복제를 수행하기 때문에\n",
    "#복사본의 데이터를 수정해도 원본에는 영향이 없음\n",
    "d = copy.deepcopy(m)\n",
    "print(d)\n",
    "d[0][0] =1004\n",
    "print(m)"
   ]
  },
  {
   "cell_type": "code",
   "execution_count": 14,
   "id": "768585d8",
   "metadata": {},
   "outputs": [
    {
     "name": "stdout",
     "output_type": "stream",
     "text": [
      "[[1004    2    3]\n",
      " [   4    5    6]\n",
      " [   7    8    9]]\n"
     ]
    }
   ],
   "source": [
    "#데이터 복제는 copy() 메서드\n",
    "clone = matrix.copy()\n",
    "\n",
    "#복사본의 데이터를 수정해도 원본에서는 그대로 1004\n",
    "clone[0][0] = 42\n",
    "print(matrix)"
   ]
  },
  {
   "cell_type": "code",
   "execution_count": null,
   "id": "a3248aee",
   "metadata": {},
   "outputs": [],
   "source": []
  },
  {
   "cell_type": "code",
   "execution_count": 18,
   "id": "ba7747b1",
   "metadata": {},
   "outputs": [
    {
     "name": "stdout",
     "output_type": "stream",
     "text": [
      "[1, 2, 3]\n",
      "[1, 2, 3, 4, 5]\n",
      "[1 2 3]\n",
      "[100   2   3   4   5]\n"
     ]
    }
   ],
   "source": [
    "li = [1,2,3,4,5]\n",
    "#list의 슬라이싱 : 얕은 복사 수행\n",
    "c = li[0:3]\n",
    "#c와 li는 앞 3개의 데이터가 동일하지만 다른 공간의 데이터\n",
    "print(c)\n",
    "c[0] = 100\n",
    "#c의 값을 변경해서 li에는 영향이 없음\n",
    "print(li)\n",
    "\n",
    "\n",
    "#array의 슬라이싱\n",
    "ar = np.array(li)\n",
    "#배열에서 0번째부터 2번째까지 데이터를 복사 \n",
    "#0번째부터 2번째 이므로 데이터는 3개(vector data)\n",
    "#참조가 복사\n",
    "d = ar[0:3]\n",
    "print(d)\n",
    "#d의 값을 수정하면 원본에 영향을 주게 됨\n",
    "d[0] = 100\n",
    "print(ar)"
   ]
  },
  {
   "cell_type": "code",
   "execution_count": null,
   "id": "36e224ad",
   "metadata": {},
   "outputs": [],
   "source": []
  },
  {
   "cell_type": "markdown",
   "id": "7ef7c943",
   "metadata": {},
   "source": [
    "Fancy Indexing"
   ]
  },
  {
   "cell_type": "code",
   "execution_count": 23,
   "id": "e00ce0d2",
   "metadata": {},
   "outputs": [
    {
     "name": "stdout",
     "output_type": "stream",
     "text": [
      "[100 300]\n",
      "[100 200 300 400 500]\n",
      "[1004  200  300  400  500]\n"
     ]
    }
   ],
   "source": [
    "#인덱식을 할 때 list를 이용하는 것\n",
    "#복제를 이용\n",
    "ar = np.array([100,200,300,400,500])\n",
    "print(ar[[0,2]])\n",
    "print(ar)\n",
    "ar[0] = 1004\n",
    "print(ar)"
   ]
  },
  {
   "cell_type": "code",
   "execution_count": null,
   "id": "08e4a47a",
   "metadata": {},
   "outputs": [],
   "source": []
  },
  {
   "cell_type": "code",
   "execution_count": 27,
   "id": "bedbaee2",
   "metadata": {},
   "outputs": [
    {
     "name": "stdout",
     "output_type": "stream",
     "text": [
      "False\n",
      "True\n"
     ]
    }
   ],
   "source": [
    "print(bool([]))\n",
    "print(bool([1,2,3]))"
   ]
  },
  {
   "cell_type": "code",
   "execution_count": 31,
   "id": "ae17646f",
   "metadata": {},
   "outputs": [
    {
     "name": "stdout",
     "output_type": "stream",
     "text": [
      "[1 2 3 4 5]\n",
      "[1 7]\n",
      "[7]\n"
     ]
    }
   ],
   "source": [
    "#array의 인덱스에 bool 배열을 대입해서 True인 데이터만 골라내기\n",
    "ar = np.array([1,2,3,4,5,6,7])\n",
    "result = ar[[True, True, True, True, True, False, False]]\n",
    "print(result)\n",
    "\n",
    "br = np.array([100,20,30,40,50,60,70])\n",
    "result = ar[br >= 70]\n",
    "print(result)\n",
    "\n",
    "\n",
    "#and나 or을 쓰고 싶으면\n",
    "br = np.array([100,20,30,40,50,60,70])\n",
    "result = ar[(br >= 70) & (br <=90)]\n",
    "print(result)"
   ]
  },
  {
   "cell_type": "code",
   "execution_count": null,
   "id": "d6eccab4",
   "metadata": {},
   "outputs": [],
   "source": []
  },
  {
   "cell_type": "markdown",
   "id": "3f511ec5",
   "metadata": {},
   "source": [
    "# ndarray의 연산"
   ]
  },
  {
   "cell_type": "code",
   "execution_count": 33,
   "id": "50063417",
   "metadata": {},
   "outputs": [
    {
     "name": "stdout",
     "output_type": "stream",
     "text": [
      "[2 4 6]\n"
     ]
    },
    {
     "ename": "ValueError",
     "evalue": "operands could not be broadcast together with shapes (3,) (2,) ",
     "output_type": "error",
     "traceback": [
      "\u001b[1;31m---------------------------------------------------------------------------\u001b[0m",
      "\u001b[1;31mValueError\u001b[0m                                Traceback (most recent call last)",
      "Cell \u001b[1;32mIn[33], line 6\u001b[0m\n\u001b[0;32m      3\u001b[0m cr \u001b[38;5;241m=\u001b[39m np\u001b[38;5;241m.\u001b[39marray([\u001b[38;5;241m1\u001b[39m,\u001b[38;5;241m2\u001b[39m])\n\u001b[0;32m      5\u001b[0m \u001b[38;5;28mprint\u001b[39m(ar \u001b[38;5;241m+\u001b[39m br)\n\u001b[1;32m----> 6\u001b[0m \u001b[38;5;28mprint\u001b[39m(\u001b[43mar\u001b[49m\u001b[43m \u001b[49m\u001b[38;5;241;43m+\u001b[39;49m\u001b[43m \u001b[49m\u001b[43mcr\u001b[49m)\n\u001b[0;32m      7\u001b[0m \u001b[38;5;66;03m#2개의 차원이 다른 경우로 이 경우 적은 차원의 데이터를 큰 차원으로 수정\u001b[39;00m\n\u001b[0;32m      8\u001b[0m \u001b[38;5;66;03m#ar + [1,1,1]\u001b[39;00m\n\u001b[0;32m      9\u001b[0m \u001b[38;5;28mprint\u001b[39m(ar \u001b[38;5;241m+\u001b[39m \u001b[38;5;241m1\u001b[39m)\n",
      "\u001b[1;31mValueError\u001b[0m: operands could not be broadcast together with shapes (3,) (2,) "
     ]
    }
   ],
   "source": [
    "ar = np.array([1,2,3])\n",
    "br = np.array([1,2,3])\n",
    "cr = np.array([1,2])\n",
    "\n",
    "print(ar + br)\n",
    "print(ar + cr)\n",
    "#2개의 차원이 다른 경우로 이 경우 적은 차원의 데이터를 큰 차원으로 수정\n",
    "#ar + [1,1,1]\n",
    "print(ar + 1)"
   ]
  },
  {
   "cell_type": "code",
   "execution_count": 37,
   "id": "1f78ee43",
   "metadata": {},
   "outputs": [
    {
     "name": "stdout",
     "output_type": "stream",
     "text": [
      "[[1 2 3]\n",
      " [4 5 6]\n",
      " [7 8 9]]\n",
      "[[ 2  4  6]\n",
      " [ 5  7  9]\n",
      " [ 8 10 12]]\n"
     ]
    }
   ],
   "source": [
    "k = range(1,10)\n",
    "cr = np.array(k).reshape((3,3))\n",
    "print(cr)\n",
    "\n",
    "print(ar + cr)"
   ]
  },
  {
   "cell_type": "markdown",
   "id": "c788b977",
   "metadata": {},
   "source": [
    "# 논리 연산"
   ]
  },
  {
   "cell_type": "code",
   "execution_count": 41,
   "id": "670dfa8d",
   "metadata": {},
   "outputs": [
    {
     "name": "stdout",
     "output_type": "stream",
     "text": [
      "[False  True False  True False]\n",
      "[False  True False  True  True]\n",
      "[False False False  True False]\n"
     ]
    }
   ],
   "source": [
    "ar = np.array([1,2,3,4,5])\n",
    "br = np.array([1,True,3,False, 40])\n",
    "\n",
    "#False는 0으로 True는 1로 가정함\n",
    "print(ar > br)\n",
    "print(np.not_equal(ar, br))\n",
    "#and, or, xor는 bool(True, False)로 변경해서 판정\n",
    "#하나만 True일 때 True 반환\n",
    "print(np.logical_xor(ar, br))"
   ]
  },
  {
   "cell_type": "code",
   "execution_count": 42,
   "id": "32e0140e",
   "metadata": {},
   "outputs": [
    {
     "name": "stdout",
     "output_type": "stream",
     "text": [
      "[ 2  3  6  4 45]\n"
     ]
    }
   ],
   "source": [
    "ar += br  #ar = ar + br\n",
    "print(ar)"
   ]
  },
  {
   "cell_type": "code",
   "execution_count": 51,
   "id": "c4855a5c",
   "metadata": {},
   "outputs": [
    {
     "name": "stdout",
     "output_type": "stream",
     "text": [
      "False\n",
      "False\n",
      "False\n"
     ]
    },
    {
     "name": "stderr",
     "output_type": "stream",
     "text": [
      "C:\\Users\\user\\AppData\\Local\\Temp\\ipykernel_7444\\3114124306.py:2: DeprecationWarning: elementwise comparison failed; this will raise an error in the future.\n",
      "  print([1,2] in ar)\n",
      "C:\\Users\\user\\AppData\\Local\\Temp\\ipykernel_7444\\3114124306.py:3: DeprecationWarning: elementwise comparison failed; this will raise an error in the future.\n",
      "  print([1, 100] in ar)\n"
     ]
    }
   ],
   "source": [
    "print(2 in ar)\n",
    "print([1,2] in ar)\n",
    "print([1, 100] in ar)"
   ]
  },
  {
   "cell_type": "code",
   "execution_count": null,
   "id": "8a7104e6",
   "metadata": {},
   "outputs": [],
   "source": []
  },
  {
   "cell_type": "code",
   "execution_count": 57,
   "id": "39adcd55",
   "metadata": {},
   "outputs": [
    {
     "name": "stdout",
     "output_type": "stream",
     "text": [
      "[101 102 103 104 105]\n",
      "[101 102 103 104 105]\n"
     ]
    }
   ],
   "source": [
    "#벡터화 된 함수 적용\n",
    "\n",
    "\n",
    "#매개변수에 100을 더해서 리턴하는 함수\n",
    "def f(i):\n",
    "    return i + 100\n",
    "\n",
    "\n",
    "#벡터화된 함수로 수정\n",
    "ar = np.array([1,2,3,4,5])\n",
    "vector_f = np.vectorize(f)\n",
    "print(vector_f(ar))\n",
    "\n",
    "print(np.vectorize(lambda i : i+100)(ar))"
   ]
  },
  {
   "cell_type": "code",
   "execution_count": null,
   "id": "12b97256",
   "metadata": {},
   "outputs": [],
   "source": []
  },
  {
   "cell_type": "code",
   "execution_count": 60,
   "id": "86ae2779",
   "metadata": {},
   "outputs": [
    {
     "name": "stdout",
     "output_type": "stream",
     "text": [
      "[[ 1  2]\n",
      " [ 3  4]\n",
      " [ 5  6]\n",
      " [ 7  8]\n",
      " [ 9 10]]\n",
      "[[ 1  2  3  4  5]\n",
      " [ 6  7  8  9 10]]\n",
      "[[ 1  3  5  7  9]\n",
      " [ 2  4  6  8 10]]\n",
      "[[ 1  3  5  7  9]\n",
      " [ 2  4  6  8 10]]\n"
     ]
    }
   ],
   "source": [
    "matrix = np.array(range(1,11)).reshape((5,2))\n",
    "print(matrix)\n",
    "\n",
    "#행과 열의 수를 변경\n",
    "print(matrix.reshape((2,5)))\n",
    "\n",
    "#행과 열을 변경\n",
    "print(matrix.T)\n",
    "\n",
    "#행과 열을 변경\n",
    "print(np.transpose(matrix))"
   ]
  },
  {
   "cell_type": "code",
   "execution_count": null,
   "id": "f6868c86",
   "metadata": {},
   "outputs": [],
   "source": []
  },
  {
   "cell_type": "code",
   "execution_count": 4,
   "id": "41259319",
   "metadata": {},
   "outputs": [
    {
     "name": "stdout",
     "output_type": "stream",
     "text": [
      "[ 1  2  3  4  5  6  7  8  9 10 11 12 13 14 15 16 17 18 19 20 21 22 23 24\n",
      " 25 26 27 28 29 30 31 32 33 34 35 36 37 38 39 40 41 42 43 44 45 46 47 48]\n",
      "[28 41 27 44 25 38 13 20  5 26  9  4  7 40 34 14 18 46 16 10 17 30 33 47\n",
      "  1 32 31  6 12 35  2 45 22  3 37 36 24 42 11 23 19 48 21  8 43 15 29 39]\n",
      "[48 33 27 22 28 31 19 21  9 15 47 24 17 39  7 25 16 12 23 34 14 42 35  2\n",
      "  3  4 43 46 45 11 26 30 38  8 44 36 18 29 37 20 13  6 10 41 32  5 40  1]\n"
     ]
    }
   ],
   "source": [
    "#seed 고정\n",
    "np.random.seed(seed=42)\n",
    "#1부터 48까지의 일차원 배열\n",
    "cards = np.array(range(1, 49))\n",
    "print(cards)\n",
    "\n",
    "np.random.shuffle(cards)\n",
    "print(cards)\n",
    "\n",
    "#배열을 섞어서 리턴\n",
    "result = np.random.permutation(cards)\n",
    "print(result)"
   ]
  },
  {
   "cell_type": "code",
   "execution_count": null,
   "id": "cecdf9e9",
   "metadata": {},
   "outputs": [],
   "source": []
  },
  {
   "cell_type": "code",
   "execution_count": 75,
   "id": "116f6dc7",
   "metadata": {},
   "outputs": [
    {
     "name": "stdout",
     "output_type": "stream",
     "text": [
      "[[-1.04216724  0.30715733 -1.4371688   0.96702127 -1.14709353]\n",
      " [ 0.04740543 -0.13848416  0.30786816  0.21394378  0.01369171]\n",
      " [-0.62168383 -0.11199651 -0.2058308  -0.76661531 -0.35307563]\n",
      " [ 0.6378084  -0.91584499 -0.36200811 -0.86843522  0.12473479]]\n",
      "-5.350773250158447\n",
      "0.6134988344750968\n",
      "0.6294365232009225\n",
      "0.14703704014326532\n",
      "[-0.97863724 -0.85916832 -1.69713956 -0.45408548 -1.36174266]\n",
      "[-2.35225096  0.44442491 -2.05920208 -1.38374513]\n",
      "[[-2.35225096]\n",
      " [ 0.44442491]\n",
      " [-2.05920208]\n",
      " [-1.38374513]]\n",
      "[3 2 1 0]\n",
      "[ 0.01958959 -0.00436302 -0.03296865  0.137737    0.00069169]\n"
     ]
    }
   ],
   "source": [
    "# 기본 통계 함수\n",
    "matrix = np.random.randn(20).reshape((4,5))\n",
    "print(matrix)\n",
    "print(matrix.sum())\n",
    "\n",
    "#표준편차\n",
    "print(matrix.std())\n",
    "\n",
    "#표준편차 - 자유도 1 적용\n",
    "print(matrix.std(ddof=1))\n",
    "\n",
    "#75%에 해당하는 값\n",
    "print(np.percentile(matrix, 75))\n",
    "\n",
    "#행 단위와 열 단위 합계\n",
    "#열 단위\n",
    "print(matrix.sum(axis=0))\n",
    "#행 단위\n",
    "print(matrix.sum(axis=1))\n",
    "\n",
    "#행 단위 - matrix와 동일한 차원으로 리턴\n",
    "print(matrix.sum(axis=1, keepdims=True))\n",
    "\n",
    "print(matrix.argmax(axis=1))\n",
    "print(matrix.prod(axis=0))"
   ]
  },
  {
   "cell_type": "code",
   "execution_count": null,
   "id": "a7ae042e",
   "metadata": {},
   "outputs": [],
   "source": []
  },
  {
   "cell_type": "code",
   "execution_count": 4,
   "id": "83b73e6a",
   "metadata": {
    "scrolled": true
   },
   "outputs": [
    {
     "name": "stdout",
     "output_type": "stream",
     "text": [
      "Help on function sort in module numpy:\n",
      "\n",
      "sort(a, axis=-1, kind=None, order=None)\n",
      "    Return a sorted copy of an array.\n",
      "    \n",
      "    Parameters\n",
      "    ----------\n",
      "    a : array_like\n",
      "        Array to be sorted.\n",
      "    axis : int or None, optional\n",
      "        Axis along which to sort. If None, the array is flattened before\n",
      "        sorting. The default is -1, which sorts along the last axis.\n",
      "    kind : {'quicksort', 'mergesort', 'heapsort', 'stable'}, optional\n",
      "        Sorting algorithm. The default is 'quicksort'. Note that both 'stable'\n",
      "        and 'mergesort' use timsort or radix sort under the covers and, in general,\n",
      "        the actual implementation will vary with data type. The 'mergesort' option\n",
      "        is retained for backwards compatibility.\n",
      "    \n",
      "        .. versionchanged:: 1.15.0.\n",
      "           The 'stable' option was added.\n",
      "    \n",
      "    order : str or list of str, optional\n",
      "        When `a` is an array with fields defined, this argument specifies\n",
      "        which fields to compare first, second, etc.  A single field can\n",
      "        be specified as a string, and not all fields need be specified,\n",
      "        but unspecified fields will still be used, in the order in which\n",
      "        they come up in the dtype, to break ties.\n",
      "    \n",
      "    Returns\n",
      "    -------\n",
      "    sorted_array : ndarray\n",
      "        Array of the same type and shape as `a`.\n",
      "    \n",
      "    See Also\n",
      "    --------\n",
      "    ndarray.sort : Method to sort an array in-place.\n",
      "    argsort : Indirect sort.\n",
      "    lexsort : Indirect stable sort on multiple keys.\n",
      "    searchsorted : Find elements in a sorted array.\n",
      "    partition : Partial sort.\n",
      "    \n",
      "    Notes\n",
      "    -----\n",
      "    The various sorting algorithms are characterized by their average speed,\n",
      "    worst case performance, work space size, and whether they are stable. A\n",
      "    stable sort keeps items with the same key in the same relative\n",
      "    order. The four algorithms implemented in NumPy have the following\n",
      "    properties:\n",
      "    \n",
      "    =========== ======= ============= ============ ========\n",
      "       kind      speed   worst case    work space   stable\n",
      "    =========== ======= ============= ============ ========\n",
      "    'quicksort'    1     O(n^2)            0          no\n",
      "    'heapsort'     3     O(n*log(n))       0          no\n",
      "    'mergesort'    2     O(n*log(n))      ~n/2        yes\n",
      "    'timsort'      2     O(n*log(n))      ~n/2        yes\n",
      "    =========== ======= ============= ============ ========\n",
      "    \n",
      "    .. note:: The datatype determines which of 'mergesort' or 'timsort'\n",
      "       is actually used, even if 'mergesort' is specified. User selection\n",
      "       at a finer scale is not currently available.\n",
      "    \n",
      "    All the sort algorithms make temporary copies of the data when\n",
      "    sorting along any but the last axis.  Consequently, sorting along\n",
      "    the last axis is faster and uses less space than sorting along\n",
      "    any other axis.\n",
      "    \n",
      "    The sort order for complex numbers is lexicographic. If both the real\n",
      "    and imaginary parts are non-nan then the order is determined by the\n",
      "    real parts except when they are equal, in which case the order is\n",
      "    determined by the imaginary parts.\n",
      "    \n",
      "    Previous to numpy 1.4.0 sorting real and complex arrays containing nan\n",
      "    values led to undefined behaviour. In numpy versions >= 1.4.0 nan\n",
      "    values are sorted to the end. The extended sort order is:\n",
      "    \n",
      "      * Real: [R, nan]\n",
      "      * Complex: [R + Rj, R + nanj, nan + Rj, nan + nanj]\n",
      "    \n",
      "    where R is a non-nan real value. Complex values with the same nan\n",
      "    placements are sorted according to the non-nan part if it exists.\n",
      "    Non-nan values are sorted as before.\n",
      "    \n",
      "    .. versionadded:: 1.12.0\n",
      "    \n",
      "    quicksort has been changed to `introsort <https://en.wikipedia.org/wiki/Introsort>`_.\n",
      "    When sorting does not make enough progress it switches to\n",
      "    `heapsort <https://en.wikipedia.org/wiki/Heapsort>`_.\n",
      "    This implementation makes quicksort O(n*log(n)) in the worst case.\n",
      "    \n",
      "    'stable' automatically chooses the best stable sorting algorithm\n",
      "    for the data type being sorted.\n",
      "    It, along with 'mergesort' is currently mapped to\n",
      "    `timsort <https://en.wikipedia.org/wiki/Timsort>`_\n",
      "    or `radix sort <https://en.wikipedia.org/wiki/Radix_sort>`_\n",
      "    depending on the data type.\n",
      "    API forward compatibility currently limits the\n",
      "    ability to select the implementation and it is hardwired for the different\n",
      "    data types.\n",
      "    \n",
      "    .. versionadded:: 1.17.0\n",
      "    \n",
      "    Timsort is added for better performance on already or nearly\n",
      "    sorted data. On random data timsort is almost identical to\n",
      "    mergesort. It is now used for stable sort while quicksort is still the\n",
      "    default sort if none is chosen. For timsort details, refer to\n",
      "    `CPython listsort.txt <https://github.com/python/cpython/blob/3.7/Objects/listsort.txt>`_.\n",
      "    'mergesort' and 'stable' are mapped to radix sort for integer data types. Radix sort is an\n",
      "    O(n) sort instead of O(n log n).\n",
      "    \n",
      "    .. versionchanged:: 1.18.0\n",
      "    \n",
      "    NaT now sorts to the end of arrays for consistency with NaN.\n",
      "    \n",
      "    Examples\n",
      "    --------\n",
      "    >>> a = np.array([[1,4],[3,1]])\n",
      "    >>> np.sort(a)                # sort along the last axis\n",
      "    array([[1, 4],\n",
      "           [1, 3]])\n",
      "    >>> np.sort(a, axis=None)     # sort the flattened array\n",
      "    array([1, 1, 3, 4])\n",
      "    >>> np.sort(a, axis=0)        # sort along the first axis\n",
      "    array([[1, 1],\n",
      "           [3, 4]])\n",
      "    \n",
      "    Use the `order` keyword to specify a field to use when sorting a\n",
      "    structured array:\n",
      "    \n",
      "    >>> dtype = [('name', 'S10'), ('height', float), ('age', int)]\n",
      "    >>> values = [('Arthur', 1.8, 41), ('Lancelot', 1.9, 38),\n",
      "    ...           ('Galahad', 1.7, 38)]\n",
      "    >>> a = np.array(values, dtype=dtype)       # create a structured array\n",
      "    >>> np.sort(a, order='height')                        # doctest: +SKIP\n",
      "    array([('Galahad', 1.7, 38), ('Arthur', 1.8, 41),\n",
      "           ('Lancelot', 1.8999999999999999, 38)],\n",
      "          dtype=[('name', '|S10'), ('height', '<f8'), ('age', '<i4')])\n",
      "    \n",
      "    Sort by age, then height if ages are equal:\n",
      "    \n",
      "    >>> np.sort(a, order=['age', 'height'])               # doctest: +SKIP\n",
      "    array([('Galahad', 1.7, 38), ('Lancelot', 1.8999999999999999, 38),\n",
      "           ('Arthur', 1.8, 41)],\n",
      "          dtype=[('name', '|S10'), ('height', '<f8'), ('age', '<i4')])\n",
      "\n"
     ]
    }
   ],
   "source": [
    "help(np.sort)"
   ]
  },
  {
   "cell_type": "code",
   "execution_count": null,
   "id": "740b486d",
   "metadata": {},
   "outputs": [],
   "source": []
  },
  {
   "cell_type": "code",
   "execution_count": 10,
   "id": "81f6731c",
   "metadata": {},
   "outputs": [
    {
     "name": "stdout",
     "output_type": "stream",
     "text": [
      "[20 25 27 30 40]\n",
      "[20 30 40 25 27]\n",
      "[[10 50 60]\n",
      " [20 50 60]\n",
      " [15 29 32]]\n"
     ]
    }
   ],
   "source": [
    "ar = np.array([20,30,40,25,27])\n",
    "#데이터를 정렬\n",
    "result = np.sort(ar)\n",
    "print(result)\n",
    "print(ar)\n",
    "\n",
    "br = np.array([[10,60,50,],[50,20,60],[15,32,29]])\n",
    "result = np.sort(br,axis=1)\n",
    "print(result)"
   ]
  },
  {
   "cell_type": "code",
   "execution_count": null,
   "id": "3032c763",
   "metadata": {},
   "outputs": [],
   "source": []
  },
  {
   "cell_type": "code",
   "execution_count": 23,
   "id": "4fd21526",
   "metadata": {},
   "outputs": [
    {
     "ename": "AttributeError",
     "evalue": "module 'numpy' has no attribute 'range'",
     "output_type": "error",
     "traceback": [
      "\u001b[1;31m---------------------------------------------------------------------------\u001b[0m",
      "\u001b[1;31mAttributeError\u001b[0m                            Traceback (most recent call last)",
      "Cell \u001b[1;32mIn[23], line 3\u001b[0m\n\u001b[0;32m      1\u001b[0m x \u001b[38;5;241m=\u001b[39m \u001b[38;5;28mrange\u001b[39m(\u001b[38;5;241m1\u001b[39m, \u001b[38;5;241m51\u001b[39m)\n\u001b[0;32m      2\u001b[0m \u001b[38;5;66;03m#위의 데이터를 가지고 10행 5열짜리 이차원 배열 생성\u001b[39;00m\n\u001b[1;32m----> 3\u001b[0m matrix \u001b[38;5;241m=\u001b[39m \u001b[43mnp\u001b[49m\u001b[38;5;241;43m.\u001b[39;49m\u001b[43mrange\u001b[49m(\u001b[38;5;241m1\u001b[39m, \u001b[38;5;241m51\u001b[39m)\u001b[38;5;241m.\u001b[39mreshape((\u001b[38;5;241m10\u001b[39m,\u001b[38;5;241m5\u001b[39m))\n\u001b[0;32m      4\u001b[0m \u001b[38;5;28mprint\u001b[39m(matrix)\n",
      "File \u001b[1;32m~\\AppData\\Local\\anaconda3\\lib\\site-packages\\numpy\\__init__.py:311\u001b[0m, in \u001b[0;36m__getattr__\u001b[1;34m(attr)\u001b[0m\n\u001b[0;32m    308\u001b[0m     \u001b[38;5;28;01mfrom\u001b[39;00m \u001b[38;5;21;01m.\u001b[39;00m\u001b[38;5;21;01mtesting\u001b[39;00m \u001b[38;5;28;01mimport\u001b[39;00m Tester\n\u001b[0;32m    309\u001b[0m     \u001b[38;5;28;01mreturn\u001b[39;00m Tester\n\u001b[1;32m--> 311\u001b[0m \u001b[38;5;28;01mraise\u001b[39;00m \u001b[38;5;167;01mAttributeError\u001b[39;00m(\u001b[38;5;124m\"\u001b[39m\u001b[38;5;124mmodule \u001b[39m\u001b[38;5;132;01m{!r}\u001b[39;00m\u001b[38;5;124m has no attribute \u001b[39m\u001b[38;5;124m\"\u001b[39m\n\u001b[0;32m    312\u001b[0m                      \u001b[38;5;124m\"\u001b[39m\u001b[38;5;132;01m{!r}\u001b[39;00m\u001b[38;5;124m\"\u001b[39m\u001b[38;5;241m.\u001b[39mformat(\u001b[38;5;18m__name__\u001b[39m, attr))\n",
      "\u001b[1;31mAttributeError\u001b[0m: module 'numpy' has no attribute 'range'"
     ]
    }
   ],
   "source": [
    "x = range(1, 51)\n",
    "#위의 데이터를 가지고 10행 5열짜리 이차원 배열 생성\n",
    "matrix = np.range(1, 51).reshape((10,5))\n",
    "print(matrix)\n",
    "\n",
    "#데이터를 가지고 7:3 분할 : numpy.split()\n",
    "result = np.split [7:3]\n",
    "print(result)\n",
    "\n",
    "print()"
   ]
  },
  {
   "cell_type": "code",
   "execution_count": 27,
   "id": "ae8435ec",
   "metadata": {},
   "outputs": [
    {
     "name": "stdout",
     "output_type": "stream",
     "text": [
      "[ 1  2  3  4  5  6  7  8  9 10 11 12 13 14 15 16 17 18 19 20 21 22 23 24\n",
      " 25 26 27 28 29 30 31 32 33 34 35 36 37 38 39 40 41 42 43 44 45 46 47 48\n",
      " 49 50]\n",
      "[[ 1  2  3  4  5]\n",
      " [ 6  7  8  9 10]\n",
      " [11 12 13 14 15]\n",
      " [16 17 18 19 20]\n",
      " [21 22 23 24 25]\n",
      " [26 27 28 29 30]\n",
      " [31 32 33 34 35]\n",
      " [36 37 38 39 40]\n",
      " [41 42 43 44 45]\n",
      " [46 47 48 49 50]]\n",
      "<class 'tuple'>\n",
      "10\n",
      "[[ 1  2  3  4  5]\n",
      " [ 6  7  8  9 10]\n",
      " [11 12 13 14 15]\n",
      " [16 17 18 19 20]\n",
      " [21 22 23 24 25]\n",
      " [26 27 28 29 30]\n",
      " [31 32 33 34 35]]\n",
      "[[36 37 38 39 40]\n",
      " [41 42 43 44 45]]\n",
      "[[46 47 48 49 50]]\n"
     ]
    }
   ],
   "source": [
    "x = range(1, 51)\n",
    "ar = np.array(x)\n",
    "print(ar)\n",
    "\n",
    "matrix = ar.reshape((10,5))\n",
    "print(matrix)\n",
    "\n",
    "#행과 열의 개수 알아보기ㅣ\n",
    "print(type(matrix.shape))\n",
    "\n",
    "cnt = matrix.shape[0]\n",
    "print(cnt)\n",
    "\n",
    "#여기에 permutation을 적용하면 샘플링 해주는 함수가 됨\n",
    "k = np.split(matrix, [int(cnt * 0.7), int(cnt * 0.9)])\n",
    "print(k[0])\n",
    "print(k[1])\n",
    "print(k[2])"
   ]
  },
  {
   "cell_type": "code",
   "execution_count": 14,
   "id": "4fcf8351",
   "metadata": {},
   "outputs": [
    {
     "name": "stdout",
     "output_type": "stream",
     "text": [
      "Help on function split in module numpy:\n",
      "\n",
      "split(ary, indices_or_sections, axis=0)\n",
      "    Split an array into multiple sub-arrays as views into `ary`.\n",
      "    \n",
      "    Parameters\n",
      "    ----------\n",
      "    ary : ndarray\n",
      "        Array to be divided into sub-arrays.\n",
      "    indices_or_sections : int or 1-D array\n",
      "        If `indices_or_sections` is an integer, N, the array will be divided\n",
      "        into N equal arrays along `axis`.  If such a split is not possible,\n",
      "        an error is raised.\n",
      "    \n",
      "        If `indices_or_sections` is a 1-D array of sorted integers, the entries\n",
      "        indicate where along `axis` the array is split.  For example,\n",
      "        ``[2, 3]`` would, for ``axis=0``, result in\n",
      "    \n",
      "          - ary[:2]\n",
      "          - ary[2:3]\n",
      "          - ary[3:]\n",
      "    \n",
      "        If an index exceeds the dimension of the array along `axis`,\n",
      "        an empty sub-array is returned correspondingly.\n",
      "    axis : int, optional\n",
      "        The axis along which to split, default is 0.\n",
      "    \n",
      "    Returns\n",
      "    -------\n",
      "    sub-arrays : list of ndarrays\n",
      "        A list of sub-arrays as views into `ary`.\n",
      "    \n",
      "    Raises\n",
      "    ------\n",
      "    ValueError\n",
      "        If `indices_or_sections` is given as an integer, but\n",
      "        a split does not result in equal division.\n",
      "    \n",
      "    See Also\n",
      "    --------\n",
      "    array_split : Split an array into multiple sub-arrays of equal or\n",
      "                  near-equal size.  Does not raise an exception if\n",
      "                  an equal division cannot be made.\n",
      "    hsplit : Split array into multiple sub-arrays horizontally (column-wise).\n",
      "    vsplit : Split array into multiple sub-arrays vertically (row wise).\n",
      "    dsplit : Split array into multiple sub-arrays along the 3rd axis (depth).\n",
      "    concatenate : Join a sequence of arrays along an existing axis.\n",
      "    stack : Join a sequence of arrays along a new axis.\n",
      "    hstack : Stack arrays in sequence horizontally (column wise).\n",
      "    vstack : Stack arrays in sequence vertically (row wise).\n",
      "    dstack : Stack arrays in sequence depth wise (along third dimension).\n",
      "    \n",
      "    Examples\n",
      "    --------\n",
      "    >>> x = np.arange(9.0)\n",
      "    >>> np.split(x, 3)\n",
      "    [array([0.,  1.,  2.]), array([3.,  4.,  5.]), array([6.,  7.,  8.])]\n",
      "    \n",
      "    >>> x = np.arange(8.0)\n",
      "    >>> np.split(x, [3, 5, 6, 10])\n",
      "    [array([0.,  1.,  2.]),\n",
      "     array([3.,  4.]),\n",
      "     array([5.]),\n",
      "     array([6.,  7.]),\n",
      "     array([], dtype=float64)]\n",
      "\n"
     ]
    }
   ],
   "source": [
    "result = np.split [7:3]\n",
    "print(result)"
   ]
  },
  {
   "cell_type": "code",
   "execution_count": null,
   "id": "dde3de64",
   "metadata": {},
   "outputs": [],
   "source": []
  }
 ],
 "metadata": {
  "kernelspec": {
   "display_name": "Python 3 (ipykernel)",
   "language": "python",
   "name": "python3"
  },
  "language_info": {
   "codemirror_mode": {
    "name": "ipython",
    "version": 3
   },
   "file_extension": ".py",
   "mimetype": "text/x-python",
   "name": "python",
   "nbconvert_exporter": "python",
   "pygments_lexer": "ipython3",
   "version": "3.10.9"
  }
 },
 "nbformat": 4,
 "nbformat_minor": 5
}
